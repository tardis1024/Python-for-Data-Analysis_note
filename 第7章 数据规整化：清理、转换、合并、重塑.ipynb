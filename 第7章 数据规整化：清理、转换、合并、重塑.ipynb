{
 "cells": [
  {
   "cell_type": "code",
   "execution_count": 1,
   "metadata": {},
   "outputs": [],
   "source": [
    "import numpy as np\n",
    "import pandas as pd\n",
    "from pandas import Series, DataFrame"
   ]
  },
  {
   "cell_type": "markdown",
   "metadata": {},
   "source": [
    "## 合并数据集\n",
    "pandas对象中的数据可以通过一些内置的方式进行合并：\n",
    "* pandas.merge可根据一个或多个键将不同DataFrame的行连接起来。\n",
    "* pandas.concat可以沿着一条轴将多个对象堆叠到一起。\n",
    "* 实例方法combine_first可以将重复数据编接在一起，用一个对象中的值填充另一个对象中的缺失值。"
   ]
  },
  {
   "cell_type": "markdown",
   "metadata": {},
   "source": [
    "## 数据库风格的DataFrame合并"
   ]
  },
  {
   "cell_type": "code",
   "execution_count": 2,
   "metadata": {},
   "outputs": [],
   "source": [
    "df1 = DataFrame({'key': ['b', 'b', 'a', 'c', 'a', 'a', 'b'],\n",
    "                 'data1': range(7)})"
   ]
  },
  {
   "cell_type": "code",
   "execution_count": 3,
   "metadata": {},
   "outputs": [],
   "source": [
    "df2 = DataFrame({'key': ['a', 'b', 'd'],\n",
    "                'data2': range(3)})"
   ]
  },
  {
   "cell_type": "code",
   "execution_count": 4,
   "metadata": {},
   "outputs": [
    {
     "data": {
      "text/html": [
       "<div>\n",
       "<style scoped>\n",
       "    .dataframe tbody tr th:only-of-type {\n",
       "        vertical-align: middle;\n",
       "    }\n",
       "\n",
       "    .dataframe tbody tr th {\n",
       "        vertical-align: top;\n",
       "    }\n",
       "\n",
       "    .dataframe thead th {\n",
       "        text-align: right;\n",
       "    }\n",
       "</style>\n",
       "<table border=\"1\" class=\"dataframe\">\n",
       "  <thead>\n",
       "    <tr style=\"text-align: right;\">\n",
       "      <th></th>\n",
       "      <th>data1</th>\n",
       "      <th>key</th>\n",
       "    </tr>\n",
       "  </thead>\n",
       "  <tbody>\n",
       "    <tr>\n",
       "      <th>0</th>\n",
       "      <td>0</td>\n",
       "      <td>b</td>\n",
       "    </tr>\n",
       "    <tr>\n",
       "      <th>1</th>\n",
       "      <td>1</td>\n",
       "      <td>b</td>\n",
       "    </tr>\n",
       "    <tr>\n",
       "      <th>2</th>\n",
       "      <td>2</td>\n",
       "      <td>a</td>\n",
       "    </tr>\n",
       "    <tr>\n",
       "      <th>3</th>\n",
       "      <td>3</td>\n",
       "      <td>c</td>\n",
       "    </tr>\n",
       "    <tr>\n",
       "      <th>4</th>\n",
       "      <td>4</td>\n",
       "      <td>a</td>\n",
       "    </tr>\n",
       "    <tr>\n",
       "      <th>5</th>\n",
       "      <td>5</td>\n",
       "      <td>a</td>\n",
       "    </tr>\n",
       "    <tr>\n",
       "      <th>6</th>\n",
       "      <td>6</td>\n",
       "      <td>b</td>\n",
       "    </tr>\n",
       "  </tbody>\n",
       "</table>\n",
       "</div>"
      ],
      "text/plain": [
       "   data1 key\n",
       "0      0   b\n",
       "1      1   b\n",
       "2      2   a\n",
       "3      3   c\n",
       "4      4   a\n",
       "5      5   a\n",
       "6      6   b"
      ]
     },
     "execution_count": 4,
     "metadata": {},
     "output_type": "execute_result"
    }
   ],
   "source": [
    "df1"
   ]
  },
  {
   "cell_type": "code",
   "execution_count": 5,
   "metadata": {},
   "outputs": [
    {
     "data": {
      "text/html": [
       "<div>\n",
       "<style scoped>\n",
       "    .dataframe tbody tr th:only-of-type {\n",
       "        vertical-align: middle;\n",
       "    }\n",
       "\n",
       "    .dataframe tbody tr th {\n",
       "        vertical-align: top;\n",
       "    }\n",
       "\n",
       "    .dataframe thead th {\n",
       "        text-align: right;\n",
       "    }\n",
       "</style>\n",
       "<table border=\"1\" class=\"dataframe\">\n",
       "  <thead>\n",
       "    <tr style=\"text-align: right;\">\n",
       "      <th></th>\n",
       "      <th>data2</th>\n",
       "      <th>key</th>\n",
       "    </tr>\n",
       "  </thead>\n",
       "  <tbody>\n",
       "    <tr>\n",
       "      <th>0</th>\n",
       "      <td>0</td>\n",
       "      <td>a</td>\n",
       "    </tr>\n",
       "    <tr>\n",
       "      <th>1</th>\n",
       "      <td>1</td>\n",
       "      <td>b</td>\n",
       "    </tr>\n",
       "    <tr>\n",
       "      <th>2</th>\n",
       "      <td>2</td>\n",
       "      <td>d</td>\n",
       "    </tr>\n",
       "  </tbody>\n",
       "</table>\n",
       "</div>"
      ],
      "text/plain": [
       "   data2 key\n",
       "0      0   a\n",
       "1      1   b\n",
       "2      2   d"
      ]
     },
     "execution_count": 5,
     "metadata": {},
     "output_type": "execute_result"
    }
   ],
   "source": [
    "df2"
   ]
  },
  {
   "cell_type": "markdown",
   "metadata": {},
   "source": [
    "这是一种多对一的合并。df1中的数据有多个被标记为a和b的行，而df2中的key列的每个值则仅对应一行。对这些对象调用merge即可得到："
   ]
  },
  {
   "cell_type": "code",
   "execution_count": 6,
   "metadata": {},
   "outputs": [
    {
     "data": {
      "text/html": [
       "<div>\n",
       "<style scoped>\n",
       "    .dataframe tbody tr th:only-of-type {\n",
       "        vertical-align: middle;\n",
       "    }\n",
       "\n",
       "    .dataframe tbody tr th {\n",
       "        vertical-align: top;\n",
       "    }\n",
       "\n",
       "    .dataframe thead th {\n",
       "        text-align: right;\n",
       "    }\n",
       "</style>\n",
       "<table border=\"1\" class=\"dataframe\">\n",
       "  <thead>\n",
       "    <tr style=\"text-align: right;\">\n",
       "      <th></th>\n",
       "      <th>data1</th>\n",
       "      <th>key</th>\n",
       "      <th>data2</th>\n",
       "    </tr>\n",
       "  </thead>\n",
       "  <tbody>\n",
       "    <tr>\n",
       "      <th>0</th>\n",
       "      <td>0</td>\n",
       "      <td>b</td>\n",
       "      <td>1</td>\n",
       "    </tr>\n",
       "    <tr>\n",
       "      <th>1</th>\n",
       "      <td>1</td>\n",
       "      <td>b</td>\n",
       "      <td>1</td>\n",
       "    </tr>\n",
       "    <tr>\n",
       "      <th>2</th>\n",
       "      <td>6</td>\n",
       "      <td>b</td>\n",
       "      <td>1</td>\n",
       "    </tr>\n",
       "    <tr>\n",
       "      <th>3</th>\n",
       "      <td>2</td>\n",
       "      <td>a</td>\n",
       "      <td>0</td>\n",
       "    </tr>\n",
       "    <tr>\n",
       "      <th>4</th>\n",
       "      <td>4</td>\n",
       "      <td>a</td>\n",
       "      <td>0</td>\n",
       "    </tr>\n",
       "    <tr>\n",
       "      <th>5</th>\n",
       "      <td>5</td>\n",
       "      <td>a</td>\n",
       "      <td>0</td>\n",
       "    </tr>\n",
       "  </tbody>\n",
       "</table>\n",
       "</div>"
      ],
      "text/plain": [
       "   data1 key  data2\n",
       "0      0   b      1\n",
       "1      1   b      1\n",
       "2      6   b      1\n",
       "3      2   a      0\n",
       "4      4   a      0\n",
       "5      5   a      0"
      ]
     },
     "execution_count": 6,
     "metadata": {},
     "output_type": "execute_result"
    }
   ],
   "source": [
    "pd.merge(df1, df2)"
   ]
  },
  {
   "cell_type": "markdown",
   "metadata": {},
   "source": [
    "注意，并没有指明要用哪个列进行连接，如果没有指定，merge就会将重叠列的列名当作键。不过做好显式指定一下："
   ]
  },
  {
   "cell_type": "code",
   "execution_count": 7,
   "metadata": {},
   "outputs": [
    {
     "data": {
      "text/html": [
       "<div>\n",
       "<style scoped>\n",
       "    .dataframe tbody tr th:only-of-type {\n",
       "        vertical-align: middle;\n",
       "    }\n",
       "\n",
       "    .dataframe tbody tr th {\n",
       "        vertical-align: top;\n",
       "    }\n",
       "\n",
       "    .dataframe thead th {\n",
       "        text-align: right;\n",
       "    }\n",
       "</style>\n",
       "<table border=\"1\" class=\"dataframe\">\n",
       "  <thead>\n",
       "    <tr style=\"text-align: right;\">\n",
       "      <th></th>\n",
       "      <th>data1</th>\n",
       "      <th>key</th>\n",
       "      <th>data2</th>\n",
       "    </tr>\n",
       "  </thead>\n",
       "  <tbody>\n",
       "    <tr>\n",
       "      <th>0</th>\n",
       "      <td>0</td>\n",
       "      <td>b</td>\n",
       "      <td>1</td>\n",
       "    </tr>\n",
       "    <tr>\n",
       "      <th>1</th>\n",
       "      <td>1</td>\n",
       "      <td>b</td>\n",
       "      <td>1</td>\n",
       "    </tr>\n",
       "    <tr>\n",
       "      <th>2</th>\n",
       "      <td>6</td>\n",
       "      <td>b</td>\n",
       "      <td>1</td>\n",
       "    </tr>\n",
       "    <tr>\n",
       "      <th>3</th>\n",
       "      <td>2</td>\n",
       "      <td>a</td>\n",
       "      <td>0</td>\n",
       "    </tr>\n",
       "    <tr>\n",
       "      <th>4</th>\n",
       "      <td>4</td>\n",
       "      <td>a</td>\n",
       "      <td>0</td>\n",
       "    </tr>\n",
       "    <tr>\n",
       "      <th>5</th>\n",
       "      <td>5</td>\n",
       "      <td>a</td>\n",
       "      <td>0</td>\n",
       "    </tr>\n",
       "  </tbody>\n",
       "</table>\n",
       "</div>"
      ],
      "text/plain": [
       "   data1 key  data2\n",
       "0      0   b      1\n",
       "1      1   b      1\n",
       "2      6   b      1\n",
       "3      2   a      0\n",
       "4      4   a      0\n",
       "5      5   a      0"
      ]
     },
     "execution_count": 7,
     "metadata": {},
     "output_type": "execute_result"
    }
   ],
   "source": [
    "pd.merge(df1, df2, on='key')"
   ]
  },
  {
   "cell_type": "markdown",
   "metadata": {},
   "source": [
    "如果两个对象的列名不同，也可以分别进行指定："
   ]
  },
  {
   "cell_type": "code",
   "execution_count": 8,
   "metadata": {},
   "outputs": [],
   "source": [
    "df3 = DataFrame({'lkey': ['b', 'b', 'a', 'c', 'a', 'a', 'b'],\n",
    "                'data1': range(7)}) "
   ]
  },
  {
   "cell_type": "code",
   "execution_count": 9,
   "metadata": {},
   "outputs": [],
   "source": [
    "df4 = DataFrame({'rkey': ['a', 'b', 'd'],\n",
    "                 'data2': range(3)})"
   ]
  },
  {
   "cell_type": "code",
   "execution_count": 10,
   "metadata": {},
   "outputs": [
    {
     "data": {
      "text/html": [
       "<div>\n",
       "<style scoped>\n",
       "    .dataframe tbody tr th:only-of-type {\n",
       "        vertical-align: middle;\n",
       "    }\n",
       "\n",
       "    .dataframe tbody tr th {\n",
       "        vertical-align: top;\n",
       "    }\n",
       "\n",
       "    .dataframe thead th {\n",
       "        text-align: right;\n",
       "    }\n",
       "</style>\n",
       "<table border=\"1\" class=\"dataframe\">\n",
       "  <thead>\n",
       "    <tr style=\"text-align: right;\">\n",
       "      <th></th>\n",
       "      <th>data1</th>\n",
       "      <th>lkey</th>\n",
       "      <th>data2</th>\n",
       "      <th>rkey</th>\n",
       "    </tr>\n",
       "  </thead>\n",
       "  <tbody>\n",
       "    <tr>\n",
       "      <th>0</th>\n",
       "      <td>0</td>\n",
       "      <td>b</td>\n",
       "      <td>1</td>\n",
       "      <td>b</td>\n",
       "    </tr>\n",
       "    <tr>\n",
       "      <th>1</th>\n",
       "      <td>1</td>\n",
       "      <td>b</td>\n",
       "      <td>1</td>\n",
       "      <td>b</td>\n",
       "    </tr>\n",
       "    <tr>\n",
       "      <th>2</th>\n",
       "      <td>6</td>\n",
       "      <td>b</td>\n",
       "      <td>1</td>\n",
       "      <td>b</td>\n",
       "    </tr>\n",
       "    <tr>\n",
       "      <th>3</th>\n",
       "      <td>2</td>\n",
       "      <td>a</td>\n",
       "      <td>0</td>\n",
       "      <td>a</td>\n",
       "    </tr>\n",
       "    <tr>\n",
       "      <th>4</th>\n",
       "      <td>4</td>\n",
       "      <td>a</td>\n",
       "      <td>0</td>\n",
       "      <td>a</td>\n",
       "    </tr>\n",
       "    <tr>\n",
       "      <th>5</th>\n",
       "      <td>5</td>\n",
       "      <td>a</td>\n",
       "      <td>0</td>\n",
       "      <td>a</td>\n",
       "    </tr>\n",
       "  </tbody>\n",
       "</table>\n",
       "</div>"
      ],
      "text/plain": [
       "   data1 lkey  data2 rkey\n",
       "0      0    b      1    b\n",
       "1      1    b      1    b\n",
       "2      6    b      1    b\n",
       "3      2    a      0    a\n",
       "4      4    a      0    a\n",
       "5      5    a      0    a"
      ]
     },
     "execution_count": 10,
     "metadata": {},
     "output_type": "execute_result"
    }
   ],
   "source": [
    "pd.merge(df3, df4, left_on='lkey', right_on='rkey')"
   ]
  },
  {
   "cell_type": "markdown",
   "metadata": {},
   "source": [
    "默认情况下，merge做的是“inner”连接，结果中的键是交集，其他方式还有“left”、“right”以及“outer”。外连接求取的是键的并集，组合了左连接和右连接的效果："
   ]
  },
  {
   "cell_type": "code",
   "execution_count": 11,
   "metadata": {},
   "outputs": [
    {
     "data": {
      "text/html": [
       "<div>\n",
       "<style scoped>\n",
       "    .dataframe tbody tr th:only-of-type {\n",
       "        vertical-align: middle;\n",
       "    }\n",
       "\n",
       "    .dataframe tbody tr th {\n",
       "        vertical-align: top;\n",
       "    }\n",
       "\n",
       "    .dataframe thead th {\n",
       "        text-align: right;\n",
       "    }\n",
       "</style>\n",
       "<table border=\"1\" class=\"dataframe\">\n",
       "  <thead>\n",
       "    <tr style=\"text-align: right;\">\n",
       "      <th></th>\n",
       "      <th>data1</th>\n",
       "      <th>key</th>\n",
       "      <th>data2</th>\n",
       "    </tr>\n",
       "  </thead>\n",
       "  <tbody>\n",
       "    <tr>\n",
       "      <th>0</th>\n",
       "      <td>0.0</td>\n",
       "      <td>b</td>\n",
       "      <td>1.0</td>\n",
       "    </tr>\n",
       "    <tr>\n",
       "      <th>1</th>\n",
       "      <td>1.0</td>\n",
       "      <td>b</td>\n",
       "      <td>1.0</td>\n",
       "    </tr>\n",
       "    <tr>\n",
       "      <th>2</th>\n",
       "      <td>6.0</td>\n",
       "      <td>b</td>\n",
       "      <td>1.0</td>\n",
       "    </tr>\n",
       "    <tr>\n",
       "      <th>3</th>\n",
       "      <td>2.0</td>\n",
       "      <td>a</td>\n",
       "      <td>0.0</td>\n",
       "    </tr>\n",
       "    <tr>\n",
       "      <th>4</th>\n",
       "      <td>4.0</td>\n",
       "      <td>a</td>\n",
       "      <td>0.0</td>\n",
       "    </tr>\n",
       "    <tr>\n",
       "      <th>5</th>\n",
       "      <td>5.0</td>\n",
       "      <td>a</td>\n",
       "      <td>0.0</td>\n",
       "    </tr>\n",
       "    <tr>\n",
       "      <th>6</th>\n",
       "      <td>3.0</td>\n",
       "      <td>c</td>\n",
       "      <td>NaN</td>\n",
       "    </tr>\n",
       "    <tr>\n",
       "      <th>7</th>\n",
       "      <td>NaN</td>\n",
       "      <td>d</td>\n",
       "      <td>2.0</td>\n",
       "    </tr>\n",
       "  </tbody>\n",
       "</table>\n",
       "</div>"
      ],
      "text/plain": [
       "   data1 key  data2\n",
       "0    0.0   b    1.0\n",
       "1    1.0   b    1.0\n",
       "2    6.0   b    1.0\n",
       "3    2.0   a    0.0\n",
       "4    4.0   a    0.0\n",
       "5    5.0   a    0.0\n",
       "6    3.0   c    NaN\n",
       "7    NaN   d    2.0"
      ]
     },
     "execution_count": 11,
     "metadata": {},
     "output_type": "execute_result"
    }
   ],
   "source": [
    "pd.merge(df1, df2, how='outer')"
   ]
  },
  {
   "cell_type": "markdown",
   "metadata": {},
   "source": [
    "多对多的合并操作非常简单，无需额外的工作。如下所示："
   ]
  },
  {
   "cell_type": "code",
   "execution_count": 12,
   "metadata": {},
   "outputs": [],
   "source": [
    "df1 = DataFrame({'key':['b', 'b', 'a', 'c', 'a', 'b'],\n",
    "                 'data1': range(6)})"
   ]
  },
  {
   "cell_type": "code",
   "execution_count": 13,
   "metadata": {},
   "outputs": [],
   "source": [
    "df2 = DataFrame({'key': ['a', 'b', 'a', 'b', 'd'],\n",
    "                 'data2': range(5)})"
   ]
  },
  {
   "cell_type": "code",
   "execution_count": 14,
   "metadata": {},
   "outputs": [
    {
     "data": {
      "text/html": [
       "<div>\n",
       "<style scoped>\n",
       "    .dataframe tbody tr th:only-of-type {\n",
       "        vertical-align: middle;\n",
       "    }\n",
       "\n",
       "    .dataframe tbody tr th {\n",
       "        vertical-align: top;\n",
       "    }\n",
       "\n",
       "    .dataframe thead th {\n",
       "        text-align: right;\n",
       "    }\n",
       "</style>\n",
       "<table border=\"1\" class=\"dataframe\">\n",
       "  <thead>\n",
       "    <tr style=\"text-align: right;\">\n",
       "      <th></th>\n",
       "      <th>data1</th>\n",
       "      <th>key</th>\n",
       "    </tr>\n",
       "  </thead>\n",
       "  <tbody>\n",
       "    <tr>\n",
       "      <th>0</th>\n",
       "      <td>0</td>\n",
       "      <td>b</td>\n",
       "    </tr>\n",
       "    <tr>\n",
       "      <th>1</th>\n",
       "      <td>1</td>\n",
       "      <td>b</td>\n",
       "    </tr>\n",
       "    <tr>\n",
       "      <th>2</th>\n",
       "      <td>2</td>\n",
       "      <td>a</td>\n",
       "    </tr>\n",
       "    <tr>\n",
       "      <th>3</th>\n",
       "      <td>3</td>\n",
       "      <td>c</td>\n",
       "    </tr>\n",
       "    <tr>\n",
       "      <th>4</th>\n",
       "      <td>4</td>\n",
       "      <td>a</td>\n",
       "    </tr>\n",
       "    <tr>\n",
       "      <th>5</th>\n",
       "      <td>5</td>\n",
       "      <td>b</td>\n",
       "    </tr>\n",
       "  </tbody>\n",
       "</table>\n",
       "</div>"
      ],
      "text/plain": [
       "   data1 key\n",
       "0      0   b\n",
       "1      1   b\n",
       "2      2   a\n",
       "3      3   c\n",
       "4      4   a\n",
       "5      5   b"
      ]
     },
     "execution_count": 14,
     "metadata": {},
     "output_type": "execute_result"
    }
   ],
   "source": [
    "df1"
   ]
  },
  {
   "cell_type": "code",
   "execution_count": 15,
   "metadata": {},
   "outputs": [
    {
     "data": {
      "text/html": [
       "<div>\n",
       "<style scoped>\n",
       "    .dataframe tbody tr th:only-of-type {\n",
       "        vertical-align: middle;\n",
       "    }\n",
       "\n",
       "    .dataframe tbody tr th {\n",
       "        vertical-align: top;\n",
       "    }\n",
       "\n",
       "    .dataframe thead th {\n",
       "        text-align: right;\n",
       "    }\n",
       "</style>\n",
       "<table border=\"1\" class=\"dataframe\">\n",
       "  <thead>\n",
       "    <tr style=\"text-align: right;\">\n",
       "      <th></th>\n",
       "      <th>data2</th>\n",
       "      <th>key</th>\n",
       "    </tr>\n",
       "  </thead>\n",
       "  <tbody>\n",
       "    <tr>\n",
       "      <th>0</th>\n",
       "      <td>0</td>\n",
       "      <td>a</td>\n",
       "    </tr>\n",
       "    <tr>\n",
       "      <th>1</th>\n",
       "      <td>1</td>\n",
       "      <td>b</td>\n",
       "    </tr>\n",
       "    <tr>\n",
       "      <th>2</th>\n",
       "      <td>2</td>\n",
       "      <td>a</td>\n",
       "    </tr>\n",
       "    <tr>\n",
       "      <th>3</th>\n",
       "      <td>3</td>\n",
       "      <td>b</td>\n",
       "    </tr>\n",
       "    <tr>\n",
       "      <th>4</th>\n",
       "      <td>4</td>\n",
       "      <td>d</td>\n",
       "    </tr>\n",
       "  </tbody>\n",
       "</table>\n",
       "</div>"
      ],
      "text/plain": [
       "   data2 key\n",
       "0      0   a\n",
       "1      1   b\n",
       "2      2   a\n",
       "3      3   b\n",
       "4      4   d"
      ]
     },
     "execution_count": 15,
     "metadata": {},
     "output_type": "execute_result"
    }
   ],
   "source": [
    "df2"
   ]
  },
  {
   "cell_type": "markdown",
   "metadata": {},
   "source": [
    "多对多连接产生的是行的笛卡尔积。由左边的DataFrame有3个“b”行，右边的有2个，所以最终结果中就有6个“b”行。连接方式只影响出现在结果中的键："
   ]
  },
  {
   "cell_type": "code",
   "execution_count": 16,
   "metadata": {},
   "outputs": [
    {
     "data": {
      "text/html": [
       "<div>\n",
       "<style scoped>\n",
       "    .dataframe tbody tr th:only-of-type {\n",
       "        vertical-align: middle;\n",
       "    }\n",
       "\n",
       "    .dataframe tbody tr th {\n",
       "        vertical-align: top;\n",
       "    }\n",
       "\n",
       "    .dataframe thead th {\n",
       "        text-align: right;\n",
       "    }\n",
       "</style>\n",
       "<table border=\"1\" class=\"dataframe\">\n",
       "  <thead>\n",
       "    <tr style=\"text-align: right;\">\n",
       "      <th></th>\n",
       "      <th>data1</th>\n",
       "      <th>key</th>\n",
       "      <th>data2</th>\n",
       "    </tr>\n",
       "  </thead>\n",
       "  <tbody>\n",
       "    <tr>\n",
       "      <th>0</th>\n",
       "      <td>0</td>\n",
       "      <td>b</td>\n",
       "      <td>1</td>\n",
       "    </tr>\n",
       "    <tr>\n",
       "      <th>1</th>\n",
       "      <td>0</td>\n",
       "      <td>b</td>\n",
       "      <td>3</td>\n",
       "    </tr>\n",
       "    <tr>\n",
       "      <th>2</th>\n",
       "      <td>1</td>\n",
       "      <td>b</td>\n",
       "      <td>1</td>\n",
       "    </tr>\n",
       "    <tr>\n",
       "      <th>3</th>\n",
       "      <td>1</td>\n",
       "      <td>b</td>\n",
       "      <td>3</td>\n",
       "    </tr>\n",
       "    <tr>\n",
       "      <th>4</th>\n",
       "      <td>5</td>\n",
       "      <td>b</td>\n",
       "      <td>1</td>\n",
       "    </tr>\n",
       "    <tr>\n",
       "      <th>5</th>\n",
       "      <td>5</td>\n",
       "      <td>b</td>\n",
       "      <td>3</td>\n",
       "    </tr>\n",
       "    <tr>\n",
       "      <th>6</th>\n",
       "      <td>2</td>\n",
       "      <td>a</td>\n",
       "      <td>0</td>\n",
       "    </tr>\n",
       "    <tr>\n",
       "      <th>7</th>\n",
       "      <td>2</td>\n",
       "      <td>a</td>\n",
       "      <td>2</td>\n",
       "    </tr>\n",
       "    <tr>\n",
       "      <th>8</th>\n",
       "      <td>4</td>\n",
       "      <td>a</td>\n",
       "      <td>0</td>\n",
       "    </tr>\n",
       "    <tr>\n",
       "      <th>9</th>\n",
       "      <td>4</td>\n",
       "      <td>a</td>\n",
       "      <td>2</td>\n",
       "    </tr>\n",
       "  </tbody>\n",
       "</table>\n",
       "</div>"
      ],
      "text/plain": [
       "   data1 key  data2\n",
       "0      0   b      1\n",
       "1      0   b      3\n",
       "2      1   b      1\n",
       "3      1   b      3\n",
       "4      5   b      1\n",
       "5      5   b      3\n",
       "6      2   a      0\n",
       "7      2   a      2\n",
       "8      4   a      0\n",
       "9      4   a      2"
      ]
     },
     "execution_count": 16,
     "metadata": {},
     "output_type": "execute_result"
    }
   ],
   "source": [
    "pd.merge(df1, df2, how='inner')"
   ]
  },
  {
   "cell_type": "markdown",
   "metadata": {},
   "source": [
    "要根据多个键进行合并，传入一个由列名组成的列表即可："
   ]
  },
  {
   "cell_type": "code",
   "execution_count": 17,
   "metadata": {},
   "outputs": [],
   "source": [
    "left = DataFrame({'key1': ['foo', 'foo', 'bar'],\n",
    "                  'key2': ['one', 'two', 'one'],\n",
    "                  'lval': [1, 2, 3]})"
   ]
  },
  {
   "cell_type": "code",
   "execution_count": 18,
   "metadata": {},
   "outputs": [],
   "source": [
    "right = DataFrame({'key1': ['foo', 'foo', 'bar', 'bar'],\n",
    "                   'key2': ['one', 'one', 'one', 'two'],\n",
    "                   'rval': [4, 5, 6, 7]})"
   ]
  },
  {
   "cell_type": "code",
   "execution_count": 19,
   "metadata": {},
   "outputs": [
    {
     "data": {
      "text/html": [
       "<div>\n",
       "<style scoped>\n",
       "    .dataframe tbody tr th:only-of-type {\n",
       "        vertical-align: middle;\n",
       "    }\n",
       "\n",
       "    .dataframe tbody tr th {\n",
       "        vertical-align: top;\n",
       "    }\n",
       "\n",
       "    .dataframe thead th {\n",
       "        text-align: right;\n",
       "    }\n",
       "</style>\n",
       "<table border=\"1\" class=\"dataframe\">\n",
       "  <thead>\n",
       "    <tr style=\"text-align: right;\">\n",
       "      <th></th>\n",
       "      <th>key1</th>\n",
       "      <th>key2</th>\n",
       "      <th>lval</th>\n",
       "      <th>rval</th>\n",
       "    </tr>\n",
       "  </thead>\n",
       "  <tbody>\n",
       "    <tr>\n",
       "      <th>0</th>\n",
       "      <td>foo</td>\n",
       "      <td>one</td>\n",
       "      <td>1.0</td>\n",
       "      <td>4.0</td>\n",
       "    </tr>\n",
       "    <tr>\n",
       "      <th>1</th>\n",
       "      <td>foo</td>\n",
       "      <td>one</td>\n",
       "      <td>1.0</td>\n",
       "      <td>5.0</td>\n",
       "    </tr>\n",
       "    <tr>\n",
       "      <th>2</th>\n",
       "      <td>foo</td>\n",
       "      <td>two</td>\n",
       "      <td>2.0</td>\n",
       "      <td>NaN</td>\n",
       "    </tr>\n",
       "    <tr>\n",
       "      <th>3</th>\n",
       "      <td>bar</td>\n",
       "      <td>one</td>\n",
       "      <td>3.0</td>\n",
       "      <td>6.0</td>\n",
       "    </tr>\n",
       "    <tr>\n",
       "      <th>4</th>\n",
       "      <td>bar</td>\n",
       "      <td>two</td>\n",
       "      <td>NaN</td>\n",
       "      <td>7.0</td>\n",
       "    </tr>\n",
       "  </tbody>\n",
       "</table>\n",
       "</div>"
      ],
      "text/plain": [
       "  key1 key2  lval  rval\n",
       "0  foo  one   1.0   4.0\n",
       "1  foo  one   1.0   5.0\n",
       "2  foo  two   2.0   NaN\n",
       "3  bar  one   3.0   6.0\n",
       "4  bar  two   NaN   7.0"
      ]
     },
     "execution_count": 19,
     "metadata": {},
     "output_type": "execute_result"
    }
   ],
   "source": [
    "pd.merge(left, right, on=['key1', 'key2'], how='outer')"
   ]
  },
  {
   "cell_type": "code",
   "execution_count": 20,
   "metadata": {},
   "outputs": [
    {
     "data": {
      "text/html": [
       "<div>\n",
       "<style scoped>\n",
       "    .dataframe tbody tr th:only-of-type {\n",
       "        vertical-align: middle;\n",
       "    }\n",
       "\n",
       "    .dataframe tbody tr th {\n",
       "        vertical-align: top;\n",
       "    }\n",
       "\n",
       "    .dataframe thead th {\n",
       "        text-align: right;\n",
       "    }\n",
       "</style>\n",
       "<table border=\"1\" class=\"dataframe\">\n",
       "  <thead>\n",
       "    <tr style=\"text-align: right;\">\n",
       "      <th></th>\n",
       "      <th>key1</th>\n",
       "      <th>key2_x</th>\n",
       "      <th>lval</th>\n",
       "      <th>key2_y</th>\n",
       "      <th>rval</th>\n",
       "    </tr>\n",
       "  </thead>\n",
       "  <tbody>\n",
       "    <tr>\n",
       "      <th>0</th>\n",
       "      <td>foo</td>\n",
       "      <td>one</td>\n",
       "      <td>1</td>\n",
       "      <td>one</td>\n",
       "      <td>4</td>\n",
       "    </tr>\n",
       "    <tr>\n",
       "      <th>1</th>\n",
       "      <td>foo</td>\n",
       "      <td>one</td>\n",
       "      <td>1</td>\n",
       "      <td>one</td>\n",
       "      <td>5</td>\n",
       "    </tr>\n",
       "    <tr>\n",
       "      <th>2</th>\n",
       "      <td>foo</td>\n",
       "      <td>two</td>\n",
       "      <td>2</td>\n",
       "      <td>one</td>\n",
       "      <td>4</td>\n",
       "    </tr>\n",
       "    <tr>\n",
       "      <th>3</th>\n",
       "      <td>foo</td>\n",
       "      <td>two</td>\n",
       "      <td>2</td>\n",
       "      <td>one</td>\n",
       "      <td>5</td>\n",
       "    </tr>\n",
       "    <tr>\n",
       "      <th>4</th>\n",
       "      <td>bar</td>\n",
       "      <td>one</td>\n",
       "      <td>3</td>\n",
       "      <td>one</td>\n",
       "      <td>6</td>\n",
       "    </tr>\n",
       "    <tr>\n",
       "      <th>5</th>\n",
       "      <td>bar</td>\n",
       "      <td>one</td>\n",
       "      <td>3</td>\n",
       "      <td>two</td>\n",
       "      <td>7</td>\n",
       "    </tr>\n",
       "  </tbody>\n",
       "</table>\n",
       "</div>"
      ],
      "text/plain": [
       "  key1 key2_x  lval key2_y  rval\n",
       "0  foo    one     1    one     4\n",
       "1  foo    one     1    one     5\n",
       "2  foo    two     2    one     4\n",
       "3  foo    two     2    one     5\n",
       "4  bar    one     3    one     6\n",
       "5  bar    one     3    two     7"
      ]
     },
     "execution_count": 20,
     "metadata": {},
     "output_type": "execute_result"
    }
   ],
   "source": [
    "pd.merge(left, right, on='key1')"
   ]
  },
  {
   "cell_type": "code",
   "execution_count": 21,
   "metadata": {},
   "outputs": [
    {
     "data": {
      "text/html": [
       "<div>\n",
       "<style scoped>\n",
       "    .dataframe tbody tr th:only-of-type {\n",
       "        vertical-align: middle;\n",
       "    }\n",
       "\n",
       "    .dataframe tbody tr th {\n",
       "        vertical-align: top;\n",
       "    }\n",
       "\n",
       "    .dataframe thead th {\n",
       "        text-align: right;\n",
       "    }\n",
       "</style>\n",
       "<table border=\"1\" class=\"dataframe\">\n",
       "  <thead>\n",
       "    <tr style=\"text-align: right;\">\n",
       "      <th></th>\n",
       "      <th>key1</th>\n",
       "      <th>key2_left</th>\n",
       "      <th>lval</th>\n",
       "      <th>key2_right</th>\n",
       "      <th>rval</th>\n",
       "    </tr>\n",
       "  </thead>\n",
       "  <tbody>\n",
       "    <tr>\n",
       "      <th>0</th>\n",
       "      <td>foo</td>\n",
       "      <td>one</td>\n",
       "      <td>1</td>\n",
       "      <td>one</td>\n",
       "      <td>4</td>\n",
       "    </tr>\n",
       "    <tr>\n",
       "      <th>1</th>\n",
       "      <td>foo</td>\n",
       "      <td>one</td>\n",
       "      <td>1</td>\n",
       "      <td>one</td>\n",
       "      <td>5</td>\n",
       "    </tr>\n",
       "    <tr>\n",
       "      <th>2</th>\n",
       "      <td>foo</td>\n",
       "      <td>two</td>\n",
       "      <td>2</td>\n",
       "      <td>one</td>\n",
       "      <td>4</td>\n",
       "    </tr>\n",
       "    <tr>\n",
       "      <th>3</th>\n",
       "      <td>foo</td>\n",
       "      <td>two</td>\n",
       "      <td>2</td>\n",
       "      <td>one</td>\n",
       "      <td>5</td>\n",
       "    </tr>\n",
       "    <tr>\n",
       "      <th>4</th>\n",
       "      <td>bar</td>\n",
       "      <td>one</td>\n",
       "      <td>3</td>\n",
       "      <td>one</td>\n",
       "      <td>6</td>\n",
       "    </tr>\n",
       "    <tr>\n",
       "      <th>5</th>\n",
       "      <td>bar</td>\n",
       "      <td>one</td>\n",
       "      <td>3</td>\n",
       "      <td>two</td>\n",
       "      <td>7</td>\n",
       "    </tr>\n",
       "  </tbody>\n",
       "</table>\n",
       "</div>"
      ],
      "text/plain": [
       "  key1 key2_left  lval key2_right  rval\n",
       "0  foo       one     1        one     4\n",
       "1  foo       one     1        one     5\n",
       "2  foo       two     2        one     4\n",
       "3  foo       two     2        one     5\n",
       "4  bar       one     3        one     6\n",
       "5  bar       one     3        two     7"
      ]
     },
     "execution_count": 21,
     "metadata": {},
     "output_type": "execute_result"
    }
   ],
   "source": [
    "pd.merge(left, right, on='key1', suffixes=('_left', '_right'))"
   ]
  },
  {
   "cell_type": "markdown",
   "metadata": {},
   "source": [
    "## 索引上的合并\n",
    "有时候DataFrame中的连接键位于其索引中。在这种情况下，你可以传入left_index=True或right_index=True（或两个都传）以说明索引应该被用作连接键："
   ]
  },
  {
   "cell_type": "code",
   "execution_count": 22,
   "metadata": {},
   "outputs": [],
   "source": [
    "left1 = DataFrame({'key': ['a', 'b', 'a', 'a', 'b', 'c'],\n",
    "                   'value': range(6)})"
   ]
  },
  {
   "cell_type": "code",
   "execution_count": 23,
   "metadata": {},
   "outputs": [],
   "source": [
    "right1 = DataFrame({'group_val': [3.5, 7]}, index=['a', 'b'])"
   ]
  },
  {
   "cell_type": "code",
   "execution_count": 24,
   "metadata": {},
   "outputs": [
    {
     "data": {
      "text/html": [
       "<div>\n",
       "<style scoped>\n",
       "    .dataframe tbody tr th:only-of-type {\n",
       "        vertical-align: middle;\n",
       "    }\n",
       "\n",
       "    .dataframe tbody tr th {\n",
       "        vertical-align: top;\n",
       "    }\n",
       "\n",
       "    .dataframe thead th {\n",
       "        text-align: right;\n",
       "    }\n",
       "</style>\n",
       "<table border=\"1\" class=\"dataframe\">\n",
       "  <thead>\n",
       "    <tr style=\"text-align: right;\">\n",
       "      <th></th>\n",
       "      <th>key</th>\n",
       "      <th>value</th>\n",
       "    </tr>\n",
       "  </thead>\n",
       "  <tbody>\n",
       "    <tr>\n",
       "      <th>0</th>\n",
       "      <td>a</td>\n",
       "      <td>0</td>\n",
       "    </tr>\n",
       "    <tr>\n",
       "      <th>1</th>\n",
       "      <td>b</td>\n",
       "      <td>1</td>\n",
       "    </tr>\n",
       "    <tr>\n",
       "      <th>2</th>\n",
       "      <td>a</td>\n",
       "      <td>2</td>\n",
       "    </tr>\n",
       "    <tr>\n",
       "      <th>3</th>\n",
       "      <td>a</td>\n",
       "      <td>3</td>\n",
       "    </tr>\n",
       "    <tr>\n",
       "      <th>4</th>\n",
       "      <td>b</td>\n",
       "      <td>4</td>\n",
       "    </tr>\n",
       "    <tr>\n",
       "      <th>5</th>\n",
       "      <td>c</td>\n",
       "      <td>5</td>\n",
       "    </tr>\n",
       "  </tbody>\n",
       "</table>\n",
       "</div>"
      ],
      "text/plain": [
       "  key  value\n",
       "0   a      0\n",
       "1   b      1\n",
       "2   a      2\n",
       "3   a      3\n",
       "4   b      4\n",
       "5   c      5"
      ]
     },
     "execution_count": 24,
     "metadata": {},
     "output_type": "execute_result"
    }
   ],
   "source": [
    "left1"
   ]
  },
  {
   "cell_type": "code",
   "execution_count": 25,
   "metadata": {},
   "outputs": [
    {
     "data": {
      "text/html": [
       "<div>\n",
       "<style scoped>\n",
       "    .dataframe tbody tr th:only-of-type {\n",
       "        vertical-align: middle;\n",
       "    }\n",
       "\n",
       "    .dataframe tbody tr th {\n",
       "        vertical-align: top;\n",
       "    }\n",
       "\n",
       "    .dataframe thead th {\n",
       "        text-align: right;\n",
       "    }\n",
       "</style>\n",
       "<table border=\"1\" class=\"dataframe\">\n",
       "  <thead>\n",
       "    <tr style=\"text-align: right;\">\n",
       "      <th></th>\n",
       "      <th>group_val</th>\n",
       "    </tr>\n",
       "  </thead>\n",
       "  <tbody>\n",
       "    <tr>\n",
       "      <th>a</th>\n",
       "      <td>3.5</td>\n",
       "    </tr>\n",
       "    <tr>\n",
       "      <th>b</th>\n",
       "      <td>7.0</td>\n",
       "    </tr>\n",
       "  </tbody>\n",
       "</table>\n",
       "</div>"
      ],
      "text/plain": [
       "   group_val\n",
       "a        3.5\n",
       "b        7.0"
      ]
     },
     "execution_count": 25,
     "metadata": {},
     "output_type": "execute_result"
    }
   ],
   "source": [
    "right1"
   ]
  },
  {
   "cell_type": "code",
   "execution_count": 26,
   "metadata": {},
   "outputs": [
    {
     "data": {
      "text/html": [
       "<div>\n",
       "<style scoped>\n",
       "    .dataframe tbody tr th:only-of-type {\n",
       "        vertical-align: middle;\n",
       "    }\n",
       "\n",
       "    .dataframe tbody tr th {\n",
       "        vertical-align: top;\n",
       "    }\n",
       "\n",
       "    .dataframe thead th {\n",
       "        text-align: right;\n",
       "    }\n",
       "</style>\n",
       "<table border=\"1\" class=\"dataframe\">\n",
       "  <thead>\n",
       "    <tr style=\"text-align: right;\">\n",
       "      <th></th>\n",
       "      <th>key</th>\n",
       "      <th>value</th>\n",
       "      <th>group_val</th>\n",
       "    </tr>\n",
       "  </thead>\n",
       "  <tbody>\n",
       "    <tr>\n",
       "      <th>0</th>\n",
       "      <td>a</td>\n",
       "      <td>0</td>\n",
       "      <td>3.5</td>\n",
       "    </tr>\n",
       "    <tr>\n",
       "      <th>2</th>\n",
       "      <td>a</td>\n",
       "      <td>2</td>\n",
       "      <td>3.5</td>\n",
       "    </tr>\n",
       "    <tr>\n",
       "      <th>3</th>\n",
       "      <td>a</td>\n",
       "      <td>3</td>\n",
       "      <td>3.5</td>\n",
       "    </tr>\n",
       "    <tr>\n",
       "      <th>1</th>\n",
       "      <td>b</td>\n",
       "      <td>1</td>\n",
       "      <td>7.0</td>\n",
       "    </tr>\n",
       "    <tr>\n",
       "      <th>4</th>\n",
       "      <td>b</td>\n",
       "      <td>4</td>\n",
       "      <td>7.0</td>\n",
       "    </tr>\n",
       "  </tbody>\n",
       "</table>\n",
       "</div>"
      ],
      "text/plain": [
       "  key  value  group_val\n",
       "0   a      0        3.5\n",
       "2   a      2        3.5\n",
       "3   a      3        3.5\n",
       "1   b      1        7.0\n",
       "4   b      4        7.0"
      ]
     },
     "execution_count": 26,
     "metadata": {},
     "output_type": "execute_result"
    }
   ],
   "source": [
    "pd.merge(left1, right1, left_on='key', right_index=True)"
   ]
  },
  {
   "cell_type": "markdown",
   "metadata": {},
   "source": [
    "由于默认的merge方法是求取连接键的交集，因此可通过外连接的方式得到它们的并集："
   ]
  },
  {
   "cell_type": "code",
   "execution_count": 27,
   "metadata": {},
   "outputs": [
    {
     "data": {
      "text/html": [
       "<div>\n",
       "<style scoped>\n",
       "    .dataframe tbody tr th:only-of-type {\n",
       "        vertical-align: middle;\n",
       "    }\n",
       "\n",
       "    .dataframe tbody tr th {\n",
       "        vertical-align: top;\n",
       "    }\n",
       "\n",
       "    .dataframe thead th {\n",
       "        text-align: right;\n",
       "    }\n",
       "</style>\n",
       "<table border=\"1\" class=\"dataframe\">\n",
       "  <thead>\n",
       "    <tr style=\"text-align: right;\">\n",
       "      <th></th>\n",
       "      <th>key</th>\n",
       "      <th>value</th>\n",
       "      <th>group_val</th>\n",
       "    </tr>\n",
       "  </thead>\n",
       "  <tbody>\n",
       "    <tr>\n",
       "      <th>0</th>\n",
       "      <td>a</td>\n",
       "      <td>0</td>\n",
       "      <td>3.5</td>\n",
       "    </tr>\n",
       "    <tr>\n",
       "      <th>2</th>\n",
       "      <td>a</td>\n",
       "      <td>2</td>\n",
       "      <td>3.5</td>\n",
       "    </tr>\n",
       "    <tr>\n",
       "      <th>3</th>\n",
       "      <td>a</td>\n",
       "      <td>3</td>\n",
       "      <td>3.5</td>\n",
       "    </tr>\n",
       "    <tr>\n",
       "      <th>1</th>\n",
       "      <td>b</td>\n",
       "      <td>1</td>\n",
       "      <td>7.0</td>\n",
       "    </tr>\n",
       "    <tr>\n",
       "      <th>4</th>\n",
       "      <td>b</td>\n",
       "      <td>4</td>\n",
       "      <td>7.0</td>\n",
       "    </tr>\n",
       "    <tr>\n",
       "      <th>5</th>\n",
       "      <td>c</td>\n",
       "      <td>5</td>\n",
       "      <td>NaN</td>\n",
       "    </tr>\n",
       "  </tbody>\n",
       "</table>\n",
       "</div>"
      ],
      "text/plain": [
       "  key  value  group_val\n",
       "0   a      0        3.5\n",
       "2   a      2        3.5\n",
       "3   a      3        3.5\n",
       "1   b      1        7.0\n",
       "4   b      4        7.0\n",
       "5   c      5        NaN"
      ]
     },
     "execution_count": 27,
     "metadata": {},
     "output_type": "execute_result"
    }
   ],
   "source": [
    "pd.merge(left1, right1, left_on='key', right_index=True, how='outer')"
   ]
  },
  {
   "cell_type": "markdown",
   "metadata": {},
   "source": [
    "对于层次化索引的数据，事情就有点复杂了："
   ]
  },
  {
   "cell_type": "code",
   "execution_count": 28,
   "metadata": {},
   "outputs": [],
   "source": [
    "lefth = DataFrame({'key1': ['Ohio', 'Ohio', 'Ohio', 'Nevada', 'Nevada'],\n",
    "                  'key2': [2000, 2001, 2002, 2001, 2002],\n",
    "                  'data': np.arange(5.)})"
   ]
  },
  {
   "cell_type": "code",
   "execution_count": 29,
   "metadata": {},
   "outputs": [],
   "source": [
    "righth = DataFrame(np.arange(12).reshape((6, 2)),\n",
    "                  index=[['Nevada', 'Nevada', 'Ohio', 'Ohio', 'Ohio', 'Ohio'],\n",
    "                         [2001, 2000, 2000, 2000, 2001, 2002]],\n",
    "                  columns=['event1', 'event2'])"
   ]
  },
  {
   "cell_type": "code",
   "execution_count": 30,
   "metadata": {},
   "outputs": [
    {
     "data": {
      "text/html": [
       "<div>\n",
       "<style scoped>\n",
       "    .dataframe tbody tr th:only-of-type {\n",
       "        vertical-align: middle;\n",
       "    }\n",
       "\n",
       "    .dataframe tbody tr th {\n",
       "        vertical-align: top;\n",
       "    }\n",
       "\n",
       "    .dataframe thead th {\n",
       "        text-align: right;\n",
       "    }\n",
       "</style>\n",
       "<table border=\"1\" class=\"dataframe\">\n",
       "  <thead>\n",
       "    <tr style=\"text-align: right;\">\n",
       "      <th></th>\n",
       "      <th>data</th>\n",
       "      <th>key1</th>\n",
       "      <th>key2</th>\n",
       "    </tr>\n",
       "  </thead>\n",
       "  <tbody>\n",
       "    <tr>\n",
       "      <th>0</th>\n",
       "      <td>0.0</td>\n",
       "      <td>Ohio</td>\n",
       "      <td>2000</td>\n",
       "    </tr>\n",
       "    <tr>\n",
       "      <th>1</th>\n",
       "      <td>1.0</td>\n",
       "      <td>Ohio</td>\n",
       "      <td>2001</td>\n",
       "    </tr>\n",
       "    <tr>\n",
       "      <th>2</th>\n",
       "      <td>2.0</td>\n",
       "      <td>Ohio</td>\n",
       "      <td>2002</td>\n",
       "    </tr>\n",
       "    <tr>\n",
       "      <th>3</th>\n",
       "      <td>3.0</td>\n",
       "      <td>Nevada</td>\n",
       "      <td>2001</td>\n",
       "    </tr>\n",
       "    <tr>\n",
       "      <th>4</th>\n",
       "      <td>4.0</td>\n",
       "      <td>Nevada</td>\n",
       "      <td>2002</td>\n",
       "    </tr>\n",
       "  </tbody>\n",
       "</table>\n",
       "</div>"
      ],
      "text/plain": [
       "   data    key1  key2\n",
       "0   0.0    Ohio  2000\n",
       "1   1.0    Ohio  2001\n",
       "2   2.0    Ohio  2002\n",
       "3   3.0  Nevada  2001\n",
       "4   4.0  Nevada  2002"
      ]
     },
     "execution_count": 30,
     "metadata": {},
     "output_type": "execute_result"
    }
   ],
   "source": [
    "lefth"
   ]
  },
  {
   "cell_type": "code",
   "execution_count": 31,
   "metadata": {},
   "outputs": [
    {
     "data": {
      "text/html": [
       "<div>\n",
       "<style scoped>\n",
       "    .dataframe tbody tr th:only-of-type {\n",
       "        vertical-align: middle;\n",
       "    }\n",
       "\n",
       "    .dataframe tbody tr th {\n",
       "        vertical-align: top;\n",
       "    }\n",
       "\n",
       "    .dataframe thead th {\n",
       "        text-align: right;\n",
       "    }\n",
       "</style>\n",
       "<table border=\"1\" class=\"dataframe\">\n",
       "  <thead>\n",
       "    <tr style=\"text-align: right;\">\n",
       "      <th></th>\n",
       "      <th></th>\n",
       "      <th>event1</th>\n",
       "      <th>event2</th>\n",
       "    </tr>\n",
       "  </thead>\n",
       "  <tbody>\n",
       "    <tr>\n",
       "      <th rowspan=\"2\" valign=\"top\">Nevada</th>\n",
       "      <th>2001</th>\n",
       "      <td>0</td>\n",
       "      <td>1</td>\n",
       "    </tr>\n",
       "    <tr>\n",
       "      <th>2000</th>\n",
       "      <td>2</td>\n",
       "      <td>3</td>\n",
       "    </tr>\n",
       "    <tr>\n",
       "      <th rowspan=\"4\" valign=\"top\">Ohio</th>\n",
       "      <th>2000</th>\n",
       "      <td>4</td>\n",
       "      <td>5</td>\n",
       "    </tr>\n",
       "    <tr>\n",
       "      <th>2000</th>\n",
       "      <td>6</td>\n",
       "      <td>7</td>\n",
       "    </tr>\n",
       "    <tr>\n",
       "      <th>2001</th>\n",
       "      <td>8</td>\n",
       "      <td>9</td>\n",
       "    </tr>\n",
       "    <tr>\n",
       "      <th>2002</th>\n",
       "      <td>10</td>\n",
       "      <td>11</td>\n",
       "    </tr>\n",
       "  </tbody>\n",
       "</table>\n",
       "</div>"
      ],
      "text/plain": [
       "             event1  event2\n",
       "Nevada 2001       0       1\n",
       "       2000       2       3\n",
       "Ohio   2000       4       5\n",
       "       2000       6       7\n",
       "       2001       8       9\n",
       "       2002      10      11"
      ]
     },
     "execution_count": 31,
     "metadata": {},
     "output_type": "execute_result"
    }
   ],
   "source": [
    "righth"
   ]
  },
  {
   "cell_type": "markdown",
   "metadata": {},
   "source": [
    "这种情况下，必须以列表的形式指明用作合并键的多个列（注意对重复索引值的处理）:"
   ]
  },
  {
   "cell_type": "code",
   "execution_count": 32,
   "metadata": {},
   "outputs": [
    {
     "data": {
      "text/html": [
       "<div>\n",
       "<style scoped>\n",
       "    .dataframe tbody tr th:only-of-type {\n",
       "        vertical-align: middle;\n",
       "    }\n",
       "\n",
       "    .dataframe tbody tr th {\n",
       "        vertical-align: top;\n",
       "    }\n",
       "\n",
       "    .dataframe thead th {\n",
       "        text-align: right;\n",
       "    }\n",
       "</style>\n",
       "<table border=\"1\" class=\"dataframe\">\n",
       "  <thead>\n",
       "    <tr style=\"text-align: right;\">\n",
       "      <th></th>\n",
       "      <th>data</th>\n",
       "      <th>key1</th>\n",
       "      <th>key2</th>\n",
       "      <th>event1</th>\n",
       "      <th>event2</th>\n",
       "    </tr>\n",
       "  </thead>\n",
       "  <tbody>\n",
       "    <tr>\n",
       "      <th>0</th>\n",
       "      <td>0.0</td>\n",
       "      <td>Ohio</td>\n",
       "      <td>2000</td>\n",
       "      <td>4</td>\n",
       "      <td>5</td>\n",
       "    </tr>\n",
       "    <tr>\n",
       "      <th>0</th>\n",
       "      <td>0.0</td>\n",
       "      <td>Ohio</td>\n",
       "      <td>2000</td>\n",
       "      <td>6</td>\n",
       "      <td>7</td>\n",
       "    </tr>\n",
       "    <tr>\n",
       "      <th>1</th>\n",
       "      <td>1.0</td>\n",
       "      <td>Ohio</td>\n",
       "      <td>2001</td>\n",
       "      <td>8</td>\n",
       "      <td>9</td>\n",
       "    </tr>\n",
       "    <tr>\n",
       "      <th>2</th>\n",
       "      <td>2.0</td>\n",
       "      <td>Ohio</td>\n",
       "      <td>2002</td>\n",
       "      <td>10</td>\n",
       "      <td>11</td>\n",
       "    </tr>\n",
       "    <tr>\n",
       "      <th>3</th>\n",
       "      <td>3.0</td>\n",
       "      <td>Nevada</td>\n",
       "      <td>2001</td>\n",
       "      <td>0</td>\n",
       "      <td>1</td>\n",
       "    </tr>\n",
       "  </tbody>\n",
       "</table>\n",
       "</div>"
      ],
      "text/plain": [
       "   data    key1  key2  event1  event2\n",
       "0   0.0    Ohio  2000       4       5\n",
       "0   0.0    Ohio  2000       6       7\n",
       "1   1.0    Ohio  2001       8       9\n",
       "2   2.0    Ohio  2002      10      11\n",
       "3   3.0  Nevada  2001       0       1"
      ]
     },
     "execution_count": 32,
     "metadata": {},
     "output_type": "execute_result"
    }
   ],
   "source": [
    "pd.merge(lefth, righth, left_on=['key1', 'key2'], right_index=True)"
   ]
  },
  {
   "cell_type": "code",
   "execution_count": 33,
   "metadata": {},
   "outputs": [
    {
     "data": {
      "text/html": [
       "<div>\n",
       "<style scoped>\n",
       "    .dataframe tbody tr th:only-of-type {\n",
       "        vertical-align: middle;\n",
       "    }\n",
       "\n",
       "    .dataframe tbody tr th {\n",
       "        vertical-align: top;\n",
       "    }\n",
       "\n",
       "    .dataframe thead th {\n",
       "        text-align: right;\n",
       "    }\n",
       "</style>\n",
       "<table border=\"1\" class=\"dataframe\">\n",
       "  <thead>\n",
       "    <tr style=\"text-align: right;\">\n",
       "      <th></th>\n",
       "      <th>data</th>\n",
       "      <th>key1</th>\n",
       "      <th>key2</th>\n",
       "      <th>event1</th>\n",
       "      <th>event2</th>\n",
       "    </tr>\n",
       "  </thead>\n",
       "  <tbody>\n",
       "    <tr>\n",
       "      <th>0</th>\n",
       "      <td>0.0</td>\n",
       "      <td>Ohio</td>\n",
       "      <td>2000</td>\n",
       "      <td>4.0</td>\n",
       "      <td>5.0</td>\n",
       "    </tr>\n",
       "    <tr>\n",
       "      <th>0</th>\n",
       "      <td>0.0</td>\n",
       "      <td>Ohio</td>\n",
       "      <td>2000</td>\n",
       "      <td>6.0</td>\n",
       "      <td>7.0</td>\n",
       "    </tr>\n",
       "    <tr>\n",
       "      <th>1</th>\n",
       "      <td>1.0</td>\n",
       "      <td>Ohio</td>\n",
       "      <td>2001</td>\n",
       "      <td>8.0</td>\n",
       "      <td>9.0</td>\n",
       "    </tr>\n",
       "    <tr>\n",
       "      <th>2</th>\n",
       "      <td>2.0</td>\n",
       "      <td>Ohio</td>\n",
       "      <td>2002</td>\n",
       "      <td>10.0</td>\n",
       "      <td>11.0</td>\n",
       "    </tr>\n",
       "    <tr>\n",
       "      <th>3</th>\n",
       "      <td>3.0</td>\n",
       "      <td>Nevada</td>\n",
       "      <td>2001</td>\n",
       "      <td>0.0</td>\n",
       "      <td>1.0</td>\n",
       "    </tr>\n",
       "    <tr>\n",
       "      <th>4</th>\n",
       "      <td>4.0</td>\n",
       "      <td>Nevada</td>\n",
       "      <td>2002</td>\n",
       "      <td>NaN</td>\n",
       "      <td>NaN</td>\n",
       "    </tr>\n",
       "    <tr>\n",
       "      <th>4</th>\n",
       "      <td>NaN</td>\n",
       "      <td>Nevada</td>\n",
       "      <td>2000</td>\n",
       "      <td>2.0</td>\n",
       "      <td>3.0</td>\n",
       "    </tr>\n",
       "  </tbody>\n",
       "</table>\n",
       "</div>"
      ],
      "text/plain": [
       "   data    key1  key2  event1  event2\n",
       "0   0.0    Ohio  2000     4.0     5.0\n",
       "0   0.0    Ohio  2000     6.0     7.0\n",
       "1   1.0    Ohio  2001     8.0     9.0\n",
       "2   2.0    Ohio  2002    10.0    11.0\n",
       "3   3.0  Nevada  2001     0.0     1.0\n",
       "4   4.0  Nevada  2002     NaN     NaN\n",
       "4   NaN  Nevada  2000     2.0     3.0"
      ]
     },
     "execution_count": 33,
     "metadata": {},
     "output_type": "execute_result"
    }
   ],
   "source": [
    "pd.merge(lefth, righth, left_on=['key1', 'key2'], right_index=True, how='outer')"
   ]
  },
  {
   "cell_type": "markdown",
   "metadata": {},
   "source": [
    "同时使用合并双方的索引也没问题："
   ]
  },
  {
   "cell_type": "code",
   "execution_count": 34,
   "metadata": {},
   "outputs": [],
   "source": [
    "left2 = DataFrame([[1., 2.], [3., 4.], [5., 6.]],\n",
    "                  index=['a', 'c', 'e'],\n",
    "                  columns=['Ohio', 'Nevada'])"
   ]
  },
  {
   "cell_type": "code",
   "execution_count": 35,
   "metadata": {},
   "outputs": [],
   "source": [
    "right2 = DataFrame([[7., 8.], [9., 10.], [11., 12.], [13, 14]],\n",
    "                   index=['b', 'c', 'd', 'e'],\n",
    "                   columns=['Missouri', 'Alabama'])"
   ]
  },
  {
   "cell_type": "code",
   "execution_count": 36,
   "metadata": {},
   "outputs": [
    {
     "data": {
      "text/html": [
       "<div>\n",
       "<style scoped>\n",
       "    .dataframe tbody tr th:only-of-type {\n",
       "        vertical-align: middle;\n",
       "    }\n",
       "\n",
       "    .dataframe tbody tr th {\n",
       "        vertical-align: top;\n",
       "    }\n",
       "\n",
       "    .dataframe thead th {\n",
       "        text-align: right;\n",
       "    }\n",
       "</style>\n",
       "<table border=\"1\" class=\"dataframe\">\n",
       "  <thead>\n",
       "    <tr style=\"text-align: right;\">\n",
       "      <th></th>\n",
       "      <th>Ohio</th>\n",
       "      <th>Nevada</th>\n",
       "    </tr>\n",
       "  </thead>\n",
       "  <tbody>\n",
       "    <tr>\n",
       "      <th>a</th>\n",
       "      <td>1.0</td>\n",
       "      <td>2.0</td>\n",
       "    </tr>\n",
       "    <tr>\n",
       "      <th>c</th>\n",
       "      <td>3.0</td>\n",
       "      <td>4.0</td>\n",
       "    </tr>\n",
       "    <tr>\n",
       "      <th>e</th>\n",
       "      <td>5.0</td>\n",
       "      <td>6.0</td>\n",
       "    </tr>\n",
       "  </tbody>\n",
       "</table>\n",
       "</div>"
      ],
      "text/plain": [
       "   Ohio  Nevada\n",
       "a   1.0     2.0\n",
       "c   3.0     4.0\n",
       "e   5.0     6.0"
      ]
     },
     "execution_count": 36,
     "metadata": {},
     "output_type": "execute_result"
    }
   ],
   "source": [
    "left2"
   ]
  },
  {
   "cell_type": "code",
   "execution_count": 37,
   "metadata": {},
   "outputs": [
    {
     "data": {
      "text/html": [
       "<div>\n",
       "<style scoped>\n",
       "    .dataframe tbody tr th:only-of-type {\n",
       "        vertical-align: middle;\n",
       "    }\n",
       "\n",
       "    .dataframe tbody tr th {\n",
       "        vertical-align: top;\n",
       "    }\n",
       "\n",
       "    .dataframe thead th {\n",
       "        text-align: right;\n",
       "    }\n",
       "</style>\n",
       "<table border=\"1\" class=\"dataframe\">\n",
       "  <thead>\n",
       "    <tr style=\"text-align: right;\">\n",
       "      <th></th>\n",
       "      <th>Missouri</th>\n",
       "      <th>Alabama</th>\n",
       "    </tr>\n",
       "  </thead>\n",
       "  <tbody>\n",
       "    <tr>\n",
       "      <th>b</th>\n",
       "      <td>7.0</td>\n",
       "      <td>8.0</td>\n",
       "    </tr>\n",
       "    <tr>\n",
       "      <th>c</th>\n",
       "      <td>9.0</td>\n",
       "      <td>10.0</td>\n",
       "    </tr>\n",
       "    <tr>\n",
       "      <th>d</th>\n",
       "      <td>11.0</td>\n",
       "      <td>12.0</td>\n",
       "    </tr>\n",
       "    <tr>\n",
       "      <th>e</th>\n",
       "      <td>13.0</td>\n",
       "      <td>14.0</td>\n",
       "    </tr>\n",
       "  </tbody>\n",
       "</table>\n",
       "</div>"
      ],
      "text/plain": [
       "   Missouri  Alabama\n",
       "b       7.0      8.0\n",
       "c       9.0     10.0\n",
       "d      11.0     12.0\n",
       "e      13.0     14.0"
      ]
     },
     "execution_count": 37,
     "metadata": {},
     "output_type": "execute_result"
    }
   ],
   "source": [
    "right2"
   ]
  },
  {
   "cell_type": "code",
   "execution_count": 38,
   "metadata": {},
   "outputs": [
    {
     "data": {
      "text/html": [
       "<div>\n",
       "<style scoped>\n",
       "    .dataframe tbody tr th:only-of-type {\n",
       "        vertical-align: middle;\n",
       "    }\n",
       "\n",
       "    .dataframe tbody tr th {\n",
       "        vertical-align: top;\n",
       "    }\n",
       "\n",
       "    .dataframe thead th {\n",
       "        text-align: right;\n",
       "    }\n",
       "</style>\n",
       "<table border=\"1\" class=\"dataframe\">\n",
       "  <thead>\n",
       "    <tr style=\"text-align: right;\">\n",
       "      <th></th>\n",
       "      <th>Ohio</th>\n",
       "      <th>Nevada</th>\n",
       "      <th>Missouri</th>\n",
       "      <th>Alabama</th>\n",
       "    </tr>\n",
       "  </thead>\n",
       "  <tbody>\n",
       "    <tr>\n",
       "      <th>a</th>\n",
       "      <td>1.0</td>\n",
       "      <td>2.0</td>\n",
       "      <td>NaN</td>\n",
       "      <td>NaN</td>\n",
       "    </tr>\n",
       "    <tr>\n",
       "      <th>b</th>\n",
       "      <td>NaN</td>\n",
       "      <td>NaN</td>\n",
       "      <td>7.0</td>\n",
       "      <td>8.0</td>\n",
       "    </tr>\n",
       "    <tr>\n",
       "      <th>c</th>\n",
       "      <td>3.0</td>\n",
       "      <td>4.0</td>\n",
       "      <td>9.0</td>\n",
       "      <td>10.0</td>\n",
       "    </tr>\n",
       "    <tr>\n",
       "      <th>d</th>\n",
       "      <td>NaN</td>\n",
       "      <td>NaN</td>\n",
       "      <td>11.0</td>\n",
       "      <td>12.0</td>\n",
       "    </tr>\n",
       "    <tr>\n",
       "      <th>e</th>\n",
       "      <td>5.0</td>\n",
       "      <td>6.0</td>\n",
       "      <td>13.0</td>\n",
       "      <td>14.0</td>\n",
       "    </tr>\n",
       "  </tbody>\n",
       "</table>\n",
       "</div>"
      ],
      "text/plain": [
       "   Ohio  Nevada  Missouri  Alabama\n",
       "a   1.0     2.0       NaN      NaN\n",
       "b   NaN     NaN       7.0      8.0\n",
       "c   3.0     4.0       9.0     10.0\n",
       "d   NaN     NaN      11.0     12.0\n",
       "e   5.0     6.0      13.0     14.0"
      ]
     },
     "execution_count": 38,
     "metadata": {},
     "output_type": "execute_result"
    }
   ],
   "source": [
    "pd.merge(left2, right2, how='outer', left_index=True, right_index=True)"
   ]
  },
  {
   "cell_type": "markdown",
   "metadata": {},
   "source": [
    "DataFrame还有一个join实例方法，它能更为方便地实现索引合并。它还可以用于合并多个带有相同或相似索引的DataFrame对象，而不管他们之间有没有重叠的列。"
   ]
  },
  {
   "cell_type": "code",
   "execution_count": 39,
   "metadata": {},
   "outputs": [
    {
     "data": {
      "text/html": [
       "<div>\n",
       "<style scoped>\n",
       "    .dataframe tbody tr th:only-of-type {\n",
       "        vertical-align: middle;\n",
       "    }\n",
       "\n",
       "    .dataframe tbody tr th {\n",
       "        vertical-align: top;\n",
       "    }\n",
       "\n",
       "    .dataframe thead th {\n",
       "        text-align: right;\n",
       "    }\n",
       "</style>\n",
       "<table border=\"1\" class=\"dataframe\">\n",
       "  <thead>\n",
       "    <tr style=\"text-align: right;\">\n",
       "      <th></th>\n",
       "      <th>Ohio</th>\n",
       "      <th>Nevada</th>\n",
       "      <th>Missouri</th>\n",
       "      <th>Alabama</th>\n",
       "    </tr>\n",
       "  </thead>\n",
       "  <tbody>\n",
       "    <tr>\n",
       "      <th>a</th>\n",
       "      <td>1.0</td>\n",
       "      <td>2.0</td>\n",
       "      <td>NaN</td>\n",
       "      <td>NaN</td>\n",
       "    </tr>\n",
       "    <tr>\n",
       "      <th>b</th>\n",
       "      <td>NaN</td>\n",
       "      <td>NaN</td>\n",
       "      <td>7.0</td>\n",
       "      <td>8.0</td>\n",
       "    </tr>\n",
       "    <tr>\n",
       "      <th>c</th>\n",
       "      <td>3.0</td>\n",
       "      <td>4.0</td>\n",
       "      <td>9.0</td>\n",
       "      <td>10.0</td>\n",
       "    </tr>\n",
       "    <tr>\n",
       "      <th>d</th>\n",
       "      <td>NaN</td>\n",
       "      <td>NaN</td>\n",
       "      <td>11.0</td>\n",
       "      <td>12.0</td>\n",
       "    </tr>\n",
       "    <tr>\n",
       "      <th>e</th>\n",
       "      <td>5.0</td>\n",
       "      <td>6.0</td>\n",
       "      <td>13.0</td>\n",
       "      <td>14.0</td>\n",
       "    </tr>\n",
       "  </tbody>\n",
       "</table>\n",
       "</div>"
      ],
      "text/plain": [
       "   Ohio  Nevada  Missouri  Alabama\n",
       "a   1.0     2.0       NaN      NaN\n",
       "b   NaN     NaN       7.0      8.0\n",
       "c   3.0     4.0       9.0     10.0\n",
       "d   NaN     NaN      11.0     12.0\n",
       "e   5.0     6.0      13.0     14.0"
      ]
     },
     "execution_count": 39,
     "metadata": {},
     "output_type": "execute_result"
    }
   ],
   "source": [
    "left2.join(right2, how='outer')"
   ]
  },
  {
   "cell_type": "code",
   "execution_count": 40,
   "metadata": {},
   "outputs": [
    {
     "data": {
      "text/html": [
       "<div>\n",
       "<style scoped>\n",
       "    .dataframe tbody tr th:only-of-type {\n",
       "        vertical-align: middle;\n",
       "    }\n",
       "\n",
       "    .dataframe tbody tr th {\n",
       "        vertical-align: top;\n",
       "    }\n",
       "\n",
       "    .dataframe thead th {\n",
       "        text-align: right;\n",
       "    }\n",
       "</style>\n",
       "<table border=\"1\" class=\"dataframe\">\n",
       "  <thead>\n",
       "    <tr style=\"text-align: right;\">\n",
       "      <th></th>\n",
       "      <th>key</th>\n",
       "      <th>value</th>\n",
       "      <th>group_val</th>\n",
       "    </tr>\n",
       "  </thead>\n",
       "  <tbody>\n",
       "    <tr>\n",
       "      <th>0</th>\n",
       "      <td>a</td>\n",
       "      <td>0</td>\n",
       "      <td>3.5</td>\n",
       "    </tr>\n",
       "    <tr>\n",
       "      <th>1</th>\n",
       "      <td>b</td>\n",
       "      <td>1</td>\n",
       "      <td>7.0</td>\n",
       "    </tr>\n",
       "    <tr>\n",
       "      <th>2</th>\n",
       "      <td>a</td>\n",
       "      <td>2</td>\n",
       "      <td>3.5</td>\n",
       "    </tr>\n",
       "    <tr>\n",
       "      <th>3</th>\n",
       "      <td>a</td>\n",
       "      <td>3</td>\n",
       "      <td>3.5</td>\n",
       "    </tr>\n",
       "    <tr>\n",
       "      <th>4</th>\n",
       "      <td>b</td>\n",
       "      <td>4</td>\n",
       "      <td>7.0</td>\n",
       "    </tr>\n",
       "    <tr>\n",
       "      <th>5</th>\n",
       "      <td>c</td>\n",
       "      <td>5</td>\n",
       "      <td>NaN</td>\n",
       "    </tr>\n",
       "  </tbody>\n",
       "</table>\n",
       "</div>"
      ],
      "text/plain": [
       "  key  value  group_val\n",
       "0   a      0        3.5\n",
       "1   b      1        7.0\n",
       "2   a      2        3.5\n",
       "3   a      3        3.5\n",
       "4   b      4        7.0\n",
       "5   c      5        NaN"
      ]
     },
     "execution_count": 40,
     "metadata": {},
     "output_type": "execute_result"
    }
   ],
   "source": [
    "left1.join(right1, on='key')"
   ]
  },
  {
   "cell_type": "markdown",
   "metadata": {},
   "source": [
    "对于简单的索引合并，还可以向join传入一组DataFrame："
   ]
  },
  {
   "cell_type": "code",
   "execution_count": 41,
   "metadata": {},
   "outputs": [],
   "source": [
    "another = DataFrame([[7, 8], [9, 10], [11, 12], [16, 17]],\n",
    "                    index=['a', 'c', 'e', 'f'],\n",
    "                    columns=['New York', 'Oregon'])"
   ]
  },
  {
   "cell_type": "code",
   "execution_count": 42,
   "metadata": {},
   "outputs": [
    {
     "data": {
      "text/html": [
       "<div>\n",
       "<style scoped>\n",
       "    .dataframe tbody tr th:only-of-type {\n",
       "        vertical-align: middle;\n",
       "    }\n",
       "\n",
       "    .dataframe tbody tr th {\n",
       "        vertical-align: top;\n",
       "    }\n",
       "\n",
       "    .dataframe thead th {\n",
       "        text-align: right;\n",
       "    }\n",
       "</style>\n",
       "<table border=\"1\" class=\"dataframe\">\n",
       "  <thead>\n",
       "    <tr style=\"text-align: right;\">\n",
       "      <th></th>\n",
       "      <th>Ohio</th>\n",
       "      <th>Nevada</th>\n",
       "      <th>Missouri</th>\n",
       "      <th>Alabama</th>\n",
       "      <th>New York</th>\n",
       "      <th>Oregon</th>\n",
       "    </tr>\n",
       "  </thead>\n",
       "  <tbody>\n",
       "    <tr>\n",
       "      <th>a</th>\n",
       "      <td>1.0</td>\n",
       "      <td>2.0</td>\n",
       "      <td>NaN</td>\n",
       "      <td>NaN</td>\n",
       "      <td>7</td>\n",
       "      <td>8</td>\n",
       "    </tr>\n",
       "    <tr>\n",
       "      <th>c</th>\n",
       "      <td>3.0</td>\n",
       "      <td>4.0</td>\n",
       "      <td>9.0</td>\n",
       "      <td>10.0</td>\n",
       "      <td>9</td>\n",
       "      <td>10</td>\n",
       "    </tr>\n",
       "    <tr>\n",
       "      <th>e</th>\n",
       "      <td>5.0</td>\n",
       "      <td>6.0</td>\n",
       "      <td>13.0</td>\n",
       "      <td>14.0</td>\n",
       "      <td>11</td>\n",
       "      <td>12</td>\n",
       "    </tr>\n",
       "  </tbody>\n",
       "</table>\n",
       "</div>"
      ],
      "text/plain": [
       "   Ohio  Nevada  Missouri  Alabama  New York  Oregon\n",
       "a   1.0     2.0       NaN      NaN         7       8\n",
       "c   3.0     4.0       9.0     10.0         9      10\n",
       "e   5.0     6.0      13.0     14.0        11      12"
      ]
     },
     "execution_count": 42,
     "metadata": {},
     "output_type": "execute_result"
    }
   ],
   "source": [
    "left2.join([right2, another])"
   ]
  },
  {
   "cell_type": "code",
   "execution_count": 43,
   "metadata": {},
   "outputs": [
    {
     "data": {
      "text/html": [
       "<div>\n",
       "<style scoped>\n",
       "    .dataframe tbody tr th:only-of-type {\n",
       "        vertical-align: middle;\n",
       "    }\n",
       "\n",
       "    .dataframe tbody tr th {\n",
       "        vertical-align: top;\n",
       "    }\n",
       "\n",
       "    .dataframe thead th {\n",
       "        text-align: right;\n",
       "    }\n",
       "</style>\n",
       "<table border=\"1\" class=\"dataframe\">\n",
       "  <thead>\n",
       "    <tr style=\"text-align: right;\">\n",
       "      <th></th>\n",
       "      <th>Ohio</th>\n",
       "      <th>Nevada</th>\n",
       "      <th>Missouri</th>\n",
       "      <th>Alabama</th>\n",
       "      <th>New York</th>\n",
       "      <th>Oregon</th>\n",
       "    </tr>\n",
       "  </thead>\n",
       "  <tbody>\n",
       "    <tr>\n",
       "      <th>a</th>\n",
       "      <td>1.0</td>\n",
       "      <td>2.0</td>\n",
       "      <td>NaN</td>\n",
       "      <td>NaN</td>\n",
       "      <td>7.0</td>\n",
       "      <td>8.0</td>\n",
       "    </tr>\n",
       "    <tr>\n",
       "      <th>b</th>\n",
       "      <td>NaN</td>\n",
       "      <td>NaN</td>\n",
       "      <td>7.0</td>\n",
       "      <td>8.0</td>\n",
       "      <td>NaN</td>\n",
       "      <td>NaN</td>\n",
       "    </tr>\n",
       "    <tr>\n",
       "      <th>c</th>\n",
       "      <td>3.0</td>\n",
       "      <td>4.0</td>\n",
       "      <td>9.0</td>\n",
       "      <td>10.0</td>\n",
       "      <td>9.0</td>\n",
       "      <td>10.0</td>\n",
       "    </tr>\n",
       "    <tr>\n",
       "      <th>d</th>\n",
       "      <td>NaN</td>\n",
       "      <td>NaN</td>\n",
       "      <td>11.0</td>\n",
       "      <td>12.0</td>\n",
       "      <td>NaN</td>\n",
       "      <td>NaN</td>\n",
       "    </tr>\n",
       "    <tr>\n",
       "      <th>e</th>\n",
       "      <td>5.0</td>\n",
       "      <td>6.0</td>\n",
       "      <td>13.0</td>\n",
       "      <td>14.0</td>\n",
       "      <td>11.0</td>\n",
       "      <td>12.0</td>\n",
       "    </tr>\n",
       "    <tr>\n",
       "      <th>f</th>\n",
       "      <td>NaN</td>\n",
       "      <td>NaN</td>\n",
       "      <td>NaN</td>\n",
       "      <td>NaN</td>\n",
       "      <td>16.0</td>\n",
       "      <td>17.0</td>\n",
       "    </tr>\n",
       "  </tbody>\n",
       "</table>\n",
       "</div>"
      ],
      "text/plain": [
       "   Ohio  Nevada  Missouri  Alabama  New York  Oregon\n",
       "a   1.0     2.0       NaN      NaN       7.0     8.0\n",
       "b   NaN     NaN       7.0      8.0       NaN     NaN\n",
       "c   3.0     4.0       9.0     10.0       9.0    10.0\n",
       "d   NaN     NaN      11.0     12.0       NaN     NaN\n",
       "e   5.0     6.0      13.0     14.0      11.0    12.0\n",
       "f   NaN     NaN       NaN      NaN      16.0    17.0"
      ]
     },
     "execution_count": 43,
     "metadata": {},
     "output_type": "execute_result"
    }
   ],
   "source": [
    "left2.join([right2, another], how='outer')"
   ]
  },
  {
   "cell_type": "markdown",
   "metadata": {},
   "source": [
    "## 轴向连接\n",
    "另一种数据合并运算也被称作连接（concatenation）、绑定（binding）或堆叠（stacking）。NumPy有一个用于合并原始NumPy数组的concatenation函数："
   ]
  },
  {
   "cell_type": "code",
   "execution_count": 44,
   "metadata": {},
   "outputs": [],
   "source": [
    "arr = np.arange(12).reshape((3, 4))"
   ]
  },
  {
   "cell_type": "code",
   "execution_count": 45,
   "metadata": {},
   "outputs": [
    {
     "data": {
      "text/plain": [
       "array([[ 0,  1,  2,  3],\n",
       "       [ 4,  5,  6,  7],\n",
       "       [ 8,  9, 10, 11]])"
      ]
     },
     "execution_count": 45,
     "metadata": {},
     "output_type": "execute_result"
    }
   ],
   "source": [
    "arr"
   ]
  },
  {
   "cell_type": "code",
   "execution_count": 46,
   "metadata": {},
   "outputs": [
    {
     "data": {
      "text/plain": [
       "array([[ 0,  1,  2,  3,  0,  1,  2,  3],\n",
       "       [ 4,  5,  6,  7,  4,  5,  6,  7],\n",
       "       [ 8,  9, 10, 11,  8,  9, 10, 11]])"
      ]
     },
     "execution_count": 46,
     "metadata": {},
     "output_type": "execute_result"
    }
   ],
   "source": [
    "np.concatenate([arr, arr], axis=1)"
   ]
  },
  {
   "cell_type": "markdown",
   "metadata": {},
   "source": [
    "假设有三个没有重叠索引的Series："
   ]
  },
  {
   "cell_type": "code",
   "execution_count": 47,
   "metadata": {},
   "outputs": [],
   "source": [
    "s1 = Series([0, 1], index=['a', 'b'])"
   ]
  },
  {
   "cell_type": "code",
   "execution_count": 48,
   "metadata": {},
   "outputs": [],
   "source": [
    "s2 = Series([2, 3, 4], index=['c', 'd', 'e'])"
   ]
  },
  {
   "cell_type": "code",
   "execution_count": 49,
   "metadata": {},
   "outputs": [],
   "source": [
    "s3 = Series([5, 6], index=['f', 'g'])"
   ]
  },
  {
   "cell_type": "markdown",
   "metadata": {},
   "source": [
    "对这些对象调用concat可以将值和索引粘合在一起："
   ]
  },
  {
   "cell_type": "code",
   "execution_count": 50,
   "metadata": {},
   "outputs": [
    {
     "data": {
      "text/plain": [
       "a    0\n",
       "b    1\n",
       "c    2\n",
       "d    3\n",
       "e    4\n",
       "f    5\n",
       "g    6\n",
       "dtype: int64"
      ]
     },
     "execution_count": 50,
     "metadata": {},
     "output_type": "execute_result"
    }
   ],
   "source": [
    "pd.concat([s1, s2, s3])"
   ]
  },
  {
   "cell_type": "markdown",
   "metadata": {},
   "source": [
    "默认情况下，concat是在axis=0上工作的，最终产生一个新的Series。  \n",
    "如果传入axis=1，则结果就会变成一个DataFrame（axis=1是列）："
   ]
  },
  {
   "cell_type": "code",
   "execution_count": 51,
   "metadata": {},
   "outputs": [
    {
     "data": {
      "text/html": [
       "<div>\n",
       "<style scoped>\n",
       "    .dataframe tbody tr th:only-of-type {\n",
       "        vertical-align: middle;\n",
       "    }\n",
       "\n",
       "    .dataframe tbody tr th {\n",
       "        vertical-align: top;\n",
       "    }\n",
       "\n",
       "    .dataframe thead th {\n",
       "        text-align: right;\n",
       "    }\n",
       "</style>\n",
       "<table border=\"1\" class=\"dataframe\">\n",
       "  <thead>\n",
       "    <tr style=\"text-align: right;\">\n",
       "      <th></th>\n",
       "      <th>0</th>\n",
       "      <th>1</th>\n",
       "      <th>2</th>\n",
       "    </tr>\n",
       "  </thead>\n",
       "  <tbody>\n",
       "    <tr>\n",
       "      <th>a</th>\n",
       "      <td>0.0</td>\n",
       "      <td>NaN</td>\n",
       "      <td>NaN</td>\n",
       "    </tr>\n",
       "    <tr>\n",
       "      <th>b</th>\n",
       "      <td>1.0</td>\n",
       "      <td>NaN</td>\n",
       "      <td>NaN</td>\n",
       "    </tr>\n",
       "    <tr>\n",
       "      <th>c</th>\n",
       "      <td>NaN</td>\n",
       "      <td>2.0</td>\n",
       "      <td>NaN</td>\n",
       "    </tr>\n",
       "    <tr>\n",
       "      <th>d</th>\n",
       "      <td>NaN</td>\n",
       "      <td>3.0</td>\n",
       "      <td>NaN</td>\n",
       "    </tr>\n",
       "    <tr>\n",
       "      <th>e</th>\n",
       "      <td>NaN</td>\n",
       "      <td>4.0</td>\n",
       "      <td>NaN</td>\n",
       "    </tr>\n",
       "    <tr>\n",
       "      <th>f</th>\n",
       "      <td>NaN</td>\n",
       "      <td>NaN</td>\n",
       "      <td>5.0</td>\n",
       "    </tr>\n",
       "    <tr>\n",
       "      <th>g</th>\n",
       "      <td>NaN</td>\n",
       "      <td>NaN</td>\n",
       "      <td>6.0</td>\n",
       "    </tr>\n",
       "  </tbody>\n",
       "</table>\n",
       "</div>"
      ],
      "text/plain": [
       "     0    1    2\n",
       "a  0.0  NaN  NaN\n",
       "b  1.0  NaN  NaN\n",
       "c  NaN  2.0  NaN\n",
       "d  NaN  3.0  NaN\n",
       "e  NaN  4.0  NaN\n",
       "f  NaN  NaN  5.0\n",
       "g  NaN  NaN  6.0"
      ]
     },
     "execution_count": 51,
     "metadata": {},
     "output_type": "execute_result"
    }
   ],
   "source": [
    "pd.concat([s1, s2, s3], axis=1)"
   ]
  },
  {
   "cell_type": "markdown",
   "metadata": {},
   "source": [
    "这种情况下，另外一条轴没有重叠，从索引的有序并集（外连接）上就能看出来。传入join='innner'即可得到它们的交集："
   ]
  },
  {
   "cell_type": "code",
   "execution_count": 52,
   "metadata": {},
   "outputs": [],
   "source": [
    "s4 = pd.concat([s1 * 5, s3])"
   ]
  },
  {
   "cell_type": "code",
   "execution_count": 53,
   "metadata": {},
   "outputs": [
    {
     "data": {
      "text/html": [
       "<div>\n",
       "<style scoped>\n",
       "    .dataframe tbody tr th:only-of-type {\n",
       "        vertical-align: middle;\n",
       "    }\n",
       "\n",
       "    .dataframe tbody tr th {\n",
       "        vertical-align: top;\n",
       "    }\n",
       "\n",
       "    .dataframe thead th {\n",
       "        text-align: right;\n",
       "    }\n",
       "</style>\n",
       "<table border=\"1\" class=\"dataframe\">\n",
       "  <thead>\n",
       "    <tr style=\"text-align: right;\">\n",
       "      <th></th>\n",
       "      <th>0</th>\n",
       "      <th>1</th>\n",
       "    </tr>\n",
       "  </thead>\n",
       "  <tbody>\n",
       "    <tr>\n",
       "      <th>a</th>\n",
       "      <td>0.0</td>\n",
       "      <td>0</td>\n",
       "    </tr>\n",
       "    <tr>\n",
       "      <th>b</th>\n",
       "      <td>1.0</td>\n",
       "      <td>5</td>\n",
       "    </tr>\n",
       "    <tr>\n",
       "      <th>f</th>\n",
       "      <td>NaN</td>\n",
       "      <td>5</td>\n",
       "    </tr>\n",
       "    <tr>\n",
       "      <th>g</th>\n",
       "      <td>NaN</td>\n",
       "      <td>6</td>\n",
       "    </tr>\n",
       "  </tbody>\n",
       "</table>\n",
       "</div>"
      ],
      "text/plain": [
       "     0  1\n",
       "a  0.0  0\n",
       "b  1.0  5\n",
       "f  NaN  5\n",
       "g  NaN  6"
      ]
     },
     "execution_count": 53,
     "metadata": {},
     "output_type": "execute_result"
    }
   ],
   "source": [
    "pd.concat([s1, s4], axis=1)"
   ]
  },
  {
   "cell_type": "code",
   "execution_count": 54,
   "metadata": {},
   "outputs": [
    {
     "data": {
      "text/html": [
       "<div>\n",
       "<style scoped>\n",
       "    .dataframe tbody tr th:only-of-type {\n",
       "        vertical-align: middle;\n",
       "    }\n",
       "\n",
       "    .dataframe tbody tr th {\n",
       "        vertical-align: top;\n",
       "    }\n",
       "\n",
       "    .dataframe thead th {\n",
       "        text-align: right;\n",
       "    }\n",
       "</style>\n",
       "<table border=\"1\" class=\"dataframe\">\n",
       "  <thead>\n",
       "    <tr style=\"text-align: right;\">\n",
       "      <th></th>\n",
       "      <th>0</th>\n",
       "      <th>1</th>\n",
       "    </tr>\n",
       "  </thead>\n",
       "  <tbody>\n",
       "    <tr>\n",
       "      <th>a</th>\n",
       "      <td>0</td>\n",
       "      <td>0</td>\n",
       "    </tr>\n",
       "    <tr>\n",
       "      <th>b</th>\n",
       "      <td>1</td>\n",
       "      <td>5</td>\n",
       "    </tr>\n",
       "  </tbody>\n",
       "</table>\n",
       "</div>"
      ],
      "text/plain": [
       "   0  1\n",
       "a  0  0\n",
       "b  1  5"
      ]
     },
     "execution_count": 54,
     "metadata": {},
     "output_type": "execute_result"
    }
   ],
   "source": [
    "pd.concat([s1, s4], axis=1, join='inner')"
   ]
  },
  {
   "cell_type": "markdown",
   "metadata": {},
   "source": [
    "可以通过join_axes指定要在其他轴上使用的索引："
   ]
  },
  {
   "cell_type": "code",
   "execution_count": 55,
   "metadata": {},
   "outputs": [
    {
     "data": {
      "text/html": [
       "<div>\n",
       "<style scoped>\n",
       "    .dataframe tbody tr th:only-of-type {\n",
       "        vertical-align: middle;\n",
       "    }\n",
       "\n",
       "    .dataframe tbody tr th {\n",
       "        vertical-align: top;\n",
       "    }\n",
       "\n",
       "    .dataframe thead th {\n",
       "        text-align: right;\n",
       "    }\n",
       "</style>\n",
       "<table border=\"1\" class=\"dataframe\">\n",
       "  <thead>\n",
       "    <tr style=\"text-align: right;\">\n",
       "      <th></th>\n",
       "      <th>0</th>\n",
       "      <th>1</th>\n",
       "    </tr>\n",
       "  </thead>\n",
       "  <tbody>\n",
       "    <tr>\n",
       "      <th>a</th>\n",
       "      <td>0.0</td>\n",
       "      <td>0.0</td>\n",
       "    </tr>\n",
       "    <tr>\n",
       "      <th>c</th>\n",
       "      <td>NaN</td>\n",
       "      <td>NaN</td>\n",
       "    </tr>\n",
       "    <tr>\n",
       "      <th>b</th>\n",
       "      <td>1.0</td>\n",
       "      <td>5.0</td>\n",
       "    </tr>\n",
       "    <tr>\n",
       "      <th>e</th>\n",
       "      <td>NaN</td>\n",
       "      <td>NaN</td>\n",
       "    </tr>\n",
       "  </tbody>\n",
       "</table>\n",
       "</div>"
      ],
      "text/plain": [
       "     0    1\n",
       "a  0.0  0.0\n",
       "c  NaN  NaN\n",
       "b  1.0  5.0\n",
       "e  NaN  NaN"
      ]
     },
     "execution_count": 55,
     "metadata": {},
     "output_type": "execute_result"
    }
   ],
   "source": [
    "pd.concat([s1, s4], axis=1, join_axes=[['a', 'c', 'b', 'e']])"
   ]
  },
  {
   "cell_type": "markdown",
   "metadata": {},
   "source": [
    "不过有个问题，参与连接的片段在结果中区分不开。假设想要在连接轴上创建一个层次化索引，使用keys参数即可达到这个目的："
   ]
  },
  {
   "cell_type": "code",
   "execution_count": 56,
   "metadata": {},
   "outputs": [],
   "source": [
    "result = pd.concat([s1, s1, s3], keys=['ones', 'two', 'three'])"
   ]
  },
  {
   "cell_type": "code",
   "execution_count": 57,
   "metadata": {},
   "outputs": [
    {
     "data": {
      "text/plain": [
       "ones   a    0\n",
       "       b    1\n",
       "two    a    0\n",
       "       b    1\n",
       "three  f    5\n",
       "       g    6\n",
       "dtype: int64"
      ]
     },
     "execution_count": 57,
     "metadata": {},
     "output_type": "execute_result"
    }
   ],
   "source": [
    "result"
   ]
  },
  {
   "cell_type": "code",
   "execution_count": 58,
   "metadata": {},
   "outputs": [
    {
     "data": {
      "text/html": [
       "<div>\n",
       "<style scoped>\n",
       "    .dataframe tbody tr th:only-of-type {\n",
       "        vertical-align: middle;\n",
       "    }\n",
       "\n",
       "    .dataframe tbody tr th {\n",
       "        vertical-align: top;\n",
       "    }\n",
       "\n",
       "    .dataframe thead th {\n",
       "        text-align: right;\n",
       "    }\n",
       "</style>\n",
       "<table border=\"1\" class=\"dataframe\">\n",
       "  <thead>\n",
       "    <tr style=\"text-align: right;\">\n",
       "      <th></th>\n",
       "      <th>a</th>\n",
       "      <th>b</th>\n",
       "      <th>f</th>\n",
       "      <th>g</th>\n",
       "    </tr>\n",
       "  </thead>\n",
       "  <tbody>\n",
       "    <tr>\n",
       "      <th>ones</th>\n",
       "      <td>0.0</td>\n",
       "      <td>1.0</td>\n",
       "      <td>NaN</td>\n",
       "      <td>NaN</td>\n",
       "    </tr>\n",
       "    <tr>\n",
       "      <th>two</th>\n",
       "      <td>0.0</td>\n",
       "      <td>1.0</td>\n",
       "      <td>NaN</td>\n",
       "      <td>NaN</td>\n",
       "    </tr>\n",
       "    <tr>\n",
       "      <th>three</th>\n",
       "      <td>NaN</td>\n",
       "      <td>NaN</td>\n",
       "      <td>5.0</td>\n",
       "      <td>6.0</td>\n",
       "    </tr>\n",
       "  </tbody>\n",
       "</table>\n",
       "</div>"
      ],
      "text/plain": [
       "         a    b    f    g\n",
       "ones   0.0  1.0  NaN  NaN\n",
       "two    0.0  1.0  NaN  NaN\n",
       "three  NaN  NaN  5.0  6.0"
      ]
     },
     "execution_count": 58,
     "metadata": {},
     "output_type": "execute_result"
    }
   ],
   "source": [
    "result.unstack()"
   ]
  },
  {
   "cell_type": "markdown",
   "metadata": {},
   "source": [
    "如果沿着axis=1对Series进行合并，则keys就会成为DataFrame的列头："
   ]
  },
  {
   "cell_type": "code",
   "execution_count": 59,
   "metadata": {},
   "outputs": [
    {
     "data": {
      "text/html": [
       "<div>\n",
       "<style scoped>\n",
       "    .dataframe tbody tr th:only-of-type {\n",
       "        vertical-align: middle;\n",
       "    }\n",
       "\n",
       "    .dataframe tbody tr th {\n",
       "        vertical-align: top;\n",
       "    }\n",
       "\n",
       "    .dataframe thead th {\n",
       "        text-align: right;\n",
       "    }\n",
       "</style>\n",
       "<table border=\"1\" class=\"dataframe\">\n",
       "  <thead>\n",
       "    <tr style=\"text-align: right;\">\n",
       "      <th></th>\n",
       "      <th>one</th>\n",
       "      <th>two</th>\n",
       "      <th>three</th>\n",
       "    </tr>\n",
       "  </thead>\n",
       "  <tbody>\n",
       "    <tr>\n",
       "      <th>a</th>\n",
       "      <td>0.0</td>\n",
       "      <td>NaN</td>\n",
       "      <td>NaN</td>\n",
       "    </tr>\n",
       "    <tr>\n",
       "      <th>b</th>\n",
       "      <td>1.0</td>\n",
       "      <td>NaN</td>\n",
       "      <td>NaN</td>\n",
       "    </tr>\n",
       "    <tr>\n",
       "      <th>c</th>\n",
       "      <td>NaN</td>\n",
       "      <td>2.0</td>\n",
       "      <td>NaN</td>\n",
       "    </tr>\n",
       "    <tr>\n",
       "      <th>d</th>\n",
       "      <td>NaN</td>\n",
       "      <td>3.0</td>\n",
       "      <td>NaN</td>\n",
       "    </tr>\n",
       "    <tr>\n",
       "      <th>e</th>\n",
       "      <td>NaN</td>\n",
       "      <td>4.0</td>\n",
       "      <td>NaN</td>\n",
       "    </tr>\n",
       "    <tr>\n",
       "      <th>f</th>\n",
       "      <td>NaN</td>\n",
       "      <td>NaN</td>\n",
       "      <td>5.0</td>\n",
       "    </tr>\n",
       "    <tr>\n",
       "      <th>g</th>\n",
       "      <td>NaN</td>\n",
       "      <td>NaN</td>\n",
       "      <td>6.0</td>\n",
       "    </tr>\n",
       "  </tbody>\n",
       "</table>\n",
       "</div>"
      ],
      "text/plain": [
       "   one  two  three\n",
       "a  0.0  NaN    NaN\n",
       "b  1.0  NaN    NaN\n",
       "c  NaN  2.0    NaN\n",
       "d  NaN  3.0    NaN\n",
       "e  NaN  4.0    NaN\n",
       "f  NaN  NaN    5.0\n",
       "g  NaN  NaN    6.0"
      ]
     },
     "execution_count": 59,
     "metadata": {},
     "output_type": "execute_result"
    }
   ],
   "source": [
    "pd.concat([s1, s2, s3], axis=1, keys=['one', 'two', 'three'])"
   ]
  },
  {
   "cell_type": "markdown",
   "metadata": {},
   "source": [
    "同样的逻辑对DataFrame对象也是一样："
   ]
  },
  {
   "cell_type": "code",
   "execution_count": 60,
   "metadata": {},
   "outputs": [],
   "source": [
    "df1 = DataFrame(np.arange(6).reshape(3, 2),\n",
    "                index=['a', 'b', 'c'],\n",
    "                columns=['one', 'two'])"
   ]
  },
  {
   "cell_type": "code",
   "execution_count": 61,
   "metadata": {},
   "outputs": [],
   "source": [
    "df2 = DataFrame(5 + np.arange(4).reshape(2, 2),\n",
    "                index=['a', 'c'],\n",
    "                columns=['three', 'four'])"
   ]
  },
  {
   "cell_type": "code",
   "execution_count": 62,
   "metadata": {},
   "outputs": [
    {
     "data": {
      "text/html": [
       "<div>\n",
       "<style scoped>\n",
       "    .dataframe tbody tr th:only-of-type {\n",
       "        vertical-align: middle;\n",
       "    }\n",
       "\n",
       "    .dataframe tbody tr th {\n",
       "        vertical-align: top;\n",
       "    }\n",
       "\n",
       "    .dataframe thead tr th {\n",
       "        text-align: left;\n",
       "    }\n",
       "</style>\n",
       "<table border=\"1\" class=\"dataframe\">\n",
       "  <thead>\n",
       "    <tr>\n",
       "      <th></th>\n",
       "      <th colspan=\"2\" halign=\"left\">level1</th>\n",
       "      <th colspan=\"2\" halign=\"left\">level2</th>\n",
       "    </tr>\n",
       "    <tr>\n",
       "      <th></th>\n",
       "      <th>one</th>\n",
       "      <th>two</th>\n",
       "      <th>three</th>\n",
       "      <th>four</th>\n",
       "    </tr>\n",
       "  </thead>\n",
       "  <tbody>\n",
       "    <tr>\n",
       "      <th>a</th>\n",
       "      <td>0</td>\n",
       "      <td>1</td>\n",
       "      <td>5.0</td>\n",
       "      <td>6.0</td>\n",
       "    </tr>\n",
       "    <tr>\n",
       "      <th>b</th>\n",
       "      <td>2</td>\n",
       "      <td>3</td>\n",
       "      <td>NaN</td>\n",
       "      <td>NaN</td>\n",
       "    </tr>\n",
       "    <tr>\n",
       "      <th>c</th>\n",
       "      <td>4</td>\n",
       "      <td>5</td>\n",
       "      <td>7.0</td>\n",
       "      <td>8.0</td>\n",
       "    </tr>\n",
       "  </tbody>\n",
       "</table>\n",
       "</div>"
      ],
      "text/plain": [
       "  level1     level2     \n",
       "     one two  three four\n",
       "a      0   1    5.0  6.0\n",
       "b      2   3    NaN  NaN\n",
       "c      4   5    7.0  8.0"
      ]
     },
     "execution_count": 62,
     "metadata": {},
     "output_type": "execute_result"
    }
   ],
   "source": [
    "pd.concat([df1, df2], axis=1, keys=['level1', 'level2'])"
   ]
  },
  {
   "cell_type": "markdown",
   "metadata": {},
   "source": [
    "如果传入的不是列表而是一个字典，则字典的键就会被当做keys选项的值："
   ]
  },
  {
   "cell_type": "code",
   "execution_count": 63,
   "metadata": {},
   "outputs": [
    {
     "data": {
      "text/html": [
       "<div>\n",
       "<style scoped>\n",
       "    .dataframe tbody tr th:only-of-type {\n",
       "        vertical-align: middle;\n",
       "    }\n",
       "\n",
       "    .dataframe tbody tr th {\n",
       "        vertical-align: top;\n",
       "    }\n",
       "\n",
       "    .dataframe thead tr th {\n",
       "        text-align: left;\n",
       "    }\n",
       "</style>\n",
       "<table border=\"1\" class=\"dataframe\">\n",
       "  <thead>\n",
       "    <tr>\n",
       "      <th></th>\n",
       "      <th colspan=\"2\" halign=\"left\">level1</th>\n",
       "      <th colspan=\"2\" halign=\"left\">level2</th>\n",
       "    </tr>\n",
       "    <tr>\n",
       "      <th></th>\n",
       "      <th>one</th>\n",
       "      <th>two</th>\n",
       "      <th>three</th>\n",
       "      <th>four</th>\n",
       "    </tr>\n",
       "  </thead>\n",
       "  <tbody>\n",
       "    <tr>\n",
       "      <th>a</th>\n",
       "      <td>0</td>\n",
       "      <td>1</td>\n",
       "      <td>5.0</td>\n",
       "      <td>6.0</td>\n",
       "    </tr>\n",
       "    <tr>\n",
       "      <th>b</th>\n",
       "      <td>2</td>\n",
       "      <td>3</td>\n",
       "      <td>NaN</td>\n",
       "      <td>NaN</td>\n",
       "    </tr>\n",
       "    <tr>\n",
       "      <th>c</th>\n",
       "      <td>4</td>\n",
       "      <td>5</td>\n",
       "      <td>7.0</td>\n",
       "      <td>8.0</td>\n",
       "    </tr>\n",
       "  </tbody>\n",
       "</table>\n",
       "</div>"
      ],
      "text/plain": [
       "  level1     level2     \n",
       "     one two  three four\n",
       "a      0   1    5.0  6.0\n",
       "b      2   3    NaN  NaN\n",
       "c      4   5    7.0  8.0"
      ]
     },
     "execution_count": 63,
     "metadata": {},
     "output_type": "execute_result"
    }
   ],
   "source": [
    "pd.concat({'level1': df1, 'level2': df2}, axis=1)"
   ]
  },
  {
   "cell_type": "markdown",
   "metadata": {},
   "source": [
    "此外还有两个用于管理层次化索引创建方式的参数："
   ]
  },
  {
   "cell_type": "code",
   "execution_count": 64,
   "metadata": {},
   "outputs": [
    {
     "data": {
      "text/html": [
       "<div>\n",
       "<style scoped>\n",
       "    .dataframe tbody tr th:only-of-type {\n",
       "        vertical-align: middle;\n",
       "    }\n",
       "\n",
       "    .dataframe tbody tr th {\n",
       "        vertical-align: top;\n",
       "    }\n",
       "\n",
       "    .dataframe thead tr th {\n",
       "        text-align: left;\n",
       "    }\n",
       "</style>\n",
       "<table border=\"1\" class=\"dataframe\">\n",
       "  <thead>\n",
       "    <tr>\n",
       "      <th>upper</th>\n",
       "      <th colspan=\"2\" halign=\"left\">level1</th>\n",
       "      <th colspan=\"2\" halign=\"left\">level2</th>\n",
       "    </tr>\n",
       "    <tr>\n",
       "      <th>lower</th>\n",
       "      <th>one</th>\n",
       "      <th>two</th>\n",
       "      <th>three</th>\n",
       "      <th>four</th>\n",
       "    </tr>\n",
       "  </thead>\n",
       "  <tbody>\n",
       "    <tr>\n",
       "      <th>a</th>\n",
       "      <td>0</td>\n",
       "      <td>1</td>\n",
       "      <td>5.0</td>\n",
       "      <td>6.0</td>\n",
       "    </tr>\n",
       "    <tr>\n",
       "      <th>b</th>\n",
       "      <td>2</td>\n",
       "      <td>3</td>\n",
       "      <td>NaN</td>\n",
       "      <td>NaN</td>\n",
       "    </tr>\n",
       "    <tr>\n",
       "      <th>c</th>\n",
       "      <td>4</td>\n",
       "      <td>5</td>\n",
       "      <td>7.0</td>\n",
       "      <td>8.0</td>\n",
       "    </tr>\n",
       "  </tbody>\n",
       "</table>\n",
       "</div>"
      ],
      "text/plain": [
       "upper level1     level2     \n",
       "lower    one two  three four\n",
       "a          0   1    5.0  6.0\n",
       "b          2   3    NaN  NaN\n",
       "c          4   5    7.0  8.0"
      ]
     },
     "execution_count": 64,
     "metadata": {},
     "output_type": "execute_result"
    }
   ],
   "source": [
    "pd.concat([df1, df2], axis=1, keys=['level1', 'level2'],\n",
    "          names=['upper', 'lower'])"
   ]
  },
  {
   "cell_type": "markdown",
   "metadata": {},
   "source": [
    "最后一个需要考虑的问题是，跟当前分析工作无关的DataFrame行索引："
   ]
  },
  {
   "cell_type": "code",
   "execution_count": 65,
   "metadata": {},
   "outputs": [],
   "source": [
    "df1 = DataFrame(np.random.randn(3, 4), columns=['a', 'b', 'c', 'd'])"
   ]
  },
  {
   "cell_type": "code",
   "execution_count": 66,
   "metadata": {},
   "outputs": [],
   "source": [
    "df2 = DataFrame(np.random.randn(2, 3), columns=['b', 'd', 'a'])"
   ]
  },
  {
   "cell_type": "code",
   "execution_count": 67,
   "metadata": {},
   "outputs": [
    {
     "data": {
      "text/html": [
       "<div>\n",
       "<style scoped>\n",
       "    .dataframe tbody tr th:only-of-type {\n",
       "        vertical-align: middle;\n",
       "    }\n",
       "\n",
       "    .dataframe tbody tr th {\n",
       "        vertical-align: top;\n",
       "    }\n",
       "\n",
       "    .dataframe thead th {\n",
       "        text-align: right;\n",
       "    }\n",
       "</style>\n",
       "<table border=\"1\" class=\"dataframe\">\n",
       "  <thead>\n",
       "    <tr style=\"text-align: right;\">\n",
       "      <th></th>\n",
       "      <th>a</th>\n",
       "      <th>b</th>\n",
       "      <th>c</th>\n",
       "      <th>d</th>\n",
       "    </tr>\n",
       "  </thead>\n",
       "  <tbody>\n",
       "    <tr>\n",
       "      <th>0</th>\n",
       "      <td>-0.603980</td>\n",
       "      <td>-0.701476</td>\n",
       "      <td>0.214135</td>\n",
       "      <td>1.309160</td>\n",
       "    </tr>\n",
       "    <tr>\n",
       "      <th>1</th>\n",
       "      <td>0.113245</td>\n",
       "      <td>-0.669716</td>\n",
       "      <td>-0.857861</td>\n",
       "      <td>0.741927</td>\n",
       "    </tr>\n",
       "    <tr>\n",
       "      <th>2</th>\n",
       "      <td>0.280600</td>\n",
       "      <td>-1.626387</td>\n",
       "      <td>0.224737</td>\n",
       "      <td>-0.309123</td>\n",
       "    </tr>\n",
       "  </tbody>\n",
       "</table>\n",
       "</div>"
      ],
      "text/plain": [
       "          a         b         c         d\n",
       "0 -0.603980 -0.701476  0.214135  1.309160\n",
       "1  0.113245 -0.669716 -0.857861  0.741927\n",
       "2  0.280600 -1.626387  0.224737 -0.309123"
      ]
     },
     "execution_count": 67,
     "metadata": {},
     "output_type": "execute_result"
    }
   ],
   "source": [
    "df1"
   ]
  },
  {
   "cell_type": "code",
   "execution_count": 68,
   "metadata": {},
   "outputs": [
    {
     "data": {
      "text/html": [
       "<div>\n",
       "<style scoped>\n",
       "    .dataframe tbody tr th:only-of-type {\n",
       "        vertical-align: middle;\n",
       "    }\n",
       "\n",
       "    .dataframe tbody tr th {\n",
       "        vertical-align: top;\n",
       "    }\n",
       "\n",
       "    .dataframe thead th {\n",
       "        text-align: right;\n",
       "    }\n",
       "</style>\n",
       "<table border=\"1\" class=\"dataframe\">\n",
       "  <thead>\n",
       "    <tr style=\"text-align: right;\">\n",
       "      <th></th>\n",
       "      <th>b</th>\n",
       "      <th>d</th>\n",
       "      <th>a</th>\n",
       "    </tr>\n",
       "  </thead>\n",
       "  <tbody>\n",
       "    <tr>\n",
       "      <th>0</th>\n",
       "      <td>-2.904645</td>\n",
       "      <td>0.539683</td>\n",
       "      <td>1.181957</td>\n",
       "    </tr>\n",
       "    <tr>\n",
       "      <th>1</th>\n",
       "      <td>-1.009348</td>\n",
       "      <td>0.805176</td>\n",
       "      <td>-0.760169</td>\n",
       "    </tr>\n",
       "  </tbody>\n",
       "</table>\n",
       "</div>"
      ],
      "text/plain": [
       "          b         d         a\n",
       "0 -2.904645  0.539683  1.181957\n",
       "1 -1.009348  0.805176 -0.760169"
      ]
     },
     "execution_count": 68,
     "metadata": {},
     "output_type": "execute_result"
    }
   ],
   "source": [
    "df2"
   ]
  },
  {
   "cell_type": "code",
   "execution_count": 69,
   "metadata": {},
   "outputs": [
    {
     "data": {
      "text/html": [
       "<div>\n",
       "<style scoped>\n",
       "    .dataframe tbody tr th:only-of-type {\n",
       "        vertical-align: middle;\n",
       "    }\n",
       "\n",
       "    .dataframe tbody tr th {\n",
       "        vertical-align: top;\n",
       "    }\n",
       "\n",
       "    .dataframe thead th {\n",
       "        text-align: right;\n",
       "    }\n",
       "</style>\n",
       "<table border=\"1\" class=\"dataframe\">\n",
       "  <thead>\n",
       "    <tr style=\"text-align: right;\">\n",
       "      <th></th>\n",
       "      <th>a</th>\n",
       "      <th>b</th>\n",
       "      <th>c</th>\n",
       "      <th>d</th>\n",
       "    </tr>\n",
       "  </thead>\n",
       "  <tbody>\n",
       "    <tr>\n",
       "      <th>0</th>\n",
       "      <td>-0.603980</td>\n",
       "      <td>-0.701476</td>\n",
       "      <td>0.214135</td>\n",
       "      <td>1.309160</td>\n",
       "    </tr>\n",
       "    <tr>\n",
       "      <th>1</th>\n",
       "      <td>0.113245</td>\n",
       "      <td>-0.669716</td>\n",
       "      <td>-0.857861</td>\n",
       "      <td>0.741927</td>\n",
       "    </tr>\n",
       "    <tr>\n",
       "      <th>2</th>\n",
       "      <td>0.280600</td>\n",
       "      <td>-1.626387</td>\n",
       "      <td>0.224737</td>\n",
       "      <td>-0.309123</td>\n",
       "    </tr>\n",
       "    <tr>\n",
       "      <th>3</th>\n",
       "      <td>1.181957</td>\n",
       "      <td>-2.904645</td>\n",
       "      <td>NaN</td>\n",
       "      <td>0.539683</td>\n",
       "    </tr>\n",
       "    <tr>\n",
       "      <th>4</th>\n",
       "      <td>-0.760169</td>\n",
       "      <td>-1.009348</td>\n",
       "      <td>NaN</td>\n",
       "      <td>0.805176</td>\n",
       "    </tr>\n",
       "  </tbody>\n",
       "</table>\n",
       "</div>"
      ],
      "text/plain": [
       "          a         b         c         d\n",
       "0 -0.603980 -0.701476  0.214135  1.309160\n",
       "1  0.113245 -0.669716 -0.857861  0.741927\n",
       "2  0.280600 -1.626387  0.224737 -0.309123\n",
       "3  1.181957 -2.904645       NaN  0.539683\n",
       "4 -0.760169 -1.009348       NaN  0.805176"
      ]
     },
     "execution_count": 69,
     "metadata": {},
     "output_type": "execute_result"
    }
   ],
   "source": [
    "pd.concat([df1, df2], ignore_index=True)"
   ]
  },
  {
   "cell_type": "markdown",
   "metadata": {},
   "source": [
    "## 合并重叠数据\n",
    "还有一种数据组合问题不能用简单的合并（merge）或连接（concatenation）运算来处理。  \n",
    "比如说你可能有索引全部或部分重叠的两个数据集。"
   ]
  },
  {
   "cell_type": "code",
   "execution_count": 70,
   "metadata": {},
   "outputs": [],
   "source": [
    "a = Series([np.nan, 2.5, np.nan, 3.5, 4.5, np.nan],\n",
    "           index=['f', 'e', 'd', 'c', 'b', 'a'])"
   ]
  },
  {
   "cell_type": "code",
   "execution_count": 71,
   "metadata": {},
   "outputs": [],
   "source": [
    "b = Series(np.arange(len(a), dtype=np.float64),\n",
    "            index=['f', 'e', 'd', 'c', 'b', 'a'])"
   ]
  },
  {
   "cell_type": "code",
   "execution_count": 72,
   "metadata": {},
   "outputs": [],
   "source": [
    "b[-1] = np.nan"
   ]
  },
  {
   "cell_type": "code",
   "execution_count": 73,
   "metadata": {},
   "outputs": [
    {
     "data": {
      "text/plain": [
       "f    NaN\n",
       "e    2.5\n",
       "d    NaN\n",
       "c    3.5\n",
       "b    4.5\n",
       "a    NaN\n",
       "dtype: float64"
      ]
     },
     "execution_count": 73,
     "metadata": {},
     "output_type": "execute_result"
    }
   ],
   "source": [
    "a"
   ]
  },
  {
   "cell_type": "code",
   "execution_count": 74,
   "metadata": {},
   "outputs": [
    {
     "data": {
      "text/plain": [
       "f    0.0\n",
       "e    1.0\n",
       "d    2.0\n",
       "c    3.0\n",
       "b    4.0\n",
       "a    NaN\n",
       "dtype: float64"
      ]
     },
     "execution_count": 74,
     "metadata": {},
     "output_type": "execute_result"
    }
   ],
   "source": [
    "b"
   ]
  },
  {
   "cell_type": "code",
   "execution_count": 75,
   "metadata": {},
   "outputs": [
    {
     "data": {
      "text/plain": [
       "array([0. , 2.5, 2. , 3.5, 4.5, nan])"
      ]
     },
     "execution_count": 75,
     "metadata": {},
     "output_type": "execute_result"
    }
   ],
   "source": [
    "np.where(pd.isnull(a), b, a)"
   ]
  },
  {
   "cell_type": "markdown",
   "metadata": {},
   "source": [
    "Series有一个combine_first方法："
   ]
  },
  {
   "cell_type": "code",
   "execution_count": 76,
   "metadata": {},
   "outputs": [
    {
     "data": {
      "text/plain": [
       "a    NaN\n",
       "b    4.5\n",
       "c    3.0\n",
       "d    2.0\n",
       "e    1.0\n",
       "f    0.0\n",
       "dtype: float64"
      ]
     },
     "execution_count": 76,
     "metadata": {},
     "output_type": "execute_result"
    }
   ],
   "source": [
    "b[:-2].combine_first(a[2:])"
   ]
  },
  {
   "cell_type": "code",
   "execution_count": 77,
   "metadata": {},
   "outputs": [],
   "source": [
    "df1 = DataFrame({'a': [1, np.nan, 5, np.nan],\n",
    "                 'b': [np.nan, 2, np.nan, 6],\n",
    "                 'c': range(2, 18, 4)})"
   ]
  },
  {
   "cell_type": "code",
   "execution_count": 78,
   "metadata": {},
   "outputs": [],
   "source": [
    "df2 = DataFrame({'a': [5, 4, np.nan, 3, 7],\n",
    "                 'b': [np.nan, 3, 4, 6, 8]})"
   ]
  },
  {
   "cell_type": "code",
   "execution_count": 79,
   "metadata": {},
   "outputs": [
    {
     "data": {
      "text/html": [
       "<div>\n",
       "<style scoped>\n",
       "    .dataframe tbody tr th:only-of-type {\n",
       "        vertical-align: middle;\n",
       "    }\n",
       "\n",
       "    .dataframe tbody tr th {\n",
       "        vertical-align: top;\n",
       "    }\n",
       "\n",
       "    .dataframe thead th {\n",
       "        text-align: right;\n",
       "    }\n",
       "</style>\n",
       "<table border=\"1\" class=\"dataframe\">\n",
       "  <thead>\n",
       "    <tr style=\"text-align: right;\">\n",
       "      <th></th>\n",
       "      <th>a</th>\n",
       "      <th>b</th>\n",
       "      <th>c</th>\n",
       "    </tr>\n",
       "  </thead>\n",
       "  <tbody>\n",
       "    <tr>\n",
       "      <th>0</th>\n",
       "      <td>1.0</td>\n",
       "      <td>NaN</td>\n",
       "      <td>2.0</td>\n",
       "    </tr>\n",
       "    <tr>\n",
       "      <th>1</th>\n",
       "      <td>4.0</td>\n",
       "      <td>2.0</td>\n",
       "      <td>6.0</td>\n",
       "    </tr>\n",
       "    <tr>\n",
       "      <th>2</th>\n",
       "      <td>5.0</td>\n",
       "      <td>4.0</td>\n",
       "      <td>10.0</td>\n",
       "    </tr>\n",
       "    <tr>\n",
       "      <th>3</th>\n",
       "      <td>3.0</td>\n",
       "      <td>6.0</td>\n",
       "      <td>14.0</td>\n",
       "    </tr>\n",
       "    <tr>\n",
       "      <th>4</th>\n",
       "      <td>7.0</td>\n",
       "      <td>8.0</td>\n",
       "      <td>NaN</td>\n",
       "    </tr>\n",
       "  </tbody>\n",
       "</table>\n",
       "</div>"
      ],
      "text/plain": [
       "     a    b     c\n",
       "0  1.0  NaN   2.0\n",
       "1  4.0  2.0   6.0\n",
       "2  5.0  4.0  10.0\n",
       "3  3.0  6.0  14.0\n",
       "4  7.0  8.0   NaN"
      ]
     },
     "execution_count": 79,
     "metadata": {},
     "output_type": "execute_result"
    }
   ],
   "source": [
    "df1.combine_first(df2)"
   ]
  },
  {
   "cell_type": "markdown",
   "metadata": {},
   "source": [
    "## 重塑和轴向旋转\n",
    "有许多用于重新排列表格型数据的基础运算。这些函数也称作重塑（reshape）或轴向旋转（pivot）运算。"
   ]
  },
  {
   "cell_type": "markdown",
   "metadata": {},
   "source": [
    "## 重塑层次化索引\n",
    "* stack：将数据的列“旋转”为行。\n",
    "* unstack：将数据的行“旋转”为列。"
   ]
  },
  {
   "cell_type": "code",
   "execution_count": 80,
   "metadata": {},
   "outputs": [],
   "source": [
    "data = DataFrame(np.arange(6).reshape((2, 3)),\n",
    "                 index=pd.Index(['Ohio', 'Colorado'], name='state'),\n",
    "                 columns=pd.Index(['one', 'two', 'three'], name='number'))"
   ]
  },
  {
   "cell_type": "code",
   "execution_count": 81,
   "metadata": {},
   "outputs": [
    {
     "data": {
      "text/html": [
       "<div>\n",
       "<style scoped>\n",
       "    .dataframe tbody tr th:only-of-type {\n",
       "        vertical-align: middle;\n",
       "    }\n",
       "\n",
       "    .dataframe tbody tr th {\n",
       "        vertical-align: top;\n",
       "    }\n",
       "\n",
       "    .dataframe thead th {\n",
       "        text-align: right;\n",
       "    }\n",
       "</style>\n",
       "<table border=\"1\" class=\"dataframe\">\n",
       "  <thead>\n",
       "    <tr style=\"text-align: right;\">\n",
       "      <th>number</th>\n",
       "      <th>one</th>\n",
       "      <th>two</th>\n",
       "      <th>three</th>\n",
       "    </tr>\n",
       "    <tr>\n",
       "      <th>state</th>\n",
       "      <th></th>\n",
       "      <th></th>\n",
       "      <th></th>\n",
       "    </tr>\n",
       "  </thead>\n",
       "  <tbody>\n",
       "    <tr>\n",
       "      <th>Ohio</th>\n",
       "      <td>0</td>\n",
       "      <td>1</td>\n",
       "      <td>2</td>\n",
       "    </tr>\n",
       "    <tr>\n",
       "      <th>Colorado</th>\n",
       "      <td>3</td>\n",
       "      <td>4</td>\n",
       "      <td>5</td>\n",
       "    </tr>\n",
       "  </tbody>\n",
       "</table>\n",
       "</div>"
      ],
      "text/plain": [
       "number    one  two  three\n",
       "state                    \n",
       "Ohio        0    1      2\n",
       "Colorado    3    4      5"
      ]
     },
     "execution_count": 81,
     "metadata": {},
     "output_type": "execute_result"
    }
   ],
   "source": [
    "data"
   ]
  },
  {
   "cell_type": "code",
   "execution_count": 82,
   "metadata": {},
   "outputs": [],
   "source": [
    "result = data.stack()"
   ]
  },
  {
   "cell_type": "code",
   "execution_count": 83,
   "metadata": {},
   "outputs": [
    {
     "data": {
      "text/plain": [
       "state     number\n",
       "Ohio      one       0\n",
       "          two       1\n",
       "          three     2\n",
       "Colorado  one       3\n",
       "          two       4\n",
       "          three     5\n",
       "dtype: int32"
      ]
     },
     "execution_count": 83,
     "metadata": {},
     "output_type": "execute_result"
    }
   ],
   "source": [
    "result"
   ]
  },
  {
   "cell_type": "code",
   "execution_count": 84,
   "metadata": {},
   "outputs": [
    {
     "data": {
      "text/html": [
       "<div>\n",
       "<style scoped>\n",
       "    .dataframe tbody tr th:only-of-type {\n",
       "        vertical-align: middle;\n",
       "    }\n",
       "\n",
       "    .dataframe tbody tr th {\n",
       "        vertical-align: top;\n",
       "    }\n",
       "\n",
       "    .dataframe thead th {\n",
       "        text-align: right;\n",
       "    }\n",
       "</style>\n",
       "<table border=\"1\" class=\"dataframe\">\n",
       "  <thead>\n",
       "    <tr style=\"text-align: right;\">\n",
       "      <th>number</th>\n",
       "      <th>one</th>\n",
       "      <th>two</th>\n",
       "      <th>three</th>\n",
       "    </tr>\n",
       "    <tr>\n",
       "      <th>state</th>\n",
       "      <th></th>\n",
       "      <th></th>\n",
       "      <th></th>\n",
       "    </tr>\n",
       "  </thead>\n",
       "  <tbody>\n",
       "    <tr>\n",
       "      <th>Ohio</th>\n",
       "      <td>0</td>\n",
       "      <td>1</td>\n",
       "      <td>2</td>\n",
       "    </tr>\n",
       "    <tr>\n",
       "      <th>Colorado</th>\n",
       "      <td>3</td>\n",
       "      <td>4</td>\n",
       "      <td>5</td>\n",
       "    </tr>\n",
       "  </tbody>\n",
       "</table>\n",
       "</div>"
      ],
      "text/plain": [
       "number    one  two  three\n",
       "state                    \n",
       "Ohio        0    1      2\n",
       "Colorado    3    4      5"
      ]
     },
     "execution_count": 84,
     "metadata": {},
     "output_type": "execute_result"
    }
   ],
   "source": [
    "result.unstack() # 默认最内层"
   ]
  },
  {
   "cell_type": "code",
   "execution_count": 85,
   "metadata": {},
   "outputs": [
    {
     "data": {
      "text/html": [
       "<div>\n",
       "<style scoped>\n",
       "    .dataframe tbody tr th:only-of-type {\n",
       "        vertical-align: middle;\n",
       "    }\n",
       "\n",
       "    .dataframe tbody tr th {\n",
       "        vertical-align: top;\n",
       "    }\n",
       "\n",
       "    .dataframe thead th {\n",
       "        text-align: right;\n",
       "    }\n",
       "</style>\n",
       "<table border=\"1\" class=\"dataframe\">\n",
       "  <thead>\n",
       "    <tr style=\"text-align: right;\">\n",
       "      <th>state</th>\n",
       "      <th>Ohio</th>\n",
       "      <th>Colorado</th>\n",
       "    </tr>\n",
       "    <tr>\n",
       "      <th>number</th>\n",
       "      <th></th>\n",
       "      <th></th>\n",
       "    </tr>\n",
       "  </thead>\n",
       "  <tbody>\n",
       "    <tr>\n",
       "      <th>one</th>\n",
       "      <td>0</td>\n",
       "      <td>3</td>\n",
       "    </tr>\n",
       "    <tr>\n",
       "      <th>two</th>\n",
       "      <td>1</td>\n",
       "      <td>4</td>\n",
       "    </tr>\n",
       "    <tr>\n",
       "      <th>three</th>\n",
       "      <td>2</td>\n",
       "      <td>5</td>\n",
       "    </tr>\n",
       "  </tbody>\n",
       "</table>\n",
       "</div>"
      ],
      "text/plain": [
       "state   Ohio  Colorado\n",
       "number                \n",
       "one        0         3\n",
       "two        1         4\n",
       "three      2         5"
      ]
     },
     "execution_count": 85,
     "metadata": {},
     "output_type": "execute_result"
    }
   ],
   "source": [
    "result.unstack(0)"
   ]
  },
  {
   "cell_type": "code",
   "execution_count": 86,
   "metadata": {},
   "outputs": [
    {
     "data": {
      "text/html": [
       "<div>\n",
       "<style scoped>\n",
       "    .dataframe tbody tr th:only-of-type {\n",
       "        vertical-align: middle;\n",
       "    }\n",
       "\n",
       "    .dataframe tbody tr th {\n",
       "        vertical-align: top;\n",
       "    }\n",
       "\n",
       "    .dataframe thead th {\n",
       "        text-align: right;\n",
       "    }\n",
       "</style>\n",
       "<table border=\"1\" class=\"dataframe\">\n",
       "  <thead>\n",
       "    <tr style=\"text-align: right;\">\n",
       "      <th>state</th>\n",
       "      <th>Ohio</th>\n",
       "      <th>Colorado</th>\n",
       "    </tr>\n",
       "    <tr>\n",
       "      <th>number</th>\n",
       "      <th></th>\n",
       "      <th></th>\n",
       "    </tr>\n",
       "  </thead>\n",
       "  <tbody>\n",
       "    <tr>\n",
       "      <th>one</th>\n",
       "      <td>0</td>\n",
       "      <td>3</td>\n",
       "    </tr>\n",
       "    <tr>\n",
       "      <th>two</th>\n",
       "      <td>1</td>\n",
       "      <td>4</td>\n",
       "    </tr>\n",
       "    <tr>\n",
       "      <th>three</th>\n",
       "      <td>2</td>\n",
       "      <td>5</td>\n",
       "    </tr>\n",
       "  </tbody>\n",
       "</table>\n",
       "</div>"
      ],
      "text/plain": [
       "state   Ohio  Colorado\n",
       "number                \n",
       "one        0         3\n",
       "two        1         4\n",
       "three      2         5"
      ]
     },
     "execution_count": 86,
     "metadata": {},
     "output_type": "execute_result"
    }
   ],
   "source": [
    "result.unstack('state')"
   ]
  },
  {
   "cell_type": "markdown",
   "metadata": {},
   "source": [
    "如果不是所有的级别值都能在各分组中找到的话，则unstack操作可能会引入缺失数据："
   ]
  },
  {
   "cell_type": "code",
   "execution_count": 87,
   "metadata": {},
   "outputs": [],
   "source": [
    "s1 = Series([0, 1, 2, 3], index=['a', 'b', 'c', 'd'])"
   ]
  },
  {
   "cell_type": "code",
   "execution_count": 88,
   "metadata": {},
   "outputs": [],
   "source": [
    "s2 = Series([4, 5, 6], index=['c', 'd', 'e'])"
   ]
  },
  {
   "cell_type": "code",
   "execution_count": 89,
   "metadata": {},
   "outputs": [],
   "source": [
    "data2 = pd.concat([s1, s2], keys=['one', 'two'])"
   ]
  },
  {
   "cell_type": "code",
   "execution_count": 90,
   "metadata": {},
   "outputs": [
    {
     "data": {
      "text/plain": [
       "one  a    0\n",
       "     b    1\n",
       "     c    2\n",
       "     d    3\n",
       "two  c    4\n",
       "     d    5\n",
       "     e    6\n",
       "dtype: int64"
      ]
     },
     "execution_count": 90,
     "metadata": {},
     "output_type": "execute_result"
    }
   ],
   "source": [
    "data2"
   ]
  },
  {
   "cell_type": "code",
   "execution_count": 91,
   "metadata": {},
   "outputs": [
    {
     "data": {
      "text/html": [
       "<div>\n",
       "<style scoped>\n",
       "    .dataframe tbody tr th:only-of-type {\n",
       "        vertical-align: middle;\n",
       "    }\n",
       "\n",
       "    .dataframe tbody tr th {\n",
       "        vertical-align: top;\n",
       "    }\n",
       "\n",
       "    .dataframe thead th {\n",
       "        text-align: right;\n",
       "    }\n",
       "</style>\n",
       "<table border=\"1\" class=\"dataframe\">\n",
       "  <thead>\n",
       "    <tr style=\"text-align: right;\">\n",
       "      <th></th>\n",
       "      <th>a</th>\n",
       "      <th>b</th>\n",
       "      <th>c</th>\n",
       "      <th>d</th>\n",
       "      <th>e</th>\n",
       "    </tr>\n",
       "  </thead>\n",
       "  <tbody>\n",
       "    <tr>\n",
       "      <th>one</th>\n",
       "      <td>0.0</td>\n",
       "      <td>1.0</td>\n",
       "      <td>2.0</td>\n",
       "      <td>3.0</td>\n",
       "      <td>NaN</td>\n",
       "    </tr>\n",
       "    <tr>\n",
       "      <th>two</th>\n",
       "      <td>NaN</td>\n",
       "      <td>NaN</td>\n",
       "      <td>4.0</td>\n",
       "      <td>5.0</td>\n",
       "      <td>6.0</td>\n",
       "    </tr>\n",
       "  </tbody>\n",
       "</table>\n",
       "</div>"
      ],
      "text/plain": [
       "       a    b    c    d    e\n",
       "one  0.0  1.0  2.0  3.0  NaN\n",
       "two  NaN  NaN  4.0  5.0  6.0"
      ]
     },
     "execution_count": 91,
     "metadata": {},
     "output_type": "execute_result"
    }
   ],
   "source": [
    "data2.unstack()"
   ]
  },
  {
   "cell_type": "markdown",
   "metadata": {},
   "source": [
    "stack默认会滤除缺失数据，因此该运算是可逆的："
   ]
  },
  {
   "cell_type": "code",
   "execution_count": 92,
   "metadata": {},
   "outputs": [
    {
     "data": {
      "text/plain": [
       "one  a    0.0\n",
       "     b    1.0\n",
       "     c    2.0\n",
       "     d    3.0\n",
       "two  c    4.0\n",
       "     d    5.0\n",
       "     e    6.0\n",
       "dtype: float64"
      ]
     },
     "execution_count": 92,
     "metadata": {},
     "output_type": "execute_result"
    }
   ],
   "source": [
    "data2.unstack().stack()"
   ]
  },
  {
   "cell_type": "code",
   "execution_count": 93,
   "metadata": {},
   "outputs": [
    {
     "data": {
      "text/plain": [
       "one  a    0.0\n",
       "     b    1.0\n",
       "     c    2.0\n",
       "     d    3.0\n",
       "     e    NaN\n",
       "two  a    NaN\n",
       "     b    NaN\n",
       "     c    4.0\n",
       "     d    5.0\n",
       "     e    6.0\n",
       "dtype: float64"
      ]
     },
     "execution_count": 93,
     "metadata": {},
     "output_type": "execute_result"
    }
   ],
   "source": [
    "data2.unstack().stack(dropna=False)"
   ]
  },
  {
   "cell_type": "markdown",
   "metadata": {},
   "source": [
    "## 将“长格式”旋转为“宽格式”\n",
    "时间序列数据通常是以所谓的“长格式”（long）或“堆叠格式”（stacked）存储在数据库和csv中的："
   ]
  },
  {
   "cell_type": "markdown",
   "metadata": {},
   "source": [
    "## 移除重复数据"
   ]
  },
  {
   "cell_type": "code",
   "execution_count": 94,
   "metadata": {},
   "outputs": [],
   "source": [
    "data = DataFrame({'k1': ['one'] * 3 + ['two'] * 4,\n",
    "                  'k2': [1, 1, 2, 3, 3, 4, 4]})"
   ]
  },
  {
   "cell_type": "code",
   "execution_count": 95,
   "metadata": {},
   "outputs": [
    {
     "data": {
      "text/html": [
       "<div>\n",
       "<style scoped>\n",
       "    .dataframe tbody tr th:only-of-type {\n",
       "        vertical-align: middle;\n",
       "    }\n",
       "\n",
       "    .dataframe tbody tr th {\n",
       "        vertical-align: top;\n",
       "    }\n",
       "\n",
       "    .dataframe thead th {\n",
       "        text-align: right;\n",
       "    }\n",
       "</style>\n",
       "<table border=\"1\" class=\"dataframe\">\n",
       "  <thead>\n",
       "    <tr style=\"text-align: right;\">\n",
       "      <th></th>\n",
       "      <th>k1</th>\n",
       "      <th>k2</th>\n",
       "    </tr>\n",
       "  </thead>\n",
       "  <tbody>\n",
       "    <tr>\n",
       "      <th>0</th>\n",
       "      <td>one</td>\n",
       "      <td>1</td>\n",
       "    </tr>\n",
       "    <tr>\n",
       "      <th>1</th>\n",
       "      <td>one</td>\n",
       "      <td>1</td>\n",
       "    </tr>\n",
       "    <tr>\n",
       "      <th>2</th>\n",
       "      <td>one</td>\n",
       "      <td>2</td>\n",
       "    </tr>\n",
       "    <tr>\n",
       "      <th>3</th>\n",
       "      <td>two</td>\n",
       "      <td>3</td>\n",
       "    </tr>\n",
       "    <tr>\n",
       "      <th>4</th>\n",
       "      <td>two</td>\n",
       "      <td>3</td>\n",
       "    </tr>\n",
       "    <tr>\n",
       "      <th>5</th>\n",
       "      <td>two</td>\n",
       "      <td>4</td>\n",
       "    </tr>\n",
       "    <tr>\n",
       "      <th>6</th>\n",
       "      <td>two</td>\n",
       "      <td>4</td>\n",
       "    </tr>\n",
       "  </tbody>\n",
       "</table>\n",
       "</div>"
      ],
      "text/plain": [
       "    k1  k2\n",
       "0  one   1\n",
       "1  one   1\n",
       "2  one   2\n",
       "3  two   3\n",
       "4  two   3\n",
       "5  two   4\n",
       "6  two   4"
      ]
     },
     "execution_count": 95,
     "metadata": {},
     "output_type": "execute_result"
    }
   ],
   "source": [
    "data"
   ]
  },
  {
   "cell_type": "markdown",
   "metadata": {},
   "source": [
    "DataFrame的duplicated方法返回一个布尔型Series，表示各行是否是重复行："
   ]
  },
  {
   "cell_type": "code",
   "execution_count": 96,
   "metadata": {},
   "outputs": [
    {
     "data": {
      "text/plain": [
       "0    False\n",
       "1     True\n",
       "2    False\n",
       "3    False\n",
       "4     True\n",
       "5    False\n",
       "6     True\n",
       "dtype: bool"
      ]
     },
     "execution_count": 96,
     "metadata": {},
     "output_type": "execute_result"
    }
   ],
   "source": [
    "data.duplicated()"
   ]
  },
  {
   "cell_type": "markdown",
   "metadata": {},
   "source": [
    "还有一个与此相关的drop_duplicates方法，它用于返回一个移除了重复行的DataFrame："
   ]
  },
  {
   "cell_type": "code",
   "execution_count": 97,
   "metadata": {},
   "outputs": [
    {
     "data": {
      "text/html": [
       "<div>\n",
       "<style scoped>\n",
       "    .dataframe tbody tr th:only-of-type {\n",
       "        vertical-align: middle;\n",
       "    }\n",
       "\n",
       "    .dataframe tbody tr th {\n",
       "        vertical-align: top;\n",
       "    }\n",
       "\n",
       "    .dataframe thead th {\n",
       "        text-align: right;\n",
       "    }\n",
       "</style>\n",
       "<table border=\"1\" class=\"dataframe\">\n",
       "  <thead>\n",
       "    <tr style=\"text-align: right;\">\n",
       "      <th></th>\n",
       "      <th>k1</th>\n",
       "      <th>k2</th>\n",
       "    </tr>\n",
       "  </thead>\n",
       "  <tbody>\n",
       "    <tr>\n",
       "      <th>0</th>\n",
       "      <td>one</td>\n",
       "      <td>1</td>\n",
       "    </tr>\n",
       "    <tr>\n",
       "      <th>2</th>\n",
       "      <td>one</td>\n",
       "      <td>2</td>\n",
       "    </tr>\n",
       "    <tr>\n",
       "      <th>3</th>\n",
       "      <td>two</td>\n",
       "      <td>3</td>\n",
       "    </tr>\n",
       "    <tr>\n",
       "      <th>5</th>\n",
       "      <td>two</td>\n",
       "      <td>4</td>\n",
       "    </tr>\n",
       "  </tbody>\n",
       "</table>\n",
       "</div>"
      ],
      "text/plain": [
       "    k1  k2\n",
       "0  one   1\n",
       "2  one   2\n",
       "3  two   3\n",
       "5  two   4"
      ]
     },
     "execution_count": 97,
     "metadata": {},
     "output_type": "execute_result"
    }
   ],
   "source": [
    "data.drop_duplicates()"
   ]
  },
  {
   "cell_type": "markdown",
   "metadata": {},
   "source": [
    "这两个方法默认会判断全部列，也可以指定部分列进行重复项判断。  \n",
    "假设还有一列值，且只希望根据k1列过滤重复项："
   ]
  },
  {
   "cell_type": "code",
   "execution_count": 98,
   "metadata": {},
   "outputs": [],
   "source": [
    "data['v1'] = range(7)"
   ]
  },
  {
   "cell_type": "code",
   "execution_count": 99,
   "metadata": {},
   "outputs": [
    {
     "data": {
      "text/html": [
       "<div>\n",
       "<style scoped>\n",
       "    .dataframe tbody tr th:only-of-type {\n",
       "        vertical-align: middle;\n",
       "    }\n",
       "\n",
       "    .dataframe tbody tr th {\n",
       "        vertical-align: top;\n",
       "    }\n",
       "\n",
       "    .dataframe thead th {\n",
       "        text-align: right;\n",
       "    }\n",
       "</style>\n",
       "<table border=\"1\" class=\"dataframe\">\n",
       "  <thead>\n",
       "    <tr style=\"text-align: right;\">\n",
       "      <th></th>\n",
       "      <th>k1</th>\n",
       "      <th>k2</th>\n",
       "      <th>v1</th>\n",
       "    </tr>\n",
       "  </thead>\n",
       "  <tbody>\n",
       "    <tr>\n",
       "      <th>0</th>\n",
       "      <td>one</td>\n",
       "      <td>1</td>\n",
       "      <td>0</td>\n",
       "    </tr>\n",
       "    <tr>\n",
       "      <th>3</th>\n",
       "      <td>two</td>\n",
       "      <td>3</td>\n",
       "      <td>3</td>\n",
       "    </tr>\n",
       "  </tbody>\n",
       "</table>\n",
       "</div>"
      ],
      "text/plain": [
       "    k1  k2  v1\n",
       "0  one   1   0\n",
       "3  two   3   3"
      ]
     },
     "execution_count": 99,
     "metadata": {},
     "output_type": "execute_result"
    }
   ],
   "source": [
    "data.drop_duplicates(['k1'])"
   ]
  },
  {
   "cell_type": "markdown",
   "metadata": {},
   "source": [
    "duplicated和drop_duplicates默认保留的是第一个出现的值组合，传入keep='last'则保留最后一个："
   ]
  },
  {
   "cell_type": "code",
   "execution_count": 100,
   "metadata": {},
   "outputs": [
    {
     "data": {
      "text/html": [
       "<div>\n",
       "<style scoped>\n",
       "    .dataframe tbody tr th:only-of-type {\n",
       "        vertical-align: middle;\n",
       "    }\n",
       "\n",
       "    .dataframe tbody tr th {\n",
       "        vertical-align: top;\n",
       "    }\n",
       "\n",
       "    .dataframe thead th {\n",
       "        text-align: right;\n",
       "    }\n",
       "</style>\n",
       "<table border=\"1\" class=\"dataframe\">\n",
       "  <thead>\n",
       "    <tr style=\"text-align: right;\">\n",
       "      <th></th>\n",
       "      <th>k1</th>\n",
       "      <th>k2</th>\n",
       "      <th>v1</th>\n",
       "    </tr>\n",
       "  </thead>\n",
       "  <tbody>\n",
       "    <tr>\n",
       "      <th>1</th>\n",
       "      <td>one</td>\n",
       "      <td>1</td>\n",
       "      <td>1</td>\n",
       "    </tr>\n",
       "    <tr>\n",
       "      <th>2</th>\n",
       "      <td>one</td>\n",
       "      <td>2</td>\n",
       "      <td>2</td>\n",
       "    </tr>\n",
       "    <tr>\n",
       "      <th>4</th>\n",
       "      <td>two</td>\n",
       "      <td>3</td>\n",
       "      <td>4</td>\n",
       "    </tr>\n",
       "    <tr>\n",
       "      <th>6</th>\n",
       "      <td>two</td>\n",
       "      <td>4</td>\n",
       "      <td>6</td>\n",
       "    </tr>\n",
       "  </tbody>\n",
       "</table>\n",
       "</div>"
      ],
      "text/plain": [
       "    k1  k2  v1\n",
       "1  one   1   1\n",
       "2  one   2   2\n",
       "4  two   3   4\n",
       "6  two   4   6"
      ]
     },
     "execution_count": 100,
     "metadata": {},
     "output_type": "execute_result"
    }
   ],
   "source": [
    "data.drop_duplicates(['k1', 'k2'], keep='last')"
   ]
  },
  {
   "cell_type": "markdown",
   "metadata": {},
   "source": [
    "## 利用函数或映射进行数据转换"
   ]
  },
  {
   "cell_type": "code",
   "execution_count": 101,
   "metadata": {},
   "outputs": [],
   "source": [
    "data = DataFrame({'food': ['bacon', 'pulled pork', 'bacon', 'Pastrami',\n",
    "                           'corned beef', 'Bacon', 'pastrami', 'honey ham',\n",
    "                           'nova lox'],\n",
    "                  'ounces': [4, 3, 12, 6, 7.5, 8, 3, 5, 6]})"
   ]
  },
  {
   "cell_type": "code",
   "execution_count": 102,
   "metadata": {},
   "outputs": [
    {
     "data": {
      "text/html": [
       "<div>\n",
       "<style scoped>\n",
       "    .dataframe tbody tr th:only-of-type {\n",
       "        vertical-align: middle;\n",
       "    }\n",
       "\n",
       "    .dataframe tbody tr th {\n",
       "        vertical-align: top;\n",
       "    }\n",
       "\n",
       "    .dataframe thead th {\n",
       "        text-align: right;\n",
       "    }\n",
       "</style>\n",
       "<table border=\"1\" class=\"dataframe\">\n",
       "  <thead>\n",
       "    <tr style=\"text-align: right;\">\n",
       "      <th></th>\n",
       "      <th>food</th>\n",
       "      <th>ounces</th>\n",
       "    </tr>\n",
       "  </thead>\n",
       "  <tbody>\n",
       "    <tr>\n",
       "      <th>0</th>\n",
       "      <td>bacon</td>\n",
       "      <td>4.0</td>\n",
       "    </tr>\n",
       "    <tr>\n",
       "      <th>1</th>\n",
       "      <td>pulled pork</td>\n",
       "      <td>3.0</td>\n",
       "    </tr>\n",
       "    <tr>\n",
       "      <th>2</th>\n",
       "      <td>bacon</td>\n",
       "      <td>12.0</td>\n",
       "    </tr>\n",
       "    <tr>\n",
       "      <th>3</th>\n",
       "      <td>Pastrami</td>\n",
       "      <td>6.0</td>\n",
       "    </tr>\n",
       "    <tr>\n",
       "      <th>4</th>\n",
       "      <td>corned beef</td>\n",
       "      <td>7.5</td>\n",
       "    </tr>\n",
       "    <tr>\n",
       "      <th>5</th>\n",
       "      <td>Bacon</td>\n",
       "      <td>8.0</td>\n",
       "    </tr>\n",
       "    <tr>\n",
       "      <th>6</th>\n",
       "      <td>pastrami</td>\n",
       "      <td>3.0</td>\n",
       "    </tr>\n",
       "    <tr>\n",
       "      <th>7</th>\n",
       "      <td>honey ham</td>\n",
       "      <td>5.0</td>\n",
       "    </tr>\n",
       "    <tr>\n",
       "      <th>8</th>\n",
       "      <td>nova lox</td>\n",
       "      <td>6.0</td>\n",
       "    </tr>\n",
       "  </tbody>\n",
       "</table>\n",
       "</div>"
      ],
      "text/plain": [
       "          food  ounces\n",
       "0        bacon     4.0\n",
       "1  pulled pork     3.0\n",
       "2        bacon    12.0\n",
       "3     Pastrami     6.0\n",
       "4  corned beef     7.5\n",
       "5        Bacon     8.0\n",
       "6     pastrami     3.0\n",
       "7    honey ham     5.0\n",
       "8     nova lox     6.0"
      ]
     },
     "execution_count": 102,
     "metadata": {},
     "output_type": "execute_result"
    }
   ],
   "source": [
    "data"
   ]
  },
  {
   "cell_type": "markdown",
   "metadata": {},
   "source": [
    "假设你想要添加一列表示肉类食物来源的动物类型。我们先编写一个肉类到动物的映射："
   ]
  },
  {
   "cell_type": "code",
   "execution_count": 103,
   "metadata": {},
   "outputs": [],
   "source": [
    "meat_to_animal = {\n",
    "    'bacon': 'pig',\n",
    "    'pulled pork': 'pig',\n",
    "    'pastrami': 'cow',\n",
    "    'corned beef': 'cow',\n",
    "    'honey ham': 'pig',\n",
    "    'nova lox': 'salmon'\n",
    "}"
   ]
  },
  {
   "cell_type": "markdown",
   "metadata": {},
   "source": [
    "Series的map方法可以接受一个函数或含有映射关系的字典型对象，但是这里有个小问题，即有些肉类的首写字母大写了，而另一些则没有，因此，我们还需要将各个值转换为小写："
   ]
  },
  {
   "cell_type": "code",
   "execution_count": 104,
   "metadata": {},
   "outputs": [],
   "source": [
    "data['animal'] = data['food'].map(str.lower).map(meat_to_animal)"
   ]
  },
  {
   "cell_type": "code",
   "execution_count": 105,
   "metadata": {},
   "outputs": [
    {
     "data": {
      "text/html": [
       "<div>\n",
       "<style scoped>\n",
       "    .dataframe tbody tr th:only-of-type {\n",
       "        vertical-align: middle;\n",
       "    }\n",
       "\n",
       "    .dataframe tbody tr th {\n",
       "        vertical-align: top;\n",
       "    }\n",
       "\n",
       "    .dataframe thead th {\n",
       "        text-align: right;\n",
       "    }\n",
       "</style>\n",
       "<table border=\"1\" class=\"dataframe\">\n",
       "  <thead>\n",
       "    <tr style=\"text-align: right;\">\n",
       "      <th></th>\n",
       "      <th>food</th>\n",
       "      <th>ounces</th>\n",
       "      <th>animal</th>\n",
       "    </tr>\n",
       "  </thead>\n",
       "  <tbody>\n",
       "    <tr>\n",
       "      <th>0</th>\n",
       "      <td>bacon</td>\n",
       "      <td>4.0</td>\n",
       "      <td>pig</td>\n",
       "    </tr>\n",
       "    <tr>\n",
       "      <th>1</th>\n",
       "      <td>pulled pork</td>\n",
       "      <td>3.0</td>\n",
       "      <td>pig</td>\n",
       "    </tr>\n",
       "    <tr>\n",
       "      <th>2</th>\n",
       "      <td>bacon</td>\n",
       "      <td>12.0</td>\n",
       "      <td>pig</td>\n",
       "    </tr>\n",
       "    <tr>\n",
       "      <th>3</th>\n",
       "      <td>Pastrami</td>\n",
       "      <td>6.0</td>\n",
       "      <td>cow</td>\n",
       "    </tr>\n",
       "    <tr>\n",
       "      <th>4</th>\n",
       "      <td>corned beef</td>\n",
       "      <td>7.5</td>\n",
       "      <td>cow</td>\n",
       "    </tr>\n",
       "    <tr>\n",
       "      <th>5</th>\n",
       "      <td>Bacon</td>\n",
       "      <td>8.0</td>\n",
       "      <td>pig</td>\n",
       "    </tr>\n",
       "    <tr>\n",
       "      <th>6</th>\n",
       "      <td>pastrami</td>\n",
       "      <td>3.0</td>\n",
       "      <td>cow</td>\n",
       "    </tr>\n",
       "    <tr>\n",
       "      <th>7</th>\n",
       "      <td>honey ham</td>\n",
       "      <td>5.0</td>\n",
       "      <td>pig</td>\n",
       "    </tr>\n",
       "    <tr>\n",
       "      <th>8</th>\n",
       "      <td>nova lox</td>\n",
       "      <td>6.0</td>\n",
       "      <td>salmon</td>\n",
       "    </tr>\n",
       "  </tbody>\n",
       "</table>\n",
       "</div>"
      ],
      "text/plain": [
       "          food  ounces  animal\n",
       "0        bacon     4.0     pig\n",
       "1  pulled pork     3.0     pig\n",
       "2        bacon    12.0     pig\n",
       "3     Pastrami     6.0     cow\n",
       "4  corned beef     7.5     cow\n",
       "5        Bacon     8.0     pig\n",
       "6     pastrami     3.0     cow\n",
       "7    honey ham     5.0     pig\n",
       "8     nova lox     6.0  salmon"
      ]
     },
     "execution_count": 105,
     "metadata": {},
     "output_type": "execute_result"
    }
   ],
   "source": [
    "data"
   ]
  },
  {
   "cell_type": "markdown",
   "metadata": {},
   "source": [
    "我们也可以传入一个能够完成全部这些工作的函数："
   ]
  },
  {
   "cell_type": "code",
   "execution_count": 106,
   "metadata": {},
   "outputs": [
    {
     "data": {
      "text/plain": [
       "0       pig\n",
       "1       pig\n",
       "2       pig\n",
       "3       cow\n",
       "4       cow\n",
       "5       pig\n",
       "6       cow\n",
       "7       pig\n",
       "8    salmon\n",
       "Name: food, dtype: object"
      ]
     },
     "execution_count": 106,
     "metadata": {},
     "output_type": "execute_result"
    }
   ],
   "source": [
    "data['food'].map(lambda x: meat_to_animal[x.lower()])"
   ]
  },
  {
   "cell_type": "markdown",
   "metadata": {},
   "source": [
    "## 替换值"
   ]
  },
  {
   "cell_type": "code",
   "execution_count": 107,
   "metadata": {},
   "outputs": [],
   "source": [
    "data = Series([1, -999, 2, -999, -1000, 3])"
   ]
  },
  {
   "cell_type": "code",
   "execution_count": 108,
   "metadata": {},
   "outputs": [
    {
     "data": {
      "text/plain": [
       "0       1\n",
       "1    -999\n",
       "2       2\n",
       "3    -999\n",
       "4   -1000\n",
       "5       3\n",
       "dtype: int64"
      ]
     },
     "execution_count": 108,
     "metadata": {},
     "output_type": "execute_result"
    }
   ],
   "source": [
    "data"
   ]
  },
  {
   "cell_type": "code",
   "execution_count": 109,
   "metadata": {},
   "outputs": [
    {
     "data": {
      "text/plain": [
       "0       1.0\n",
       "1       NaN\n",
       "2       2.0\n",
       "3       NaN\n",
       "4   -1000.0\n",
       "5       3.0\n",
       "dtype: float64"
      ]
     },
     "execution_count": 109,
     "metadata": {},
     "output_type": "execute_result"
    }
   ],
   "source": [
    "data.replace(-999, np.nan)"
   ]
  },
  {
   "cell_type": "code",
   "execution_count": 110,
   "metadata": {},
   "outputs": [
    {
     "data": {
      "text/plain": [
       "0    1.0\n",
       "1    NaN\n",
       "2    2.0\n",
       "3    NaN\n",
       "4    NaN\n",
       "5    3.0\n",
       "dtype: float64"
      ]
     },
     "execution_count": 110,
     "metadata": {},
     "output_type": "execute_result"
    }
   ],
   "source": [
    "data.replace([-999, -1000], np.nan)"
   ]
  },
  {
   "cell_type": "markdown",
   "metadata": {},
   "source": [
    "如果希望对不同的值进行不同的替换，则传入一个由替换关系组成的列表即可："
   ]
  },
  {
   "cell_type": "code",
   "execution_count": 111,
   "metadata": {},
   "outputs": [
    {
     "data": {
      "text/plain": [
       "0    1.0\n",
       "1    NaN\n",
       "2    2.0\n",
       "3    NaN\n",
       "4    0.0\n",
       "5    3.0\n",
       "dtype: float64"
      ]
     },
     "execution_count": 111,
     "metadata": {},
     "output_type": "execute_result"
    }
   ],
   "source": [
    "data.replace([-999, -1000], [np.nan, 0])"
   ]
  },
  {
   "cell_type": "markdown",
   "metadata": {},
   "source": [
    "传入的参数也可以是字典："
   ]
  },
  {
   "cell_type": "code",
   "execution_count": 112,
   "metadata": {},
   "outputs": [
    {
     "data": {
      "text/plain": [
       "0    1.0\n",
       "1    NaN\n",
       "2    2.0\n",
       "3    NaN\n",
       "4    0.0\n",
       "5    3.0\n",
       "dtype: float64"
      ]
     },
     "execution_count": 112,
     "metadata": {},
     "output_type": "execute_result"
    }
   ],
   "source": [
    "data.replace({-999: np.nan, -1000: 0})"
   ]
  },
  {
   "cell_type": "markdown",
   "metadata": {},
   "source": [
    "## 重命名轴索引"
   ]
  },
  {
   "cell_type": "code",
   "execution_count": 113,
   "metadata": {},
   "outputs": [],
   "source": [
    "data = DataFrame(np.arange(12).reshape((3, 4)),\n",
    "                 index=['Ohio', 'Colorado', 'New York'],\n",
    "                 columns=['one', 'two', 'three', 'four'])"
   ]
  },
  {
   "cell_type": "markdown",
   "metadata": {},
   "source": [
    "跟Series一样，轴标签也有一个map方法："
   ]
  },
  {
   "cell_type": "code",
   "execution_count": 114,
   "metadata": {},
   "outputs": [
    {
     "data": {
      "text/plain": [
       "Index(['OHIO', 'COLORADO', 'NEW YORK'], dtype='object')"
      ]
     },
     "execution_count": 114,
     "metadata": {},
     "output_type": "execute_result"
    }
   ],
   "source": [
    "data.index.map(str.upper)"
   ]
  },
  {
   "cell_type": "markdown",
   "metadata": {},
   "source": [
    "可以将其赋值给index，这样就可以对DataFrame进行就地修改："
   ]
  },
  {
   "cell_type": "code",
   "execution_count": 115,
   "metadata": {},
   "outputs": [],
   "source": [
    "data.index = data.index.map(str.upper)"
   ]
  },
  {
   "cell_type": "code",
   "execution_count": 116,
   "metadata": {},
   "outputs": [
    {
     "data": {
      "text/html": [
       "<div>\n",
       "<style scoped>\n",
       "    .dataframe tbody tr th:only-of-type {\n",
       "        vertical-align: middle;\n",
       "    }\n",
       "\n",
       "    .dataframe tbody tr th {\n",
       "        vertical-align: top;\n",
       "    }\n",
       "\n",
       "    .dataframe thead th {\n",
       "        text-align: right;\n",
       "    }\n",
       "</style>\n",
       "<table border=\"1\" class=\"dataframe\">\n",
       "  <thead>\n",
       "    <tr style=\"text-align: right;\">\n",
       "      <th></th>\n",
       "      <th>one</th>\n",
       "      <th>two</th>\n",
       "      <th>three</th>\n",
       "      <th>four</th>\n",
       "    </tr>\n",
       "  </thead>\n",
       "  <tbody>\n",
       "    <tr>\n",
       "      <th>OHIO</th>\n",
       "      <td>0</td>\n",
       "      <td>1</td>\n",
       "      <td>2</td>\n",
       "      <td>3</td>\n",
       "    </tr>\n",
       "    <tr>\n",
       "      <th>COLORADO</th>\n",
       "      <td>4</td>\n",
       "      <td>5</td>\n",
       "      <td>6</td>\n",
       "      <td>7</td>\n",
       "    </tr>\n",
       "    <tr>\n",
       "      <th>NEW YORK</th>\n",
       "      <td>8</td>\n",
       "      <td>9</td>\n",
       "      <td>10</td>\n",
       "      <td>11</td>\n",
       "    </tr>\n",
       "  </tbody>\n",
       "</table>\n",
       "</div>"
      ],
      "text/plain": [
       "          one  two  three  four\n",
       "OHIO        0    1      2     3\n",
       "COLORADO    4    5      6     7\n",
       "NEW YORK    8    9     10    11"
      ]
     },
     "execution_count": 116,
     "metadata": {},
     "output_type": "execute_result"
    }
   ],
   "source": [
    "data"
   ]
  },
  {
   "cell_type": "markdown",
   "metadata": {},
   "source": [
    "如果想要创建数据集的转换版（而不是修改原始数据），比较使用的方法是rename："
   ]
  },
  {
   "cell_type": "code",
   "execution_count": 117,
   "metadata": {},
   "outputs": [
    {
     "data": {
      "text/html": [
       "<div>\n",
       "<style scoped>\n",
       "    .dataframe tbody tr th:only-of-type {\n",
       "        vertical-align: middle;\n",
       "    }\n",
       "\n",
       "    .dataframe tbody tr th {\n",
       "        vertical-align: top;\n",
       "    }\n",
       "\n",
       "    .dataframe thead th {\n",
       "        text-align: right;\n",
       "    }\n",
       "</style>\n",
       "<table border=\"1\" class=\"dataframe\">\n",
       "  <thead>\n",
       "    <tr style=\"text-align: right;\">\n",
       "      <th></th>\n",
       "      <th>ONE</th>\n",
       "      <th>TWO</th>\n",
       "      <th>THREE</th>\n",
       "      <th>FOUR</th>\n",
       "    </tr>\n",
       "  </thead>\n",
       "  <tbody>\n",
       "    <tr>\n",
       "      <th>Ohio</th>\n",
       "      <td>0</td>\n",
       "      <td>1</td>\n",
       "      <td>2</td>\n",
       "      <td>3</td>\n",
       "    </tr>\n",
       "    <tr>\n",
       "      <th>Colorado</th>\n",
       "      <td>4</td>\n",
       "      <td>5</td>\n",
       "      <td>6</td>\n",
       "      <td>7</td>\n",
       "    </tr>\n",
       "    <tr>\n",
       "      <th>New York</th>\n",
       "      <td>8</td>\n",
       "      <td>9</td>\n",
       "      <td>10</td>\n",
       "      <td>11</td>\n",
       "    </tr>\n",
       "  </tbody>\n",
       "</table>\n",
       "</div>"
      ],
      "text/plain": [
       "          ONE  TWO  THREE  FOUR\n",
       "Ohio        0    1      2     3\n",
       "Colorado    4    5      6     7\n",
       "New York    8    9     10    11"
      ]
     },
     "execution_count": 117,
     "metadata": {},
     "output_type": "execute_result"
    }
   ],
   "source": [
    "data.rename(index=str.title, columns=str.upper) # title首字母大写，其余小写"
   ]
  },
  {
   "cell_type": "markdown",
   "metadata": {},
   "source": [
    "rename可以结合字典型对象实现对部分轴标签的更新："
   ]
  },
  {
   "cell_type": "code",
   "execution_count": 118,
   "metadata": {},
   "outputs": [
    {
     "data": {
      "text/html": [
       "<div>\n",
       "<style scoped>\n",
       "    .dataframe tbody tr th:only-of-type {\n",
       "        vertical-align: middle;\n",
       "    }\n",
       "\n",
       "    .dataframe tbody tr th {\n",
       "        vertical-align: top;\n",
       "    }\n",
       "\n",
       "    .dataframe thead th {\n",
       "        text-align: right;\n",
       "    }\n",
       "</style>\n",
       "<table border=\"1\" class=\"dataframe\">\n",
       "  <thead>\n",
       "    <tr style=\"text-align: right;\">\n",
       "      <th></th>\n",
       "      <th>one</th>\n",
       "      <th>two</th>\n",
       "      <th>peekaboo</th>\n",
       "      <th>four</th>\n",
       "    </tr>\n",
       "  </thead>\n",
       "  <tbody>\n",
       "    <tr>\n",
       "      <th>INDIANA</th>\n",
       "      <td>0</td>\n",
       "      <td>1</td>\n",
       "      <td>2</td>\n",
       "      <td>3</td>\n",
       "    </tr>\n",
       "    <tr>\n",
       "      <th>COLORADO</th>\n",
       "      <td>4</td>\n",
       "      <td>5</td>\n",
       "      <td>6</td>\n",
       "      <td>7</td>\n",
       "    </tr>\n",
       "    <tr>\n",
       "      <th>NEW YORK</th>\n",
       "      <td>8</td>\n",
       "      <td>9</td>\n",
       "      <td>10</td>\n",
       "      <td>11</td>\n",
       "    </tr>\n",
       "  </tbody>\n",
       "</table>\n",
       "</div>"
      ],
      "text/plain": [
       "          one  two  peekaboo  four\n",
       "INDIANA     0    1         2     3\n",
       "COLORADO    4    5         6     7\n",
       "NEW YORK    8    9        10    11"
      ]
     },
     "execution_count": 118,
     "metadata": {},
     "output_type": "execute_result"
    }
   ],
   "source": [
    "data.rename(index={'OHIO': 'INDIANA'},\n",
    "            columns={'three': 'peekaboo'})"
   ]
  },
  {
   "cell_type": "markdown",
   "metadata": {},
   "source": [
    "如果希望就地修改某个数据集，传入inplace=True即可："
   ]
  },
  {
   "cell_type": "code",
   "execution_count": 119,
   "metadata": {},
   "outputs": [],
   "source": [
    "# 总是返回DataFrame的引用\n",
    "_ = data.rename(index={'OHIO': 'INDIANA'}, inplace=True)"
   ]
  },
  {
   "cell_type": "code",
   "execution_count": 120,
   "metadata": {},
   "outputs": [
    {
     "data": {
      "text/html": [
       "<div>\n",
       "<style scoped>\n",
       "    .dataframe tbody tr th:only-of-type {\n",
       "        vertical-align: middle;\n",
       "    }\n",
       "\n",
       "    .dataframe tbody tr th {\n",
       "        vertical-align: top;\n",
       "    }\n",
       "\n",
       "    .dataframe thead th {\n",
       "        text-align: right;\n",
       "    }\n",
       "</style>\n",
       "<table border=\"1\" class=\"dataframe\">\n",
       "  <thead>\n",
       "    <tr style=\"text-align: right;\">\n",
       "      <th></th>\n",
       "      <th>one</th>\n",
       "      <th>two</th>\n",
       "      <th>three</th>\n",
       "      <th>four</th>\n",
       "    </tr>\n",
       "  </thead>\n",
       "  <tbody>\n",
       "    <tr>\n",
       "      <th>INDIANA</th>\n",
       "      <td>0</td>\n",
       "      <td>1</td>\n",
       "      <td>2</td>\n",
       "      <td>3</td>\n",
       "    </tr>\n",
       "    <tr>\n",
       "      <th>COLORADO</th>\n",
       "      <td>4</td>\n",
       "      <td>5</td>\n",
       "      <td>6</td>\n",
       "      <td>7</td>\n",
       "    </tr>\n",
       "    <tr>\n",
       "      <th>NEW YORK</th>\n",
       "      <td>8</td>\n",
       "      <td>9</td>\n",
       "      <td>10</td>\n",
       "      <td>11</td>\n",
       "    </tr>\n",
       "  </tbody>\n",
       "</table>\n",
       "</div>"
      ],
      "text/plain": [
       "          one  two  three  four\n",
       "INDIANA     0    1      2     3\n",
       "COLORADO    4    5      6     7\n",
       "NEW YORK    8    9     10    11"
      ]
     },
     "execution_count": 120,
     "metadata": {},
     "output_type": "execute_result"
    }
   ],
   "source": [
    "data"
   ]
  },
  {
   "cell_type": "markdown",
   "metadata": {},
   "source": [
    "## 离散化和面元划分\n",
    "为了便于分析，连续数据常常被离散化或拆分为“面元”（bin）。  \n",
    "假设有一组人员数据，而你希望将它们划分为不同的年龄组："
   ]
  },
  {
   "cell_type": "code",
   "execution_count": 121,
   "metadata": {},
   "outputs": [],
   "source": [
    "ages = [20, 22, 25, 27, 21, 23, 37, 31, 61, 45, 41, 32]"
   ]
  },
  {
   "cell_type": "markdown",
   "metadata": {},
   "source": [
    "接下来将这些数据划分为“18到25”， “26到35”，“35到60”以及“60以上”几个面元。使用pandas的cut函数："
   ]
  },
  {
   "cell_type": "code",
   "execution_count": 122,
   "metadata": {},
   "outputs": [],
   "source": [
    "bins = [18, 25, 35, 60, 100]"
   ]
  },
  {
   "cell_type": "code",
   "execution_count": 123,
   "metadata": {},
   "outputs": [],
   "source": [
    "cats = pd.cut(ages, bins)"
   ]
  },
  {
   "cell_type": "code",
   "execution_count": 124,
   "metadata": {},
   "outputs": [
    {
     "data": {
      "text/plain": [
       "[(18, 25], (18, 25], (18, 25], (25, 35], (18, 25], ..., (25, 35], (60, 100], (35, 60], (35, 60], (25, 35]]\n",
       "Length: 12\n",
       "Categories (4, interval[int64]): [(18, 25] < (25, 35] < (35, 60] < (60, 100]]"
      ]
     },
     "execution_count": 124,
     "metadata": {},
     "output_type": "execute_result"
    }
   ],
   "source": [
    "cats"
   ]
  },
  {
   "cell_type": "code",
   "execution_count": 125,
   "metadata": {},
   "outputs": [
    {
     "name": "stderr",
     "output_type": "stream",
     "text": [
      "C:\\Anaconda3\\lib\\site-packages\\ipykernel_launcher.py:1: FutureWarning: 'labels' is deprecated. Use 'codes' instead\n",
      "  \"\"\"Entry point for launching an IPython kernel.\n"
     ]
    },
    {
     "data": {
      "text/plain": [
       "array([0, 0, 0, 1, 0, 0, 2, 1, 3, 2, 2, 1], dtype=int8)"
      ]
     },
     "execution_count": 125,
     "metadata": {},
     "output_type": "execute_result"
    }
   ],
   "source": [
    "cats.labels"
   ]
  },
  {
   "cell_type": "code",
   "execution_count": 126,
   "metadata": {},
   "outputs": [
    {
     "data": {
      "text/plain": [
       "array([0, 0, 0, 1, 0, 0, 2, 1, 3, 2, 2, 1], dtype=int8)"
      ]
     },
     "execution_count": 126,
     "metadata": {},
     "output_type": "execute_result"
    }
   ],
   "source": [
    "cats.codes"
   ]
  },
  {
   "cell_type": "code",
   "execution_count": 127,
   "metadata": {},
   "outputs": [
    {
     "data": {
      "text/plain": [
       "IntervalIndex([(18, 25], (25, 35], (35, 60], (60, 100]]\n",
       "              closed='right',\n",
       "              dtype='interval[int64]')"
      ]
     },
     "execution_count": 127,
     "metadata": {},
     "output_type": "execute_result"
    }
   ],
   "source": [
    "cats.categories"
   ]
  },
  {
   "cell_type": "code",
   "execution_count": 128,
   "metadata": {},
   "outputs": [
    {
     "data": {
      "text/plain": [
       "(18, 25]     5\n",
       "(35, 60]     3\n",
       "(25, 35]     3\n",
       "(60, 100]    1\n",
       "dtype: int64"
      ]
     },
     "execution_count": 128,
     "metadata": {},
     "output_type": "execute_result"
    }
   ],
   "source": [
    "pd.value_counts(cats)"
   ]
  },
  {
   "cell_type": "markdown",
   "metadata": {},
   "source": [
    "跟“区间”的数学符号一样，圆括号表示开端，而方括号则表示闭端（包括）。  \n",
    "哪边是闭端可以通过right=False进行修改："
   ]
  },
  {
   "cell_type": "code",
   "execution_count": 129,
   "metadata": {},
   "outputs": [
    {
     "data": {
      "text/plain": [
       "[[18, 26), [18, 26), [18, 26), [26, 36), [18, 26), ..., [26, 36), [61, 100), [36, 61), [36, 61), [26, 36)]\n",
       "Length: 12\n",
       "Categories (4, interval[int64]): [[18, 26) < [26, 36) < [36, 61) < [61, 100)]"
      ]
     },
     "execution_count": 129,
     "metadata": {},
     "output_type": "execute_result"
    }
   ],
   "source": [
    "pd.cut(ages, [18, 26, 36, 61, 100], right=False)"
   ]
  },
  {
   "cell_type": "markdown",
   "metadata": {},
   "source": [
    "你也可以设置自己的吗面元名称，将labels选项设置为一个列表或数组即可："
   ]
  },
  {
   "cell_type": "code",
   "execution_count": 130,
   "metadata": {},
   "outputs": [],
   "source": [
    "group_names = ['Youth', 'YoungAdult', 'MiddleAged', 'Senior']"
   ]
  },
  {
   "cell_type": "code",
   "execution_count": 131,
   "metadata": {},
   "outputs": [
    {
     "data": {
      "text/plain": [
       "[Youth, Youth, Youth, YoungAdult, Youth, ..., YoungAdult, Senior, MiddleAged, MiddleAged, YoungAdult]\n",
       "Length: 12\n",
       "Categories (4, object): [Youth < YoungAdult < MiddleAged < Senior]"
      ]
     },
     "execution_count": 131,
     "metadata": {},
     "output_type": "execute_result"
    }
   ],
   "source": [
    "pd.cut(ages, bins, labels=group_names)"
   ]
  },
  {
   "cell_type": "markdown",
   "metadata": {},
   "source": [
    "如果向cut传入的是面元的数量而不是确切的面元边界，则它会根据数据的最小值和最大值计算等长面元："
   ]
  },
  {
   "cell_type": "code",
   "execution_count": 132,
   "metadata": {},
   "outputs": [],
   "source": [
    "data = np.random.rand(20)"
   ]
  },
  {
   "cell_type": "code",
   "execution_count": 133,
   "metadata": {},
   "outputs": [
    {
     "data": {
      "text/plain": [
       "[(0.24, 0.49], (0.73, 0.97], (0.49, 0.73], (0.49, 0.73], (0.49, 0.73], ..., (0.49, 0.73], (0.24, 0.49], (0.24, 0.49], (0.73, 0.97], (0.00075, 0.24]]\n",
       "Length: 20\n",
       "Categories (4, interval[float64]): [(0.00075, 0.24] < (0.24, 0.49] < (0.49, 0.73] < (0.73, 0.97]]"
      ]
     },
     "execution_count": 133,
     "metadata": {},
     "output_type": "execute_result"
    }
   ],
   "source": [
    "pd.cut(data, 4, precision=2)"
   ]
  },
  {
   "cell_type": "markdown",
   "metadata": {},
   "source": [
    "qcut是一个非常类似与cut的函数，它可以根据样本分位数对数据进行面元划分。根据数据的分布情况，cut可能无法使各个面元中含有相同数量的数据点，而qcut由于使用的是样本分位数，因此可以得到大小基本相等的面元："
   ]
  },
  {
   "cell_type": "code",
   "execution_count": 134,
   "metadata": {},
   "outputs": [],
   "source": [
    "data = np.random.randn(1000) # 正态分布"
   ]
  },
  {
   "cell_type": "code",
   "execution_count": 135,
   "metadata": {},
   "outputs": [],
   "source": [
    "cats = pd.qcut(data, 4) # 按四分位数进行切割"
   ]
  },
  {
   "cell_type": "code",
   "execution_count": 136,
   "metadata": {},
   "outputs": [
    {
     "data": {
      "text/plain": [
       "[(0.652, 3.271], (-0.693, -0.046], (-3.3859999999999997, -0.693], (-0.046, 0.652], (-0.046, 0.652], ..., (-3.3859999999999997, -0.693], (-0.693, -0.046], (0.652, 3.271], (-0.693, -0.046], (0.652, 3.271]]\n",
       "Length: 1000\n",
       "Categories (4, interval[float64]): [(-3.3859999999999997, -0.693] < (-0.693, -0.046] < (-0.046, 0.652] < (0.652, 3.271]]"
      ]
     },
     "execution_count": 136,
     "metadata": {},
     "output_type": "execute_result"
    }
   ],
   "source": [
    "cats"
   ]
  },
  {
   "cell_type": "code",
   "execution_count": 137,
   "metadata": {},
   "outputs": [
    {
     "data": {
      "text/plain": [
       "(0.652, 3.271]                   250\n",
       "(-0.046, 0.652]                  250\n",
       "(-0.693, -0.046]                 250\n",
       "(-3.3859999999999997, -0.693]    250\n",
       "dtype: int64"
      ]
     },
     "execution_count": 137,
     "metadata": {},
     "output_type": "execute_result"
    }
   ],
   "source": [
    "pd.value_counts(cats)"
   ]
  },
  {
   "cell_type": "markdown",
   "metadata": {},
   "source": [
    "跟cut一样，也可以设置自定义的分位数（0到1之间的数值，包含端点）："
   ]
  },
  {
   "cell_type": "code",
   "execution_count": 138,
   "metadata": {},
   "outputs": [
    {
     "data": {
      "text/plain": [
       "[(1.251, 3.271], (-1.299, -0.046], (-1.299, -0.046], (-0.046, 1.251], (-0.046, 1.251], ..., (-1.299, -0.046], (-1.299, -0.046], (1.251, 3.271], (-1.299, -0.046], (-0.046, 1.251]]\n",
       "Length: 1000\n",
       "Categories (4, interval[float64]): [(-3.3859999999999997, -1.299] < (-1.299, -0.046] < (-0.046, 1.251] < (1.251, 3.271]]"
      ]
     },
     "execution_count": 138,
     "metadata": {},
     "output_type": "execute_result"
    }
   ],
   "source": [
    "pd.qcut(data, [0, 0.1, 0.5, 0.9, 1])"
   ]
  },
  {
   "cell_type": "markdown",
   "metadata": {},
   "source": [
    "## 检测和过滤异常值\n",
    "异常值（outlier，又叫孤立点或离群值）的过滤或变换运算在很大程度上其实就是数组运算。"
   ]
  },
  {
   "cell_type": "code",
   "execution_count": 139,
   "metadata": {},
   "outputs": [],
   "source": [
    "np.random.seed(12345)"
   ]
  },
  {
   "cell_type": "code",
   "execution_count": 140,
   "metadata": {},
   "outputs": [],
   "source": [
    "data = DataFrame(np.random.randn(1000, 4))"
   ]
  },
  {
   "cell_type": "code",
   "execution_count": 141,
   "metadata": {},
   "outputs": [
    {
     "data": {
      "text/html": [
       "<div>\n",
       "<style scoped>\n",
       "    .dataframe tbody tr th:only-of-type {\n",
       "        vertical-align: middle;\n",
       "    }\n",
       "\n",
       "    .dataframe tbody tr th {\n",
       "        vertical-align: top;\n",
       "    }\n",
       "\n",
       "    .dataframe thead th {\n",
       "        text-align: right;\n",
       "    }\n",
       "</style>\n",
       "<table border=\"1\" class=\"dataframe\">\n",
       "  <thead>\n",
       "    <tr style=\"text-align: right;\">\n",
       "      <th></th>\n",
       "      <th>0</th>\n",
       "      <th>1</th>\n",
       "      <th>2</th>\n",
       "      <th>3</th>\n",
       "    </tr>\n",
       "  </thead>\n",
       "  <tbody>\n",
       "    <tr>\n",
       "      <th>count</th>\n",
       "      <td>1000.000000</td>\n",
       "      <td>1000.000000</td>\n",
       "      <td>1000.000000</td>\n",
       "      <td>1000.000000</td>\n",
       "    </tr>\n",
       "    <tr>\n",
       "      <th>mean</th>\n",
       "      <td>-0.067684</td>\n",
       "      <td>0.067924</td>\n",
       "      <td>0.025598</td>\n",
       "      <td>-0.002298</td>\n",
       "    </tr>\n",
       "    <tr>\n",
       "      <th>std</th>\n",
       "      <td>0.998035</td>\n",
       "      <td>0.992106</td>\n",
       "      <td>1.006835</td>\n",
       "      <td>0.996794</td>\n",
       "    </tr>\n",
       "    <tr>\n",
       "      <th>min</th>\n",
       "      <td>-3.428254</td>\n",
       "      <td>-3.548824</td>\n",
       "      <td>-3.184377</td>\n",
       "      <td>-3.745356</td>\n",
       "    </tr>\n",
       "    <tr>\n",
       "      <th>25%</th>\n",
       "      <td>-0.774890</td>\n",
       "      <td>-0.591841</td>\n",
       "      <td>-0.641675</td>\n",
       "      <td>-0.644144</td>\n",
       "    </tr>\n",
       "    <tr>\n",
       "      <th>50%</th>\n",
       "      <td>-0.116401</td>\n",
       "      <td>0.101143</td>\n",
       "      <td>0.002073</td>\n",
       "      <td>-0.013611</td>\n",
       "    </tr>\n",
       "    <tr>\n",
       "      <th>75%</th>\n",
       "      <td>0.616366</td>\n",
       "      <td>0.780282</td>\n",
       "      <td>0.680391</td>\n",
       "      <td>0.654328</td>\n",
       "    </tr>\n",
       "    <tr>\n",
       "      <th>max</th>\n",
       "      <td>3.366626</td>\n",
       "      <td>2.653656</td>\n",
       "      <td>3.260383</td>\n",
       "      <td>3.927528</td>\n",
       "    </tr>\n",
       "  </tbody>\n",
       "</table>\n",
       "</div>"
      ],
      "text/plain": [
       "                 0            1            2            3\n",
       "count  1000.000000  1000.000000  1000.000000  1000.000000\n",
       "mean     -0.067684     0.067924     0.025598    -0.002298\n",
       "std       0.998035     0.992106     1.006835     0.996794\n",
       "min      -3.428254    -3.548824    -3.184377    -3.745356\n",
       "25%      -0.774890    -0.591841    -0.641675    -0.644144\n",
       "50%      -0.116401     0.101143     0.002073    -0.013611\n",
       "75%       0.616366     0.780282     0.680391     0.654328\n",
       "max       3.366626     2.653656     3.260383     3.927528"
      ]
     },
     "execution_count": 141,
     "metadata": {},
     "output_type": "execute_result"
    }
   ],
   "source": [
    "data.describe()"
   ]
  },
  {
   "cell_type": "markdown",
   "metadata": {},
   "source": [
    "假设你想要找出某列中绝对值大小超过3的值："
   ]
  },
  {
   "cell_type": "code",
   "execution_count": 142,
   "metadata": {},
   "outputs": [],
   "source": [
    "col = data[3]"
   ]
  },
  {
   "cell_type": "code",
   "execution_count": 143,
   "metadata": {},
   "outputs": [
    {
     "data": {
      "text/plain": [
       "97     3.927528\n",
       "305   -3.399312\n",
       "400   -3.745356\n",
       "Name: 3, dtype: float64"
      ]
     },
     "execution_count": 143,
     "metadata": {},
     "output_type": "execute_result"
    }
   ],
   "source": [
    "col[np.abs(col) > 3]"
   ]
  },
  {
   "cell_type": "markdown",
   "metadata": {},
   "source": [
    "要选出全部含有“超过3或-3的值”的行，可以利用布尔型DataFrame以及any方法："
   ]
  },
  {
   "cell_type": "code",
   "execution_count": 144,
   "metadata": {},
   "outputs": [
    {
     "data": {
      "text/html": [
       "<div>\n",
       "<style scoped>\n",
       "    .dataframe tbody tr th:only-of-type {\n",
       "        vertical-align: middle;\n",
       "    }\n",
       "\n",
       "    .dataframe tbody tr th {\n",
       "        vertical-align: top;\n",
       "    }\n",
       "\n",
       "    .dataframe thead th {\n",
       "        text-align: right;\n",
       "    }\n",
       "</style>\n",
       "<table border=\"1\" class=\"dataframe\">\n",
       "  <thead>\n",
       "    <tr style=\"text-align: right;\">\n",
       "      <th></th>\n",
       "      <th>0</th>\n",
       "      <th>1</th>\n",
       "      <th>2</th>\n",
       "      <th>3</th>\n",
       "    </tr>\n",
       "  </thead>\n",
       "  <tbody>\n",
       "    <tr>\n",
       "      <th>5</th>\n",
       "      <td>-0.539741</td>\n",
       "      <td>0.476985</td>\n",
       "      <td>3.248944</td>\n",
       "      <td>-1.021228</td>\n",
       "    </tr>\n",
       "    <tr>\n",
       "      <th>97</th>\n",
       "      <td>-0.774363</td>\n",
       "      <td>0.552936</td>\n",
       "      <td>0.106061</td>\n",
       "      <td>3.927528</td>\n",
       "    </tr>\n",
       "    <tr>\n",
       "      <th>102</th>\n",
       "      <td>-0.655054</td>\n",
       "      <td>-0.565230</td>\n",
       "      <td>3.176873</td>\n",
       "      <td>0.959533</td>\n",
       "    </tr>\n",
       "    <tr>\n",
       "      <th>305</th>\n",
       "      <td>-2.315555</td>\n",
       "      <td>0.457246</td>\n",
       "      <td>-0.025907</td>\n",
       "      <td>-3.399312</td>\n",
       "    </tr>\n",
       "    <tr>\n",
       "      <th>324</th>\n",
       "      <td>0.050188</td>\n",
       "      <td>1.951312</td>\n",
       "      <td>3.260383</td>\n",
       "      <td>0.963301</td>\n",
       "    </tr>\n",
       "    <tr>\n",
       "      <th>400</th>\n",
       "      <td>0.146326</td>\n",
       "      <td>0.508391</td>\n",
       "      <td>-0.196713</td>\n",
       "      <td>-3.745356</td>\n",
       "    </tr>\n",
       "    <tr>\n",
       "      <th>499</th>\n",
       "      <td>-0.293333</td>\n",
       "      <td>-0.242459</td>\n",
       "      <td>-3.056990</td>\n",
       "      <td>1.918403</td>\n",
       "    </tr>\n",
       "    <tr>\n",
       "      <th>523</th>\n",
       "      <td>-3.428254</td>\n",
       "      <td>-0.296336</td>\n",
       "      <td>-0.439938</td>\n",
       "      <td>-0.867165</td>\n",
       "    </tr>\n",
       "    <tr>\n",
       "      <th>586</th>\n",
       "      <td>0.275144</td>\n",
       "      <td>1.179227</td>\n",
       "      <td>-3.184377</td>\n",
       "      <td>1.369891</td>\n",
       "    </tr>\n",
       "    <tr>\n",
       "      <th>808</th>\n",
       "      <td>-0.362528</td>\n",
       "      <td>-3.548824</td>\n",
       "      <td>1.553205</td>\n",
       "      <td>-2.186301</td>\n",
       "    </tr>\n",
       "    <tr>\n",
       "      <th>900</th>\n",
       "      <td>3.366626</td>\n",
       "      <td>-2.372214</td>\n",
       "      <td>0.851010</td>\n",
       "      <td>1.332846</td>\n",
       "    </tr>\n",
       "  </tbody>\n",
       "</table>\n",
       "</div>"
      ],
      "text/plain": [
       "            0         1         2         3\n",
       "5   -0.539741  0.476985  3.248944 -1.021228\n",
       "97  -0.774363  0.552936  0.106061  3.927528\n",
       "102 -0.655054 -0.565230  3.176873  0.959533\n",
       "305 -2.315555  0.457246 -0.025907 -3.399312\n",
       "324  0.050188  1.951312  3.260383  0.963301\n",
       "400  0.146326  0.508391 -0.196713 -3.745356\n",
       "499 -0.293333 -0.242459 -3.056990  1.918403\n",
       "523 -3.428254 -0.296336 -0.439938 -0.867165\n",
       "586  0.275144  1.179227 -3.184377  1.369891\n",
       "808 -0.362528 -3.548824  1.553205 -2.186301\n",
       "900  3.366626 -2.372214  0.851010  1.332846"
      ]
     },
     "execution_count": 144,
     "metadata": {},
     "output_type": "execute_result"
    }
   ],
   "source": [
    "data[(np.abs(data) > 3).any(1)]"
   ]
  },
  {
   "cell_type": "markdown",
   "metadata": {},
   "source": [
    "根据这些条件，即可轻松地对值进行设置。下面的代码可以将值限制在区间-3到3以内："
   ]
  },
  {
   "cell_type": "code",
   "execution_count": 145,
   "metadata": {},
   "outputs": [],
   "source": [
    "data[np.abs(data) > 3] = np.sign(data) * 3"
   ]
  },
  {
   "cell_type": "code",
   "execution_count": 146,
   "metadata": {},
   "outputs": [
    {
     "data": {
      "text/html": [
       "<div>\n",
       "<style scoped>\n",
       "    .dataframe tbody tr th:only-of-type {\n",
       "        vertical-align: middle;\n",
       "    }\n",
       "\n",
       "    .dataframe tbody tr th {\n",
       "        vertical-align: top;\n",
       "    }\n",
       "\n",
       "    .dataframe thead th {\n",
       "        text-align: right;\n",
       "    }\n",
       "</style>\n",
       "<table border=\"1\" class=\"dataframe\">\n",
       "  <thead>\n",
       "    <tr style=\"text-align: right;\">\n",
       "      <th></th>\n",
       "      <th>0</th>\n",
       "      <th>1</th>\n",
       "      <th>2</th>\n",
       "      <th>3</th>\n",
       "    </tr>\n",
       "  </thead>\n",
       "  <tbody>\n",
       "    <tr>\n",
       "      <th>count</th>\n",
       "      <td>1000.000000</td>\n",
       "      <td>1000.000000</td>\n",
       "      <td>1000.000000</td>\n",
       "      <td>1000.000000</td>\n",
       "    </tr>\n",
       "    <tr>\n",
       "      <th>mean</th>\n",
       "      <td>-0.067623</td>\n",
       "      <td>0.068473</td>\n",
       "      <td>0.025153</td>\n",
       "      <td>-0.002081</td>\n",
       "    </tr>\n",
       "    <tr>\n",
       "      <th>std</th>\n",
       "      <td>0.995485</td>\n",
       "      <td>0.990253</td>\n",
       "      <td>1.003977</td>\n",
       "      <td>0.989736</td>\n",
       "    </tr>\n",
       "    <tr>\n",
       "      <th>min</th>\n",
       "      <td>-3.000000</td>\n",
       "      <td>-3.000000</td>\n",
       "      <td>-3.000000</td>\n",
       "      <td>-3.000000</td>\n",
       "    </tr>\n",
       "    <tr>\n",
       "      <th>25%</th>\n",
       "      <td>-0.774890</td>\n",
       "      <td>-0.591841</td>\n",
       "      <td>-0.641675</td>\n",
       "      <td>-0.644144</td>\n",
       "    </tr>\n",
       "    <tr>\n",
       "      <th>50%</th>\n",
       "      <td>-0.116401</td>\n",
       "      <td>0.101143</td>\n",
       "      <td>0.002073</td>\n",
       "      <td>-0.013611</td>\n",
       "    </tr>\n",
       "    <tr>\n",
       "      <th>75%</th>\n",
       "      <td>0.616366</td>\n",
       "      <td>0.780282</td>\n",
       "      <td>0.680391</td>\n",
       "      <td>0.654328</td>\n",
       "    </tr>\n",
       "    <tr>\n",
       "      <th>max</th>\n",
       "      <td>3.000000</td>\n",
       "      <td>2.653656</td>\n",
       "      <td>3.000000</td>\n",
       "      <td>3.000000</td>\n",
       "    </tr>\n",
       "  </tbody>\n",
       "</table>\n",
       "</div>"
      ],
      "text/plain": [
       "                 0            1            2            3\n",
       "count  1000.000000  1000.000000  1000.000000  1000.000000\n",
       "mean     -0.067623     0.068473     0.025153    -0.002081\n",
       "std       0.995485     0.990253     1.003977     0.989736\n",
       "min      -3.000000    -3.000000    -3.000000    -3.000000\n",
       "25%      -0.774890    -0.591841    -0.641675    -0.644144\n",
       "50%      -0.116401     0.101143     0.002073    -0.013611\n",
       "75%       0.616366     0.780282     0.680391     0.654328\n",
       "max       3.000000     2.653656     3.000000     3.000000"
      ]
     },
     "execution_count": 146,
     "metadata": {},
     "output_type": "execute_result"
    }
   ],
   "source": [
    "data.describe()"
   ]
  },
  {
   "cell_type": "markdown",
   "metadata": {},
   "source": [
    "## 排列和随机采样"
   ]
  },
  {
   "cell_type": "markdown",
   "metadata": {},
   "source": [
    "利用numpy.random.permutation函数可以轻松实现对Series或DataFrame的列的排列工作（permuting，随机重排序）。通过需要排列的轴的长度调用permutation，可产生一个表示新顺序的整数数组："
   ]
  },
  {
   "cell_type": "code",
   "execution_count": 147,
   "metadata": {},
   "outputs": [],
   "source": [
    "df = DataFrame(np.arange(5 * 4).reshape(5, 4))"
   ]
  },
  {
   "cell_type": "code",
   "execution_count": 148,
   "metadata": {},
   "outputs": [],
   "source": [
    "sampler = np.random.permutation(5)"
   ]
  },
  {
   "cell_type": "code",
   "execution_count": 149,
   "metadata": {},
   "outputs": [
    {
     "data": {
      "text/plain": [
       "array([1, 0, 2, 3, 4])"
      ]
     },
     "execution_count": 149,
     "metadata": {},
     "output_type": "execute_result"
    }
   ],
   "source": [
    "sampler"
   ]
  },
  {
   "cell_type": "markdown",
   "metadata": {},
   "source": [
    "然后就可以在基于ix的索引操作或take函数中使用该数组了："
   ]
  },
  {
   "cell_type": "code",
   "execution_count": 150,
   "metadata": {},
   "outputs": [
    {
     "data": {
      "text/html": [
       "<div>\n",
       "<style scoped>\n",
       "    .dataframe tbody tr th:only-of-type {\n",
       "        vertical-align: middle;\n",
       "    }\n",
       "\n",
       "    .dataframe tbody tr th {\n",
       "        vertical-align: top;\n",
       "    }\n",
       "\n",
       "    .dataframe thead th {\n",
       "        text-align: right;\n",
       "    }\n",
       "</style>\n",
       "<table border=\"1\" class=\"dataframe\">\n",
       "  <thead>\n",
       "    <tr style=\"text-align: right;\">\n",
       "      <th></th>\n",
       "      <th>0</th>\n",
       "      <th>1</th>\n",
       "      <th>2</th>\n",
       "      <th>3</th>\n",
       "    </tr>\n",
       "  </thead>\n",
       "  <tbody>\n",
       "    <tr>\n",
       "      <th>0</th>\n",
       "      <td>0</td>\n",
       "      <td>1</td>\n",
       "      <td>2</td>\n",
       "      <td>3</td>\n",
       "    </tr>\n",
       "    <tr>\n",
       "      <th>1</th>\n",
       "      <td>4</td>\n",
       "      <td>5</td>\n",
       "      <td>6</td>\n",
       "      <td>7</td>\n",
       "    </tr>\n",
       "    <tr>\n",
       "      <th>2</th>\n",
       "      <td>8</td>\n",
       "      <td>9</td>\n",
       "      <td>10</td>\n",
       "      <td>11</td>\n",
       "    </tr>\n",
       "    <tr>\n",
       "      <th>3</th>\n",
       "      <td>12</td>\n",
       "      <td>13</td>\n",
       "      <td>14</td>\n",
       "      <td>15</td>\n",
       "    </tr>\n",
       "    <tr>\n",
       "      <th>4</th>\n",
       "      <td>16</td>\n",
       "      <td>17</td>\n",
       "      <td>18</td>\n",
       "      <td>19</td>\n",
       "    </tr>\n",
       "  </tbody>\n",
       "</table>\n",
       "</div>"
      ],
      "text/plain": [
       "    0   1   2   3\n",
       "0   0   1   2   3\n",
       "1   4   5   6   7\n",
       "2   8   9  10  11\n",
       "3  12  13  14  15\n",
       "4  16  17  18  19"
      ]
     },
     "execution_count": 150,
     "metadata": {},
     "output_type": "execute_result"
    }
   ],
   "source": [
    "df"
   ]
  },
  {
   "cell_type": "code",
   "execution_count": 151,
   "metadata": {},
   "outputs": [
    {
     "data": {
      "text/html": [
       "<div>\n",
       "<style scoped>\n",
       "    .dataframe tbody tr th:only-of-type {\n",
       "        vertical-align: middle;\n",
       "    }\n",
       "\n",
       "    .dataframe tbody tr th {\n",
       "        vertical-align: top;\n",
       "    }\n",
       "\n",
       "    .dataframe thead th {\n",
       "        text-align: right;\n",
       "    }\n",
       "</style>\n",
       "<table border=\"1\" class=\"dataframe\">\n",
       "  <thead>\n",
       "    <tr style=\"text-align: right;\">\n",
       "      <th></th>\n",
       "      <th>0</th>\n",
       "      <th>1</th>\n",
       "      <th>2</th>\n",
       "      <th>3</th>\n",
       "    </tr>\n",
       "  </thead>\n",
       "  <tbody>\n",
       "    <tr>\n",
       "      <th>1</th>\n",
       "      <td>4</td>\n",
       "      <td>5</td>\n",
       "      <td>6</td>\n",
       "      <td>7</td>\n",
       "    </tr>\n",
       "    <tr>\n",
       "      <th>0</th>\n",
       "      <td>0</td>\n",
       "      <td>1</td>\n",
       "      <td>2</td>\n",
       "      <td>3</td>\n",
       "    </tr>\n",
       "    <tr>\n",
       "      <th>2</th>\n",
       "      <td>8</td>\n",
       "      <td>9</td>\n",
       "      <td>10</td>\n",
       "      <td>11</td>\n",
       "    </tr>\n",
       "    <tr>\n",
       "      <th>3</th>\n",
       "      <td>12</td>\n",
       "      <td>13</td>\n",
       "      <td>14</td>\n",
       "      <td>15</td>\n",
       "    </tr>\n",
       "    <tr>\n",
       "      <th>4</th>\n",
       "      <td>16</td>\n",
       "      <td>17</td>\n",
       "      <td>18</td>\n",
       "      <td>19</td>\n",
       "    </tr>\n",
       "  </tbody>\n",
       "</table>\n",
       "</div>"
      ],
      "text/plain": [
       "    0   1   2   3\n",
       "1   4   5   6   7\n",
       "0   0   1   2   3\n",
       "2   8   9  10  11\n",
       "3  12  13  14  15\n",
       "4  16  17  18  19"
      ]
     },
     "execution_count": 151,
     "metadata": {},
     "output_type": "execute_result"
    }
   ],
   "source": [
    "df.take(sampler)"
   ]
  },
  {
   "cell_type": "code",
   "execution_count": 152,
   "metadata": {},
   "outputs": [
    {
     "data": {
      "text/html": [
       "<div>\n",
       "<style scoped>\n",
       "    .dataframe tbody tr th:only-of-type {\n",
       "        vertical-align: middle;\n",
       "    }\n",
       "\n",
       "    .dataframe tbody tr th {\n",
       "        vertical-align: top;\n",
       "    }\n",
       "\n",
       "    .dataframe thead th {\n",
       "        text-align: right;\n",
       "    }\n",
       "</style>\n",
       "<table border=\"1\" class=\"dataframe\">\n",
       "  <thead>\n",
       "    <tr style=\"text-align: right;\">\n",
       "      <th></th>\n",
       "      <th>0</th>\n",
       "      <th>1</th>\n",
       "      <th>2</th>\n",
       "      <th>3</th>\n",
       "    </tr>\n",
       "  </thead>\n",
       "  <tbody>\n",
       "    <tr>\n",
       "      <th>1</th>\n",
       "      <td>4</td>\n",
       "      <td>5</td>\n",
       "      <td>6</td>\n",
       "      <td>7</td>\n",
       "    </tr>\n",
       "    <tr>\n",
       "      <th>3</th>\n",
       "      <td>12</td>\n",
       "      <td>13</td>\n",
       "      <td>14</td>\n",
       "      <td>15</td>\n",
       "    </tr>\n",
       "    <tr>\n",
       "      <th>4</th>\n",
       "      <td>16</td>\n",
       "      <td>17</td>\n",
       "      <td>18</td>\n",
       "      <td>19</td>\n",
       "    </tr>\n",
       "  </tbody>\n",
       "</table>\n",
       "</div>"
      ],
      "text/plain": [
       "    0   1   2   3\n",
       "1   4   5   6   7\n",
       "3  12  13  14  15\n",
       "4  16  17  18  19"
      ]
     },
     "execution_count": 152,
     "metadata": {},
     "output_type": "execute_result"
    }
   ],
   "source": [
    "df.take(np.random.permutation(len(df))[:3])"
   ]
  },
  {
   "cell_type": "markdown",
   "metadata": {},
   "source": [
    "要通过替换的方式产生样本，最快的方式是通过np.random.randint得到一组随即整数："
   ]
  },
  {
   "cell_type": "code",
   "execution_count": 153,
   "metadata": {},
   "outputs": [],
   "source": [
    "bag = np.array([5, 7, -1, 6, 4])"
   ]
  },
  {
   "cell_type": "code",
   "execution_count": 154,
   "metadata": {},
   "outputs": [],
   "source": [
    "sampler = np.random.randint(0, len(bag), size=10)"
   ]
  },
  {
   "cell_type": "code",
   "execution_count": 155,
   "metadata": {},
   "outputs": [
    {
     "data": {
      "text/plain": [
       "array([4, 4, 2, 2, 2, 0, 3, 0, 4, 1])"
      ]
     },
     "execution_count": 155,
     "metadata": {},
     "output_type": "execute_result"
    }
   ],
   "source": [
    "sampler"
   ]
  },
  {
   "cell_type": "code",
   "execution_count": 156,
   "metadata": {},
   "outputs": [],
   "source": [
    "draws = bag.take(sampler)"
   ]
  },
  {
   "cell_type": "code",
   "execution_count": 157,
   "metadata": {},
   "outputs": [
    {
     "data": {
      "text/plain": [
       "array([ 4,  4, -1, -1, -1,  5,  6,  5,  4,  7])"
      ]
     },
     "execution_count": 157,
     "metadata": {},
     "output_type": "execute_result"
    }
   ],
   "source": [
    "draws"
   ]
  },
  {
   "cell_type": "markdown",
   "metadata": {},
   "source": [
    "## 计算指标/哑变量"
   ]
  },
  {
   "cell_type": "markdown",
   "metadata": {},
   "source": [
    "另一种常用于统计建模或机器学习的转换方式是：将分类变量（categorical variable）转换为“哑变量矩阵”（dummy matrix）或“指标矩阵”（indicator matrix）。"
   ]
  },
  {
   "cell_type": "code",
   "execution_count": 158,
   "metadata": {},
   "outputs": [],
   "source": [
    "df = DataFrame({'key': ['b', 'b', 'a', 'c', 'a', 'b'],\n",
    "                'data1': range(6)})"
   ]
  },
  {
   "cell_type": "code",
   "execution_count": 159,
   "metadata": {
    "scrolled": true
   },
   "outputs": [
    {
     "data": {
      "text/html": [
       "<div>\n",
       "<style scoped>\n",
       "    .dataframe tbody tr th:only-of-type {\n",
       "        vertical-align: middle;\n",
       "    }\n",
       "\n",
       "    .dataframe tbody tr th {\n",
       "        vertical-align: top;\n",
       "    }\n",
       "\n",
       "    .dataframe thead th {\n",
       "        text-align: right;\n",
       "    }\n",
       "</style>\n",
       "<table border=\"1\" class=\"dataframe\">\n",
       "  <thead>\n",
       "    <tr style=\"text-align: right;\">\n",
       "      <th></th>\n",
       "      <th>a</th>\n",
       "      <th>b</th>\n",
       "      <th>c</th>\n",
       "    </tr>\n",
       "  </thead>\n",
       "  <tbody>\n",
       "    <tr>\n",
       "      <th>0</th>\n",
       "      <td>0</td>\n",
       "      <td>1</td>\n",
       "      <td>0</td>\n",
       "    </tr>\n",
       "    <tr>\n",
       "      <th>1</th>\n",
       "      <td>0</td>\n",
       "      <td>1</td>\n",
       "      <td>0</td>\n",
       "    </tr>\n",
       "    <tr>\n",
       "      <th>2</th>\n",
       "      <td>1</td>\n",
       "      <td>0</td>\n",
       "      <td>0</td>\n",
       "    </tr>\n",
       "    <tr>\n",
       "      <th>3</th>\n",
       "      <td>0</td>\n",
       "      <td>0</td>\n",
       "      <td>1</td>\n",
       "    </tr>\n",
       "    <tr>\n",
       "      <th>4</th>\n",
       "      <td>1</td>\n",
       "      <td>0</td>\n",
       "      <td>0</td>\n",
       "    </tr>\n",
       "    <tr>\n",
       "      <th>5</th>\n",
       "      <td>0</td>\n",
       "      <td>1</td>\n",
       "      <td>0</td>\n",
       "    </tr>\n",
       "  </tbody>\n",
       "</table>\n",
       "</div>"
      ],
      "text/plain": [
       "   a  b  c\n",
       "0  0  1  0\n",
       "1  0  1  0\n",
       "2  1  0  0\n",
       "3  0  0  1\n",
       "4  1  0  0\n",
       "5  0  1  0"
      ]
     },
     "execution_count": 159,
     "metadata": {},
     "output_type": "execute_result"
    }
   ],
   "source": [
    "pd.get_dummies(df['key'])"
   ]
  },
  {
   "cell_type": "markdown",
   "metadata": {},
   "source": [
    "有时候你可能想给指标DataFrame的列加上一个前缀，以便能够跟其他数据进行合并。get_dummies的prefix参数可以实现此功能："
   ]
  },
  {
   "cell_type": "code",
   "execution_count": 160,
   "metadata": {},
   "outputs": [],
   "source": [
    "dummies = pd.get_dummies(df['key'],prefix='key')"
   ]
  },
  {
   "cell_type": "code",
   "execution_count": 161,
   "metadata": {},
   "outputs": [
    {
     "data": {
      "text/html": [
       "<div>\n",
       "<style scoped>\n",
       "    .dataframe tbody tr th:only-of-type {\n",
       "        vertical-align: middle;\n",
       "    }\n",
       "\n",
       "    .dataframe tbody tr th {\n",
       "        vertical-align: top;\n",
       "    }\n",
       "\n",
       "    .dataframe thead th {\n",
       "        text-align: right;\n",
       "    }\n",
       "</style>\n",
       "<table border=\"1\" class=\"dataframe\">\n",
       "  <thead>\n",
       "    <tr style=\"text-align: right;\">\n",
       "      <th></th>\n",
       "      <th>key_a</th>\n",
       "      <th>key_b</th>\n",
       "      <th>key_c</th>\n",
       "    </tr>\n",
       "  </thead>\n",
       "  <tbody>\n",
       "    <tr>\n",
       "      <th>0</th>\n",
       "      <td>0</td>\n",
       "      <td>1</td>\n",
       "      <td>0</td>\n",
       "    </tr>\n",
       "    <tr>\n",
       "      <th>1</th>\n",
       "      <td>0</td>\n",
       "      <td>1</td>\n",
       "      <td>0</td>\n",
       "    </tr>\n",
       "    <tr>\n",
       "      <th>2</th>\n",
       "      <td>1</td>\n",
       "      <td>0</td>\n",
       "      <td>0</td>\n",
       "    </tr>\n",
       "    <tr>\n",
       "      <th>3</th>\n",
       "      <td>0</td>\n",
       "      <td>0</td>\n",
       "      <td>1</td>\n",
       "    </tr>\n",
       "    <tr>\n",
       "      <th>4</th>\n",
       "      <td>1</td>\n",
       "      <td>0</td>\n",
       "      <td>0</td>\n",
       "    </tr>\n",
       "    <tr>\n",
       "      <th>5</th>\n",
       "      <td>0</td>\n",
       "      <td>1</td>\n",
       "      <td>0</td>\n",
       "    </tr>\n",
       "  </tbody>\n",
       "</table>\n",
       "</div>"
      ],
      "text/plain": [
       "   key_a  key_b  key_c\n",
       "0      0      1      0\n",
       "1      0      1      0\n",
       "2      1      0      0\n",
       "3      0      0      1\n",
       "4      1      0      0\n",
       "5      0      1      0"
      ]
     },
     "execution_count": 161,
     "metadata": {},
     "output_type": "execute_result"
    }
   ],
   "source": [
    "dummies"
   ]
  },
  {
   "cell_type": "code",
   "execution_count": 162,
   "metadata": {},
   "outputs": [],
   "source": [
    "df_with_dummy = df[['data1']].join(dummies)"
   ]
  },
  {
   "cell_type": "code",
   "execution_count": 163,
   "metadata": {},
   "outputs": [
    {
     "data": {
      "text/html": [
       "<div>\n",
       "<style scoped>\n",
       "    .dataframe tbody tr th:only-of-type {\n",
       "        vertical-align: middle;\n",
       "    }\n",
       "\n",
       "    .dataframe tbody tr th {\n",
       "        vertical-align: top;\n",
       "    }\n",
       "\n",
       "    .dataframe thead th {\n",
       "        text-align: right;\n",
       "    }\n",
       "</style>\n",
       "<table border=\"1\" class=\"dataframe\">\n",
       "  <thead>\n",
       "    <tr style=\"text-align: right;\">\n",
       "      <th></th>\n",
       "      <th>data1</th>\n",
       "      <th>key_a</th>\n",
       "      <th>key_b</th>\n",
       "      <th>key_c</th>\n",
       "    </tr>\n",
       "  </thead>\n",
       "  <tbody>\n",
       "    <tr>\n",
       "      <th>0</th>\n",
       "      <td>0</td>\n",
       "      <td>0</td>\n",
       "      <td>1</td>\n",
       "      <td>0</td>\n",
       "    </tr>\n",
       "    <tr>\n",
       "      <th>1</th>\n",
       "      <td>1</td>\n",
       "      <td>0</td>\n",
       "      <td>1</td>\n",
       "      <td>0</td>\n",
       "    </tr>\n",
       "    <tr>\n",
       "      <th>2</th>\n",
       "      <td>2</td>\n",
       "      <td>1</td>\n",
       "      <td>0</td>\n",
       "      <td>0</td>\n",
       "    </tr>\n",
       "    <tr>\n",
       "      <th>3</th>\n",
       "      <td>3</td>\n",
       "      <td>0</td>\n",
       "      <td>0</td>\n",
       "      <td>1</td>\n",
       "    </tr>\n",
       "    <tr>\n",
       "      <th>4</th>\n",
       "      <td>4</td>\n",
       "      <td>1</td>\n",
       "      <td>0</td>\n",
       "      <td>0</td>\n",
       "    </tr>\n",
       "    <tr>\n",
       "      <th>5</th>\n",
       "      <td>5</td>\n",
       "      <td>0</td>\n",
       "      <td>1</td>\n",
       "      <td>0</td>\n",
       "    </tr>\n",
       "  </tbody>\n",
       "</table>\n",
       "</div>"
      ],
      "text/plain": [
       "   data1  key_a  key_b  key_c\n",
       "0      0      0      1      0\n",
       "1      1      0      1      0\n",
       "2      2      1      0      0\n",
       "3      3      0      0      1\n",
       "4      4      1      0      0\n",
       "5      5      0      1      0"
      ]
     },
     "execution_count": 163,
     "metadata": {},
     "output_type": "execute_result"
    }
   ],
   "source": [
    "df_with_dummy"
   ]
  },
  {
   "cell_type": "markdown",
   "metadata": {},
   "source": [
    "如果DataFrame中的某行同属于多个分类，则事情就会有点复杂。"
   ]
  },
  {
   "cell_type": "markdown",
   "metadata": {},
   "source": [
    "一个对统计应用有用的秘诀是：结合get_dummies和诸如cut之类的离散化函数。"
   ]
  },
  {
   "cell_type": "code",
   "execution_count": 164,
   "metadata": {},
   "outputs": [],
   "source": [
    "values = np.random.rand(10)"
   ]
  },
  {
   "cell_type": "code",
   "execution_count": 165,
   "metadata": {},
   "outputs": [
    {
     "data": {
      "text/plain": [
       "array([0.75603383, 0.90830844, 0.96588737, 0.17373658, 0.87592824,\n",
       "       0.75415641, 0.163486  , 0.23784062, 0.85564381, 0.58743194])"
      ]
     },
     "execution_count": 165,
     "metadata": {},
     "output_type": "execute_result"
    }
   ],
   "source": [
    "values"
   ]
  },
  {
   "cell_type": "code",
   "execution_count": 166,
   "metadata": {},
   "outputs": [],
   "source": [
    "bins = [0, 0.2, 0.4, 0.6, 0.8, 1]"
   ]
  },
  {
   "cell_type": "code",
   "execution_count": 167,
   "metadata": {},
   "outputs": [
    {
     "data": {
      "text/html": [
       "<div>\n",
       "<style scoped>\n",
       "    .dataframe tbody tr th:only-of-type {\n",
       "        vertical-align: middle;\n",
       "    }\n",
       "\n",
       "    .dataframe tbody tr th {\n",
       "        vertical-align: top;\n",
       "    }\n",
       "\n",
       "    .dataframe thead th {\n",
       "        text-align: right;\n",
       "    }\n",
       "</style>\n",
       "<table border=\"1\" class=\"dataframe\">\n",
       "  <thead>\n",
       "    <tr style=\"text-align: right;\">\n",
       "      <th></th>\n",
       "      <th>(0.0, 0.2]</th>\n",
       "      <th>(0.2, 0.4]</th>\n",
       "      <th>(0.4, 0.6]</th>\n",
       "      <th>(0.6, 0.8]</th>\n",
       "      <th>(0.8, 1.0]</th>\n",
       "    </tr>\n",
       "  </thead>\n",
       "  <tbody>\n",
       "    <tr>\n",
       "      <th>0</th>\n",
       "      <td>0</td>\n",
       "      <td>0</td>\n",
       "      <td>0</td>\n",
       "      <td>1</td>\n",
       "      <td>0</td>\n",
       "    </tr>\n",
       "    <tr>\n",
       "      <th>1</th>\n",
       "      <td>0</td>\n",
       "      <td>0</td>\n",
       "      <td>0</td>\n",
       "      <td>0</td>\n",
       "      <td>1</td>\n",
       "    </tr>\n",
       "    <tr>\n",
       "      <th>2</th>\n",
       "      <td>0</td>\n",
       "      <td>0</td>\n",
       "      <td>0</td>\n",
       "      <td>0</td>\n",
       "      <td>1</td>\n",
       "    </tr>\n",
       "    <tr>\n",
       "      <th>3</th>\n",
       "      <td>1</td>\n",
       "      <td>0</td>\n",
       "      <td>0</td>\n",
       "      <td>0</td>\n",
       "      <td>0</td>\n",
       "    </tr>\n",
       "    <tr>\n",
       "      <th>4</th>\n",
       "      <td>0</td>\n",
       "      <td>0</td>\n",
       "      <td>0</td>\n",
       "      <td>0</td>\n",
       "      <td>1</td>\n",
       "    </tr>\n",
       "    <tr>\n",
       "      <th>5</th>\n",
       "      <td>0</td>\n",
       "      <td>0</td>\n",
       "      <td>0</td>\n",
       "      <td>1</td>\n",
       "      <td>0</td>\n",
       "    </tr>\n",
       "    <tr>\n",
       "      <th>6</th>\n",
       "      <td>1</td>\n",
       "      <td>0</td>\n",
       "      <td>0</td>\n",
       "      <td>0</td>\n",
       "      <td>0</td>\n",
       "    </tr>\n",
       "    <tr>\n",
       "      <th>7</th>\n",
       "      <td>0</td>\n",
       "      <td>1</td>\n",
       "      <td>0</td>\n",
       "      <td>0</td>\n",
       "      <td>0</td>\n",
       "    </tr>\n",
       "    <tr>\n",
       "      <th>8</th>\n",
       "      <td>0</td>\n",
       "      <td>0</td>\n",
       "      <td>0</td>\n",
       "      <td>0</td>\n",
       "      <td>1</td>\n",
       "    </tr>\n",
       "    <tr>\n",
       "      <th>9</th>\n",
       "      <td>0</td>\n",
       "      <td>0</td>\n",
       "      <td>1</td>\n",
       "      <td>0</td>\n",
       "      <td>0</td>\n",
       "    </tr>\n",
       "  </tbody>\n",
       "</table>\n",
       "</div>"
      ],
      "text/plain": [
       "   (0.0, 0.2]  (0.2, 0.4]  (0.4, 0.6]  (0.6, 0.8]  (0.8, 1.0]\n",
       "0           0           0           0           1           0\n",
       "1           0           0           0           0           1\n",
       "2           0           0           0           0           1\n",
       "3           1           0           0           0           0\n",
       "4           0           0           0           0           1\n",
       "5           0           0           0           1           0\n",
       "6           1           0           0           0           0\n",
       "7           0           1           0           0           0\n",
       "8           0           0           0           0           1\n",
       "9           0           0           1           0           0"
      ]
     },
     "execution_count": 167,
     "metadata": {},
     "output_type": "execute_result"
    }
   ],
   "source": [
    "pd.get_dummies(pd.cut(values, bins))"
   ]
  },
  {
   "cell_type": "markdown",
   "metadata": {},
   "source": [
    "## 字符串对象方法"
   ]
  },
  {
   "cell_type": "code",
   "execution_count": 168,
   "metadata": {},
   "outputs": [],
   "source": [
    "val = 'a,b, guido'"
   ]
  },
  {
   "cell_type": "code",
   "execution_count": 169,
   "metadata": {},
   "outputs": [
    {
     "data": {
      "text/plain": [
       "['a', 'b', ' guido']"
      ]
     },
     "execution_count": 169,
     "metadata": {},
     "output_type": "execute_result"
    }
   ],
   "source": [
    "val.split(',')"
   ]
  },
  {
   "cell_type": "code",
   "execution_count": 170,
   "metadata": {},
   "outputs": [],
   "source": [
    "pieces = [x.strip() for x in val.split(',')]"
   ]
  },
  {
   "cell_type": "code",
   "execution_count": 171,
   "metadata": {},
   "outputs": [
    {
     "data": {
      "text/plain": [
       "['a', 'b', 'guido']"
      ]
     },
     "execution_count": 171,
     "metadata": {},
     "output_type": "execute_result"
    }
   ],
   "source": [
    "pieces"
   ]
  },
  {
   "cell_type": "code",
   "execution_count": 172,
   "metadata": {},
   "outputs": [
    {
     "data": {
      "text/plain": [
       "'a::b::guido'"
      ]
     },
     "execution_count": 172,
     "metadata": {},
     "output_type": "execute_result"
    }
   ],
   "source": [
    "'::'.join(pieces)"
   ]
  },
  {
   "cell_type": "markdown",
   "metadata": {},
   "source": [
    "检测子串的最佳方式是利用Python的in关键字（当然还可以使用index和find）："
   ]
  },
  {
   "cell_type": "code",
   "execution_count": 173,
   "metadata": {},
   "outputs": [
    {
     "data": {
      "text/plain": [
       "True"
      ]
     },
     "execution_count": 173,
     "metadata": {},
     "output_type": "execute_result"
    }
   ],
   "source": [
    "'guido' in val"
   ]
  },
  {
   "cell_type": "code",
   "execution_count": 174,
   "metadata": {},
   "outputs": [
    {
     "data": {
      "text/plain": [
       "1"
      ]
     },
     "execution_count": 174,
     "metadata": {},
     "output_type": "execute_result"
    }
   ],
   "source": [
    "val.index(',')"
   ]
  },
  {
   "cell_type": "code",
   "execution_count": 175,
   "metadata": {},
   "outputs": [
    {
     "data": {
      "text/plain": [
       "-1"
      ]
     },
     "execution_count": 175,
     "metadata": {},
     "output_type": "execute_result"
    }
   ],
   "source": [
    "val.find(':') # Return -1 on failure."
   ]
  },
  {
   "cell_type": "markdown",
   "metadata": {},
   "source": [
    "注意find和index的区别：如果找不到字符串，index将会引发一个异常（而不是返回-1）"
   ]
  },
  {
   "cell_type": "markdown",
   "metadata": {},
   "source": [
    "此外还有一个count函数，它可以返回指定子串的出现次数："
   ]
  },
  {
   "cell_type": "code",
   "execution_count": 176,
   "metadata": {},
   "outputs": [
    {
     "data": {
      "text/plain": [
       "2"
      ]
     },
     "execution_count": 176,
     "metadata": {},
     "output_type": "execute_result"
    }
   ],
   "source": [
    "val.count(',')"
   ]
  },
  {
   "cell_type": "markdown",
   "metadata": {},
   "source": [
    "## 正则表达式（regular expression）\n",
    "re函数可以分为三个大类：模式匹配、替换以及拆分。  "
   ]
  },
  {
   "cell_type": "code",
   "execution_count": 177,
   "metadata": {},
   "outputs": [],
   "source": [
    "import re"
   ]
  },
  {
   "cell_type": "code",
   "execution_count": 178,
   "metadata": {},
   "outputs": [],
   "source": [
    "text = 'foo bar\\t baz  \\tqux'"
   ]
  },
  {
   "cell_type": "code",
   "execution_count": 179,
   "metadata": {},
   "outputs": [
    {
     "data": {
      "text/plain": [
       "['foo', 'bar', 'baz', 'qux']"
      ]
     },
     "execution_count": 179,
     "metadata": {},
     "output_type": "execute_result"
    }
   ],
   "source": [
    "re.split('\\s+', text)"
   ]
  },
  {
   "cell_type": "markdown",
   "metadata": {},
   "source": [
    "你可以用re.compile自己编译regex以得到一个可重用的regex对象："
   ]
  },
  {
   "cell_type": "code",
   "execution_count": 180,
   "metadata": {},
   "outputs": [],
   "source": [
    "regex = re.compile('\\s+') # Compile a regular expression pattern, returning a pattern object."
   ]
  },
  {
   "cell_type": "code",
   "execution_count": 181,
   "metadata": {},
   "outputs": [
    {
     "data": {
      "text/plain": [
       "['foo', 'bar', 'baz', 'qux']"
      ]
     },
     "execution_count": 181,
     "metadata": {},
     "output_type": "execute_result"
    }
   ],
   "source": [
    "regex.split(text)"
   ]
  },
  {
   "cell_type": "markdown",
   "metadata": {},
   "source": [
    "如果只希望得到匹配regex的所有模式，则可以使用findall方法："
   ]
  },
  {
   "cell_type": "code",
   "execution_count": 182,
   "metadata": {},
   "outputs": [
    {
     "data": {
      "text/plain": [
       "[' ', '\\t ', '  \\t']"
      ]
     },
     "execution_count": 182,
     "metadata": {},
     "output_type": "execute_result"
    }
   ],
   "source": [
    "regex.findall(text)"
   ]
  },
  {
   "cell_type": "markdown",
   "metadata": {},
   "source": [
    "如果打算对许多字符应用同一条正则表达式，强烈建议通过re.compile创建regex对象。这样将可以节省大量的CPU时间。"
   ]
  },
  {
   "cell_type": "markdown",
   "metadata": {},
   "source": [
    "match和search跟findall功能类似，findall返回的是字符串中所有的匹配项，而serch则返回第一个匹配项。match更加严格，它只匹配字符串的首部。"
   ]
  },
  {
   "cell_type": "code",
   "execution_count": 183,
   "metadata": {},
   "outputs": [],
   "source": [
    "text = \"\"\"Dave dave@google.com\n",
    "Steve steve@gmail.com\n",
    "Rob rob@gmail.com\n",
    "Ryan ryan@yahoo.com\"\"\""
   ]
  },
  {
   "cell_type": "code",
   "execution_count": 184,
   "metadata": {},
   "outputs": [],
   "source": [
    "pattern = r'[A-Z0-9._%+-]+@[A-Z0-9.-]+\\.[A-Z]{2,4}'"
   ]
  },
  {
   "cell_type": "code",
   "execution_count": 185,
   "metadata": {},
   "outputs": [],
   "source": [
    "# re.IGNORECASE的作用是使正则表达式对大小写不敏感\n",
    "regex = re.compile(pattern, flags=re.IGNORECASE)"
   ]
  },
  {
   "cell_type": "code",
   "execution_count": 186,
   "metadata": {},
   "outputs": [
    {
     "data": {
      "text/plain": [
       "['dave@google.com', 'steve@gmail.com', 'rob@gmail.com', 'ryan@yahoo.com']"
      ]
     },
     "execution_count": 186,
     "metadata": {},
     "output_type": "execute_result"
    }
   ],
   "source": [
    "regex.findall(text)"
   ]
  },
  {
   "cell_type": "markdown",
   "metadata": {},
   "source": [
    "对于上面那个regex，匹配项对象只能告诉我们模式在原字符串中的起始和结束位置："
   ]
  },
  {
   "cell_type": "code",
   "execution_count": 187,
   "metadata": {},
   "outputs": [],
   "source": [
    "m = regex.search(text)"
   ]
  },
  {
   "cell_type": "code",
   "execution_count": 188,
   "metadata": {},
   "outputs": [
    {
     "data": {
      "text/plain": [
       "<_sre.SRE_Match object; span=(5, 20), match='dave@google.com'>"
      ]
     },
     "execution_count": 188,
     "metadata": {},
     "output_type": "execute_result"
    }
   ],
   "source": [
    "m"
   ]
  },
  {
   "cell_type": "code",
   "execution_count": 189,
   "metadata": {},
   "outputs": [
    {
     "data": {
      "text/plain": [
       "'dave@google.com'"
      ]
     },
     "execution_count": 189,
     "metadata": {},
     "output_type": "execute_result"
    }
   ],
   "source": [
    "text[m.start():m.end()]"
   ]
  },
  {
   "cell_type": "markdown",
   "metadata": {},
   "source": [
    "regex.match则将返回None，因为它只匹配出现在字符串开头的模式："
   ]
  },
  {
   "cell_type": "code",
   "execution_count": 190,
   "metadata": {},
   "outputs": [
    {
     "name": "stdout",
     "output_type": "stream",
     "text": [
      "None\n"
     ]
    }
   ],
   "source": [
    "print(regex.match(text))"
   ]
  },
  {
   "cell_type": "markdown",
   "metadata": {},
   "source": [
    "还有一个sub方法，将匹配到的模式替换为指定字符串，并返回所得到的新字符串："
   ]
  },
  {
   "cell_type": "code",
   "execution_count": 191,
   "metadata": {},
   "outputs": [
    {
     "name": "stdout",
     "output_type": "stream",
     "text": [
      "Dave REDACTED\n",
      "Steve REDACTED\n",
      "Rob REDACTED\n",
      "Ryan REDACTED\n"
     ]
    }
   ],
   "source": [
    "print(regex.sub('REDACTED', text))"
   ]
  },
  {
   "cell_type": "markdown",
   "metadata": {},
   "source": [
    "假设你不仅想要找出电子邮件地址，还想将各个地址分成3个部分：用户名、域名、以及域后缀。要实现此功能，只需将待分段的模式的各部分用圆括号包起来即可："
   ]
  },
  {
   "cell_type": "code",
   "execution_count": 192,
   "metadata": {},
   "outputs": [],
   "source": [
    "pattern = r'([A-Z0-9._%+-]+)@([A-Z0-9.-]+)\\.([A-Z]{2,4})'"
   ]
  },
  {
   "cell_type": "code",
   "execution_count": 193,
   "metadata": {},
   "outputs": [],
   "source": [
    "regex = re.compile(pattern, flags=re.IGNORECASE)"
   ]
  },
  {
   "cell_type": "markdown",
   "metadata": {},
   "source": [
    "由这种正则表达式所产生的匹配项对象，可以通过其groups方法返回一个由模式各段组成的元组："
   ]
  },
  {
   "cell_type": "code",
   "execution_count": 194,
   "metadata": {},
   "outputs": [],
   "source": [
    "m = regex.match('wesm@bright.net')"
   ]
  },
  {
   "cell_type": "code",
   "execution_count": 195,
   "metadata": {},
   "outputs": [
    {
     "data": {
      "text/plain": [
       "('wesm', 'bright', 'net')"
      ]
     },
     "execution_count": 195,
     "metadata": {},
     "output_type": "execute_result"
    }
   ],
   "source": [
    "m.groups()"
   ]
  },
  {
   "cell_type": "markdown",
   "metadata": {},
   "source": [
    "sub还能通过诸如\\1、\\2之类的特殊符号访问各匹配项中的分组："
   ]
  },
  {
   "cell_type": "code",
   "execution_count": 196,
   "metadata": {},
   "outputs": [
    {
     "name": "stdout",
     "output_type": "stream",
     "text": [
      "Dave Username: dave, Domain: google, SUffix: com\n",
      "Steve Username: steve, Domain: gmail, SUffix: com\n",
      "Rob Username: rob, Domain: gmail, SUffix: com\n",
      "Ryan Username: ryan, Domain: yahoo, SUffix: com\n"
     ]
    }
   ],
   "source": [
    "print(regex.sub(r'Username: \\1, Domain: \\2, SUffix: \\3', text))"
   ]
  },
  {
   "cell_type": "markdown",
   "metadata": {},
   "source": [
    "## pandas中矢量化的字符串函数"
   ]
  },
  {
   "cell_type": "code",
   "execution_count": 197,
   "metadata": {},
   "outputs": [],
   "source": [
    "data = {'Dave': 'dave@google.com', 'Steve': 'steve@gmail.com', \n",
    "        'Rob': 'rob@gmail.com', 'Wes': np.nan}"
   ]
  },
  {
   "cell_type": "code",
   "execution_count": 198,
   "metadata": {},
   "outputs": [],
   "source": [
    "data = Series(data)"
   ]
  },
  {
   "cell_type": "code",
   "execution_count": 199,
   "metadata": {},
   "outputs": [
    {
     "data": {
      "text/plain": [
       "Dave     dave@google.com\n",
       "Rob        rob@gmail.com\n",
       "Steve    steve@gmail.com\n",
       "Wes                  NaN\n",
       "dtype: object"
      ]
     },
     "execution_count": 199,
     "metadata": {},
     "output_type": "execute_result"
    }
   ],
   "source": [
    "data"
   ]
  },
  {
   "cell_type": "code",
   "execution_count": 200,
   "metadata": {},
   "outputs": [
    {
     "data": {
      "text/plain": [
       "Dave     False\n",
       "Rob      False\n",
       "Steve    False\n",
       "Wes       True\n",
       "dtype: bool"
      ]
     },
     "execution_count": 200,
     "metadata": {},
     "output_type": "execute_result"
    }
   ],
   "source": [
    "data.isnull()"
   ]
  },
  {
   "cell_type": "markdown",
   "metadata": {},
   "source": [
    "所有字符串和正则表达式方法都能被应用于各个值，但是如果存在NA就会报错。  \n",
    "为了解决这个问题，Series有一些能够跳过NA值的字符串操作方法。通过Series的str属性即可访问这些方法。"
   ]
  },
  {
   "cell_type": "code",
   "execution_count": 201,
   "metadata": {},
   "outputs": [
    {
     "data": {
      "text/plain": [
       "Dave     False\n",
       "Rob       True\n",
       "Steve     True\n",
       "Wes        NaN\n",
       "dtype: object"
      ]
     },
     "execution_count": 201,
     "metadata": {},
     "output_type": "execute_result"
    }
   ],
   "source": [
    "data.str.contains('gmail')"
   ]
  },
  {
   "cell_type": "markdown",
   "metadata": {},
   "source": [
    "这里也可以使用正则表达式，还可以加上任意re选项（如IGNORECASE）："
   ]
  },
  {
   "cell_type": "code",
   "execution_count": 202,
   "metadata": {},
   "outputs": [
    {
     "data": {
      "text/plain": [
       "'([A-Z0-9._%+-]+)@([A-Z0-9.-]+)\\\\.([A-Z]{2,4})'"
      ]
     },
     "execution_count": 202,
     "metadata": {},
     "output_type": "execute_result"
    }
   ],
   "source": [
    "pattern"
   ]
  },
  {
   "cell_type": "code",
   "execution_count": 203,
   "metadata": {},
   "outputs": [
    {
     "data": {
      "text/plain": [
       "Dave     [(dave, google, com)]\n",
       "Rob        [(rob, gmail, com)]\n",
       "Steve    [(steve, gmail, com)]\n",
       "Wes                        NaN\n",
       "dtype: object"
      ]
     },
     "execution_count": 203,
     "metadata": {},
     "output_type": "execute_result"
    }
   ],
   "source": [
    "data.str.findall(pattern, flags=re.IGNORECASE)"
   ]
  },
  {
   "cell_type": "markdown",
   "metadata": {},
   "source": [
    "有两个办法可以实现矢量化的元素获取操作：要么使用str.get，要么在str属性上使用索引。"
   ]
  },
  {
   "cell_type": "code",
   "execution_count": 204,
   "metadata": {},
   "outputs": [],
   "source": [
    "matches = data.str.match(pattern, flags=re.IGNORECASE) "
   ]
  },
  {
   "cell_type": "code",
   "execution_count": 205,
   "metadata": {},
   "outputs": [
    {
     "data": {
      "text/plain": [
       "Dave     True\n",
       "Rob      True\n",
       "Steve    True\n",
       "Wes       NaN\n",
       "dtype: object"
      ]
     },
     "execution_count": 205,
     "metadata": {},
     "output_type": "execute_result"
    }
   ],
   "source": [
    "matches # FutureWarning: In future versions of pandas, match will change to always return a bool indexer."
   ]
  },
  {
   "cell_type": "markdown",
   "metadata": {},
   "source": [
    "你可以利用下面这种代码对字符串进行子串截取："
   ]
  },
  {
   "cell_type": "code",
   "execution_count": 206,
   "metadata": {},
   "outputs": [
    {
     "data": {
      "text/plain": [
       "Dave     dave@\n",
       "Rob      rob@g\n",
       "Steve    steve\n",
       "Wes        NaN\n",
       "dtype: object"
      ]
     },
     "execution_count": 206,
     "metadata": {},
     "output_type": "execute_result"
    }
   ],
   "source": [
    "data.str[:5]"
   ]
  },
  {
   "cell_type": "markdown",
   "metadata": {},
   "source": [
    "## 示例：USDA食品数据库"
   ]
  },
  {
   "cell_type": "code",
   "execution_count": 207,
   "metadata": {},
   "outputs": [],
   "source": [
    "import json"
   ]
  },
  {
   "cell_type": "code",
   "execution_count": 208,
   "metadata": {},
   "outputs": [],
   "source": [
    "db = json.load(open('foods-2011-10-03.json'))"
   ]
  },
  {
   "cell_type": "code",
   "execution_count": 209,
   "metadata": {},
   "outputs": [
    {
     "data": {
      "text/plain": [
       "6636"
      ]
     },
     "execution_count": 209,
     "metadata": {},
     "output_type": "execute_result"
    }
   ],
   "source": [
    "len(db)"
   ]
  },
  {
   "cell_type": "code",
   "execution_count": 210,
   "metadata": {},
   "outputs": [
    {
     "data": {
      "text/plain": [
       "dict_keys(['id', 'description', 'tags', 'manufacturer', 'group', 'portions', 'nutrients'])"
      ]
     },
     "execution_count": 210,
     "metadata": {},
     "output_type": "execute_result"
    }
   ],
   "source": [
    "db[0].keys()"
   ]
  },
  {
   "cell_type": "code",
   "execution_count": 211,
   "metadata": {},
   "outputs": [
    {
     "data": {
      "text/plain": [
       "{'description': 'Protein',\n",
       " 'group': 'Composition',\n",
       " 'units': 'g',\n",
       " 'value': 25.18}"
      ]
     },
     "execution_count": 211,
     "metadata": {},
     "output_type": "execute_result"
    }
   ],
   "source": [
    "db[0]['nutrients'][0]"
   ]
  },
  {
   "cell_type": "code",
   "execution_count": 212,
   "metadata": {},
   "outputs": [],
   "source": [
    "nutrients = DataFrame(db[0]['nutrients'])"
   ]
  },
  {
   "cell_type": "code",
   "execution_count": 213,
   "metadata": {},
   "outputs": [
    {
     "data": {
      "text/html": [
       "<div>\n",
       "<style scoped>\n",
       "    .dataframe tbody tr th:only-of-type {\n",
       "        vertical-align: middle;\n",
       "    }\n",
       "\n",
       "    .dataframe tbody tr th {\n",
       "        vertical-align: top;\n",
       "    }\n",
       "\n",
       "    .dataframe thead th {\n",
       "        text-align: right;\n",
       "    }\n",
       "</style>\n",
       "<table border=\"1\" class=\"dataframe\">\n",
       "  <thead>\n",
       "    <tr style=\"text-align: right;\">\n",
       "      <th></th>\n",
       "      <th>description</th>\n",
       "      <th>group</th>\n",
       "      <th>units</th>\n",
       "      <th>value</th>\n",
       "    </tr>\n",
       "  </thead>\n",
       "  <tbody>\n",
       "    <tr>\n",
       "      <th>0</th>\n",
       "      <td>Protein</td>\n",
       "      <td>Composition</td>\n",
       "      <td>g</td>\n",
       "      <td>25.18</td>\n",
       "    </tr>\n",
       "    <tr>\n",
       "      <th>1</th>\n",
       "      <td>Total lipid (fat)</td>\n",
       "      <td>Composition</td>\n",
       "      <td>g</td>\n",
       "      <td>29.20</td>\n",
       "    </tr>\n",
       "    <tr>\n",
       "      <th>2</th>\n",
       "      <td>Carbohydrate, by difference</td>\n",
       "      <td>Composition</td>\n",
       "      <td>g</td>\n",
       "      <td>3.06</td>\n",
       "    </tr>\n",
       "    <tr>\n",
       "      <th>3</th>\n",
       "      <td>Ash</td>\n",
       "      <td>Other</td>\n",
       "      <td>g</td>\n",
       "      <td>3.28</td>\n",
       "    </tr>\n",
       "    <tr>\n",
       "      <th>4</th>\n",
       "      <td>Energy</td>\n",
       "      <td>Energy</td>\n",
       "      <td>kcal</td>\n",
       "      <td>376.00</td>\n",
       "    </tr>\n",
       "    <tr>\n",
       "      <th>5</th>\n",
       "      <td>Water</td>\n",
       "      <td>Composition</td>\n",
       "      <td>g</td>\n",
       "      <td>39.28</td>\n",
       "    </tr>\n",
       "    <tr>\n",
       "      <th>6</th>\n",
       "      <td>Energy</td>\n",
       "      <td>Energy</td>\n",
       "      <td>kJ</td>\n",
       "      <td>1573.00</td>\n",
       "    </tr>\n",
       "  </tbody>\n",
       "</table>\n",
       "</div>"
      ],
      "text/plain": [
       "                   description        group units    value\n",
       "0                      Protein  Composition     g    25.18\n",
       "1            Total lipid (fat)  Composition     g    29.20\n",
       "2  Carbohydrate, by difference  Composition     g     3.06\n",
       "3                          Ash        Other     g     3.28\n",
       "4                       Energy       Energy  kcal   376.00\n",
       "5                        Water  Composition     g    39.28\n",
       "6                       Energy       Energy    kJ  1573.00"
      ]
     },
     "execution_count": 213,
     "metadata": {},
     "output_type": "execute_result"
    }
   ],
   "source": [
    "nutrients[:7]"
   ]
  },
  {
   "cell_type": "markdown",
   "metadata": {},
   "source": [
    "在将字典列表转换为DataFrame时，可以只抽取其中的一部分字段。这里我们将取出食物的名称、分类、编号以及制造商等信息："
   ]
  },
  {
   "cell_type": "code",
   "execution_count": 214,
   "metadata": {},
   "outputs": [],
   "source": [
    "info_keys = ['description', 'group', 'id', 'manufacturer']"
   ]
  },
  {
   "cell_type": "code",
   "execution_count": 215,
   "metadata": {},
   "outputs": [],
   "source": [
    "info = DataFrame(db, columns=info_keys)"
   ]
  },
  {
   "cell_type": "code",
   "execution_count": 216,
   "metadata": {},
   "outputs": [
    {
     "data": {
      "text/html": [
       "<div>\n",
       "<style scoped>\n",
       "    .dataframe tbody tr th:only-of-type {\n",
       "        vertical-align: middle;\n",
       "    }\n",
       "\n",
       "    .dataframe tbody tr th {\n",
       "        vertical-align: top;\n",
       "    }\n",
       "\n",
       "    .dataframe thead th {\n",
       "        text-align: right;\n",
       "    }\n",
       "</style>\n",
       "<table border=\"1\" class=\"dataframe\">\n",
       "  <thead>\n",
       "    <tr style=\"text-align: right;\">\n",
       "      <th></th>\n",
       "      <th>description</th>\n",
       "      <th>group</th>\n",
       "      <th>id</th>\n",
       "      <th>manufacturer</th>\n",
       "    </tr>\n",
       "  </thead>\n",
       "  <tbody>\n",
       "    <tr>\n",
       "      <th>0</th>\n",
       "      <td>Cheese, caraway</td>\n",
       "      <td>Dairy and Egg Products</td>\n",
       "      <td>1008</td>\n",
       "      <td></td>\n",
       "    </tr>\n",
       "    <tr>\n",
       "      <th>1</th>\n",
       "      <td>Cheese, cheddar</td>\n",
       "      <td>Dairy and Egg Products</td>\n",
       "      <td>1009</td>\n",
       "      <td></td>\n",
       "    </tr>\n",
       "    <tr>\n",
       "      <th>2</th>\n",
       "      <td>Cheese, edam</td>\n",
       "      <td>Dairy and Egg Products</td>\n",
       "      <td>1018</td>\n",
       "      <td></td>\n",
       "    </tr>\n",
       "    <tr>\n",
       "      <th>3</th>\n",
       "      <td>Cheese, feta</td>\n",
       "      <td>Dairy and Egg Products</td>\n",
       "      <td>1019</td>\n",
       "      <td></td>\n",
       "    </tr>\n",
       "    <tr>\n",
       "      <th>4</th>\n",
       "      <td>Cheese, mozzarella, part skim milk</td>\n",
       "      <td>Dairy and Egg Products</td>\n",
       "      <td>1028</td>\n",
       "      <td></td>\n",
       "    </tr>\n",
       "  </tbody>\n",
       "</table>\n",
       "</div>"
      ],
      "text/plain": [
       "                          description                   group    id  \\\n",
       "0                     Cheese, caraway  Dairy and Egg Products  1008   \n",
       "1                     Cheese, cheddar  Dairy and Egg Products  1009   \n",
       "2                        Cheese, edam  Dairy and Egg Products  1018   \n",
       "3                        Cheese, feta  Dairy and Egg Products  1019   \n",
       "4  Cheese, mozzarella, part skim milk  Dairy and Egg Products  1028   \n",
       "\n",
       "  manufacturer  \n",
       "0               \n",
       "1               \n",
       "2               \n",
       "3               \n",
       "4               "
      ]
     },
     "execution_count": 216,
     "metadata": {},
     "output_type": "execute_result"
    }
   ],
   "source": [
    "info.head()"
   ]
  },
  {
   "cell_type": "markdown",
   "metadata": {},
   "source": [
    "通过value_counts，可以查看食物类别的分布情况："
   ]
  },
  {
   "cell_type": "code",
   "execution_count": 217,
   "metadata": {},
   "outputs": [
    {
     "data": {
      "text/plain": [
       "Vegetables and Vegetable Products    812\n",
       "Beef Products                        618\n",
       "Baked Products                       496\n",
       "Breakfast Cereals                    403\n",
       "Fast Foods                           365\n",
       "Legumes and Legume Products          365\n",
       "Lamb, Veal, and Game Products        345\n",
       "Sweets                               341\n",
       "Pork Products                        328\n",
       "Fruits and Fruit Juices              328\n",
       "Name: group, dtype: int64"
      ]
     },
     "execution_count": 217,
     "metadata": {},
     "output_type": "execute_result"
    }
   ],
   "source": [
    "pd.value_counts(info.group)[:10]"
   ]
  },
  {
   "cell_type": "markdown",
   "metadata": {},
   "source": [
    "现在为了对全部营养数据做一些分析，最简单的办法是将所有食物的营养成分整合到一个大表中。我们分几个步骤来实现该目的。首先，将各食物的营养成分列表转换为一个DataFrame，并添加一个表示编号的列，然后将该DataFrame添加到一个列表中。最后通过concat将这些东西连接起来就可以了："
   ]
  },
  {
   "cell_type": "code",
   "execution_count": 218,
   "metadata": {},
   "outputs": [],
   "source": [
    "nutrients = []"
   ]
  },
  {
   "cell_type": "code",
   "execution_count": 219,
   "metadata": {},
   "outputs": [],
   "source": [
    "for rec in db:\n",
    "    fnuts = DataFrame(rec['nutrients'])\n",
    "    fnuts['id'] = rec['id']\n",
    "    nutrients.append(fnuts)"
   ]
  },
  {
   "cell_type": "code",
   "execution_count": 220,
   "metadata": {},
   "outputs": [],
   "source": [
    "nutrients = pd.concat(nutrients, ignore_index=True)"
   ]
  },
  {
   "cell_type": "code",
   "execution_count": 221,
   "metadata": {
    "scrolled": true
   },
   "outputs": [
    {
     "data": {
      "text/html": [
       "<div>\n",
       "<style scoped>\n",
       "    .dataframe tbody tr th:only-of-type {\n",
       "        vertical-align: middle;\n",
       "    }\n",
       "\n",
       "    .dataframe tbody tr th {\n",
       "        vertical-align: top;\n",
       "    }\n",
       "\n",
       "    .dataframe thead th {\n",
       "        text-align: right;\n",
       "    }\n",
       "</style>\n",
       "<table border=\"1\" class=\"dataframe\">\n",
       "  <thead>\n",
       "    <tr style=\"text-align: right;\">\n",
       "      <th></th>\n",
       "      <th>description</th>\n",
       "      <th>group</th>\n",
       "      <th>units</th>\n",
       "      <th>value</th>\n",
       "      <th>id</th>\n",
       "    </tr>\n",
       "  </thead>\n",
       "  <tbody>\n",
       "    <tr>\n",
       "      <th>0</th>\n",
       "      <td>Protein</td>\n",
       "      <td>Composition</td>\n",
       "      <td>g</td>\n",
       "      <td>25.180</td>\n",
       "      <td>1008</td>\n",
       "    </tr>\n",
       "    <tr>\n",
       "      <th>1</th>\n",
       "      <td>Total lipid (fat)</td>\n",
       "      <td>Composition</td>\n",
       "      <td>g</td>\n",
       "      <td>29.200</td>\n",
       "      <td>1008</td>\n",
       "    </tr>\n",
       "    <tr>\n",
       "      <th>2</th>\n",
       "      <td>Carbohydrate, by difference</td>\n",
       "      <td>Composition</td>\n",
       "      <td>g</td>\n",
       "      <td>3.060</td>\n",
       "      <td>1008</td>\n",
       "    </tr>\n",
       "    <tr>\n",
       "      <th>3</th>\n",
       "      <td>Ash</td>\n",
       "      <td>Other</td>\n",
       "      <td>g</td>\n",
       "      <td>3.280</td>\n",
       "      <td>1008</td>\n",
       "    </tr>\n",
       "    <tr>\n",
       "      <th>4</th>\n",
       "      <td>Energy</td>\n",
       "      <td>Energy</td>\n",
       "      <td>kcal</td>\n",
       "      <td>376.000</td>\n",
       "      <td>1008</td>\n",
       "    </tr>\n",
       "    <tr>\n",
       "      <th>5</th>\n",
       "      <td>Water</td>\n",
       "      <td>Composition</td>\n",
       "      <td>g</td>\n",
       "      <td>39.280</td>\n",
       "      <td>1008</td>\n",
       "    </tr>\n",
       "    <tr>\n",
       "      <th>6</th>\n",
       "      <td>Energy</td>\n",
       "      <td>Energy</td>\n",
       "      <td>kJ</td>\n",
       "      <td>1573.000</td>\n",
       "      <td>1008</td>\n",
       "    </tr>\n",
       "    <tr>\n",
       "      <th>7</th>\n",
       "      <td>Fiber, total dietary</td>\n",
       "      <td>Composition</td>\n",
       "      <td>g</td>\n",
       "      <td>0.000</td>\n",
       "      <td>1008</td>\n",
       "    </tr>\n",
       "    <tr>\n",
       "      <th>8</th>\n",
       "      <td>Calcium, Ca</td>\n",
       "      <td>Elements</td>\n",
       "      <td>mg</td>\n",
       "      <td>673.000</td>\n",
       "      <td>1008</td>\n",
       "    </tr>\n",
       "    <tr>\n",
       "      <th>9</th>\n",
       "      <td>Iron, Fe</td>\n",
       "      <td>Elements</td>\n",
       "      <td>mg</td>\n",
       "      <td>0.640</td>\n",
       "      <td>1008</td>\n",
       "    </tr>\n",
       "    <tr>\n",
       "      <th>10</th>\n",
       "      <td>Magnesium, Mg</td>\n",
       "      <td>Elements</td>\n",
       "      <td>mg</td>\n",
       "      <td>22.000</td>\n",
       "      <td>1008</td>\n",
       "    </tr>\n",
       "    <tr>\n",
       "      <th>11</th>\n",
       "      <td>Phosphorus, P</td>\n",
       "      <td>Elements</td>\n",
       "      <td>mg</td>\n",
       "      <td>490.000</td>\n",
       "      <td>1008</td>\n",
       "    </tr>\n",
       "    <tr>\n",
       "      <th>12</th>\n",
       "      <td>Potassium, K</td>\n",
       "      <td>Elements</td>\n",
       "      <td>mg</td>\n",
       "      <td>93.000</td>\n",
       "      <td>1008</td>\n",
       "    </tr>\n",
       "    <tr>\n",
       "      <th>13</th>\n",
       "      <td>Sodium, Na</td>\n",
       "      <td>Elements</td>\n",
       "      <td>mg</td>\n",
       "      <td>690.000</td>\n",
       "      <td>1008</td>\n",
       "    </tr>\n",
       "    <tr>\n",
       "      <th>14</th>\n",
       "      <td>Zinc, Zn</td>\n",
       "      <td>Elements</td>\n",
       "      <td>mg</td>\n",
       "      <td>2.940</td>\n",
       "      <td>1008</td>\n",
       "    </tr>\n",
       "    <tr>\n",
       "      <th>15</th>\n",
       "      <td>Copper, Cu</td>\n",
       "      <td>Elements</td>\n",
       "      <td>mg</td>\n",
       "      <td>0.024</td>\n",
       "      <td>1008</td>\n",
       "    </tr>\n",
       "    <tr>\n",
       "      <th>16</th>\n",
       "      <td>Manganese, Mn</td>\n",
       "      <td>Elements</td>\n",
       "      <td>mg</td>\n",
       "      <td>0.021</td>\n",
       "      <td>1008</td>\n",
       "    </tr>\n",
       "    <tr>\n",
       "      <th>17</th>\n",
       "      <td>Selenium, Se</td>\n",
       "      <td>Elements</td>\n",
       "      <td>mcg</td>\n",
       "      <td>14.500</td>\n",
       "      <td>1008</td>\n",
       "    </tr>\n",
       "    <tr>\n",
       "      <th>18</th>\n",
       "      <td>Vitamin A, IU</td>\n",
       "      <td>Vitamins</td>\n",
       "      <td>IU</td>\n",
       "      <td>1054.000</td>\n",
       "      <td>1008</td>\n",
       "    </tr>\n",
       "    <tr>\n",
       "      <th>19</th>\n",
       "      <td>Retinol</td>\n",
       "      <td>Vitamins</td>\n",
       "      <td>mcg</td>\n",
       "      <td>262.000</td>\n",
       "      <td>1008</td>\n",
       "    </tr>\n",
       "    <tr>\n",
       "      <th>20</th>\n",
       "      <td>Vitamin A, RAE</td>\n",
       "      <td>Vitamins</td>\n",
       "      <td>mcg_RAE</td>\n",
       "      <td>271.000</td>\n",
       "      <td>1008</td>\n",
       "    </tr>\n",
       "    <tr>\n",
       "      <th>21</th>\n",
       "      <td>Vitamin C, total ascorbic acid</td>\n",
       "      <td>Vitamins</td>\n",
       "      <td>mg</td>\n",
       "      <td>0.000</td>\n",
       "      <td>1008</td>\n",
       "    </tr>\n",
       "    <tr>\n",
       "      <th>22</th>\n",
       "      <td>Thiamin</td>\n",
       "      <td>Vitamins</td>\n",
       "      <td>mg</td>\n",
       "      <td>0.031</td>\n",
       "      <td>1008</td>\n",
       "    </tr>\n",
       "    <tr>\n",
       "      <th>23</th>\n",
       "      <td>Riboflavin</td>\n",
       "      <td>Vitamins</td>\n",
       "      <td>mg</td>\n",
       "      <td>0.450</td>\n",
       "      <td>1008</td>\n",
       "    </tr>\n",
       "    <tr>\n",
       "      <th>24</th>\n",
       "      <td>Niacin</td>\n",
       "      <td>Vitamins</td>\n",
       "      <td>mg</td>\n",
       "      <td>0.180</td>\n",
       "      <td>1008</td>\n",
       "    </tr>\n",
       "    <tr>\n",
       "      <th>25</th>\n",
       "      <td>Pantothenic acid</td>\n",
       "      <td>Vitamins</td>\n",
       "      <td>mg</td>\n",
       "      <td>0.190</td>\n",
       "      <td>1008</td>\n",
       "    </tr>\n",
       "    <tr>\n",
       "      <th>26</th>\n",
       "      <td>Vitamin B-6</td>\n",
       "      <td>Vitamins</td>\n",
       "      <td>mg</td>\n",
       "      <td>0.074</td>\n",
       "      <td>1008</td>\n",
       "    </tr>\n",
       "    <tr>\n",
       "      <th>27</th>\n",
       "      <td>Folate, total</td>\n",
       "      <td>Vitamins</td>\n",
       "      <td>mcg</td>\n",
       "      <td>18.000</td>\n",
       "      <td>1008</td>\n",
       "    </tr>\n",
       "    <tr>\n",
       "      <th>28</th>\n",
       "      <td>Vitamin B-12</td>\n",
       "      <td>Vitamins</td>\n",
       "      <td>mcg</td>\n",
       "      <td>0.270</td>\n",
       "      <td>1008</td>\n",
       "    </tr>\n",
       "    <tr>\n",
       "      <th>29</th>\n",
       "      <td>Folic acid</td>\n",
       "      <td>Vitamins</td>\n",
       "      <td>mcg</td>\n",
       "      <td>0.000</td>\n",
       "      <td>1008</td>\n",
       "    </tr>\n",
       "    <tr>\n",
       "      <th>...</th>\n",
       "      <td>...</td>\n",
       "      <td>...</td>\n",
       "      <td>...</td>\n",
       "      <td>...</td>\n",
       "      <td>...</td>\n",
       "    </tr>\n",
       "    <tr>\n",
       "      <th>389325</th>\n",
       "      <td>Selenium, Se</td>\n",
       "      <td>Elements</td>\n",
       "      <td>mcg</td>\n",
       "      <td>1.100</td>\n",
       "      <td>43546</td>\n",
       "    </tr>\n",
       "    <tr>\n",
       "      <th>389326</th>\n",
       "      <td>Vitamin A, IU</td>\n",
       "      <td>Vitamins</td>\n",
       "      <td>IU</td>\n",
       "      <td>5.000</td>\n",
       "      <td>43546</td>\n",
       "    </tr>\n",
       "    <tr>\n",
       "      <th>389327</th>\n",
       "      <td>Retinol</td>\n",
       "      <td>Vitamins</td>\n",
       "      <td>mcg</td>\n",
       "      <td>0.000</td>\n",
       "      <td>43546</td>\n",
       "    </tr>\n",
       "    <tr>\n",
       "      <th>389328</th>\n",
       "      <td>Vitamin A, RAE</td>\n",
       "      <td>Vitamins</td>\n",
       "      <td>mcg_RAE</td>\n",
       "      <td>0.000</td>\n",
       "      <td>43546</td>\n",
       "    </tr>\n",
       "    <tr>\n",
       "      <th>389329</th>\n",
       "      <td>Carotene, beta</td>\n",
       "      <td>Vitamins</td>\n",
       "      <td>mcg</td>\n",
       "      <td>2.000</td>\n",
       "      <td>43546</td>\n",
       "    </tr>\n",
       "    <tr>\n",
       "      <th>389330</th>\n",
       "      <td>Carotene, alpha</td>\n",
       "      <td>Vitamins</td>\n",
       "      <td>mcg</td>\n",
       "      <td>2.000</td>\n",
       "      <td>43546</td>\n",
       "    </tr>\n",
       "    <tr>\n",
       "      <th>389331</th>\n",
       "      <td>Vitamin E (alpha-tocopherol)</td>\n",
       "      <td>Vitamins</td>\n",
       "      <td>mg</td>\n",
       "      <td>0.250</td>\n",
       "      <td>43546</td>\n",
       "    </tr>\n",
       "    <tr>\n",
       "      <th>389332</th>\n",
       "      <td>Vitamin D</td>\n",
       "      <td>Vitamins</td>\n",
       "      <td>IU</td>\n",
       "      <td>0.000</td>\n",
       "      <td>43546</td>\n",
       "    </tr>\n",
       "    <tr>\n",
       "      <th>389333</th>\n",
       "      <td>Vitamin D (D2 + D3)</td>\n",
       "      <td>Vitamins</td>\n",
       "      <td>mcg</td>\n",
       "      <td>0.000</td>\n",
       "      <td>43546</td>\n",
       "    </tr>\n",
       "    <tr>\n",
       "      <th>389334</th>\n",
       "      <td>Cryptoxanthin, beta</td>\n",
       "      <td>Vitamins</td>\n",
       "      <td>mcg</td>\n",
       "      <td>0.000</td>\n",
       "      <td>43546</td>\n",
       "    </tr>\n",
       "    <tr>\n",
       "      <th>389335</th>\n",
       "      <td>Lycopene</td>\n",
       "      <td>Vitamins</td>\n",
       "      <td>mcg</td>\n",
       "      <td>0.000</td>\n",
       "      <td>43546</td>\n",
       "    </tr>\n",
       "    <tr>\n",
       "      <th>389336</th>\n",
       "      <td>Lutein + zeaxanthin</td>\n",
       "      <td>Vitamins</td>\n",
       "      <td>mcg</td>\n",
       "      <td>20.000</td>\n",
       "      <td>43546</td>\n",
       "    </tr>\n",
       "    <tr>\n",
       "      <th>389337</th>\n",
       "      <td>Vitamin C, total ascorbic acid</td>\n",
       "      <td>Vitamins</td>\n",
       "      <td>mg</td>\n",
       "      <td>21.900</td>\n",
       "      <td>43546</td>\n",
       "    </tr>\n",
       "    <tr>\n",
       "      <th>389338</th>\n",
       "      <td>Thiamin</td>\n",
       "      <td>Vitamins</td>\n",
       "      <td>mg</td>\n",
       "      <td>0.020</td>\n",
       "      <td>43546</td>\n",
       "    </tr>\n",
       "    <tr>\n",
       "      <th>389339</th>\n",
       "      <td>Riboflavin</td>\n",
       "      <td>Vitamins</td>\n",
       "      <td>mg</td>\n",
       "      <td>0.060</td>\n",
       "      <td>43546</td>\n",
       "    </tr>\n",
       "    <tr>\n",
       "      <th>389340</th>\n",
       "      <td>Niacin</td>\n",
       "      <td>Vitamins</td>\n",
       "      <td>mg</td>\n",
       "      <td>0.540</td>\n",
       "      <td>43546</td>\n",
       "    </tr>\n",
       "    <tr>\n",
       "      <th>389341</th>\n",
       "      <td>Vitamin B-6</td>\n",
       "      <td>Vitamins</td>\n",
       "      <td>mg</td>\n",
       "      <td>0.260</td>\n",
       "      <td>43546</td>\n",
       "    </tr>\n",
       "    <tr>\n",
       "      <th>389342</th>\n",
       "      <td>Folate, total</td>\n",
       "      <td>Vitamins</td>\n",
       "      <td>mcg</td>\n",
       "      <td>17.000</td>\n",
       "      <td>43546</td>\n",
       "    </tr>\n",
       "    <tr>\n",
       "      <th>389343</th>\n",
       "      <td>Vitamin B-12</td>\n",
       "      <td>Vitamins</td>\n",
       "      <td>mcg</td>\n",
       "      <td>0.000</td>\n",
       "      <td>43546</td>\n",
       "    </tr>\n",
       "    <tr>\n",
       "      <th>389344</th>\n",
       "      <td>Choline, total</td>\n",
       "      <td>Vitamins</td>\n",
       "      <td>mg</td>\n",
       "      <td>4.100</td>\n",
       "      <td>43546</td>\n",
       "    </tr>\n",
       "    <tr>\n",
       "      <th>389345</th>\n",
       "      <td>Vitamin K (phylloquinone)</td>\n",
       "      <td>Vitamins</td>\n",
       "      <td>mcg</td>\n",
       "      <td>0.500</td>\n",
       "      <td>43546</td>\n",
       "    </tr>\n",
       "    <tr>\n",
       "      <th>389346</th>\n",
       "      <td>Folic acid</td>\n",
       "      <td>Vitamins</td>\n",
       "      <td>mcg</td>\n",
       "      <td>0.000</td>\n",
       "      <td>43546</td>\n",
       "    </tr>\n",
       "    <tr>\n",
       "      <th>389347</th>\n",
       "      <td>Folate, food</td>\n",
       "      <td>Vitamins</td>\n",
       "      <td>mcg</td>\n",
       "      <td>17.000</td>\n",
       "      <td>43546</td>\n",
       "    </tr>\n",
       "    <tr>\n",
       "      <th>389348</th>\n",
       "      <td>Folate, DFE</td>\n",
       "      <td>Vitamins</td>\n",
       "      <td>mcg_DFE</td>\n",
       "      <td>17.000</td>\n",
       "      <td>43546</td>\n",
       "    </tr>\n",
       "    <tr>\n",
       "      <th>389349</th>\n",
       "      <td>Vitamin E, added</td>\n",
       "      <td>Vitamins</td>\n",
       "      <td>mg</td>\n",
       "      <td>0.000</td>\n",
       "      <td>43546</td>\n",
       "    </tr>\n",
       "    <tr>\n",
       "      <th>389350</th>\n",
       "      <td>Vitamin B-12, added</td>\n",
       "      <td>Vitamins</td>\n",
       "      <td>mcg</td>\n",
       "      <td>0.000</td>\n",
       "      <td>43546</td>\n",
       "    </tr>\n",
       "    <tr>\n",
       "      <th>389351</th>\n",
       "      <td>Cholesterol</td>\n",
       "      <td>Other</td>\n",
       "      <td>mg</td>\n",
       "      <td>0.000</td>\n",
       "      <td>43546</td>\n",
       "    </tr>\n",
       "    <tr>\n",
       "      <th>389352</th>\n",
       "      <td>Fatty acids, total saturated</td>\n",
       "      <td>Other</td>\n",
       "      <td>g</td>\n",
       "      <td>0.072</td>\n",
       "      <td>43546</td>\n",
       "    </tr>\n",
       "    <tr>\n",
       "      <th>389353</th>\n",
       "      <td>Fatty acids, total monounsaturated</td>\n",
       "      <td>Other</td>\n",
       "      <td>g</td>\n",
       "      <td>0.028</td>\n",
       "      <td>43546</td>\n",
       "    </tr>\n",
       "    <tr>\n",
       "      <th>389354</th>\n",
       "      <td>Fatty acids, total polyunsaturated</td>\n",
       "      <td>Other</td>\n",
       "      <td>g</td>\n",
       "      <td>0.041</td>\n",
       "      <td>43546</td>\n",
       "    </tr>\n",
       "  </tbody>\n",
       "</table>\n",
       "<p>389355 rows × 5 columns</p>\n",
       "</div>"
      ],
      "text/plain": [
       "                               description        group    units     value  \\\n",
       "0                                  Protein  Composition        g    25.180   \n",
       "1                        Total lipid (fat)  Composition        g    29.200   \n",
       "2              Carbohydrate, by difference  Composition        g     3.060   \n",
       "3                                      Ash        Other        g     3.280   \n",
       "4                                   Energy       Energy     kcal   376.000   \n",
       "5                                    Water  Composition        g    39.280   \n",
       "6                                   Energy       Energy       kJ  1573.000   \n",
       "7                     Fiber, total dietary  Composition        g     0.000   \n",
       "8                              Calcium, Ca     Elements       mg   673.000   \n",
       "9                                 Iron, Fe     Elements       mg     0.640   \n",
       "10                           Magnesium, Mg     Elements       mg    22.000   \n",
       "11                           Phosphorus, P     Elements       mg   490.000   \n",
       "12                            Potassium, K     Elements       mg    93.000   \n",
       "13                              Sodium, Na     Elements       mg   690.000   \n",
       "14                                Zinc, Zn     Elements       mg     2.940   \n",
       "15                              Copper, Cu     Elements       mg     0.024   \n",
       "16                           Manganese, Mn     Elements       mg     0.021   \n",
       "17                            Selenium, Se     Elements      mcg    14.500   \n",
       "18                           Vitamin A, IU     Vitamins       IU  1054.000   \n",
       "19                                 Retinol     Vitamins      mcg   262.000   \n",
       "20                          Vitamin A, RAE     Vitamins  mcg_RAE   271.000   \n",
       "21          Vitamin C, total ascorbic acid     Vitamins       mg     0.000   \n",
       "22                                 Thiamin     Vitamins       mg     0.031   \n",
       "23                              Riboflavin     Vitamins       mg     0.450   \n",
       "24                                  Niacin     Vitamins       mg     0.180   \n",
       "25                        Pantothenic acid     Vitamins       mg     0.190   \n",
       "26                             Vitamin B-6     Vitamins       mg     0.074   \n",
       "27                           Folate, total     Vitamins      mcg    18.000   \n",
       "28                            Vitamin B-12     Vitamins      mcg     0.270   \n",
       "29                              Folic acid     Vitamins      mcg     0.000   \n",
       "...                                    ...          ...      ...       ...   \n",
       "389325                        Selenium, Se     Elements      mcg     1.100   \n",
       "389326                       Vitamin A, IU     Vitamins       IU     5.000   \n",
       "389327                             Retinol     Vitamins      mcg     0.000   \n",
       "389328                      Vitamin A, RAE     Vitamins  mcg_RAE     0.000   \n",
       "389329                      Carotene, beta     Vitamins      mcg     2.000   \n",
       "389330                     Carotene, alpha     Vitamins      mcg     2.000   \n",
       "389331        Vitamin E (alpha-tocopherol)     Vitamins       mg     0.250   \n",
       "389332                           Vitamin D     Vitamins       IU     0.000   \n",
       "389333                 Vitamin D (D2 + D3)     Vitamins      mcg     0.000   \n",
       "389334                 Cryptoxanthin, beta     Vitamins      mcg     0.000   \n",
       "389335                            Lycopene     Vitamins      mcg     0.000   \n",
       "389336                 Lutein + zeaxanthin     Vitamins      mcg    20.000   \n",
       "389337      Vitamin C, total ascorbic acid     Vitamins       mg    21.900   \n",
       "389338                             Thiamin     Vitamins       mg     0.020   \n",
       "389339                          Riboflavin     Vitamins       mg     0.060   \n",
       "389340                              Niacin     Vitamins       mg     0.540   \n",
       "389341                         Vitamin B-6     Vitamins       mg     0.260   \n",
       "389342                       Folate, total     Vitamins      mcg    17.000   \n",
       "389343                        Vitamin B-12     Vitamins      mcg     0.000   \n",
       "389344                      Choline, total     Vitamins       mg     4.100   \n",
       "389345           Vitamin K (phylloquinone)     Vitamins      mcg     0.500   \n",
       "389346                          Folic acid     Vitamins      mcg     0.000   \n",
       "389347                        Folate, food     Vitamins      mcg    17.000   \n",
       "389348                         Folate, DFE     Vitamins  mcg_DFE    17.000   \n",
       "389349                    Vitamin E, added     Vitamins       mg     0.000   \n",
       "389350                 Vitamin B-12, added     Vitamins      mcg     0.000   \n",
       "389351                         Cholesterol        Other       mg     0.000   \n",
       "389352        Fatty acids, total saturated        Other        g     0.072   \n",
       "389353  Fatty acids, total monounsaturated        Other        g     0.028   \n",
       "389354  Fatty acids, total polyunsaturated        Other        g     0.041   \n",
       "\n",
       "           id  \n",
       "0        1008  \n",
       "1        1008  \n",
       "2        1008  \n",
       "3        1008  \n",
       "4        1008  \n",
       "5        1008  \n",
       "6        1008  \n",
       "7        1008  \n",
       "8        1008  \n",
       "9        1008  \n",
       "10       1008  \n",
       "11       1008  \n",
       "12       1008  \n",
       "13       1008  \n",
       "14       1008  \n",
       "15       1008  \n",
       "16       1008  \n",
       "17       1008  \n",
       "18       1008  \n",
       "19       1008  \n",
       "20       1008  \n",
       "21       1008  \n",
       "22       1008  \n",
       "23       1008  \n",
       "24       1008  \n",
       "25       1008  \n",
       "26       1008  \n",
       "27       1008  \n",
       "28       1008  \n",
       "29       1008  \n",
       "...       ...  \n",
       "389325  43546  \n",
       "389326  43546  \n",
       "389327  43546  \n",
       "389328  43546  \n",
       "389329  43546  \n",
       "389330  43546  \n",
       "389331  43546  \n",
       "389332  43546  \n",
       "389333  43546  \n",
       "389334  43546  \n",
       "389335  43546  \n",
       "389336  43546  \n",
       "389337  43546  \n",
       "389338  43546  \n",
       "389339  43546  \n",
       "389340  43546  \n",
       "389341  43546  \n",
       "389342  43546  \n",
       "389343  43546  \n",
       "389344  43546  \n",
       "389345  43546  \n",
       "389346  43546  \n",
       "389347  43546  \n",
       "389348  43546  \n",
       "389349  43546  \n",
       "389350  43546  \n",
       "389351  43546  \n",
       "389352  43546  \n",
       "389353  43546  \n",
       "389354  43546  \n",
       "\n",
       "[389355 rows x 5 columns]"
      ]
     },
     "execution_count": 221,
     "metadata": {},
     "output_type": "execute_result"
    }
   ],
   "source": [
    "nutrients"
   ]
  },
  {
   "cell_type": "markdown",
   "metadata": {},
   "source": [
    "这个DtaFrame中无论如何都会有一些重复项，所以直接丢弃就可以了："
   ]
  },
  {
   "cell_type": "code",
   "execution_count": 222,
   "metadata": {},
   "outputs": [
    {
     "data": {
      "text/plain": [
       "14179"
      ]
     },
     "execution_count": 222,
     "metadata": {},
     "output_type": "execute_result"
    }
   ],
   "source": [
    "nutrients.duplicated().sum()"
   ]
  },
  {
   "cell_type": "code",
   "execution_count": 223,
   "metadata": {},
   "outputs": [],
   "source": [
    "nutrients = nutrients.drop_duplicates()"
   ]
  },
  {
   "cell_type": "markdown",
   "metadata": {},
   "source": [
    "由于两个DataFrame对象中都有“group”和“description”，所以为了明确到底谁是谁，我们需要对它们进行重命名："
   ]
  },
  {
   "cell_type": "code",
   "execution_count": 224,
   "metadata": {},
   "outputs": [],
   "source": [
    "col_mapping = {'description': 'food',\n",
    "               'group': 'fgroup'}"
   ]
  },
  {
   "cell_type": "code",
   "execution_count": 225,
   "metadata": {},
   "outputs": [],
   "source": [
    "info = info.rename(columns=col_mapping, copy=False)"
   ]
  },
  {
   "cell_type": "code",
   "execution_count": 226,
   "metadata": {},
   "outputs": [
    {
     "data": {
      "text/html": [
       "<div>\n",
       "<style scoped>\n",
       "    .dataframe tbody tr th:only-of-type {\n",
       "        vertical-align: middle;\n",
       "    }\n",
       "\n",
       "    .dataframe tbody tr th {\n",
       "        vertical-align: top;\n",
       "    }\n",
       "\n",
       "    .dataframe thead th {\n",
       "        text-align: right;\n",
       "    }\n",
       "</style>\n",
       "<table border=\"1\" class=\"dataframe\">\n",
       "  <thead>\n",
       "    <tr style=\"text-align: right;\">\n",
       "      <th></th>\n",
       "      <th>food</th>\n",
       "      <th>fgroup</th>\n",
       "      <th>id</th>\n",
       "      <th>manufacturer</th>\n",
       "    </tr>\n",
       "  </thead>\n",
       "  <tbody>\n",
       "    <tr>\n",
       "      <th>0</th>\n",
       "      <td>Cheese, caraway</td>\n",
       "      <td>Dairy and Egg Products</td>\n",
       "      <td>1008</td>\n",
       "      <td></td>\n",
       "    </tr>\n",
       "    <tr>\n",
       "      <th>1</th>\n",
       "      <td>Cheese, cheddar</td>\n",
       "      <td>Dairy and Egg Products</td>\n",
       "      <td>1009</td>\n",
       "      <td></td>\n",
       "    </tr>\n",
       "    <tr>\n",
       "      <th>2</th>\n",
       "      <td>Cheese, edam</td>\n",
       "      <td>Dairy and Egg Products</td>\n",
       "      <td>1018</td>\n",
       "      <td></td>\n",
       "    </tr>\n",
       "    <tr>\n",
       "      <th>3</th>\n",
       "      <td>Cheese, feta</td>\n",
       "      <td>Dairy and Egg Products</td>\n",
       "      <td>1019</td>\n",
       "      <td></td>\n",
       "    </tr>\n",
       "    <tr>\n",
       "      <th>4</th>\n",
       "      <td>Cheese, mozzarella, part skim milk</td>\n",
       "      <td>Dairy and Egg Products</td>\n",
       "      <td>1028</td>\n",
       "      <td></td>\n",
       "    </tr>\n",
       "    <tr>\n",
       "      <th>5</th>\n",
       "      <td>Cheese, mozzarella, part skim milk, low moisture</td>\n",
       "      <td>Dairy and Egg Products</td>\n",
       "      <td>1029</td>\n",
       "      <td></td>\n",
       "    </tr>\n",
       "    <tr>\n",
       "      <th>6</th>\n",
       "      <td>Cheese, romano</td>\n",
       "      <td>Dairy and Egg Products</td>\n",
       "      <td>1038</td>\n",
       "      <td></td>\n",
       "    </tr>\n",
       "    <tr>\n",
       "      <th>7</th>\n",
       "      <td>Cheese, roquefort</td>\n",
       "      <td>Dairy and Egg Products</td>\n",
       "      <td>1039</td>\n",
       "      <td></td>\n",
       "    </tr>\n",
       "    <tr>\n",
       "      <th>8</th>\n",
       "      <td>Cheese spread, pasteurized process, american, ...</td>\n",
       "      <td>Dairy and Egg Products</td>\n",
       "      <td>1048</td>\n",
       "      <td></td>\n",
       "    </tr>\n",
       "    <tr>\n",
       "      <th>9</th>\n",
       "      <td>Cream, fluid, half and half</td>\n",
       "      <td>Dairy and Egg Products</td>\n",
       "      <td>1049</td>\n",
       "      <td></td>\n",
       "    </tr>\n",
       "    <tr>\n",
       "      <th>10</th>\n",
       "      <td>Sour dressing, non-butterfat, cultured, filled...</td>\n",
       "      <td>Dairy and Egg Products</td>\n",
       "      <td>1058</td>\n",
       "      <td></td>\n",
       "    </tr>\n",
       "    <tr>\n",
       "      <th>11</th>\n",
       "      <td>Milk, filled, fluid, with blend of hydrogenate...</td>\n",
       "      <td>Dairy and Egg Products</td>\n",
       "      <td>1059</td>\n",
       "      <td></td>\n",
       "    </tr>\n",
       "    <tr>\n",
       "      <th>12</th>\n",
       "      <td>Cream substitute, liquid, with lauric acid oil...</td>\n",
       "      <td>Dairy and Egg Products</td>\n",
       "      <td>1068</td>\n",
       "      <td></td>\n",
       "    </tr>\n",
       "    <tr>\n",
       "      <th>13</th>\n",
       "      <td>Cream substitute, powdered</td>\n",
       "      <td>Dairy and Egg Products</td>\n",
       "      <td>1069</td>\n",
       "      <td></td>\n",
       "    </tr>\n",
       "    <tr>\n",
       "      <th>14</th>\n",
       "      <td>Milk, producer, fluid, 3.7% milkfat</td>\n",
       "      <td>Dairy and Egg Products</td>\n",
       "      <td>1078</td>\n",
       "      <td></td>\n",
       "    </tr>\n",
       "    <tr>\n",
       "      <th>15</th>\n",
       "      <td>Milk, reduced fat, fluid, 2% milkfat, with add...</td>\n",
       "      <td>Dairy and Egg Products</td>\n",
       "      <td>1079</td>\n",
       "      <td>None</td>\n",
       "    </tr>\n",
       "    <tr>\n",
       "      <th>16</th>\n",
       "      <td>Milk, reduced fat, fluid, 2% milkfat, with add...</td>\n",
       "      <td>Dairy and Egg Products</td>\n",
       "      <td>1080</td>\n",
       "      <td></td>\n",
       "    </tr>\n",
       "    <tr>\n",
       "      <th>17</th>\n",
       "      <td>Milk, reduced fat, fluid, 2% milkfat, protein ...</td>\n",
       "      <td>Dairy and Egg Products</td>\n",
       "      <td>1081</td>\n",
       "      <td></td>\n",
       "    </tr>\n",
       "    <tr>\n",
       "      <th>18</th>\n",
       "      <td>Milk, lowfat, fluid, 1% milkfat, with added vi...</td>\n",
       "      <td>Dairy and Egg Products</td>\n",
       "      <td>1082</td>\n",
       "      <td></td>\n",
       "    </tr>\n",
       "    <tr>\n",
       "      <th>19</th>\n",
       "      <td>Milk, lowfat, fluid, 1% milkfat, with added no...</td>\n",
       "      <td>Dairy and Egg Products</td>\n",
       "      <td>1083</td>\n",
       "      <td></td>\n",
       "    </tr>\n",
       "    <tr>\n",
       "      <th>20</th>\n",
       "      <td>Milk, lowfat, fluid, 1% milkfat, protein forti...</td>\n",
       "      <td>Dairy and Egg Products</td>\n",
       "      <td>1084</td>\n",
       "      <td></td>\n",
       "    </tr>\n",
       "    <tr>\n",
       "      <th>21</th>\n",
       "      <td>Milk, nonfat, fluid, with added vitamin A and ...</td>\n",
       "      <td>Dairy and Egg Products</td>\n",
       "      <td>1085</td>\n",
       "      <td></td>\n",
       "    </tr>\n",
       "    <tr>\n",
       "      <th>22</th>\n",
       "      <td>Milk, nonfat, fluid, with added nonfat milk so...</td>\n",
       "      <td>Dairy and Egg Products</td>\n",
       "      <td>1086</td>\n",
       "      <td></td>\n",
       "    </tr>\n",
       "    <tr>\n",
       "      <th>23</th>\n",
       "      <td>Milk, nonfat, fluid, protein fortified, with a...</td>\n",
       "      <td>Dairy and Egg Products</td>\n",
       "      <td>1087</td>\n",
       "      <td></td>\n",
       "    </tr>\n",
       "    <tr>\n",
       "      <th>24</th>\n",
       "      <td>Milk, buttermilk, fluid, cultured, lowfat</td>\n",
       "      <td>Dairy and Egg Products</td>\n",
       "      <td>1088</td>\n",
       "      <td></td>\n",
       "    </tr>\n",
       "    <tr>\n",
       "      <th>25</th>\n",
       "      <td>Milk, low sodium, fluid</td>\n",
       "      <td>Dairy and Egg Products</td>\n",
       "      <td>1089</td>\n",
       "      <td></td>\n",
       "    </tr>\n",
       "    <tr>\n",
       "      <th>26</th>\n",
       "      <td>Milk, dry, whole, with added vitamin D</td>\n",
       "      <td>Dairy and Egg Products</td>\n",
       "      <td>1090</td>\n",
       "      <td></td>\n",
       "    </tr>\n",
       "    <tr>\n",
       "      <th>27</th>\n",
       "      <td>Milk, dry, nonfat, regular, without added vita...</td>\n",
       "      <td>Dairy and Egg Products</td>\n",
       "      <td>1091</td>\n",
       "      <td></td>\n",
       "    </tr>\n",
       "    <tr>\n",
       "      <th>28</th>\n",
       "      <td>Milk, dry, nonfat, instant, with added vitamin...</td>\n",
       "      <td>Dairy and Egg Products</td>\n",
       "      <td>1092</td>\n",
       "      <td></td>\n",
       "    </tr>\n",
       "    <tr>\n",
       "      <th>29</th>\n",
       "      <td>Milk, dry, nonfat, calcium reduced</td>\n",
       "      <td>Dairy and Egg Products</td>\n",
       "      <td>1093</td>\n",
       "      <td></td>\n",
       "    </tr>\n",
       "    <tr>\n",
       "      <th>...</th>\n",
       "      <td>...</td>\n",
       "      <td>...</td>\n",
       "      <td>...</td>\n",
       "      <td>...</td>\n",
       "    </tr>\n",
       "    <tr>\n",
       "      <th>6606</th>\n",
       "      <td>Beef, tenderloin, steak, separable lean only, ...</td>\n",
       "      <td>Beef Products</td>\n",
       "      <td>23628</td>\n",
       "      <td></td>\n",
       "    </tr>\n",
       "    <tr>\n",
       "      <th>6607</th>\n",
       "      <td>Beef, top sirloin, steak, separable lean only,...</td>\n",
       "      <td>Beef Products</td>\n",
       "      <td>23629</td>\n",
       "      <td></td>\n",
       "    </tr>\n",
       "    <tr>\n",
       "      <th>6608</th>\n",
       "      <td>Beef, short loin, top loin, steak, separable l...</td>\n",
       "      <td>Beef Products</td>\n",
       "      <td>23630</td>\n",
       "      <td></td>\n",
       "    </tr>\n",
       "    <tr>\n",
       "      <th>6609</th>\n",
       "      <td>Beef, chuck, arm pot roast, separable lean onl...</td>\n",
       "      <td>Beef Products</td>\n",
       "      <td>23631</td>\n",
       "      <td></td>\n",
       "    </tr>\n",
       "    <tr>\n",
       "      <th>6610</th>\n",
       "      <td>Beef, brisket, flat half, separable lean only,...</td>\n",
       "      <td>Beef Products</td>\n",
       "      <td>23632</td>\n",
       "      <td></td>\n",
       "    </tr>\n",
       "    <tr>\n",
       "      <th>6611</th>\n",
       "      <td>Beef, chuck, arm pot roast, separable lean onl...</td>\n",
       "      <td>Beef Products</td>\n",
       "      <td>23633</td>\n",
       "      <td></td>\n",
       "    </tr>\n",
       "    <tr>\n",
       "      <th>6612</th>\n",
       "      <td>Beef, brisket, flat half, separable lean only,...</td>\n",
       "      <td>Beef Products</td>\n",
       "      <td>23634</td>\n",
       "      <td></td>\n",
       "    </tr>\n",
       "    <tr>\n",
       "      <th>6613</th>\n",
       "      <td>Beef, round, eye of round, roast, separable le...</td>\n",
       "      <td>Beef Products</td>\n",
       "      <td>23635</td>\n",
       "      <td></td>\n",
       "    </tr>\n",
       "    <tr>\n",
       "      <th>6614</th>\n",
       "      <td>Beef, round, top round, steak, separable lean ...</td>\n",
       "      <td>Beef Products</td>\n",
       "      <td>23636</td>\n",
       "      <td></td>\n",
       "    </tr>\n",
       "    <tr>\n",
       "      <th>6615</th>\n",
       "      <td>Beef, round, bottom round, roast, separable le...</td>\n",
       "      <td>Beef Products</td>\n",
       "      <td>23637</td>\n",
       "      <td></td>\n",
       "    </tr>\n",
       "    <tr>\n",
       "      <th>6616</th>\n",
       "      <td>Beef, rib, small end (ribs 10-12), separable l...</td>\n",
       "      <td>Beef Products</td>\n",
       "      <td>23638</td>\n",
       "      <td></td>\n",
       "    </tr>\n",
       "    <tr>\n",
       "      <th>6617</th>\n",
       "      <td>CAMPBELL Soup Company, CAMPBELL'S Red and Whit...</td>\n",
       "      <td>Soups, Sauces, and Gravies</td>\n",
       "      <td>27015</td>\n",
       "      <td>Campbell Soup Co.</td>\n",
       "    </tr>\n",
       "    <tr>\n",
       "      <th>6618</th>\n",
       "      <td>CAMPBELL Soup Company, CAMPBELL's Red and Whit...</td>\n",
       "      <td>Soups, Sauces, and Gravies</td>\n",
       "      <td>27016</td>\n",
       "      <td>Campbell Soup Co.</td>\n",
       "    </tr>\n",
       "    <tr>\n",
       "      <th>6619</th>\n",
       "      <td>CAMPBELL Soup Company, CAMPBELL'S SELECT Soups...</td>\n",
       "      <td>Soups, Sauces, and Gravies</td>\n",
       "      <td>27021</td>\n",
       "      <td>Campbell Soup Co.</td>\n",
       "    </tr>\n",
       "    <tr>\n",
       "      <th>6620</th>\n",
       "      <td>CAMPBELL Soup Company, CAMPBELL'S SOUP AT HAND...</td>\n",
       "      <td>Soups, Sauces, and Gravies</td>\n",
       "      <td>27022</td>\n",
       "      <td>Campbell Soup Co.</td>\n",
       "    </tr>\n",
       "    <tr>\n",
       "      <th>6621</th>\n",
       "      <td>CAMPBELL Soup Company, CAMPBELL'S SOUP AT HAND...</td>\n",
       "      <td>Soups, Sauces, and Gravies</td>\n",
       "      <td>27023</td>\n",
       "      <td>Campbell Soup Co.</td>\n",
       "    </tr>\n",
       "    <tr>\n",
       "      <th>6622</th>\n",
       "      <td>CAMPBELL Soup Company, CAMPBELL'S SELECT Gold ...</td>\n",
       "      <td>Soups, Sauces, and Gravies</td>\n",
       "      <td>27024</td>\n",
       "      <td>Campbell Soup Co.</td>\n",
       "    </tr>\n",
       "    <tr>\n",
       "      <th>6623</th>\n",
       "      <td>CAMPBELL Soup Company, CAMPBELL'S SELECT Gold ...</td>\n",
       "      <td>Soups, Sauces, and Gravies</td>\n",
       "      <td>27025</td>\n",
       "      <td>Campbell Soup Co.</td>\n",
       "    </tr>\n",
       "    <tr>\n",
       "      <th>6624</th>\n",
       "      <td>CAMPBELL Soup Company, CAMPBELL'S SELECT Gold ...</td>\n",
       "      <td>Soups, Sauces, and Gravies</td>\n",
       "      <td>27026</td>\n",
       "      <td>Campbell Soup Co.</td>\n",
       "    </tr>\n",
       "    <tr>\n",
       "      <th>6625</th>\n",
       "      <td>CAMPBELL Soup Company, CAMPBELL'S Red and Whit...</td>\n",
       "      <td>Soups, Sauces, and Gravies</td>\n",
       "      <td>27032</td>\n",
       "      <td>Campbell Soup Co.</td>\n",
       "    </tr>\n",
       "    <tr>\n",
       "      <th>6626</th>\n",
       "      <td>CAMPBELL Soup Company, V8 Vegetable Juice, Ess...</td>\n",
       "      <td>Vegetables and Vegetable Products</td>\n",
       "      <td>31010</td>\n",
       "      <td>Campbell Soup Co.</td>\n",
       "    </tr>\n",
       "    <tr>\n",
       "      <th>6627</th>\n",
       "      <td>CAMPBELL Soup Company, V8 Vegetable Juice, Spi...</td>\n",
       "      <td>Vegetables and Vegetable Products</td>\n",
       "      <td>31013</td>\n",
       "      <td>Campbell Soup Co.</td>\n",
       "    </tr>\n",
       "    <tr>\n",
       "      <th>6628</th>\n",
       "      <td>CAMPBELL Soup Company, PACE, Jalapenos Nacho S...</td>\n",
       "      <td>Vegetables and Vegetable Products</td>\n",
       "      <td>31014</td>\n",
       "      <td>Campbell Soup Co.</td>\n",
       "    </tr>\n",
       "    <tr>\n",
       "      <th>6629</th>\n",
       "      <td>CAMPBELL Soup Company, V8 60% Vegetable Juice,...</td>\n",
       "      <td>Vegetables and Vegetable Products</td>\n",
       "      <td>31016</td>\n",
       "      <td>Campbell Soup Co.</td>\n",
       "    </tr>\n",
       "    <tr>\n",
       "      <th>6630</th>\n",
       "      <td>CAMPBELL Soup Company, V8 Vegetable Juice, Low...</td>\n",
       "      <td>Vegetables and Vegetable Products</td>\n",
       "      <td>31017</td>\n",
       "      <td>Campbell Soup Co.</td>\n",
       "    </tr>\n",
       "    <tr>\n",
       "      <th>6631</th>\n",
       "      <td>Bologna, beef, low fat</td>\n",
       "      <td>Sausages and Luncheon Meats</td>\n",
       "      <td>42161</td>\n",
       "      <td></td>\n",
       "    </tr>\n",
       "    <tr>\n",
       "      <th>6632</th>\n",
       "      <td>Turkey and pork sausage, fresh, bulk, patty or...</td>\n",
       "      <td>Sausages and Luncheon Meats</td>\n",
       "      <td>42173</td>\n",
       "      <td></td>\n",
       "    </tr>\n",
       "    <tr>\n",
       "      <th>6633</th>\n",
       "      <td>Babyfood, juice, pear</td>\n",
       "      <td>Baby Foods</td>\n",
       "      <td>43408</td>\n",
       "      <td>None</td>\n",
       "    </tr>\n",
       "    <tr>\n",
       "      <th>6634</th>\n",
       "      <td>Babyfood, dessert, banana yogurt, strained</td>\n",
       "      <td>Baby Foods</td>\n",
       "      <td>43539</td>\n",
       "      <td>None</td>\n",
       "    </tr>\n",
       "    <tr>\n",
       "      <th>6635</th>\n",
       "      <td>Babyfood, banana no tapioca, strained</td>\n",
       "      <td>Baby Foods</td>\n",
       "      <td>43546</td>\n",
       "      <td>None</td>\n",
       "    </tr>\n",
       "  </tbody>\n",
       "</table>\n",
       "<p>6636 rows × 4 columns</p>\n",
       "</div>"
      ],
      "text/plain": [
       "                                                   food  \\\n",
       "0                                       Cheese, caraway   \n",
       "1                                       Cheese, cheddar   \n",
       "2                                          Cheese, edam   \n",
       "3                                          Cheese, feta   \n",
       "4                    Cheese, mozzarella, part skim milk   \n",
       "5      Cheese, mozzarella, part skim milk, low moisture   \n",
       "6                                        Cheese, romano   \n",
       "7                                     Cheese, roquefort   \n",
       "8     Cheese spread, pasteurized process, american, ...   \n",
       "9                           Cream, fluid, half and half   \n",
       "10    Sour dressing, non-butterfat, cultured, filled...   \n",
       "11    Milk, filled, fluid, with blend of hydrogenate...   \n",
       "12    Cream substitute, liquid, with lauric acid oil...   \n",
       "13                           Cream substitute, powdered   \n",
       "14                  Milk, producer, fluid, 3.7% milkfat   \n",
       "15    Milk, reduced fat, fluid, 2% milkfat, with add...   \n",
       "16    Milk, reduced fat, fluid, 2% milkfat, with add...   \n",
       "17    Milk, reduced fat, fluid, 2% milkfat, protein ...   \n",
       "18    Milk, lowfat, fluid, 1% milkfat, with added vi...   \n",
       "19    Milk, lowfat, fluid, 1% milkfat, with added no...   \n",
       "20    Milk, lowfat, fluid, 1% milkfat, protein forti...   \n",
       "21    Milk, nonfat, fluid, with added vitamin A and ...   \n",
       "22    Milk, nonfat, fluid, with added nonfat milk so...   \n",
       "23    Milk, nonfat, fluid, protein fortified, with a...   \n",
       "24            Milk, buttermilk, fluid, cultured, lowfat   \n",
       "25                              Milk, low sodium, fluid   \n",
       "26               Milk, dry, whole, with added vitamin D   \n",
       "27    Milk, dry, nonfat, regular, without added vita...   \n",
       "28    Milk, dry, nonfat, instant, with added vitamin...   \n",
       "29                   Milk, dry, nonfat, calcium reduced   \n",
       "...                                                 ...   \n",
       "6606  Beef, tenderloin, steak, separable lean only, ...   \n",
       "6607  Beef, top sirloin, steak, separable lean only,...   \n",
       "6608  Beef, short loin, top loin, steak, separable l...   \n",
       "6609  Beef, chuck, arm pot roast, separable lean onl...   \n",
       "6610  Beef, brisket, flat half, separable lean only,...   \n",
       "6611  Beef, chuck, arm pot roast, separable lean onl...   \n",
       "6612  Beef, brisket, flat half, separable lean only,...   \n",
       "6613  Beef, round, eye of round, roast, separable le...   \n",
       "6614  Beef, round, top round, steak, separable lean ...   \n",
       "6615  Beef, round, bottom round, roast, separable le...   \n",
       "6616  Beef, rib, small end (ribs 10-12), separable l...   \n",
       "6617  CAMPBELL Soup Company, CAMPBELL'S Red and Whit...   \n",
       "6618  CAMPBELL Soup Company, CAMPBELL's Red and Whit...   \n",
       "6619  CAMPBELL Soup Company, CAMPBELL'S SELECT Soups...   \n",
       "6620  CAMPBELL Soup Company, CAMPBELL'S SOUP AT HAND...   \n",
       "6621  CAMPBELL Soup Company, CAMPBELL'S SOUP AT HAND...   \n",
       "6622  CAMPBELL Soup Company, CAMPBELL'S SELECT Gold ...   \n",
       "6623  CAMPBELL Soup Company, CAMPBELL'S SELECT Gold ...   \n",
       "6624  CAMPBELL Soup Company, CAMPBELL'S SELECT Gold ...   \n",
       "6625  CAMPBELL Soup Company, CAMPBELL'S Red and Whit...   \n",
       "6626  CAMPBELL Soup Company, V8 Vegetable Juice, Ess...   \n",
       "6627  CAMPBELL Soup Company, V8 Vegetable Juice, Spi...   \n",
       "6628  CAMPBELL Soup Company, PACE, Jalapenos Nacho S...   \n",
       "6629  CAMPBELL Soup Company, V8 60% Vegetable Juice,...   \n",
       "6630  CAMPBELL Soup Company, V8 Vegetable Juice, Low...   \n",
       "6631                             Bologna, beef, low fat   \n",
       "6632  Turkey and pork sausage, fresh, bulk, patty or...   \n",
       "6633                              Babyfood, juice, pear   \n",
       "6634         Babyfood, dessert, banana yogurt, strained   \n",
       "6635              Babyfood, banana no tapioca, strained   \n",
       "\n",
       "                                 fgroup     id       manufacturer  \n",
       "0                Dairy and Egg Products   1008                     \n",
       "1                Dairy and Egg Products   1009                     \n",
       "2                Dairy and Egg Products   1018                     \n",
       "3                Dairy and Egg Products   1019                     \n",
       "4                Dairy and Egg Products   1028                     \n",
       "5                Dairy and Egg Products   1029                     \n",
       "6                Dairy and Egg Products   1038                     \n",
       "7                Dairy and Egg Products   1039                     \n",
       "8                Dairy and Egg Products   1048                     \n",
       "9                Dairy and Egg Products   1049                     \n",
       "10               Dairy and Egg Products   1058                     \n",
       "11               Dairy and Egg Products   1059                     \n",
       "12               Dairy and Egg Products   1068                     \n",
       "13               Dairy and Egg Products   1069                     \n",
       "14               Dairy and Egg Products   1078                     \n",
       "15               Dairy and Egg Products   1079               None  \n",
       "16               Dairy and Egg Products   1080                     \n",
       "17               Dairy and Egg Products   1081                     \n",
       "18               Dairy and Egg Products   1082                     \n",
       "19               Dairy and Egg Products   1083                     \n",
       "20               Dairy and Egg Products   1084                     \n",
       "21               Dairy and Egg Products   1085                     \n",
       "22               Dairy and Egg Products   1086                     \n",
       "23               Dairy and Egg Products   1087                     \n",
       "24               Dairy and Egg Products   1088                     \n",
       "25               Dairy and Egg Products   1089                     \n",
       "26               Dairy and Egg Products   1090                     \n",
       "27               Dairy and Egg Products   1091                     \n",
       "28               Dairy and Egg Products   1092                     \n",
       "29               Dairy and Egg Products   1093                     \n",
       "...                                 ...    ...                ...  \n",
       "6606                      Beef Products  23628                     \n",
       "6607                      Beef Products  23629                     \n",
       "6608                      Beef Products  23630                     \n",
       "6609                      Beef Products  23631                     \n",
       "6610                      Beef Products  23632                     \n",
       "6611                      Beef Products  23633                     \n",
       "6612                      Beef Products  23634                     \n",
       "6613                      Beef Products  23635                     \n",
       "6614                      Beef Products  23636                     \n",
       "6615                      Beef Products  23637                     \n",
       "6616                      Beef Products  23638                     \n",
       "6617         Soups, Sauces, and Gravies  27015  Campbell Soup Co.  \n",
       "6618         Soups, Sauces, and Gravies  27016  Campbell Soup Co.  \n",
       "6619         Soups, Sauces, and Gravies  27021  Campbell Soup Co.  \n",
       "6620         Soups, Sauces, and Gravies  27022  Campbell Soup Co.  \n",
       "6621         Soups, Sauces, and Gravies  27023  Campbell Soup Co.  \n",
       "6622         Soups, Sauces, and Gravies  27024  Campbell Soup Co.  \n",
       "6623         Soups, Sauces, and Gravies  27025  Campbell Soup Co.  \n",
       "6624         Soups, Sauces, and Gravies  27026  Campbell Soup Co.  \n",
       "6625         Soups, Sauces, and Gravies  27032  Campbell Soup Co.  \n",
       "6626  Vegetables and Vegetable Products  31010  Campbell Soup Co.  \n",
       "6627  Vegetables and Vegetable Products  31013  Campbell Soup Co.  \n",
       "6628  Vegetables and Vegetable Products  31014  Campbell Soup Co.  \n",
       "6629  Vegetables and Vegetable Products  31016  Campbell Soup Co.  \n",
       "6630  Vegetables and Vegetable Products  31017  Campbell Soup Co.  \n",
       "6631        Sausages and Luncheon Meats  42161                     \n",
       "6632        Sausages and Luncheon Meats  42173                     \n",
       "6633                         Baby Foods  43408               None  \n",
       "6634                         Baby Foods  43539               None  \n",
       "6635                         Baby Foods  43546               None  \n",
       "\n",
       "[6636 rows x 4 columns]"
      ]
     },
     "execution_count": 226,
     "metadata": {},
     "output_type": "execute_result"
    }
   ],
   "source": [
    "info"
   ]
  },
  {
   "cell_type": "code",
   "execution_count": 227,
   "metadata": {},
   "outputs": [],
   "source": [
    "col_mapping = {'description': 'nutrient',\n",
    "               'group': 'nutgroup'}"
   ]
  },
  {
   "cell_type": "code",
   "execution_count": 228,
   "metadata": {},
   "outputs": [],
   "source": [
    "nutrients = nutrients.rename(columns=col_mapping, copy=False)"
   ]
  },
  {
   "cell_type": "code",
   "execution_count": 229,
   "metadata": {},
   "outputs": [
    {
     "data": {
      "text/html": [
       "<div>\n",
       "<style scoped>\n",
       "    .dataframe tbody tr th:only-of-type {\n",
       "        vertical-align: middle;\n",
       "    }\n",
       "\n",
       "    .dataframe tbody tr th {\n",
       "        vertical-align: top;\n",
       "    }\n",
       "\n",
       "    .dataframe thead th {\n",
       "        text-align: right;\n",
       "    }\n",
       "</style>\n",
       "<table border=\"1\" class=\"dataframe\">\n",
       "  <thead>\n",
       "    <tr style=\"text-align: right;\">\n",
       "      <th></th>\n",
       "      <th>nutrient</th>\n",
       "      <th>nutgroup</th>\n",
       "      <th>units</th>\n",
       "      <th>value</th>\n",
       "      <th>id</th>\n",
       "    </tr>\n",
       "  </thead>\n",
       "  <tbody>\n",
       "    <tr>\n",
       "      <th>0</th>\n",
       "      <td>Protein</td>\n",
       "      <td>Composition</td>\n",
       "      <td>g</td>\n",
       "      <td>25.180</td>\n",
       "      <td>1008</td>\n",
       "    </tr>\n",
       "    <tr>\n",
       "      <th>1</th>\n",
       "      <td>Total lipid (fat)</td>\n",
       "      <td>Composition</td>\n",
       "      <td>g</td>\n",
       "      <td>29.200</td>\n",
       "      <td>1008</td>\n",
       "    </tr>\n",
       "    <tr>\n",
       "      <th>2</th>\n",
       "      <td>Carbohydrate, by difference</td>\n",
       "      <td>Composition</td>\n",
       "      <td>g</td>\n",
       "      <td>3.060</td>\n",
       "      <td>1008</td>\n",
       "    </tr>\n",
       "    <tr>\n",
       "      <th>3</th>\n",
       "      <td>Ash</td>\n",
       "      <td>Other</td>\n",
       "      <td>g</td>\n",
       "      <td>3.280</td>\n",
       "      <td>1008</td>\n",
       "    </tr>\n",
       "    <tr>\n",
       "      <th>4</th>\n",
       "      <td>Energy</td>\n",
       "      <td>Energy</td>\n",
       "      <td>kcal</td>\n",
       "      <td>376.000</td>\n",
       "      <td>1008</td>\n",
       "    </tr>\n",
       "    <tr>\n",
       "      <th>5</th>\n",
       "      <td>Water</td>\n",
       "      <td>Composition</td>\n",
       "      <td>g</td>\n",
       "      <td>39.280</td>\n",
       "      <td>1008</td>\n",
       "    </tr>\n",
       "    <tr>\n",
       "      <th>6</th>\n",
       "      <td>Energy</td>\n",
       "      <td>Energy</td>\n",
       "      <td>kJ</td>\n",
       "      <td>1573.000</td>\n",
       "      <td>1008</td>\n",
       "    </tr>\n",
       "    <tr>\n",
       "      <th>7</th>\n",
       "      <td>Fiber, total dietary</td>\n",
       "      <td>Composition</td>\n",
       "      <td>g</td>\n",
       "      <td>0.000</td>\n",
       "      <td>1008</td>\n",
       "    </tr>\n",
       "    <tr>\n",
       "      <th>8</th>\n",
       "      <td>Calcium, Ca</td>\n",
       "      <td>Elements</td>\n",
       "      <td>mg</td>\n",
       "      <td>673.000</td>\n",
       "      <td>1008</td>\n",
       "    </tr>\n",
       "    <tr>\n",
       "      <th>9</th>\n",
       "      <td>Iron, Fe</td>\n",
       "      <td>Elements</td>\n",
       "      <td>mg</td>\n",
       "      <td>0.640</td>\n",
       "      <td>1008</td>\n",
       "    </tr>\n",
       "    <tr>\n",
       "      <th>10</th>\n",
       "      <td>Magnesium, Mg</td>\n",
       "      <td>Elements</td>\n",
       "      <td>mg</td>\n",
       "      <td>22.000</td>\n",
       "      <td>1008</td>\n",
       "    </tr>\n",
       "    <tr>\n",
       "      <th>11</th>\n",
       "      <td>Phosphorus, P</td>\n",
       "      <td>Elements</td>\n",
       "      <td>mg</td>\n",
       "      <td>490.000</td>\n",
       "      <td>1008</td>\n",
       "    </tr>\n",
       "    <tr>\n",
       "      <th>12</th>\n",
       "      <td>Potassium, K</td>\n",
       "      <td>Elements</td>\n",
       "      <td>mg</td>\n",
       "      <td>93.000</td>\n",
       "      <td>1008</td>\n",
       "    </tr>\n",
       "    <tr>\n",
       "      <th>13</th>\n",
       "      <td>Sodium, Na</td>\n",
       "      <td>Elements</td>\n",
       "      <td>mg</td>\n",
       "      <td>690.000</td>\n",
       "      <td>1008</td>\n",
       "    </tr>\n",
       "    <tr>\n",
       "      <th>14</th>\n",
       "      <td>Zinc, Zn</td>\n",
       "      <td>Elements</td>\n",
       "      <td>mg</td>\n",
       "      <td>2.940</td>\n",
       "      <td>1008</td>\n",
       "    </tr>\n",
       "    <tr>\n",
       "      <th>15</th>\n",
       "      <td>Copper, Cu</td>\n",
       "      <td>Elements</td>\n",
       "      <td>mg</td>\n",
       "      <td>0.024</td>\n",
       "      <td>1008</td>\n",
       "    </tr>\n",
       "    <tr>\n",
       "      <th>16</th>\n",
       "      <td>Manganese, Mn</td>\n",
       "      <td>Elements</td>\n",
       "      <td>mg</td>\n",
       "      <td>0.021</td>\n",
       "      <td>1008</td>\n",
       "    </tr>\n",
       "    <tr>\n",
       "      <th>17</th>\n",
       "      <td>Selenium, Se</td>\n",
       "      <td>Elements</td>\n",
       "      <td>mcg</td>\n",
       "      <td>14.500</td>\n",
       "      <td>1008</td>\n",
       "    </tr>\n",
       "    <tr>\n",
       "      <th>18</th>\n",
       "      <td>Vitamin A, IU</td>\n",
       "      <td>Vitamins</td>\n",
       "      <td>IU</td>\n",
       "      <td>1054.000</td>\n",
       "      <td>1008</td>\n",
       "    </tr>\n",
       "    <tr>\n",
       "      <th>19</th>\n",
       "      <td>Retinol</td>\n",
       "      <td>Vitamins</td>\n",
       "      <td>mcg</td>\n",
       "      <td>262.000</td>\n",
       "      <td>1008</td>\n",
       "    </tr>\n",
       "    <tr>\n",
       "      <th>20</th>\n",
       "      <td>Vitamin A, RAE</td>\n",
       "      <td>Vitamins</td>\n",
       "      <td>mcg_RAE</td>\n",
       "      <td>271.000</td>\n",
       "      <td>1008</td>\n",
       "    </tr>\n",
       "    <tr>\n",
       "      <th>21</th>\n",
       "      <td>Vitamin C, total ascorbic acid</td>\n",
       "      <td>Vitamins</td>\n",
       "      <td>mg</td>\n",
       "      <td>0.000</td>\n",
       "      <td>1008</td>\n",
       "    </tr>\n",
       "    <tr>\n",
       "      <th>22</th>\n",
       "      <td>Thiamin</td>\n",
       "      <td>Vitamins</td>\n",
       "      <td>mg</td>\n",
       "      <td>0.031</td>\n",
       "      <td>1008</td>\n",
       "    </tr>\n",
       "    <tr>\n",
       "      <th>23</th>\n",
       "      <td>Riboflavin</td>\n",
       "      <td>Vitamins</td>\n",
       "      <td>mg</td>\n",
       "      <td>0.450</td>\n",
       "      <td>1008</td>\n",
       "    </tr>\n",
       "    <tr>\n",
       "      <th>24</th>\n",
       "      <td>Niacin</td>\n",
       "      <td>Vitamins</td>\n",
       "      <td>mg</td>\n",
       "      <td>0.180</td>\n",
       "      <td>1008</td>\n",
       "    </tr>\n",
       "    <tr>\n",
       "      <th>25</th>\n",
       "      <td>Pantothenic acid</td>\n",
       "      <td>Vitamins</td>\n",
       "      <td>mg</td>\n",
       "      <td>0.190</td>\n",
       "      <td>1008</td>\n",
       "    </tr>\n",
       "    <tr>\n",
       "      <th>26</th>\n",
       "      <td>Vitamin B-6</td>\n",
       "      <td>Vitamins</td>\n",
       "      <td>mg</td>\n",
       "      <td>0.074</td>\n",
       "      <td>1008</td>\n",
       "    </tr>\n",
       "    <tr>\n",
       "      <th>27</th>\n",
       "      <td>Folate, total</td>\n",
       "      <td>Vitamins</td>\n",
       "      <td>mcg</td>\n",
       "      <td>18.000</td>\n",
       "      <td>1008</td>\n",
       "    </tr>\n",
       "    <tr>\n",
       "      <th>28</th>\n",
       "      <td>Vitamin B-12</td>\n",
       "      <td>Vitamins</td>\n",
       "      <td>mcg</td>\n",
       "      <td>0.270</td>\n",
       "      <td>1008</td>\n",
       "    </tr>\n",
       "    <tr>\n",
       "      <th>29</th>\n",
       "      <td>Folic acid</td>\n",
       "      <td>Vitamins</td>\n",
       "      <td>mcg</td>\n",
       "      <td>0.000</td>\n",
       "      <td>1008</td>\n",
       "    </tr>\n",
       "    <tr>\n",
       "      <th>...</th>\n",
       "      <td>...</td>\n",
       "      <td>...</td>\n",
       "      <td>...</td>\n",
       "      <td>...</td>\n",
       "      <td>...</td>\n",
       "    </tr>\n",
       "    <tr>\n",
       "      <th>389325</th>\n",
       "      <td>Selenium, Se</td>\n",
       "      <td>Elements</td>\n",
       "      <td>mcg</td>\n",
       "      <td>1.100</td>\n",
       "      <td>43546</td>\n",
       "    </tr>\n",
       "    <tr>\n",
       "      <th>389326</th>\n",
       "      <td>Vitamin A, IU</td>\n",
       "      <td>Vitamins</td>\n",
       "      <td>IU</td>\n",
       "      <td>5.000</td>\n",
       "      <td>43546</td>\n",
       "    </tr>\n",
       "    <tr>\n",
       "      <th>389327</th>\n",
       "      <td>Retinol</td>\n",
       "      <td>Vitamins</td>\n",
       "      <td>mcg</td>\n",
       "      <td>0.000</td>\n",
       "      <td>43546</td>\n",
       "    </tr>\n",
       "    <tr>\n",
       "      <th>389328</th>\n",
       "      <td>Vitamin A, RAE</td>\n",
       "      <td>Vitamins</td>\n",
       "      <td>mcg_RAE</td>\n",
       "      <td>0.000</td>\n",
       "      <td>43546</td>\n",
       "    </tr>\n",
       "    <tr>\n",
       "      <th>389329</th>\n",
       "      <td>Carotene, beta</td>\n",
       "      <td>Vitamins</td>\n",
       "      <td>mcg</td>\n",
       "      <td>2.000</td>\n",
       "      <td>43546</td>\n",
       "    </tr>\n",
       "    <tr>\n",
       "      <th>389330</th>\n",
       "      <td>Carotene, alpha</td>\n",
       "      <td>Vitamins</td>\n",
       "      <td>mcg</td>\n",
       "      <td>2.000</td>\n",
       "      <td>43546</td>\n",
       "    </tr>\n",
       "    <tr>\n",
       "      <th>389331</th>\n",
       "      <td>Vitamin E (alpha-tocopherol)</td>\n",
       "      <td>Vitamins</td>\n",
       "      <td>mg</td>\n",
       "      <td>0.250</td>\n",
       "      <td>43546</td>\n",
       "    </tr>\n",
       "    <tr>\n",
       "      <th>389332</th>\n",
       "      <td>Vitamin D</td>\n",
       "      <td>Vitamins</td>\n",
       "      <td>IU</td>\n",
       "      <td>0.000</td>\n",
       "      <td>43546</td>\n",
       "    </tr>\n",
       "    <tr>\n",
       "      <th>389333</th>\n",
       "      <td>Vitamin D (D2 + D3)</td>\n",
       "      <td>Vitamins</td>\n",
       "      <td>mcg</td>\n",
       "      <td>0.000</td>\n",
       "      <td>43546</td>\n",
       "    </tr>\n",
       "    <tr>\n",
       "      <th>389334</th>\n",
       "      <td>Cryptoxanthin, beta</td>\n",
       "      <td>Vitamins</td>\n",
       "      <td>mcg</td>\n",
       "      <td>0.000</td>\n",
       "      <td>43546</td>\n",
       "    </tr>\n",
       "    <tr>\n",
       "      <th>389335</th>\n",
       "      <td>Lycopene</td>\n",
       "      <td>Vitamins</td>\n",
       "      <td>mcg</td>\n",
       "      <td>0.000</td>\n",
       "      <td>43546</td>\n",
       "    </tr>\n",
       "    <tr>\n",
       "      <th>389336</th>\n",
       "      <td>Lutein + zeaxanthin</td>\n",
       "      <td>Vitamins</td>\n",
       "      <td>mcg</td>\n",
       "      <td>20.000</td>\n",
       "      <td>43546</td>\n",
       "    </tr>\n",
       "    <tr>\n",
       "      <th>389337</th>\n",
       "      <td>Vitamin C, total ascorbic acid</td>\n",
       "      <td>Vitamins</td>\n",
       "      <td>mg</td>\n",
       "      <td>21.900</td>\n",
       "      <td>43546</td>\n",
       "    </tr>\n",
       "    <tr>\n",
       "      <th>389338</th>\n",
       "      <td>Thiamin</td>\n",
       "      <td>Vitamins</td>\n",
       "      <td>mg</td>\n",
       "      <td>0.020</td>\n",
       "      <td>43546</td>\n",
       "    </tr>\n",
       "    <tr>\n",
       "      <th>389339</th>\n",
       "      <td>Riboflavin</td>\n",
       "      <td>Vitamins</td>\n",
       "      <td>mg</td>\n",
       "      <td>0.060</td>\n",
       "      <td>43546</td>\n",
       "    </tr>\n",
       "    <tr>\n",
       "      <th>389340</th>\n",
       "      <td>Niacin</td>\n",
       "      <td>Vitamins</td>\n",
       "      <td>mg</td>\n",
       "      <td>0.540</td>\n",
       "      <td>43546</td>\n",
       "    </tr>\n",
       "    <tr>\n",
       "      <th>389341</th>\n",
       "      <td>Vitamin B-6</td>\n",
       "      <td>Vitamins</td>\n",
       "      <td>mg</td>\n",
       "      <td>0.260</td>\n",
       "      <td>43546</td>\n",
       "    </tr>\n",
       "    <tr>\n",
       "      <th>389342</th>\n",
       "      <td>Folate, total</td>\n",
       "      <td>Vitamins</td>\n",
       "      <td>mcg</td>\n",
       "      <td>17.000</td>\n",
       "      <td>43546</td>\n",
       "    </tr>\n",
       "    <tr>\n",
       "      <th>389343</th>\n",
       "      <td>Vitamin B-12</td>\n",
       "      <td>Vitamins</td>\n",
       "      <td>mcg</td>\n",
       "      <td>0.000</td>\n",
       "      <td>43546</td>\n",
       "    </tr>\n",
       "    <tr>\n",
       "      <th>389344</th>\n",
       "      <td>Choline, total</td>\n",
       "      <td>Vitamins</td>\n",
       "      <td>mg</td>\n",
       "      <td>4.100</td>\n",
       "      <td>43546</td>\n",
       "    </tr>\n",
       "    <tr>\n",
       "      <th>389345</th>\n",
       "      <td>Vitamin K (phylloquinone)</td>\n",
       "      <td>Vitamins</td>\n",
       "      <td>mcg</td>\n",
       "      <td>0.500</td>\n",
       "      <td>43546</td>\n",
       "    </tr>\n",
       "    <tr>\n",
       "      <th>389346</th>\n",
       "      <td>Folic acid</td>\n",
       "      <td>Vitamins</td>\n",
       "      <td>mcg</td>\n",
       "      <td>0.000</td>\n",
       "      <td>43546</td>\n",
       "    </tr>\n",
       "    <tr>\n",
       "      <th>389347</th>\n",
       "      <td>Folate, food</td>\n",
       "      <td>Vitamins</td>\n",
       "      <td>mcg</td>\n",
       "      <td>17.000</td>\n",
       "      <td>43546</td>\n",
       "    </tr>\n",
       "    <tr>\n",
       "      <th>389348</th>\n",
       "      <td>Folate, DFE</td>\n",
       "      <td>Vitamins</td>\n",
       "      <td>mcg_DFE</td>\n",
       "      <td>17.000</td>\n",
       "      <td>43546</td>\n",
       "    </tr>\n",
       "    <tr>\n",
       "      <th>389349</th>\n",
       "      <td>Vitamin E, added</td>\n",
       "      <td>Vitamins</td>\n",
       "      <td>mg</td>\n",
       "      <td>0.000</td>\n",
       "      <td>43546</td>\n",
       "    </tr>\n",
       "    <tr>\n",
       "      <th>389350</th>\n",
       "      <td>Vitamin B-12, added</td>\n",
       "      <td>Vitamins</td>\n",
       "      <td>mcg</td>\n",
       "      <td>0.000</td>\n",
       "      <td>43546</td>\n",
       "    </tr>\n",
       "    <tr>\n",
       "      <th>389351</th>\n",
       "      <td>Cholesterol</td>\n",
       "      <td>Other</td>\n",
       "      <td>mg</td>\n",
       "      <td>0.000</td>\n",
       "      <td>43546</td>\n",
       "    </tr>\n",
       "    <tr>\n",
       "      <th>389352</th>\n",
       "      <td>Fatty acids, total saturated</td>\n",
       "      <td>Other</td>\n",
       "      <td>g</td>\n",
       "      <td>0.072</td>\n",
       "      <td>43546</td>\n",
       "    </tr>\n",
       "    <tr>\n",
       "      <th>389353</th>\n",
       "      <td>Fatty acids, total monounsaturated</td>\n",
       "      <td>Other</td>\n",
       "      <td>g</td>\n",
       "      <td>0.028</td>\n",
       "      <td>43546</td>\n",
       "    </tr>\n",
       "    <tr>\n",
       "      <th>389354</th>\n",
       "      <td>Fatty acids, total polyunsaturated</td>\n",
       "      <td>Other</td>\n",
       "      <td>g</td>\n",
       "      <td>0.041</td>\n",
       "      <td>43546</td>\n",
       "    </tr>\n",
       "  </tbody>\n",
       "</table>\n",
       "<p>375176 rows × 5 columns</p>\n",
       "</div>"
      ],
      "text/plain": [
       "                                  nutrient     nutgroup    units     value  \\\n",
       "0                                  Protein  Composition        g    25.180   \n",
       "1                        Total lipid (fat)  Composition        g    29.200   \n",
       "2              Carbohydrate, by difference  Composition        g     3.060   \n",
       "3                                      Ash        Other        g     3.280   \n",
       "4                                   Energy       Energy     kcal   376.000   \n",
       "5                                    Water  Composition        g    39.280   \n",
       "6                                   Energy       Energy       kJ  1573.000   \n",
       "7                     Fiber, total dietary  Composition        g     0.000   \n",
       "8                              Calcium, Ca     Elements       mg   673.000   \n",
       "9                                 Iron, Fe     Elements       mg     0.640   \n",
       "10                           Magnesium, Mg     Elements       mg    22.000   \n",
       "11                           Phosphorus, P     Elements       mg   490.000   \n",
       "12                            Potassium, K     Elements       mg    93.000   \n",
       "13                              Sodium, Na     Elements       mg   690.000   \n",
       "14                                Zinc, Zn     Elements       mg     2.940   \n",
       "15                              Copper, Cu     Elements       mg     0.024   \n",
       "16                           Manganese, Mn     Elements       mg     0.021   \n",
       "17                            Selenium, Se     Elements      mcg    14.500   \n",
       "18                           Vitamin A, IU     Vitamins       IU  1054.000   \n",
       "19                                 Retinol     Vitamins      mcg   262.000   \n",
       "20                          Vitamin A, RAE     Vitamins  mcg_RAE   271.000   \n",
       "21          Vitamin C, total ascorbic acid     Vitamins       mg     0.000   \n",
       "22                                 Thiamin     Vitamins       mg     0.031   \n",
       "23                              Riboflavin     Vitamins       mg     0.450   \n",
       "24                                  Niacin     Vitamins       mg     0.180   \n",
       "25                        Pantothenic acid     Vitamins       mg     0.190   \n",
       "26                             Vitamin B-6     Vitamins       mg     0.074   \n",
       "27                           Folate, total     Vitamins      mcg    18.000   \n",
       "28                            Vitamin B-12     Vitamins      mcg     0.270   \n",
       "29                              Folic acid     Vitamins      mcg     0.000   \n",
       "...                                    ...          ...      ...       ...   \n",
       "389325                        Selenium, Se     Elements      mcg     1.100   \n",
       "389326                       Vitamin A, IU     Vitamins       IU     5.000   \n",
       "389327                             Retinol     Vitamins      mcg     0.000   \n",
       "389328                      Vitamin A, RAE     Vitamins  mcg_RAE     0.000   \n",
       "389329                      Carotene, beta     Vitamins      mcg     2.000   \n",
       "389330                     Carotene, alpha     Vitamins      mcg     2.000   \n",
       "389331        Vitamin E (alpha-tocopherol)     Vitamins       mg     0.250   \n",
       "389332                           Vitamin D     Vitamins       IU     0.000   \n",
       "389333                 Vitamin D (D2 + D3)     Vitamins      mcg     0.000   \n",
       "389334                 Cryptoxanthin, beta     Vitamins      mcg     0.000   \n",
       "389335                            Lycopene     Vitamins      mcg     0.000   \n",
       "389336                 Lutein + zeaxanthin     Vitamins      mcg    20.000   \n",
       "389337      Vitamin C, total ascorbic acid     Vitamins       mg    21.900   \n",
       "389338                             Thiamin     Vitamins       mg     0.020   \n",
       "389339                          Riboflavin     Vitamins       mg     0.060   \n",
       "389340                              Niacin     Vitamins       mg     0.540   \n",
       "389341                         Vitamin B-6     Vitamins       mg     0.260   \n",
       "389342                       Folate, total     Vitamins      mcg    17.000   \n",
       "389343                        Vitamin B-12     Vitamins      mcg     0.000   \n",
       "389344                      Choline, total     Vitamins       mg     4.100   \n",
       "389345           Vitamin K (phylloquinone)     Vitamins      mcg     0.500   \n",
       "389346                          Folic acid     Vitamins      mcg     0.000   \n",
       "389347                        Folate, food     Vitamins      mcg    17.000   \n",
       "389348                         Folate, DFE     Vitamins  mcg_DFE    17.000   \n",
       "389349                    Vitamin E, added     Vitamins       mg     0.000   \n",
       "389350                 Vitamin B-12, added     Vitamins      mcg     0.000   \n",
       "389351                         Cholesterol        Other       mg     0.000   \n",
       "389352        Fatty acids, total saturated        Other        g     0.072   \n",
       "389353  Fatty acids, total monounsaturated        Other        g     0.028   \n",
       "389354  Fatty acids, total polyunsaturated        Other        g     0.041   \n",
       "\n",
       "           id  \n",
       "0        1008  \n",
       "1        1008  \n",
       "2        1008  \n",
       "3        1008  \n",
       "4        1008  \n",
       "5        1008  \n",
       "6        1008  \n",
       "7        1008  \n",
       "8        1008  \n",
       "9        1008  \n",
       "10       1008  \n",
       "11       1008  \n",
       "12       1008  \n",
       "13       1008  \n",
       "14       1008  \n",
       "15       1008  \n",
       "16       1008  \n",
       "17       1008  \n",
       "18       1008  \n",
       "19       1008  \n",
       "20       1008  \n",
       "21       1008  \n",
       "22       1008  \n",
       "23       1008  \n",
       "24       1008  \n",
       "25       1008  \n",
       "26       1008  \n",
       "27       1008  \n",
       "28       1008  \n",
       "29       1008  \n",
       "...       ...  \n",
       "389325  43546  \n",
       "389326  43546  \n",
       "389327  43546  \n",
       "389328  43546  \n",
       "389329  43546  \n",
       "389330  43546  \n",
       "389331  43546  \n",
       "389332  43546  \n",
       "389333  43546  \n",
       "389334  43546  \n",
       "389335  43546  \n",
       "389336  43546  \n",
       "389337  43546  \n",
       "389338  43546  \n",
       "389339  43546  \n",
       "389340  43546  \n",
       "389341  43546  \n",
       "389342  43546  \n",
       "389343  43546  \n",
       "389344  43546  \n",
       "389345  43546  \n",
       "389346  43546  \n",
       "389347  43546  \n",
       "389348  43546  \n",
       "389349  43546  \n",
       "389350  43546  \n",
       "389351  43546  \n",
       "389352  43546  \n",
       "389353  43546  \n",
       "389354  43546  \n",
       "\n",
       "[375176 rows x 5 columns]"
      ]
     },
     "execution_count": 229,
     "metadata": {},
     "output_type": "execute_result"
    }
   ],
   "source": [
    "nutrients"
   ]
  },
  {
   "cell_type": "markdown",
   "metadata": {},
   "source": [
    "做完这些事情，就可以将info跟nutrients合并起来："
   ]
  },
  {
   "cell_type": "code",
   "execution_count": 230,
   "metadata": {},
   "outputs": [],
   "source": [
    "ndata = pd.merge(nutrients, info, on='id', how='outer')"
   ]
  },
  {
   "cell_type": "code",
   "execution_count": 231,
   "metadata": {},
   "outputs": [
    {
     "data": {
      "text/html": [
       "<div>\n",
       "<style scoped>\n",
       "    .dataframe tbody tr th:only-of-type {\n",
       "        vertical-align: middle;\n",
       "    }\n",
       "\n",
       "    .dataframe tbody tr th {\n",
       "        vertical-align: top;\n",
       "    }\n",
       "\n",
       "    .dataframe thead th {\n",
       "        text-align: right;\n",
       "    }\n",
       "</style>\n",
       "<table border=\"1\" class=\"dataframe\">\n",
       "  <thead>\n",
       "    <tr style=\"text-align: right;\">\n",
       "      <th></th>\n",
       "      <th>nutrient</th>\n",
       "      <th>nutgroup</th>\n",
       "      <th>units</th>\n",
       "      <th>value</th>\n",
       "      <th>id</th>\n",
       "      <th>food</th>\n",
       "      <th>fgroup</th>\n",
       "      <th>manufacturer</th>\n",
       "    </tr>\n",
       "  </thead>\n",
       "  <tbody>\n",
       "    <tr>\n",
       "      <th>0</th>\n",
       "      <td>Protein</td>\n",
       "      <td>Composition</td>\n",
       "      <td>g</td>\n",
       "      <td>25.180</td>\n",
       "      <td>1008</td>\n",
       "      <td>Cheese, caraway</td>\n",
       "      <td>Dairy and Egg Products</td>\n",
       "      <td></td>\n",
       "    </tr>\n",
       "    <tr>\n",
       "      <th>1</th>\n",
       "      <td>Total lipid (fat)</td>\n",
       "      <td>Composition</td>\n",
       "      <td>g</td>\n",
       "      <td>29.200</td>\n",
       "      <td>1008</td>\n",
       "      <td>Cheese, caraway</td>\n",
       "      <td>Dairy and Egg Products</td>\n",
       "      <td></td>\n",
       "    </tr>\n",
       "    <tr>\n",
       "      <th>2</th>\n",
       "      <td>Carbohydrate, by difference</td>\n",
       "      <td>Composition</td>\n",
       "      <td>g</td>\n",
       "      <td>3.060</td>\n",
       "      <td>1008</td>\n",
       "      <td>Cheese, caraway</td>\n",
       "      <td>Dairy and Egg Products</td>\n",
       "      <td></td>\n",
       "    </tr>\n",
       "    <tr>\n",
       "      <th>3</th>\n",
       "      <td>Ash</td>\n",
       "      <td>Other</td>\n",
       "      <td>g</td>\n",
       "      <td>3.280</td>\n",
       "      <td>1008</td>\n",
       "      <td>Cheese, caraway</td>\n",
       "      <td>Dairy and Egg Products</td>\n",
       "      <td></td>\n",
       "    </tr>\n",
       "    <tr>\n",
       "      <th>4</th>\n",
       "      <td>Energy</td>\n",
       "      <td>Energy</td>\n",
       "      <td>kcal</td>\n",
       "      <td>376.000</td>\n",
       "      <td>1008</td>\n",
       "      <td>Cheese, caraway</td>\n",
       "      <td>Dairy and Egg Products</td>\n",
       "      <td></td>\n",
       "    </tr>\n",
       "    <tr>\n",
       "      <th>5</th>\n",
       "      <td>Water</td>\n",
       "      <td>Composition</td>\n",
       "      <td>g</td>\n",
       "      <td>39.280</td>\n",
       "      <td>1008</td>\n",
       "      <td>Cheese, caraway</td>\n",
       "      <td>Dairy and Egg Products</td>\n",
       "      <td></td>\n",
       "    </tr>\n",
       "    <tr>\n",
       "      <th>6</th>\n",
       "      <td>Energy</td>\n",
       "      <td>Energy</td>\n",
       "      <td>kJ</td>\n",
       "      <td>1573.000</td>\n",
       "      <td>1008</td>\n",
       "      <td>Cheese, caraway</td>\n",
       "      <td>Dairy and Egg Products</td>\n",
       "      <td></td>\n",
       "    </tr>\n",
       "    <tr>\n",
       "      <th>7</th>\n",
       "      <td>Fiber, total dietary</td>\n",
       "      <td>Composition</td>\n",
       "      <td>g</td>\n",
       "      <td>0.000</td>\n",
       "      <td>1008</td>\n",
       "      <td>Cheese, caraway</td>\n",
       "      <td>Dairy and Egg Products</td>\n",
       "      <td></td>\n",
       "    </tr>\n",
       "    <tr>\n",
       "      <th>8</th>\n",
       "      <td>Calcium, Ca</td>\n",
       "      <td>Elements</td>\n",
       "      <td>mg</td>\n",
       "      <td>673.000</td>\n",
       "      <td>1008</td>\n",
       "      <td>Cheese, caraway</td>\n",
       "      <td>Dairy and Egg Products</td>\n",
       "      <td></td>\n",
       "    </tr>\n",
       "    <tr>\n",
       "      <th>9</th>\n",
       "      <td>Iron, Fe</td>\n",
       "      <td>Elements</td>\n",
       "      <td>mg</td>\n",
       "      <td>0.640</td>\n",
       "      <td>1008</td>\n",
       "      <td>Cheese, caraway</td>\n",
       "      <td>Dairy and Egg Products</td>\n",
       "      <td></td>\n",
       "    </tr>\n",
       "    <tr>\n",
       "      <th>10</th>\n",
       "      <td>Magnesium, Mg</td>\n",
       "      <td>Elements</td>\n",
       "      <td>mg</td>\n",
       "      <td>22.000</td>\n",
       "      <td>1008</td>\n",
       "      <td>Cheese, caraway</td>\n",
       "      <td>Dairy and Egg Products</td>\n",
       "      <td></td>\n",
       "    </tr>\n",
       "    <tr>\n",
       "      <th>11</th>\n",
       "      <td>Phosphorus, P</td>\n",
       "      <td>Elements</td>\n",
       "      <td>mg</td>\n",
       "      <td>490.000</td>\n",
       "      <td>1008</td>\n",
       "      <td>Cheese, caraway</td>\n",
       "      <td>Dairy and Egg Products</td>\n",
       "      <td></td>\n",
       "    </tr>\n",
       "    <tr>\n",
       "      <th>12</th>\n",
       "      <td>Potassium, K</td>\n",
       "      <td>Elements</td>\n",
       "      <td>mg</td>\n",
       "      <td>93.000</td>\n",
       "      <td>1008</td>\n",
       "      <td>Cheese, caraway</td>\n",
       "      <td>Dairy and Egg Products</td>\n",
       "      <td></td>\n",
       "    </tr>\n",
       "    <tr>\n",
       "      <th>13</th>\n",
       "      <td>Sodium, Na</td>\n",
       "      <td>Elements</td>\n",
       "      <td>mg</td>\n",
       "      <td>690.000</td>\n",
       "      <td>1008</td>\n",
       "      <td>Cheese, caraway</td>\n",
       "      <td>Dairy and Egg Products</td>\n",
       "      <td></td>\n",
       "    </tr>\n",
       "    <tr>\n",
       "      <th>14</th>\n",
       "      <td>Zinc, Zn</td>\n",
       "      <td>Elements</td>\n",
       "      <td>mg</td>\n",
       "      <td>2.940</td>\n",
       "      <td>1008</td>\n",
       "      <td>Cheese, caraway</td>\n",
       "      <td>Dairy and Egg Products</td>\n",
       "      <td></td>\n",
       "    </tr>\n",
       "    <tr>\n",
       "      <th>15</th>\n",
       "      <td>Copper, Cu</td>\n",
       "      <td>Elements</td>\n",
       "      <td>mg</td>\n",
       "      <td>0.024</td>\n",
       "      <td>1008</td>\n",
       "      <td>Cheese, caraway</td>\n",
       "      <td>Dairy and Egg Products</td>\n",
       "      <td></td>\n",
       "    </tr>\n",
       "    <tr>\n",
       "      <th>16</th>\n",
       "      <td>Manganese, Mn</td>\n",
       "      <td>Elements</td>\n",
       "      <td>mg</td>\n",
       "      <td>0.021</td>\n",
       "      <td>1008</td>\n",
       "      <td>Cheese, caraway</td>\n",
       "      <td>Dairy and Egg Products</td>\n",
       "      <td></td>\n",
       "    </tr>\n",
       "    <tr>\n",
       "      <th>17</th>\n",
       "      <td>Selenium, Se</td>\n",
       "      <td>Elements</td>\n",
       "      <td>mcg</td>\n",
       "      <td>14.500</td>\n",
       "      <td>1008</td>\n",
       "      <td>Cheese, caraway</td>\n",
       "      <td>Dairy and Egg Products</td>\n",
       "      <td></td>\n",
       "    </tr>\n",
       "    <tr>\n",
       "      <th>18</th>\n",
       "      <td>Vitamin A, IU</td>\n",
       "      <td>Vitamins</td>\n",
       "      <td>IU</td>\n",
       "      <td>1054.000</td>\n",
       "      <td>1008</td>\n",
       "      <td>Cheese, caraway</td>\n",
       "      <td>Dairy and Egg Products</td>\n",
       "      <td></td>\n",
       "    </tr>\n",
       "    <tr>\n",
       "      <th>19</th>\n",
       "      <td>Retinol</td>\n",
       "      <td>Vitamins</td>\n",
       "      <td>mcg</td>\n",
       "      <td>262.000</td>\n",
       "      <td>1008</td>\n",
       "      <td>Cheese, caraway</td>\n",
       "      <td>Dairy and Egg Products</td>\n",
       "      <td></td>\n",
       "    </tr>\n",
       "    <tr>\n",
       "      <th>20</th>\n",
       "      <td>Vitamin A, RAE</td>\n",
       "      <td>Vitamins</td>\n",
       "      <td>mcg_RAE</td>\n",
       "      <td>271.000</td>\n",
       "      <td>1008</td>\n",
       "      <td>Cheese, caraway</td>\n",
       "      <td>Dairy and Egg Products</td>\n",
       "      <td></td>\n",
       "    </tr>\n",
       "    <tr>\n",
       "      <th>21</th>\n",
       "      <td>Vitamin C, total ascorbic acid</td>\n",
       "      <td>Vitamins</td>\n",
       "      <td>mg</td>\n",
       "      <td>0.000</td>\n",
       "      <td>1008</td>\n",
       "      <td>Cheese, caraway</td>\n",
       "      <td>Dairy and Egg Products</td>\n",
       "      <td></td>\n",
       "    </tr>\n",
       "    <tr>\n",
       "      <th>22</th>\n",
       "      <td>Thiamin</td>\n",
       "      <td>Vitamins</td>\n",
       "      <td>mg</td>\n",
       "      <td>0.031</td>\n",
       "      <td>1008</td>\n",
       "      <td>Cheese, caraway</td>\n",
       "      <td>Dairy and Egg Products</td>\n",
       "      <td></td>\n",
       "    </tr>\n",
       "    <tr>\n",
       "      <th>23</th>\n",
       "      <td>Riboflavin</td>\n",
       "      <td>Vitamins</td>\n",
       "      <td>mg</td>\n",
       "      <td>0.450</td>\n",
       "      <td>1008</td>\n",
       "      <td>Cheese, caraway</td>\n",
       "      <td>Dairy and Egg Products</td>\n",
       "      <td></td>\n",
       "    </tr>\n",
       "    <tr>\n",
       "      <th>24</th>\n",
       "      <td>Niacin</td>\n",
       "      <td>Vitamins</td>\n",
       "      <td>mg</td>\n",
       "      <td>0.180</td>\n",
       "      <td>1008</td>\n",
       "      <td>Cheese, caraway</td>\n",
       "      <td>Dairy and Egg Products</td>\n",
       "      <td></td>\n",
       "    </tr>\n",
       "    <tr>\n",
       "      <th>25</th>\n",
       "      <td>Pantothenic acid</td>\n",
       "      <td>Vitamins</td>\n",
       "      <td>mg</td>\n",
       "      <td>0.190</td>\n",
       "      <td>1008</td>\n",
       "      <td>Cheese, caraway</td>\n",
       "      <td>Dairy and Egg Products</td>\n",
       "      <td></td>\n",
       "    </tr>\n",
       "    <tr>\n",
       "      <th>26</th>\n",
       "      <td>Vitamin B-6</td>\n",
       "      <td>Vitamins</td>\n",
       "      <td>mg</td>\n",
       "      <td>0.074</td>\n",
       "      <td>1008</td>\n",
       "      <td>Cheese, caraway</td>\n",
       "      <td>Dairy and Egg Products</td>\n",
       "      <td></td>\n",
       "    </tr>\n",
       "    <tr>\n",
       "      <th>27</th>\n",
       "      <td>Folate, total</td>\n",
       "      <td>Vitamins</td>\n",
       "      <td>mcg</td>\n",
       "      <td>18.000</td>\n",
       "      <td>1008</td>\n",
       "      <td>Cheese, caraway</td>\n",
       "      <td>Dairy and Egg Products</td>\n",
       "      <td></td>\n",
       "    </tr>\n",
       "    <tr>\n",
       "      <th>28</th>\n",
       "      <td>Vitamin B-12</td>\n",
       "      <td>Vitamins</td>\n",
       "      <td>mcg</td>\n",
       "      <td>0.270</td>\n",
       "      <td>1008</td>\n",
       "      <td>Cheese, caraway</td>\n",
       "      <td>Dairy and Egg Products</td>\n",
       "      <td></td>\n",
       "    </tr>\n",
       "    <tr>\n",
       "      <th>29</th>\n",
       "      <td>Folic acid</td>\n",
       "      <td>Vitamins</td>\n",
       "      <td>mcg</td>\n",
       "      <td>0.000</td>\n",
       "      <td>1008</td>\n",
       "      <td>Cheese, caraway</td>\n",
       "      <td>Dairy and Egg Products</td>\n",
       "      <td></td>\n",
       "    </tr>\n",
       "    <tr>\n",
       "      <th>...</th>\n",
       "      <td>...</td>\n",
       "      <td>...</td>\n",
       "      <td>...</td>\n",
       "      <td>...</td>\n",
       "      <td>...</td>\n",
       "      <td>...</td>\n",
       "      <td>...</td>\n",
       "      <td>...</td>\n",
       "    </tr>\n",
       "    <tr>\n",
       "      <th>375146</th>\n",
       "      <td>Selenium, Se</td>\n",
       "      <td>Elements</td>\n",
       "      <td>mcg</td>\n",
       "      <td>1.100</td>\n",
       "      <td>43546</td>\n",
       "      <td>Babyfood, banana no tapioca, strained</td>\n",
       "      <td>Baby Foods</td>\n",
       "      <td>None</td>\n",
       "    </tr>\n",
       "    <tr>\n",
       "      <th>375147</th>\n",
       "      <td>Vitamin A, IU</td>\n",
       "      <td>Vitamins</td>\n",
       "      <td>IU</td>\n",
       "      <td>5.000</td>\n",
       "      <td>43546</td>\n",
       "      <td>Babyfood, banana no tapioca, strained</td>\n",
       "      <td>Baby Foods</td>\n",
       "      <td>None</td>\n",
       "    </tr>\n",
       "    <tr>\n",
       "      <th>375148</th>\n",
       "      <td>Retinol</td>\n",
       "      <td>Vitamins</td>\n",
       "      <td>mcg</td>\n",
       "      <td>0.000</td>\n",
       "      <td>43546</td>\n",
       "      <td>Babyfood, banana no tapioca, strained</td>\n",
       "      <td>Baby Foods</td>\n",
       "      <td>None</td>\n",
       "    </tr>\n",
       "    <tr>\n",
       "      <th>375149</th>\n",
       "      <td>Vitamin A, RAE</td>\n",
       "      <td>Vitamins</td>\n",
       "      <td>mcg_RAE</td>\n",
       "      <td>0.000</td>\n",
       "      <td>43546</td>\n",
       "      <td>Babyfood, banana no tapioca, strained</td>\n",
       "      <td>Baby Foods</td>\n",
       "      <td>None</td>\n",
       "    </tr>\n",
       "    <tr>\n",
       "      <th>375150</th>\n",
       "      <td>Carotene, beta</td>\n",
       "      <td>Vitamins</td>\n",
       "      <td>mcg</td>\n",
       "      <td>2.000</td>\n",
       "      <td>43546</td>\n",
       "      <td>Babyfood, banana no tapioca, strained</td>\n",
       "      <td>Baby Foods</td>\n",
       "      <td>None</td>\n",
       "    </tr>\n",
       "    <tr>\n",
       "      <th>375151</th>\n",
       "      <td>Carotene, alpha</td>\n",
       "      <td>Vitamins</td>\n",
       "      <td>mcg</td>\n",
       "      <td>2.000</td>\n",
       "      <td>43546</td>\n",
       "      <td>Babyfood, banana no tapioca, strained</td>\n",
       "      <td>Baby Foods</td>\n",
       "      <td>None</td>\n",
       "    </tr>\n",
       "    <tr>\n",
       "      <th>375152</th>\n",
       "      <td>Vitamin E (alpha-tocopherol)</td>\n",
       "      <td>Vitamins</td>\n",
       "      <td>mg</td>\n",
       "      <td>0.250</td>\n",
       "      <td>43546</td>\n",
       "      <td>Babyfood, banana no tapioca, strained</td>\n",
       "      <td>Baby Foods</td>\n",
       "      <td>None</td>\n",
       "    </tr>\n",
       "    <tr>\n",
       "      <th>375153</th>\n",
       "      <td>Vitamin D</td>\n",
       "      <td>Vitamins</td>\n",
       "      <td>IU</td>\n",
       "      <td>0.000</td>\n",
       "      <td>43546</td>\n",
       "      <td>Babyfood, banana no tapioca, strained</td>\n",
       "      <td>Baby Foods</td>\n",
       "      <td>None</td>\n",
       "    </tr>\n",
       "    <tr>\n",
       "      <th>375154</th>\n",
       "      <td>Vitamin D (D2 + D3)</td>\n",
       "      <td>Vitamins</td>\n",
       "      <td>mcg</td>\n",
       "      <td>0.000</td>\n",
       "      <td>43546</td>\n",
       "      <td>Babyfood, banana no tapioca, strained</td>\n",
       "      <td>Baby Foods</td>\n",
       "      <td>None</td>\n",
       "    </tr>\n",
       "    <tr>\n",
       "      <th>375155</th>\n",
       "      <td>Cryptoxanthin, beta</td>\n",
       "      <td>Vitamins</td>\n",
       "      <td>mcg</td>\n",
       "      <td>0.000</td>\n",
       "      <td>43546</td>\n",
       "      <td>Babyfood, banana no tapioca, strained</td>\n",
       "      <td>Baby Foods</td>\n",
       "      <td>None</td>\n",
       "    </tr>\n",
       "    <tr>\n",
       "      <th>375156</th>\n",
       "      <td>Lycopene</td>\n",
       "      <td>Vitamins</td>\n",
       "      <td>mcg</td>\n",
       "      <td>0.000</td>\n",
       "      <td>43546</td>\n",
       "      <td>Babyfood, banana no tapioca, strained</td>\n",
       "      <td>Baby Foods</td>\n",
       "      <td>None</td>\n",
       "    </tr>\n",
       "    <tr>\n",
       "      <th>375157</th>\n",
       "      <td>Lutein + zeaxanthin</td>\n",
       "      <td>Vitamins</td>\n",
       "      <td>mcg</td>\n",
       "      <td>20.000</td>\n",
       "      <td>43546</td>\n",
       "      <td>Babyfood, banana no tapioca, strained</td>\n",
       "      <td>Baby Foods</td>\n",
       "      <td>None</td>\n",
       "    </tr>\n",
       "    <tr>\n",
       "      <th>375158</th>\n",
       "      <td>Vitamin C, total ascorbic acid</td>\n",
       "      <td>Vitamins</td>\n",
       "      <td>mg</td>\n",
       "      <td>21.900</td>\n",
       "      <td>43546</td>\n",
       "      <td>Babyfood, banana no tapioca, strained</td>\n",
       "      <td>Baby Foods</td>\n",
       "      <td>None</td>\n",
       "    </tr>\n",
       "    <tr>\n",
       "      <th>375159</th>\n",
       "      <td>Thiamin</td>\n",
       "      <td>Vitamins</td>\n",
       "      <td>mg</td>\n",
       "      <td>0.020</td>\n",
       "      <td>43546</td>\n",
       "      <td>Babyfood, banana no tapioca, strained</td>\n",
       "      <td>Baby Foods</td>\n",
       "      <td>None</td>\n",
       "    </tr>\n",
       "    <tr>\n",
       "      <th>375160</th>\n",
       "      <td>Riboflavin</td>\n",
       "      <td>Vitamins</td>\n",
       "      <td>mg</td>\n",
       "      <td>0.060</td>\n",
       "      <td>43546</td>\n",
       "      <td>Babyfood, banana no tapioca, strained</td>\n",
       "      <td>Baby Foods</td>\n",
       "      <td>None</td>\n",
       "    </tr>\n",
       "    <tr>\n",
       "      <th>375161</th>\n",
       "      <td>Niacin</td>\n",
       "      <td>Vitamins</td>\n",
       "      <td>mg</td>\n",
       "      <td>0.540</td>\n",
       "      <td>43546</td>\n",
       "      <td>Babyfood, banana no tapioca, strained</td>\n",
       "      <td>Baby Foods</td>\n",
       "      <td>None</td>\n",
       "    </tr>\n",
       "    <tr>\n",
       "      <th>375162</th>\n",
       "      <td>Vitamin B-6</td>\n",
       "      <td>Vitamins</td>\n",
       "      <td>mg</td>\n",
       "      <td>0.260</td>\n",
       "      <td>43546</td>\n",
       "      <td>Babyfood, banana no tapioca, strained</td>\n",
       "      <td>Baby Foods</td>\n",
       "      <td>None</td>\n",
       "    </tr>\n",
       "    <tr>\n",
       "      <th>375163</th>\n",
       "      <td>Folate, total</td>\n",
       "      <td>Vitamins</td>\n",
       "      <td>mcg</td>\n",
       "      <td>17.000</td>\n",
       "      <td>43546</td>\n",
       "      <td>Babyfood, banana no tapioca, strained</td>\n",
       "      <td>Baby Foods</td>\n",
       "      <td>None</td>\n",
       "    </tr>\n",
       "    <tr>\n",
       "      <th>375164</th>\n",
       "      <td>Vitamin B-12</td>\n",
       "      <td>Vitamins</td>\n",
       "      <td>mcg</td>\n",
       "      <td>0.000</td>\n",
       "      <td>43546</td>\n",
       "      <td>Babyfood, banana no tapioca, strained</td>\n",
       "      <td>Baby Foods</td>\n",
       "      <td>None</td>\n",
       "    </tr>\n",
       "    <tr>\n",
       "      <th>375165</th>\n",
       "      <td>Choline, total</td>\n",
       "      <td>Vitamins</td>\n",
       "      <td>mg</td>\n",
       "      <td>4.100</td>\n",
       "      <td>43546</td>\n",
       "      <td>Babyfood, banana no tapioca, strained</td>\n",
       "      <td>Baby Foods</td>\n",
       "      <td>None</td>\n",
       "    </tr>\n",
       "    <tr>\n",
       "      <th>375166</th>\n",
       "      <td>Vitamin K (phylloquinone)</td>\n",
       "      <td>Vitamins</td>\n",
       "      <td>mcg</td>\n",
       "      <td>0.500</td>\n",
       "      <td>43546</td>\n",
       "      <td>Babyfood, banana no tapioca, strained</td>\n",
       "      <td>Baby Foods</td>\n",
       "      <td>None</td>\n",
       "    </tr>\n",
       "    <tr>\n",
       "      <th>375167</th>\n",
       "      <td>Folic acid</td>\n",
       "      <td>Vitamins</td>\n",
       "      <td>mcg</td>\n",
       "      <td>0.000</td>\n",
       "      <td>43546</td>\n",
       "      <td>Babyfood, banana no tapioca, strained</td>\n",
       "      <td>Baby Foods</td>\n",
       "      <td>None</td>\n",
       "    </tr>\n",
       "    <tr>\n",
       "      <th>375168</th>\n",
       "      <td>Folate, food</td>\n",
       "      <td>Vitamins</td>\n",
       "      <td>mcg</td>\n",
       "      <td>17.000</td>\n",
       "      <td>43546</td>\n",
       "      <td>Babyfood, banana no tapioca, strained</td>\n",
       "      <td>Baby Foods</td>\n",
       "      <td>None</td>\n",
       "    </tr>\n",
       "    <tr>\n",
       "      <th>375169</th>\n",
       "      <td>Folate, DFE</td>\n",
       "      <td>Vitamins</td>\n",
       "      <td>mcg_DFE</td>\n",
       "      <td>17.000</td>\n",
       "      <td>43546</td>\n",
       "      <td>Babyfood, banana no tapioca, strained</td>\n",
       "      <td>Baby Foods</td>\n",
       "      <td>None</td>\n",
       "    </tr>\n",
       "    <tr>\n",
       "      <th>375170</th>\n",
       "      <td>Vitamin E, added</td>\n",
       "      <td>Vitamins</td>\n",
       "      <td>mg</td>\n",
       "      <td>0.000</td>\n",
       "      <td>43546</td>\n",
       "      <td>Babyfood, banana no tapioca, strained</td>\n",
       "      <td>Baby Foods</td>\n",
       "      <td>None</td>\n",
       "    </tr>\n",
       "    <tr>\n",
       "      <th>375171</th>\n",
       "      <td>Vitamin B-12, added</td>\n",
       "      <td>Vitamins</td>\n",
       "      <td>mcg</td>\n",
       "      <td>0.000</td>\n",
       "      <td>43546</td>\n",
       "      <td>Babyfood, banana no tapioca, strained</td>\n",
       "      <td>Baby Foods</td>\n",
       "      <td>None</td>\n",
       "    </tr>\n",
       "    <tr>\n",
       "      <th>375172</th>\n",
       "      <td>Cholesterol</td>\n",
       "      <td>Other</td>\n",
       "      <td>mg</td>\n",
       "      <td>0.000</td>\n",
       "      <td>43546</td>\n",
       "      <td>Babyfood, banana no tapioca, strained</td>\n",
       "      <td>Baby Foods</td>\n",
       "      <td>None</td>\n",
       "    </tr>\n",
       "    <tr>\n",
       "      <th>375173</th>\n",
       "      <td>Fatty acids, total saturated</td>\n",
       "      <td>Other</td>\n",
       "      <td>g</td>\n",
       "      <td>0.072</td>\n",
       "      <td>43546</td>\n",
       "      <td>Babyfood, banana no tapioca, strained</td>\n",
       "      <td>Baby Foods</td>\n",
       "      <td>None</td>\n",
       "    </tr>\n",
       "    <tr>\n",
       "      <th>375174</th>\n",
       "      <td>Fatty acids, total monounsaturated</td>\n",
       "      <td>Other</td>\n",
       "      <td>g</td>\n",
       "      <td>0.028</td>\n",
       "      <td>43546</td>\n",
       "      <td>Babyfood, banana no tapioca, strained</td>\n",
       "      <td>Baby Foods</td>\n",
       "      <td>None</td>\n",
       "    </tr>\n",
       "    <tr>\n",
       "      <th>375175</th>\n",
       "      <td>Fatty acids, total polyunsaturated</td>\n",
       "      <td>Other</td>\n",
       "      <td>g</td>\n",
       "      <td>0.041</td>\n",
       "      <td>43546</td>\n",
       "      <td>Babyfood, banana no tapioca, strained</td>\n",
       "      <td>Baby Foods</td>\n",
       "      <td>None</td>\n",
       "    </tr>\n",
       "  </tbody>\n",
       "</table>\n",
       "<p>375176 rows × 8 columns</p>\n",
       "</div>"
      ],
      "text/plain": [
       "                                  nutrient     nutgroup    units     value  \\\n",
       "0                                  Protein  Composition        g    25.180   \n",
       "1                        Total lipid (fat)  Composition        g    29.200   \n",
       "2              Carbohydrate, by difference  Composition        g     3.060   \n",
       "3                                      Ash        Other        g     3.280   \n",
       "4                                   Energy       Energy     kcal   376.000   \n",
       "5                                    Water  Composition        g    39.280   \n",
       "6                                   Energy       Energy       kJ  1573.000   \n",
       "7                     Fiber, total dietary  Composition        g     0.000   \n",
       "8                              Calcium, Ca     Elements       mg   673.000   \n",
       "9                                 Iron, Fe     Elements       mg     0.640   \n",
       "10                           Magnesium, Mg     Elements       mg    22.000   \n",
       "11                           Phosphorus, P     Elements       mg   490.000   \n",
       "12                            Potassium, K     Elements       mg    93.000   \n",
       "13                              Sodium, Na     Elements       mg   690.000   \n",
       "14                                Zinc, Zn     Elements       mg     2.940   \n",
       "15                              Copper, Cu     Elements       mg     0.024   \n",
       "16                           Manganese, Mn     Elements       mg     0.021   \n",
       "17                            Selenium, Se     Elements      mcg    14.500   \n",
       "18                           Vitamin A, IU     Vitamins       IU  1054.000   \n",
       "19                                 Retinol     Vitamins      mcg   262.000   \n",
       "20                          Vitamin A, RAE     Vitamins  mcg_RAE   271.000   \n",
       "21          Vitamin C, total ascorbic acid     Vitamins       mg     0.000   \n",
       "22                                 Thiamin     Vitamins       mg     0.031   \n",
       "23                              Riboflavin     Vitamins       mg     0.450   \n",
       "24                                  Niacin     Vitamins       mg     0.180   \n",
       "25                        Pantothenic acid     Vitamins       mg     0.190   \n",
       "26                             Vitamin B-6     Vitamins       mg     0.074   \n",
       "27                           Folate, total     Vitamins      mcg    18.000   \n",
       "28                            Vitamin B-12     Vitamins      mcg     0.270   \n",
       "29                              Folic acid     Vitamins      mcg     0.000   \n",
       "...                                    ...          ...      ...       ...   \n",
       "375146                        Selenium, Se     Elements      mcg     1.100   \n",
       "375147                       Vitamin A, IU     Vitamins       IU     5.000   \n",
       "375148                             Retinol     Vitamins      mcg     0.000   \n",
       "375149                      Vitamin A, RAE     Vitamins  mcg_RAE     0.000   \n",
       "375150                      Carotene, beta     Vitamins      mcg     2.000   \n",
       "375151                     Carotene, alpha     Vitamins      mcg     2.000   \n",
       "375152        Vitamin E (alpha-tocopherol)     Vitamins       mg     0.250   \n",
       "375153                           Vitamin D     Vitamins       IU     0.000   \n",
       "375154                 Vitamin D (D2 + D3)     Vitamins      mcg     0.000   \n",
       "375155                 Cryptoxanthin, beta     Vitamins      mcg     0.000   \n",
       "375156                            Lycopene     Vitamins      mcg     0.000   \n",
       "375157                 Lutein + zeaxanthin     Vitamins      mcg    20.000   \n",
       "375158      Vitamin C, total ascorbic acid     Vitamins       mg    21.900   \n",
       "375159                             Thiamin     Vitamins       mg     0.020   \n",
       "375160                          Riboflavin     Vitamins       mg     0.060   \n",
       "375161                              Niacin     Vitamins       mg     0.540   \n",
       "375162                         Vitamin B-6     Vitamins       mg     0.260   \n",
       "375163                       Folate, total     Vitamins      mcg    17.000   \n",
       "375164                        Vitamin B-12     Vitamins      mcg     0.000   \n",
       "375165                      Choline, total     Vitamins       mg     4.100   \n",
       "375166           Vitamin K (phylloquinone)     Vitamins      mcg     0.500   \n",
       "375167                          Folic acid     Vitamins      mcg     0.000   \n",
       "375168                        Folate, food     Vitamins      mcg    17.000   \n",
       "375169                         Folate, DFE     Vitamins  mcg_DFE    17.000   \n",
       "375170                    Vitamin E, added     Vitamins       mg     0.000   \n",
       "375171                 Vitamin B-12, added     Vitamins      mcg     0.000   \n",
       "375172                         Cholesterol        Other       mg     0.000   \n",
       "375173        Fatty acids, total saturated        Other        g     0.072   \n",
       "375174  Fatty acids, total monounsaturated        Other        g     0.028   \n",
       "375175  Fatty acids, total polyunsaturated        Other        g     0.041   \n",
       "\n",
       "           id                                   food                  fgroup  \\\n",
       "0        1008                        Cheese, caraway  Dairy and Egg Products   \n",
       "1        1008                        Cheese, caraway  Dairy and Egg Products   \n",
       "2        1008                        Cheese, caraway  Dairy and Egg Products   \n",
       "3        1008                        Cheese, caraway  Dairy and Egg Products   \n",
       "4        1008                        Cheese, caraway  Dairy and Egg Products   \n",
       "5        1008                        Cheese, caraway  Dairy and Egg Products   \n",
       "6        1008                        Cheese, caraway  Dairy and Egg Products   \n",
       "7        1008                        Cheese, caraway  Dairy and Egg Products   \n",
       "8        1008                        Cheese, caraway  Dairy and Egg Products   \n",
       "9        1008                        Cheese, caraway  Dairy and Egg Products   \n",
       "10       1008                        Cheese, caraway  Dairy and Egg Products   \n",
       "11       1008                        Cheese, caraway  Dairy and Egg Products   \n",
       "12       1008                        Cheese, caraway  Dairy and Egg Products   \n",
       "13       1008                        Cheese, caraway  Dairy and Egg Products   \n",
       "14       1008                        Cheese, caraway  Dairy and Egg Products   \n",
       "15       1008                        Cheese, caraway  Dairy and Egg Products   \n",
       "16       1008                        Cheese, caraway  Dairy and Egg Products   \n",
       "17       1008                        Cheese, caraway  Dairy and Egg Products   \n",
       "18       1008                        Cheese, caraway  Dairy and Egg Products   \n",
       "19       1008                        Cheese, caraway  Dairy and Egg Products   \n",
       "20       1008                        Cheese, caraway  Dairy and Egg Products   \n",
       "21       1008                        Cheese, caraway  Dairy and Egg Products   \n",
       "22       1008                        Cheese, caraway  Dairy and Egg Products   \n",
       "23       1008                        Cheese, caraway  Dairy and Egg Products   \n",
       "24       1008                        Cheese, caraway  Dairy and Egg Products   \n",
       "25       1008                        Cheese, caraway  Dairy and Egg Products   \n",
       "26       1008                        Cheese, caraway  Dairy and Egg Products   \n",
       "27       1008                        Cheese, caraway  Dairy and Egg Products   \n",
       "28       1008                        Cheese, caraway  Dairy and Egg Products   \n",
       "29       1008                        Cheese, caraway  Dairy and Egg Products   \n",
       "...       ...                                    ...                     ...   \n",
       "375146  43546  Babyfood, banana no tapioca, strained              Baby Foods   \n",
       "375147  43546  Babyfood, banana no tapioca, strained              Baby Foods   \n",
       "375148  43546  Babyfood, banana no tapioca, strained              Baby Foods   \n",
       "375149  43546  Babyfood, banana no tapioca, strained              Baby Foods   \n",
       "375150  43546  Babyfood, banana no tapioca, strained              Baby Foods   \n",
       "375151  43546  Babyfood, banana no tapioca, strained              Baby Foods   \n",
       "375152  43546  Babyfood, banana no tapioca, strained              Baby Foods   \n",
       "375153  43546  Babyfood, banana no tapioca, strained              Baby Foods   \n",
       "375154  43546  Babyfood, banana no tapioca, strained              Baby Foods   \n",
       "375155  43546  Babyfood, banana no tapioca, strained              Baby Foods   \n",
       "375156  43546  Babyfood, banana no tapioca, strained              Baby Foods   \n",
       "375157  43546  Babyfood, banana no tapioca, strained              Baby Foods   \n",
       "375158  43546  Babyfood, banana no tapioca, strained              Baby Foods   \n",
       "375159  43546  Babyfood, banana no tapioca, strained              Baby Foods   \n",
       "375160  43546  Babyfood, banana no tapioca, strained              Baby Foods   \n",
       "375161  43546  Babyfood, banana no tapioca, strained              Baby Foods   \n",
       "375162  43546  Babyfood, banana no tapioca, strained              Baby Foods   \n",
       "375163  43546  Babyfood, banana no tapioca, strained              Baby Foods   \n",
       "375164  43546  Babyfood, banana no tapioca, strained              Baby Foods   \n",
       "375165  43546  Babyfood, banana no tapioca, strained              Baby Foods   \n",
       "375166  43546  Babyfood, banana no tapioca, strained              Baby Foods   \n",
       "375167  43546  Babyfood, banana no tapioca, strained              Baby Foods   \n",
       "375168  43546  Babyfood, banana no tapioca, strained              Baby Foods   \n",
       "375169  43546  Babyfood, banana no tapioca, strained              Baby Foods   \n",
       "375170  43546  Babyfood, banana no tapioca, strained              Baby Foods   \n",
       "375171  43546  Babyfood, banana no tapioca, strained              Baby Foods   \n",
       "375172  43546  Babyfood, banana no tapioca, strained              Baby Foods   \n",
       "375173  43546  Babyfood, banana no tapioca, strained              Baby Foods   \n",
       "375174  43546  Babyfood, banana no tapioca, strained              Baby Foods   \n",
       "375175  43546  Babyfood, banana no tapioca, strained              Baby Foods   \n",
       "\n",
       "       manufacturer  \n",
       "0                    \n",
       "1                    \n",
       "2                    \n",
       "3                    \n",
       "4                    \n",
       "5                    \n",
       "6                    \n",
       "7                    \n",
       "8                    \n",
       "9                    \n",
       "10                   \n",
       "11                   \n",
       "12                   \n",
       "13                   \n",
       "14                   \n",
       "15                   \n",
       "16                   \n",
       "17                   \n",
       "18                   \n",
       "19                   \n",
       "20                   \n",
       "21                   \n",
       "22                   \n",
       "23                   \n",
       "24                   \n",
       "25                   \n",
       "26                   \n",
       "27                   \n",
       "28                   \n",
       "29                   \n",
       "...             ...  \n",
       "375146         None  \n",
       "375147         None  \n",
       "375148         None  \n",
       "375149         None  \n",
       "375150         None  \n",
       "375151         None  \n",
       "375152         None  \n",
       "375153         None  \n",
       "375154         None  \n",
       "375155         None  \n",
       "375156         None  \n",
       "375157         None  \n",
       "375158         None  \n",
       "375159         None  \n",
       "375160         None  \n",
       "375161         None  \n",
       "375162         None  \n",
       "375163         None  \n",
       "375164         None  \n",
       "375165         None  \n",
       "375166         None  \n",
       "375167         None  \n",
       "375168         None  \n",
       "375169         None  \n",
       "375170         None  \n",
       "375171         None  \n",
       "375172         None  \n",
       "375173         None  \n",
       "375174         None  \n",
       "375175         None  \n",
       "\n",
       "[375176 rows x 8 columns]"
      ]
     },
     "execution_count": 231,
     "metadata": {},
     "output_type": "execute_result"
    }
   ],
   "source": [
    "ndata"
   ]
  },
  {
   "cell_type": "code",
   "execution_count": 232,
   "metadata": {},
   "outputs": [
    {
     "name": "stderr",
     "output_type": "stream",
     "text": [
      "C:\\Anaconda3\\lib\\site-packages\\ipykernel_launcher.py:1: DeprecationWarning: \n",
      ".ix is deprecated. Please use\n",
      ".loc for label based indexing or\n",
      ".iloc for positional indexing\n",
      "\n",
      "See the documentation here:\n",
      "http://pandas.pydata.org/pandas-docs/stable/indexing.html#ix-indexer-is-deprecated\n",
      "  \"\"\"Entry point for launching an IPython kernel.\n"
     ]
    },
    {
     "data": {
      "text/plain": [
       "nutrient                                       Glycine\n",
       "nutgroup                                   Amino Acids\n",
       "units                                                g\n",
       "value                                             0.04\n",
       "id                                                6158\n",
       "food            Soup, tomato bisque, canned, condensed\n",
       "fgroup                      Soups, Sauces, and Gravies\n",
       "manufacturer                                          \n",
       "Name: 30000, dtype: object"
      ]
     },
     "execution_count": 232,
     "metadata": {},
     "output_type": "execute_result"
    }
   ],
   "source": [
    "ndata.ix[30000]"
   ]
  },
  {
   "cell_type": "code",
   "execution_count": 233,
   "metadata": {},
   "outputs": [],
   "source": [
    "result = ndata.groupby(['nutrient', 'fgroup'])['value'].quantile(0.5)"
   ]
  },
  {
   "cell_type": "code",
   "execution_count": 234,
   "metadata": {},
   "outputs": [],
   "source": [
    "import matplotlib.pyplot as plt\n",
    "%matplotlib inline"
   ]
  },
  {
   "cell_type": "code",
   "execution_count": 235,
   "metadata": {},
   "outputs": [
    {
     "data": {
      "text/plain": [
       "<matplotlib.axes._subplots.AxesSubplot at 0x27320790a58>"
      ]
     },
     "execution_count": 235,
     "metadata": {},
     "output_type": "execute_result"
    },
    {
     "data": {
      "image/png": "[encoded data removed]",
      "text/plain": [
       "<matplotlib.figure.Figure at 0x273207904a8>"
      ]
     },
     "metadata": {},
     "output_type": "display_data"
    }
   ],
   "source": [
    "result['Zinc, Zn'].sort_values().plot(kind='barh') # 'Series' object has no attribute 'order'"
   ]
  },
  {
   "cell_type": "code",
   "execution_count": 236,
   "metadata": {},
   "outputs": [],
   "source": [
    "by_nutrient = ndata.groupby(['nutgroup', 'nutrient'])"
   ]
  },
  {
   "cell_type": "code",
   "execution_count": 237,
   "metadata": {},
   "outputs": [],
   "source": [
    "get_maximum = lambda x: x.xs(x.value.idxmax())"
   ]
  },
  {
   "cell_type": "code",
   "execution_count": 238,
   "metadata": {},
   "outputs": [],
   "source": [
    "get_minimum = lambda x: x.xs(x.value.idxmin())"
   ]
  },
  {
   "cell_type": "code",
   "execution_count": 239,
   "metadata": {},
   "outputs": [],
   "source": [
    "max_foods = by_nutrient.apply(get_maximum)[['value', 'food']]"
   ]
  },
  {
   "cell_type": "code",
   "execution_count": 240,
   "metadata": {},
   "outputs": [
    {
     "data": {
      "text/html": [
       "<div>\n",
       "<style scoped>\n",
       "    .dataframe tbody tr th:only-of-type {\n",
       "        vertical-align: middle;\n",
       "    }\n",
       "\n",
       "    .dataframe tbody tr th {\n",
       "        vertical-align: top;\n",
       "    }\n",
       "\n",
       "    .dataframe thead th {\n",
       "        text-align: right;\n",
       "    }\n",
       "</style>\n",
       "<table border=\"1\" class=\"dataframe\">\n",
       "  <thead>\n",
       "    <tr style=\"text-align: right;\">\n",
       "      <th></th>\n",
       "      <th></th>\n",
       "      <th>value</th>\n",
       "      <th>food</th>\n",
       "    </tr>\n",
       "    <tr>\n",
       "      <th>nutgroup</th>\n",
       "      <th>nutrient</th>\n",
       "      <th></th>\n",
       "      <th></th>\n",
       "    </tr>\n",
       "  </thead>\n",
       "  <tbody>\n",
       "    <tr>\n",
       "      <th rowspan=\"19\" valign=\"top\">Amino Acids</th>\n",
       "      <th>Alanine</th>\n",
       "      <td>8.009</td>\n",
       "      <td>Gelatins, dry powder, unsweetened</td>\n",
       "    </tr>\n",
       "    <tr>\n",
       "      <th>Arginine</th>\n",
       "      <td>7.436</td>\n",
       "      <td>Seeds, sesame flour, low-fat</td>\n",
       "    </tr>\n",
       "    <tr>\n",
       "      <th>Aspartic acid</th>\n",
       "      <td>10.203</td>\n",
       "      <td>Soy protein isolate</td>\n",
       "    </tr>\n",
       "    <tr>\n",
       "      <th>Cystine</th>\n",
       "      <td>1.307</td>\n",
       "      <td>Seeds, cottonseed flour, low fat (glandless)</td>\n",
       "    </tr>\n",
       "    <tr>\n",
       "      <th>Glutamic acid</th>\n",
       "      <td>17.452</td>\n",
       "      <td>Soy protein isolate</td>\n",
       "    </tr>\n",
       "    <tr>\n",
       "      <th>Glycine</th>\n",
       "      <td>19.049</td>\n",
       "      <td>Gelatins, dry powder, unsweetened</td>\n",
       "    </tr>\n",
       "    <tr>\n",
       "      <th>Histidine</th>\n",
       "      <td>2.999</td>\n",
       "      <td>Whale, beluga, meat, dried (Alaska Native)</td>\n",
       "    </tr>\n",
       "    <tr>\n",
       "      <th>Hydroxyproline</th>\n",
       "      <td>0.803</td>\n",
       "      <td>KENTUCKY FRIED CHICKEN, Fried Chicken, ORIGINA...</td>\n",
       "    </tr>\n",
       "    <tr>\n",
       "      <th>Isoleucine</th>\n",
       "      <td>4.300</td>\n",
       "      <td>Soy protein isolate, PROTEIN TECHNOLOGIES INTE...</td>\n",
       "    </tr>\n",
       "    <tr>\n",
       "      <th>Leucine</th>\n",
       "      <td>7.200</td>\n",
       "      <td>Soy protein isolate, PROTEIN TECHNOLOGIES INTE...</td>\n",
       "    </tr>\n",
       "    <tr>\n",
       "      <th>Lysine</th>\n",
       "      <td>6.690</td>\n",
       "      <td>Seal, bearded (Oogruk), meat, dried (Alaska Na...</td>\n",
       "    </tr>\n",
       "    <tr>\n",
       "      <th>Methionine</th>\n",
       "      <td>1.859</td>\n",
       "      <td>Fish, cod, Atlantic, dried and salted</td>\n",
       "    </tr>\n",
       "    <tr>\n",
       "      <th>Phenylalanine</th>\n",
       "      <td>4.600</td>\n",
       "      <td>Soy protein isolate, PROTEIN TECHNOLOGIES INTE...</td>\n",
       "    </tr>\n",
       "    <tr>\n",
       "      <th>Proline</th>\n",
       "      <td>12.295</td>\n",
       "      <td>Gelatins, dry powder, unsweetened</td>\n",
       "    </tr>\n",
       "    <tr>\n",
       "      <th>Serine</th>\n",
       "      <td>4.600</td>\n",
       "      <td>Soy protein isolate, PROTEIN TECHNOLOGIES INTE...</td>\n",
       "    </tr>\n",
       "    <tr>\n",
       "      <th>Threonine</th>\n",
       "      <td>3.300</td>\n",
       "      <td>Soy protein isolate, PROTEIN TECHNOLOGIES INTE...</td>\n",
       "    </tr>\n",
       "    <tr>\n",
       "      <th>Tryptophan</th>\n",
       "      <td>1.600</td>\n",
       "      <td>Sea lion, Steller, meat with fat (Alaska Native)</td>\n",
       "    </tr>\n",
       "    <tr>\n",
       "      <th>Tyrosine</th>\n",
       "      <td>3.300</td>\n",
       "      <td>Soy protein isolate, PROTEIN TECHNOLOGIES INTE...</td>\n",
       "    </tr>\n",
       "    <tr>\n",
       "      <th>Valine</th>\n",
       "      <td>4.500</td>\n",
       "      <td>Soy protein isolate, PROTEIN TECHNOLOGIES INTE...</td>\n",
       "    </tr>\n",
       "    <tr>\n",
       "      <th rowspan=\"7\" valign=\"top\">Composition</th>\n",
       "      <th>Adjusted Protein</th>\n",
       "      <td>12.900</td>\n",
       "      <td>Baking chocolate, unsweetened, squares</td>\n",
       "    </tr>\n",
       "    <tr>\n",
       "      <th>Carbohydrate, by difference</th>\n",
       "      <td>100.000</td>\n",
       "      <td>Sweeteners, tabletop, fructose, dry, powder</td>\n",
       "    </tr>\n",
       "    <tr>\n",
       "      <th>Fiber, total dietary</th>\n",
       "      <td>79.000</td>\n",
       "      <td>Corn bran, crude</td>\n",
       "    </tr>\n",
       "    <tr>\n",
       "      <th>Protein</th>\n",
       "      <td>88.320</td>\n",
       "      <td>Soy protein isolate, potassium type, crude pro...</td>\n",
       "    </tr>\n",
       "    <tr>\n",
       "      <th>Sugars, total</th>\n",
       "      <td>99.800</td>\n",
       "      <td>Sugars, granulated</td>\n",
       "    </tr>\n",
       "    <tr>\n",
       "      <th>Total lipid (fat)</th>\n",
       "      <td>100.000</td>\n",
       "      <td>Oil, wheat germ</td>\n",
       "    </tr>\n",
       "    <tr>\n",
       "      <th>Water</th>\n",
       "      <td>100.000</td>\n",
       "      <td>Water, bottled, POLAND SPRING</td>\n",
       "    </tr>\n",
       "    <tr>\n",
       "      <th rowspan=\"4\" valign=\"top\">Elements</th>\n",
       "      <th>Calcium, Ca</th>\n",
       "      <td>7364.000</td>\n",
       "      <td>Leavening agents, baking powder, double-acting...</td>\n",
       "    </tr>\n",
       "    <tr>\n",
       "      <th>Copper, Cu</th>\n",
       "      <td>15.050</td>\n",
       "      <td>Veal, variety meats and by-products, liver, co...</td>\n",
       "    </tr>\n",
       "    <tr>\n",
       "      <th>Fluoride, F</th>\n",
       "      <td>584.000</td>\n",
       "      <td>Tea, instant, sweetened with sugar, lemon-flav...</td>\n",
       "    </tr>\n",
       "    <tr>\n",
       "      <th>Iron, Fe</th>\n",
       "      <td>87.470</td>\n",
       "      <td>Salad dressing, russian dressing, low calorie</td>\n",
       "    </tr>\n",
       "    <tr>\n",
       "      <th>...</th>\n",
       "      <th>...</th>\n",
       "      <td>...</td>\n",
       "      <td>...</td>\n",
       "    </tr>\n",
       "    <tr>\n",
       "      <th rowspan=\"30\" valign=\"top\">Vitamins</th>\n",
       "      <th>Cryptoxanthin, beta</th>\n",
       "      <td>6186.000</td>\n",
       "      <td>Spices, paprika</td>\n",
       "    </tr>\n",
       "    <tr>\n",
       "      <th>Dihydrophylloquinone</th>\n",
       "      <td>103.800</td>\n",
       "      <td>Margarine, 80% fat, stick, includes regular an...</td>\n",
       "    </tr>\n",
       "    <tr>\n",
       "      <th>Folate, DFE</th>\n",
       "      <td>2630.000</td>\n",
       "      <td>Cereals ready-to-eat, QUAKER, CAP'N CRUNCH</td>\n",
       "    </tr>\n",
       "    <tr>\n",
       "      <th>Folate, food</th>\n",
       "      <td>2340.000</td>\n",
       "      <td>Leavening agents, yeast, baker's, active dry</td>\n",
       "    </tr>\n",
       "    <tr>\n",
       "      <th>Folate, total</th>\n",
       "      <td>2340.000</td>\n",
       "      <td>Leavening agents, yeast, baker's, active dry</td>\n",
       "    </tr>\n",
       "    <tr>\n",
       "      <th>Folic acid</th>\n",
       "      <td>1538.000</td>\n",
       "      <td>Cereals ready-to-eat, QUAKER, CAP'N CRUNCH</td>\n",
       "    </tr>\n",
       "    <tr>\n",
       "      <th>Lutein + zeaxanthin</th>\n",
       "      <td>39550.000</td>\n",
       "      <td>Kale, raw</td>\n",
       "    </tr>\n",
       "    <tr>\n",
       "      <th>Lycopene</th>\n",
       "      <td>46260.000</td>\n",
       "      <td>Tomato powder</td>\n",
       "    </tr>\n",
       "    <tr>\n",
       "      <th>Menaquinone-4</th>\n",
       "      <td>33.200</td>\n",
       "      <td>Chicken, broilers or fryers, drumstick, meat a...</td>\n",
       "    </tr>\n",
       "    <tr>\n",
       "      <th>Niacin</th>\n",
       "      <td>97.000</td>\n",
       "      <td>Yeast extract spread</td>\n",
       "    </tr>\n",
       "    <tr>\n",
       "      <th>Pantothenic acid</th>\n",
       "      <td>35.000</td>\n",
       "      <td>Cereals ready-to-eat, KELLOGG, KELLOGG'S Compl...</td>\n",
       "    </tr>\n",
       "    <tr>\n",
       "      <th>Retinol</th>\n",
       "      <td>30000.000</td>\n",
       "      <td>Fish oil, cod liver</td>\n",
       "    </tr>\n",
       "    <tr>\n",
       "      <th>Riboflavin</th>\n",
       "      <td>14.300</td>\n",
       "      <td>Yeast extract spread</td>\n",
       "    </tr>\n",
       "    <tr>\n",
       "      <th>Thiamin</th>\n",
       "      <td>20.000</td>\n",
       "      <td>MORNINGSTAR FARMS Hot and Spicy Veggie Sausage...</td>\n",
       "    </tr>\n",
       "    <tr>\n",
       "      <th>Tocopherol, beta</th>\n",
       "      <td>6.490</td>\n",
       "      <td>Yellow pond lily, Wocas, dried seeds (Pacific ...</td>\n",
       "    </tr>\n",
       "    <tr>\n",
       "      <th>Tocopherol, delta</th>\n",
       "      <td>30.880</td>\n",
       "      <td>Oil, cooking and salad, ENOVA, 80% diglycerides</td>\n",
       "    </tr>\n",
       "    <tr>\n",
       "      <th>Tocopherol, gamma</th>\n",
       "      <td>100.880</td>\n",
       "      <td>Oil, cooking and salad, ENOVA, 80% diglycerides</td>\n",
       "    </tr>\n",
       "    <tr>\n",
       "      <th>Vitamin A, IU</th>\n",
       "      <td>100000.000</td>\n",
       "      <td>Fish oil, cod liver</td>\n",
       "    </tr>\n",
       "    <tr>\n",
       "      <th>Vitamin A, RAE</th>\n",
       "      <td>30000.000</td>\n",
       "      <td>Fish oil, cod liver</td>\n",
       "    </tr>\n",
       "    <tr>\n",
       "      <th>Vitamin B-12</th>\n",
       "      <td>98.890</td>\n",
       "      <td>Mollusks, clam, mixed species, cooked, moist heat</td>\n",
       "    </tr>\n",
       "    <tr>\n",
       "      <th>Vitamin B-12, added</th>\n",
       "      <td>24.000</td>\n",
       "      <td>Cereals ready-to-eat, KELLOGG, KELLOGG'S ALL-B...</td>\n",
       "    </tr>\n",
       "    <tr>\n",
       "      <th>Vitamin B-6</th>\n",
       "      <td>12.000</td>\n",
       "      <td>Cereals ready-to-eat, KELLOGG, KELLOGG'S ALL-B...</td>\n",
       "    </tr>\n",
       "    <tr>\n",
       "      <th>Vitamin C, total ascorbic acid</th>\n",
       "      <td>2400.000</td>\n",
       "      <td>Orange-flavor drink, breakfast type, low calor...</td>\n",
       "    </tr>\n",
       "    <tr>\n",
       "      <th>Vitamin D</th>\n",
       "      <td>10000.000</td>\n",
       "      <td>Fish oil, cod liver</td>\n",
       "    </tr>\n",
       "    <tr>\n",
       "      <th>Vitamin D (D2 + D3)</th>\n",
       "      <td>250.000</td>\n",
       "      <td>Fish oil, cod liver</td>\n",
       "    </tr>\n",
       "    <tr>\n",
       "      <th>Vitamin D2 (ergocalciferol)</th>\n",
       "      <td>28.100</td>\n",
       "      <td>Mushrooms, maitake, raw</td>\n",
       "    </tr>\n",
       "    <tr>\n",
       "      <th>Vitamin D3 (cholecalciferol)</th>\n",
       "      <td>27.400</td>\n",
       "      <td>Fish, halibut, Greenland, raw</td>\n",
       "    </tr>\n",
       "    <tr>\n",
       "      <th>Vitamin E (alpha-tocopherol)</th>\n",
       "      <td>149.400</td>\n",
       "      <td>Oil, wheat germ</td>\n",
       "    </tr>\n",
       "    <tr>\n",
       "      <th>Vitamin E, added</th>\n",
       "      <td>46.550</td>\n",
       "      <td>Cereals ready-to-eat, GENERAL MILLS, Multi-Gra...</td>\n",
       "    </tr>\n",
       "    <tr>\n",
       "      <th>Vitamin K (phylloquinone)</th>\n",
       "      <td>1714.500</td>\n",
       "      <td>Spices, sage, ground</td>\n",
       "    </tr>\n",
       "  </tbody>\n",
       "</table>\n",
       "<p>94 rows × 2 columns</p>\n",
       "</div>"
      ],
      "text/plain": [
       "                                                 value  \\\n",
       "nutgroup    nutrient                                     \n",
       "Amino Acids Alanine                              8.009   \n",
       "            Arginine                             7.436   \n",
       "            Aspartic acid                       10.203   \n",
       "            Cystine                              1.307   \n",
       "            Glutamic acid                       17.452   \n",
       "            Glycine                             19.049   \n",
       "            Histidine                            2.999   \n",
       "            Hydroxyproline                       0.803   \n",
       "            Isoleucine                           4.300   \n",
       "            Leucine                              7.200   \n",
       "            Lysine                               6.690   \n",
       "            Methionine                           1.859   \n",
       "            Phenylalanine                        4.600   \n",
       "            Proline                             12.295   \n",
       "            Serine                               4.600   \n",
       "            Threonine                            3.300   \n",
       "            Tryptophan                           1.600   \n",
       "            Tyrosine                             3.300   \n",
       "            Valine                               4.500   \n",
       "Composition Adjusted Protein                    12.900   \n",
       "            Carbohydrate, by difference        100.000   \n",
       "            Fiber, total dietary                79.000   \n",
       "            Protein                             88.320   \n",
       "            Sugars, total                       99.800   \n",
       "            Total lipid (fat)                  100.000   \n",
       "            Water                              100.000   \n",
       "Elements    Calcium, Ca                       7364.000   \n",
       "            Copper, Cu                          15.050   \n",
       "            Fluoride, F                        584.000   \n",
       "            Iron, Fe                            87.470   \n",
       "...                                                ...   \n",
       "Vitamins    Cryptoxanthin, beta               6186.000   \n",
       "            Dihydrophylloquinone               103.800   \n",
       "            Folate, DFE                       2630.000   \n",
       "            Folate, food                      2340.000   \n",
       "            Folate, total                     2340.000   \n",
       "            Folic acid                        1538.000   \n",
       "            Lutein + zeaxanthin              39550.000   \n",
       "            Lycopene                         46260.000   \n",
       "            Menaquinone-4                       33.200   \n",
       "            Niacin                              97.000   \n",
       "            Pantothenic acid                    35.000   \n",
       "            Retinol                          30000.000   \n",
       "            Riboflavin                          14.300   \n",
       "            Thiamin                             20.000   \n",
       "            Tocopherol, beta                     6.490   \n",
       "            Tocopherol, delta                   30.880   \n",
       "            Tocopherol, gamma                  100.880   \n",
       "            Vitamin A, IU                   100000.000   \n",
       "            Vitamin A, RAE                   30000.000   \n",
       "            Vitamin B-12                        98.890   \n",
       "            Vitamin B-12, added                 24.000   \n",
       "            Vitamin B-6                         12.000   \n",
       "            Vitamin C, total ascorbic acid    2400.000   \n",
       "            Vitamin D                        10000.000   \n",
       "            Vitamin D (D2 + D3)                250.000   \n",
       "            Vitamin D2 (ergocalciferol)         28.100   \n",
       "            Vitamin D3 (cholecalciferol)        27.400   \n",
       "            Vitamin E (alpha-tocopherol)       149.400   \n",
       "            Vitamin E, added                    46.550   \n",
       "            Vitamin K (phylloquinone)         1714.500   \n",
       "\n",
       "                                                                                         food  \n",
       "nutgroup    nutrient                                                                           \n",
       "Amino Acids Alanine                                         Gelatins, dry powder, unsweetened  \n",
       "            Arginine                                             Seeds, sesame flour, low-fat  \n",
       "            Aspartic acid                                                 Soy protein isolate  \n",
       "            Cystine                              Seeds, cottonseed flour, low fat (glandless)  \n",
       "            Glutamic acid                                                 Soy protein isolate  \n",
       "            Glycine                                         Gelatins, dry powder, unsweetened  \n",
       "            Histidine                              Whale, beluga, meat, dried (Alaska Native)  \n",
       "            Hydroxyproline                  KENTUCKY FRIED CHICKEN, Fried Chicken, ORIGINA...  \n",
       "            Isoleucine                      Soy protein isolate, PROTEIN TECHNOLOGIES INTE...  \n",
       "            Leucine                         Soy protein isolate, PROTEIN TECHNOLOGIES INTE...  \n",
       "            Lysine                          Seal, bearded (Oogruk), meat, dried (Alaska Na...  \n",
       "            Methionine                                  Fish, cod, Atlantic, dried and salted  \n",
       "            Phenylalanine                   Soy protein isolate, PROTEIN TECHNOLOGIES INTE...  \n",
       "            Proline                                         Gelatins, dry powder, unsweetened  \n",
       "            Serine                          Soy protein isolate, PROTEIN TECHNOLOGIES INTE...  \n",
       "            Threonine                       Soy protein isolate, PROTEIN TECHNOLOGIES INTE...  \n",
       "            Tryptophan                       Sea lion, Steller, meat with fat (Alaska Native)  \n",
       "            Tyrosine                        Soy protein isolate, PROTEIN TECHNOLOGIES INTE...  \n",
       "            Valine                          Soy protein isolate, PROTEIN TECHNOLOGIES INTE...  \n",
       "Composition Adjusted Protein                           Baking chocolate, unsweetened, squares  \n",
       "            Carbohydrate, by difference           Sweeteners, tabletop, fructose, dry, powder  \n",
       "            Fiber, total dietary                                             Corn bran, crude  \n",
       "            Protein                         Soy protein isolate, potassium type, crude pro...  \n",
       "            Sugars, total                                                  Sugars, granulated  \n",
       "            Total lipid (fat)                                                 Oil, wheat germ  \n",
       "            Water                                               Water, bottled, POLAND SPRING  \n",
       "Elements    Calcium, Ca                     Leavening agents, baking powder, double-acting...  \n",
       "            Copper, Cu                      Veal, variety meats and by-products, liver, co...  \n",
       "            Fluoride, F                     Tea, instant, sweetened with sugar, lemon-flav...  \n",
       "            Iron, Fe                            Salad dressing, russian dressing, low calorie  \n",
       "...                                                                                       ...  \n",
       "Vitamins    Cryptoxanthin, beta                                               Spices, paprika  \n",
       "            Dihydrophylloquinone            Margarine, 80% fat, stick, includes regular an...  \n",
       "            Folate, DFE                            Cereals ready-to-eat, QUAKER, CAP'N CRUNCH  \n",
       "            Folate, food                         Leavening agents, yeast, baker's, active dry  \n",
       "            Folate, total                        Leavening agents, yeast, baker's, active dry  \n",
       "            Folic acid                             Cereals ready-to-eat, QUAKER, CAP'N CRUNCH  \n",
       "            Lutein + zeaxanthin                                                     Kale, raw  \n",
       "            Lycopene                                                            Tomato powder  \n",
       "            Menaquinone-4                   Chicken, broilers or fryers, drumstick, meat a...  \n",
       "            Niacin                                                       Yeast extract spread  \n",
       "            Pantothenic acid                Cereals ready-to-eat, KELLOGG, KELLOGG'S Compl...  \n",
       "            Retinol                                                       Fish oil, cod liver  \n",
       "            Riboflavin                                                   Yeast extract spread  \n",
       "            Thiamin                         MORNINGSTAR FARMS Hot and Spicy Veggie Sausage...  \n",
       "            Tocopherol, beta                Yellow pond lily, Wocas, dried seeds (Pacific ...  \n",
       "            Tocopherol, delta                 Oil, cooking and salad, ENOVA, 80% diglycerides  \n",
       "            Tocopherol, gamma                 Oil, cooking and salad, ENOVA, 80% diglycerides  \n",
       "            Vitamin A, IU                                                 Fish oil, cod liver  \n",
       "            Vitamin A, RAE                                                Fish oil, cod liver  \n",
       "            Vitamin B-12                    Mollusks, clam, mixed species, cooked, moist heat  \n",
       "            Vitamin B-12, added             Cereals ready-to-eat, KELLOGG, KELLOGG'S ALL-B...  \n",
       "            Vitamin B-6                     Cereals ready-to-eat, KELLOGG, KELLOGG'S ALL-B...  \n",
       "            Vitamin C, total ascorbic acid  Orange-flavor drink, breakfast type, low calor...  \n",
       "            Vitamin D                                                     Fish oil, cod liver  \n",
       "            Vitamin D (D2 + D3)                                           Fish oil, cod liver  \n",
       "            Vitamin D2 (ergocalciferol)                               Mushrooms, maitake, raw  \n",
       "            Vitamin D3 (cholecalciferol)                        Fish, halibut, Greenland, raw  \n",
       "            Vitamin E (alpha-tocopherol)                                      Oil, wheat germ  \n",
       "            Vitamin E, added                Cereals ready-to-eat, GENERAL MILLS, Multi-Gra...  \n",
       "            Vitamin K (phylloquinone)                                    Spices, sage, ground  \n",
       "\n",
       "[94 rows x 2 columns]"
      ]
     },
     "execution_count": 240,
     "metadata": {},
     "output_type": "execute_result"
    }
   ],
   "source": [
    "max_foods"
   ]
  },
  {
   "cell_type": "code",
   "execution_count": 241,
   "metadata": {},
   "outputs": [],
   "source": [
    "max_foods.food = max_foods.food.str[:50]"
   ]
  },
  {
   "cell_type": "code",
   "execution_count": 242,
   "metadata": {},
   "outputs": [
    {
     "data": {
      "text/html": [
       "<div>\n",
       "<style scoped>\n",
       "    .dataframe tbody tr th:only-of-type {\n",
       "        vertical-align: middle;\n",
       "    }\n",
       "\n",
       "    .dataframe tbody tr th {\n",
       "        vertical-align: top;\n",
       "    }\n",
       "\n",
       "    .dataframe thead th {\n",
       "        text-align: right;\n",
       "    }\n",
       "</style>\n",
       "<table border=\"1\" class=\"dataframe\">\n",
       "  <thead>\n",
       "    <tr style=\"text-align: right;\">\n",
       "      <th></th>\n",
       "      <th></th>\n",
       "      <th>value</th>\n",
       "      <th>food</th>\n",
       "    </tr>\n",
       "    <tr>\n",
       "      <th>nutgroup</th>\n",
       "      <th>nutrient</th>\n",
       "      <th></th>\n",
       "      <th></th>\n",
       "    </tr>\n",
       "  </thead>\n",
       "  <tbody>\n",
       "    <tr>\n",
       "      <th rowspan=\"19\" valign=\"top\">Amino Acids</th>\n",
       "      <th>Alanine</th>\n",
       "      <td>8.009</td>\n",
       "      <td>Gelatins, dry powder, unsweetened</td>\n",
       "    </tr>\n",
       "    <tr>\n",
       "      <th>Arginine</th>\n",
       "      <td>7.436</td>\n",
       "      <td>Seeds, sesame flour, low-fat</td>\n",
       "    </tr>\n",
       "    <tr>\n",
       "      <th>Aspartic acid</th>\n",
       "      <td>10.203</td>\n",
       "      <td>Soy protein isolate</td>\n",
       "    </tr>\n",
       "    <tr>\n",
       "      <th>Cystine</th>\n",
       "      <td>1.307</td>\n",
       "      <td>Seeds, cottonseed flour, low fat (glandless)</td>\n",
       "    </tr>\n",
       "    <tr>\n",
       "      <th>Glutamic acid</th>\n",
       "      <td>17.452</td>\n",
       "      <td>Soy protein isolate</td>\n",
       "    </tr>\n",
       "    <tr>\n",
       "      <th>Glycine</th>\n",
       "      <td>19.049</td>\n",
       "      <td>Gelatins, dry powder, unsweetened</td>\n",
       "    </tr>\n",
       "    <tr>\n",
       "      <th>Histidine</th>\n",
       "      <td>2.999</td>\n",
       "      <td>Whale, beluga, meat, dried (Alaska Native)</td>\n",
       "    </tr>\n",
       "    <tr>\n",
       "      <th>Hydroxyproline</th>\n",
       "      <td>0.803</td>\n",
       "      <td>KENTUCKY FRIED CHICKEN, Fried Chicken, ORIGINA...</td>\n",
       "    </tr>\n",
       "    <tr>\n",
       "      <th>Isoleucine</th>\n",
       "      <td>4.300</td>\n",
       "      <td>Soy protein isolate, PROTEIN TECHNOLOGIES INTE...</td>\n",
       "    </tr>\n",
       "    <tr>\n",
       "      <th>Leucine</th>\n",
       "      <td>7.200</td>\n",
       "      <td>Soy protein isolate, PROTEIN TECHNOLOGIES INTE...</td>\n",
       "    </tr>\n",
       "    <tr>\n",
       "      <th>Lysine</th>\n",
       "      <td>6.690</td>\n",
       "      <td>Seal, bearded (Oogruk), meat, dried (Alaska Na...</td>\n",
       "    </tr>\n",
       "    <tr>\n",
       "      <th>Methionine</th>\n",
       "      <td>1.859</td>\n",
       "      <td>Fish, cod, Atlantic, dried and salted</td>\n",
       "    </tr>\n",
       "    <tr>\n",
       "      <th>Phenylalanine</th>\n",
       "      <td>4.600</td>\n",
       "      <td>Soy protein isolate, PROTEIN TECHNOLOGIES INTE...</td>\n",
       "    </tr>\n",
       "    <tr>\n",
       "      <th>Proline</th>\n",
       "      <td>12.295</td>\n",
       "      <td>Gelatins, dry powder, unsweetened</td>\n",
       "    </tr>\n",
       "    <tr>\n",
       "      <th>Serine</th>\n",
       "      <td>4.600</td>\n",
       "      <td>Soy protein isolate, PROTEIN TECHNOLOGIES INTE...</td>\n",
       "    </tr>\n",
       "    <tr>\n",
       "      <th>Threonine</th>\n",
       "      <td>3.300</td>\n",
       "      <td>Soy protein isolate, PROTEIN TECHNOLOGIES INTE...</td>\n",
       "    </tr>\n",
       "    <tr>\n",
       "      <th>Tryptophan</th>\n",
       "      <td>1.600</td>\n",
       "      <td>Sea lion, Steller, meat with fat (Alaska Native)</td>\n",
       "    </tr>\n",
       "    <tr>\n",
       "      <th>Tyrosine</th>\n",
       "      <td>3.300</td>\n",
       "      <td>Soy protein isolate, PROTEIN TECHNOLOGIES INTE...</td>\n",
       "    </tr>\n",
       "    <tr>\n",
       "      <th>Valine</th>\n",
       "      <td>4.500</td>\n",
       "      <td>Soy protein isolate, PROTEIN TECHNOLOGIES INTE...</td>\n",
       "    </tr>\n",
       "    <tr>\n",
       "      <th rowspan=\"7\" valign=\"top\">Composition</th>\n",
       "      <th>Adjusted Protein</th>\n",
       "      <td>12.900</td>\n",
       "      <td>Baking chocolate, unsweetened, squares</td>\n",
       "    </tr>\n",
       "    <tr>\n",
       "      <th>Carbohydrate, by difference</th>\n",
       "      <td>100.000</td>\n",
       "      <td>Sweeteners, tabletop, fructose, dry, powder</td>\n",
       "    </tr>\n",
       "    <tr>\n",
       "      <th>Fiber, total dietary</th>\n",
       "      <td>79.000</td>\n",
       "      <td>Corn bran, crude</td>\n",
       "    </tr>\n",
       "    <tr>\n",
       "      <th>Protein</th>\n",
       "      <td>88.320</td>\n",
       "      <td>Soy protein isolate, potassium type, crude pro...</td>\n",
       "    </tr>\n",
       "    <tr>\n",
       "      <th>Sugars, total</th>\n",
       "      <td>99.800</td>\n",
       "      <td>Sugars, granulated</td>\n",
       "    </tr>\n",
       "    <tr>\n",
       "      <th>Total lipid (fat)</th>\n",
       "      <td>100.000</td>\n",
       "      <td>Oil, wheat germ</td>\n",
       "    </tr>\n",
       "    <tr>\n",
       "      <th>Water</th>\n",
       "      <td>100.000</td>\n",
       "      <td>Water, bottled, POLAND SPRING</td>\n",
       "    </tr>\n",
       "    <tr>\n",
       "      <th rowspan=\"4\" valign=\"top\">Elements</th>\n",
       "      <th>Calcium, Ca</th>\n",
       "      <td>7364.000</td>\n",
       "      <td>Leavening agents, baking powder, double-acting...</td>\n",
       "    </tr>\n",
       "    <tr>\n",
       "      <th>Copper, Cu</th>\n",
       "      <td>15.050</td>\n",
       "      <td>Veal, variety meats and by-products, liver, co...</td>\n",
       "    </tr>\n",
       "    <tr>\n",
       "      <th>Fluoride, F</th>\n",
       "      <td>584.000</td>\n",
       "      <td>Tea, instant, sweetened with sugar, lemon-flav...</td>\n",
       "    </tr>\n",
       "    <tr>\n",
       "      <th>Iron, Fe</th>\n",
       "      <td>87.470</td>\n",
       "      <td>Salad dressing, russian dressing, low calorie</td>\n",
       "    </tr>\n",
       "    <tr>\n",
       "      <th>...</th>\n",
       "      <th>...</th>\n",
       "      <td>...</td>\n",
       "      <td>...</td>\n",
       "    </tr>\n",
       "    <tr>\n",
       "      <th rowspan=\"30\" valign=\"top\">Vitamins</th>\n",
       "      <th>Cryptoxanthin, beta</th>\n",
       "      <td>6186.000</td>\n",
       "      <td>Spices, paprika</td>\n",
       "    </tr>\n",
       "    <tr>\n",
       "      <th>Dihydrophylloquinone</th>\n",
       "      <td>103.800</td>\n",
       "      <td>Margarine, 80% fat, stick, includes regular an...</td>\n",
       "    </tr>\n",
       "    <tr>\n",
       "      <th>Folate, DFE</th>\n",
       "      <td>2630.000</td>\n",
       "      <td>Cereals ready-to-eat, QUAKER, CAP'N CRUNCH</td>\n",
       "    </tr>\n",
       "    <tr>\n",
       "      <th>Folate, food</th>\n",
       "      <td>2340.000</td>\n",
       "      <td>Leavening agents, yeast, baker's, active dry</td>\n",
       "    </tr>\n",
       "    <tr>\n",
       "      <th>Folate, total</th>\n",
       "      <td>2340.000</td>\n",
       "      <td>Leavening agents, yeast, baker's, active dry</td>\n",
       "    </tr>\n",
       "    <tr>\n",
       "      <th>Folic acid</th>\n",
       "      <td>1538.000</td>\n",
       "      <td>Cereals ready-to-eat, QUAKER, CAP'N CRUNCH</td>\n",
       "    </tr>\n",
       "    <tr>\n",
       "      <th>Lutein + zeaxanthin</th>\n",
       "      <td>39550.000</td>\n",
       "      <td>Kale, raw</td>\n",
       "    </tr>\n",
       "    <tr>\n",
       "      <th>Lycopene</th>\n",
       "      <td>46260.000</td>\n",
       "      <td>Tomato powder</td>\n",
       "    </tr>\n",
       "    <tr>\n",
       "      <th>Menaquinone-4</th>\n",
       "      <td>33.200</td>\n",
       "      <td>Chicken, broilers or fryers, drumstick, meat a...</td>\n",
       "    </tr>\n",
       "    <tr>\n",
       "      <th>Niacin</th>\n",
       "      <td>97.000</td>\n",
       "      <td>Yeast extract spread</td>\n",
       "    </tr>\n",
       "    <tr>\n",
       "      <th>Pantothenic acid</th>\n",
       "      <td>35.000</td>\n",
       "      <td>Cereals ready-to-eat, KELLOGG, KELLOGG'S Compl...</td>\n",
       "    </tr>\n",
       "    <tr>\n",
       "      <th>Retinol</th>\n",
       "      <td>30000.000</td>\n",
       "      <td>Fish oil, cod liver</td>\n",
       "    </tr>\n",
       "    <tr>\n",
       "      <th>Riboflavin</th>\n",
       "      <td>14.300</td>\n",
       "      <td>Yeast extract spread</td>\n",
       "    </tr>\n",
       "    <tr>\n",
       "      <th>Thiamin</th>\n",
       "      <td>20.000</td>\n",
       "      <td>MORNINGSTAR FARMS Hot and Spicy Veggie Sausage...</td>\n",
       "    </tr>\n",
       "    <tr>\n",
       "      <th>Tocopherol, beta</th>\n",
       "      <td>6.490</td>\n",
       "      <td>Yellow pond lily, Wocas, dried seeds (Pacific ...</td>\n",
       "    </tr>\n",
       "    <tr>\n",
       "      <th>Tocopherol, delta</th>\n",
       "      <td>30.880</td>\n",
       "      <td>Oil, cooking and salad, ENOVA, 80% diglycerides</td>\n",
       "    </tr>\n",
       "    <tr>\n",
       "      <th>Tocopherol, gamma</th>\n",
       "      <td>100.880</td>\n",
       "      <td>Oil, cooking and salad, ENOVA, 80% diglycerides</td>\n",
       "    </tr>\n",
       "    <tr>\n",
       "      <th>Vitamin A, IU</th>\n",
       "      <td>100000.000</td>\n",
       "      <td>Fish oil, cod liver</td>\n",
       "    </tr>\n",
       "    <tr>\n",
       "      <th>Vitamin A, RAE</th>\n",
       "      <td>30000.000</td>\n",
       "      <td>Fish oil, cod liver</td>\n",
       "    </tr>\n",
       "    <tr>\n",
       "      <th>Vitamin B-12</th>\n",
       "      <td>98.890</td>\n",
       "      <td>Mollusks, clam, mixed species, cooked, moist heat</td>\n",
       "    </tr>\n",
       "    <tr>\n",
       "      <th>Vitamin B-12, added</th>\n",
       "      <td>24.000</td>\n",
       "      <td>Cereals ready-to-eat, KELLOGG, KELLOGG'S ALL-B...</td>\n",
       "    </tr>\n",
       "    <tr>\n",
       "      <th>Vitamin B-6</th>\n",
       "      <td>12.000</td>\n",
       "      <td>Cereals ready-to-eat, KELLOGG, KELLOGG'S ALL-B...</td>\n",
       "    </tr>\n",
       "    <tr>\n",
       "      <th>Vitamin C, total ascorbic acid</th>\n",
       "      <td>2400.000</td>\n",
       "      <td>Orange-flavor drink, breakfast type, low calor...</td>\n",
       "    </tr>\n",
       "    <tr>\n",
       "      <th>Vitamin D</th>\n",
       "      <td>10000.000</td>\n",
       "      <td>Fish oil, cod liver</td>\n",
       "    </tr>\n",
       "    <tr>\n",
       "      <th>Vitamin D (D2 + D3)</th>\n",
       "      <td>250.000</td>\n",
       "      <td>Fish oil, cod liver</td>\n",
       "    </tr>\n",
       "    <tr>\n",
       "      <th>Vitamin D2 (ergocalciferol)</th>\n",
       "      <td>28.100</td>\n",
       "      <td>Mushrooms, maitake, raw</td>\n",
       "    </tr>\n",
       "    <tr>\n",
       "      <th>Vitamin D3 (cholecalciferol)</th>\n",
       "      <td>27.400</td>\n",
       "      <td>Fish, halibut, Greenland, raw</td>\n",
       "    </tr>\n",
       "    <tr>\n",
       "      <th>Vitamin E (alpha-tocopherol)</th>\n",
       "      <td>149.400</td>\n",
       "      <td>Oil, wheat germ</td>\n",
       "    </tr>\n",
       "    <tr>\n",
       "      <th>Vitamin E, added</th>\n",
       "      <td>46.550</td>\n",
       "      <td>Cereals ready-to-eat, GENERAL MILLS, Multi-Gra...</td>\n",
       "    </tr>\n",
       "    <tr>\n",
       "      <th>Vitamin K (phylloquinone)</th>\n",
       "      <td>1714.500</td>\n",
       "      <td>Spices, sage, ground</td>\n",
       "    </tr>\n",
       "  </tbody>\n",
       "</table>\n",
       "<p>94 rows × 2 columns</p>\n",
       "</div>"
      ],
      "text/plain": [
       "                                                 value  \\\n",
       "nutgroup    nutrient                                     \n",
       "Amino Acids Alanine                              8.009   \n",
       "            Arginine                             7.436   \n",
       "            Aspartic acid                       10.203   \n",
       "            Cystine                              1.307   \n",
       "            Glutamic acid                       17.452   \n",
       "            Glycine                             19.049   \n",
       "            Histidine                            2.999   \n",
       "            Hydroxyproline                       0.803   \n",
       "            Isoleucine                           4.300   \n",
       "            Leucine                              7.200   \n",
       "            Lysine                               6.690   \n",
       "            Methionine                           1.859   \n",
       "            Phenylalanine                        4.600   \n",
       "            Proline                             12.295   \n",
       "            Serine                               4.600   \n",
       "            Threonine                            3.300   \n",
       "            Tryptophan                           1.600   \n",
       "            Tyrosine                             3.300   \n",
       "            Valine                               4.500   \n",
       "Composition Adjusted Protein                    12.900   \n",
       "            Carbohydrate, by difference        100.000   \n",
       "            Fiber, total dietary                79.000   \n",
       "            Protein                             88.320   \n",
       "            Sugars, total                       99.800   \n",
       "            Total lipid (fat)                  100.000   \n",
       "            Water                              100.000   \n",
       "Elements    Calcium, Ca                       7364.000   \n",
       "            Copper, Cu                          15.050   \n",
       "            Fluoride, F                        584.000   \n",
       "            Iron, Fe                            87.470   \n",
       "...                                                ...   \n",
       "Vitamins    Cryptoxanthin, beta               6186.000   \n",
       "            Dihydrophylloquinone               103.800   \n",
       "            Folate, DFE                       2630.000   \n",
       "            Folate, food                      2340.000   \n",
       "            Folate, total                     2340.000   \n",
       "            Folic acid                        1538.000   \n",
       "            Lutein + zeaxanthin              39550.000   \n",
       "            Lycopene                         46260.000   \n",
       "            Menaquinone-4                       33.200   \n",
       "            Niacin                              97.000   \n",
       "            Pantothenic acid                    35.000   \n",
       "            Retinol                          30000.000   \n",
       "            Riboflavin                          14.300   \n",
       "            Thiamin                             20.000   \n",
       "            Tocopherol, beta                     6.490   \n",
       "            Tocopherol, delta                   30.880   \n",
       "            Tocopherol, gamma                  100.880   \n",
       "            Vitamin A, IU                   100000.000   \n",
       "            Vitamin A, RAE                   30000.000   \n",
       "            Vitamin B-12                        98.890   \n",
       "            Vitamin B-12, added                 24.000   \n",
       "            Vitamin B-6                         12.000   \n",
       "            Vitamin C, total ascorbic acid    2400.000   \n",
       "            Vitamin D                        10000.000   \n",
       "            Vitamin D (D2 + D3)                250.000   \n",
       "            Vitamin D2 (ergocalciferol)         28.100   \n",
       "            Vitamin D3 (cholecalciferol)        27.400   \n",
       "            Vitamin E (alpha-tocopherol)       149.400   \n",
       "            Vitamin E, added                    46.550   \n",
       "            Vitamin K (phylloquinone)         1714.500   \n",
       "\n",
       "                                                                                         food  \n",
       "nutgroup    nutrient                                                                           \n",
       "Amino Acids Alanine                                         Gelatins, dry powder, unsweetened  \n",
       "            Arginine                                             Seeds, sesame flour, low-fat  \n",
       "            Aspartic acid                                                 Soy protein isolate  \n",
       "            Cystine                              Seeds, cottonseed flour, low fat (glandless)  \n",
       "            Glutamic acid                                                 Soy protein isolate  \n",
       "            Glycine                                         Gelatins, dry powder, unsweetened  \n",
       "            Histidine                              Whale, beluga, meat, dried (Alaska Native)  \n",
       "            Hydroxyproline                  KENTUCKY FRIED CHICKEN, Fried Chicken, ORIGINA...  \n",
       "            Isoleucine                      Soy protein isolate, PROTEIN TECHNOLOGIES INTE...  \n",
       "            Leucine                         Soy protein isolate, PROTEIN TECHNOLOGIES INTE...  \n",
       "            Lysine                          Seal, bearded (Oogruk), meat, dried (Alaska Na...  \n",
       "            Methionine                                  Fish, cod, Atlantic, dried and salted  \n",
       "            Phenylalanine                   Soy protein isolate, PROTEIN TECHNOLOGIES INTE...  \n",
       "            Proline                                         Gelatins, dry powder, unsweetened  \n",
       "            Serine                          Soy protein isolate, PROTEIN TECHNOLOGIES INTE...  \n",
       "            Threonine                       Soy protein isolate, PROTEIN TECHNOLOGIES INTE...  \n",
       "            Tryptophan                       Sea lion, Steller, meat with fat (Alaska Native)  \n",
       "            Tyrosine                        Soy protein isolate, PROTEIN TECHNOLOGIES INTE...  \n",
       "            Valine                          Soy protein isolate, PROTEIN TECHNOLOGIES INTE...  \n",
       "Composition Adjusted Protein                           Baking chocolate, unsweetened, squares  \n",
       "            Carbohydrate, by difference           Sweeteners, tabletop, fructose, dry, powder  \n",
       "            Fiber, total dietary                                             Corn bran, crude  \n",
       "            Protein                         Soy protein isolate, potassium type, crude pro...  \n",
       "            Sugars, total                                                  Sugars, granulated  \n",
       "            Total lipid (fat)                                                 Oil, wheat germ  \n",
       "            Water                                               Water, bottled, POLAND SPRING  \n",
       "Elements    Calcium, Ca                     Leavening agents, baking powder, double-acting...  \n",
       "            Copper, Cu                      Veal, variety meats and by-products, liver, co...  \n",
       "            Fluoride, F                     Tea, instant, sweetened with sugar, lemon-flav...  \n",
       "            Iron, Fe                            Salad dressing, russian dressing, low calorie  \n",
       "...                                                                                       ...  \n",
       "Vitamins    Cryptoxanthin, beta                                               Spices, paprika  \n",
       "            Dihydrophylloquinone            Margarine, 80% fat, stick, includes regular an...  \n",
       "            Folate, DFE                            Cereals ready-to-eat, QUAKER, CAP'N CRUNCH  \n",
       "            Folate, food                         Leavening agents, yeast, baker's, active dry  \n",
       "            Folate, total                        Leavening agents, yeast, baker's, active dry  \n",
       "            Folic acid                             Cereals ready-to-eat, QUAKER, CAP'N CRUNCH  \n",
       "            Lutein + zeaxanthin                                                     Kale, raw  \n",
       "            Lycopene                                                            Tomato powder  \n",
       "            Menaquinone-4                   Chicken, broilers or fryers, drumstick, meat a...  \n",
       "            Niacin                                                       Yeast extract spread  \n",
       "            Pantothenic acid                Cereals ready-to-eat, KELLOGG, KELLOGG'S Compl...  \n",
       "            Retinol                                                       Fish oil, cod liver  \n",
       "            Riboflavin                                                   Yeast extract spread  \n",
       "            Thiamin                         MORNINGSTAR FARMS Hot and Spicy Veggie Sausage...  \n",
       "            Tocopherol, beta                Yellow pond lily, Wocas, dried seeds (Pacific ...  \n",
       "            Tocopherol, delta                 Oil, cooking and salad, ENOVA, 80% diglycerides  \n",
       "            Tocopherol, gamma                 Oil, cooking and salad, ENOVA, 80% diglycerides  \n",
       "            Vitamin A, IU                                                 Fish oil, cod liver  \n",
       "            Vitamin A, RAE                                                Fish oil, cod liver  \n",
       "            Vitamin B-12                    Mollusks, clam, mixed species, cooked, moist heat  \n",
       "            Vitamin B-12, added             Cereals ready-to-eat, KELLOGG, KELLOGG'S ALL-B...  \n",
       "            Vitamin B-6                     Cereals ready-to-eat, KELLOGG, KELLOGG'S ALL-B...  \n",
       "            Vitamin C, total ascorbic acid  Orange-flavor drink, breakfast type, low calor...  \n",
       "            Vitamin D                                                     Fish oil, cod liver  \n",
       "            Vitamin D (D2 + D3)                                           Fish oil, cod liver  \n",
       "            Vitamin D2 (ergocalciferol)                               Mushrooms, maitake, raw  \n",
       "            Vitamin D3 (cholecalciferol)                        Fish, halibut, Greenland, raw  \n",
       "            Vitamin E (alpha-tocopherol)                                      Oil, wheat germ  \n",
       "            Vitamin E, added                Cereals ready-to-eat, GENERAL MILLS, Multi-Gra...  \n",
       "            Vitamin K (phylloquinone)                                    Spices, sage, ground  \n",
       "\n",
       "[94 rows x 2 columns]"
      ]
     },
     "execution_count": 242,
     "metadata": {},
     "output_type": "execute_result"
    }
   ],
   "source": [
    "max_foods"
   ]
  },
  {
   "cell_type": "markdown",
   "metadata": {},
   "source": [
    "DataFrame.xs（key，axis = 0，level = None，drop_level = True )  \n",
    "返回Series / DataFrame的横截面（行或列）。默认为行上的横截面（轴= 0）。"
   ]
  },
  {
   "cell_type": "code",
   "execution_count": 243,
   "metadata": {},
   "outputs": [],
   "source": [
    "df = DataFrame(np.random.randn(3, 3),\n",
    "               columns=list('abc'),\n",
    "               index=list('123'))"
   ]
  },
  {
   "cell_type": "code",
   "execution_count": 244,
   "metadata": {},
   "outputs": [
    {
     "data": {
      "text/html": [
       "<div>\n",
       "<style scoped>\n",
       "    .dataframe tbody tr th:only-of-type {\n",
       "        vertical-align: middle;\n",
       "    }\n",
       "\n",
       "    .dataframe tbody tr th {\n",
       "        vertical-align: top;\n",
       "    }\n",
       "\n",
       "    .dataframe thead th {\n",
       "        text-align: right;\n",
       "    }\n",
       "</style>\n",
       "<table border=\"1\" class=\"dataframe\">\n",
       "  <thead>\n",
       "    <tr style=\"text-align: right;\">\n",
       "      <th></th>\n",
       "      <th>a</th>\n",
       "      <th>b</th>\n",
       "      <th>c</th>\n",
       "    </tr>\n",
       "  </thead>\n",
       "  <tbody>\n",
       "    <tr>\n",
       "      <th>1</th>\n",
       "      <td>0.303349</td>\n",
       "      <td>-1.107238</td>\n",
       "      <td>-0.976152</td>\n",
       "    </tr>\n",
       "    <tr>\n",
       "      <th>2</th>\n",
       "      <td>-2.132725</td>\n",
       "      <td>0.542522</td>\n",
       "      <td>-0.225276</td>\n",
       "    </tr>\n",
       "    <tr>\n",
       "      <th>3</th>\n",
       "      <td>2.750476</td>\n",
       "      <td>1.703181</td>\n",
       "      <td>-0.491991</td>\n",
       "    </tr>\n",
       "  </tbody>\n",
       "</table>\n",
       "</div>"
      ],
      "text/plain": [
       "          a         b         c\n",
       "1  0.303349 -1.107238 -0.976152\n",
       "2 -2.132725  0.542522 -0.225276\n",
       "3  2.750476  1.703181 -0.491991"
      ]
     },
     "execution_count": 244,
     "metadata": {},
     "output_type": "execute_result"
    }
   ],
   "source": [
    "df"
   ]
  },
  {
   "cell_type": "code",
   "execution_count": 245,
   "metadata": {},
   "outputs": [
    {
     "data": {
      "text/plain": [
       "a    0.303349\n",
       "b   -1.107238\n",
       "c   -0.976152\n",
       "Name: 1, dtype: float64"
      ]
     },
     "execution_count": 245,
     "metadata": {},
     "output_type": "execute_result"
    }
   ],
   "source": [
    "df.xs('1') # 默认axis=0"
   ]
  },
  {
   "cell_type": "code",
   "execution_count": null,
   "metadata": {},
   "outputs": [],
   "source": []
  }
 ],
 "metadata": {
  "kernelspec": {
   "display_name": "Python 3",
   "language": "python",
   "name": "python3"
  },
  "language_info": {
   "codemirror_mode": {
    "name": "ipython",
    "version": 3
   },
   "file_extension": ".py",
   "mimetype": "text/x-python",
   "name": "python",
   "nbconvert_exporter": "python",
   "pygments_lexer": "ipython3",
   "version": "3.6.4"
  }
 },
 "nbformat": 4,
 "nbformat_minor": 2
}
